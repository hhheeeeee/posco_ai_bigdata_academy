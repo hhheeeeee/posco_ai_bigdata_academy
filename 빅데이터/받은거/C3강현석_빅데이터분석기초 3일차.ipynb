{
 "cells": [
  {
   "cell_type": "markdown",
   "id": "18a1c8cc",
   "metadata": {},
   "source": [
    "# C3강현석_빅데이터분석기초 3일차"
   ]
  },
  {
   "cell_type": "markdown",
   "id": "ae21686b",
   "metadata": {},
   "source": [
    "## 실습 1 : 정규성 검정(Normality Test)"
   ]
  },
  {
   "cell_type": "code",
   "execution_count": 1,
   "id": "e940e9e9",
   "metadata": {},
   "outputs": [],
   "source": [
    "import pandas as pd\n",
    "import numpy as np\n",
    "import matplotlib\n",
    "import matplotlib.pyplot as plt\n",
    "import scipy\n",
    "from scipy import stats\n",
    "from statsmodels.stats.proportion import proportions_ztest\n",
    "\n",
    "ds_2sample = pd.read_csv(\"2sample_t_test.csv\")\n",
    "ds_2sample.head()\n",
    "ds_2sample.isnull().sum()\n",
    "#결측 값 제거\n",
    "data1 = ds_2sample[\"Mat_A\"].dropna()\n",
    "data2 = ds_2sample[\"Mat_B\"].dropna()"
   ]
  },
  {
   "cell_type": "code",
   "execution_count": 2,
   "id": "5b18e0f2",
   "metadata": {},
   "outputs": [
    {
     "name": "stdout",
     "output_type": "stream",
     "text": [
      "Shapiro-Wilk Test: statistic=0.906264066696167, p-value=0.2563020884990692)\n"
     ]
    }
   ],
   "source": [
    "stats.shapiro(data1)\n",
    "statistic, p = stats.shapiro(data1)\n",
    "print(f\"Shapiro-Wilk Test: statistic={statistic}, p-value={p})\")"
   ]
  },
  {
   "cell_type": "markdown",
   "id": "fcfedac9",
   "metadata": {},
   "source": [
    "유의수준을 5%라고 할 때 정규성 검정결과 p-value가 0.05보다 크므로 정규분포이다."
   ]
  },
  {
   "cell_type": "code",
   "execution_count": 3,
   "id": "9eaa8d5a",
   "metadata": {},
   "outputs": [
    {
     "name": "stdout",
     "output_type": "stream",
     "text": [
      "Shapiro-Wilk Test: statistic=0.9729753732681274, p-value=0.9169775247573853)\n"
     ]
    }
   ],
   "source": [
    "stats.shapiro(data2)\n",
    "statistic, p = stats.shapiro(data2)\n",
    "print(f\"Shapiro-Wilk Test: statistic={statistic}, p-value={p})\")"
   ]
  },
  {
   "cell_type": "markdown",
   "id": "2e49ef54",
   "metadata": {},
   "source": [
    "유의수준을 5%라고 할 때 정규성 검정결과 p-value가 0.05보다 크므로 정규분포이다."
   ]
  },
  {
   "cell_type": "markdown",
   "id": "675da4c5",
   "metadata": {},
   "source": [
    "## 실습 2 : 모평균 구간추정"
   ]
  },
  {
   "cell_type": "code",
   "execution_count": 4,
   "id": "bcce1679",
   "metadata": {},
   "outputs": [
    {
     "name": "stdout",
     "output_type": "stream",
     "text": [
      "신뢰구간: ([17.83],[21.17])\n"
     ]
    },
    {
     "name": "stderr",
     "output_type": "stream",
     "text": [
      "/home/piai/anaconda3/lib/python3.10/site-packages/numpy/core/fromnumeric.py:3430: FutureWarning: In a future version, DataFrame.mean(axis=None) will return a scalar mean over the entire DataFrame. To retain the old behavior, use 'frame.mean(axis=0)' or just 'frame.mean()'\n",
      "  return mean(axis=axis, dtype=dtype, out=out, **kwargs)\n"
     ]
    }
   ],
   "source": [
    "df = pd.DataFrame({\"sample\": [18, 18, 20, 21, 20, 23, 19, 18, 17, 21, 22, 20, 20, 21, 20, 19, 19, 18, 17, 19]})\n",
    "\n",
    "lower, upper = stats.norm.interval(0.95, loc = np.mean(df), scale = 3.8/np.sqrt(20))\n",
    "print(f\"신뢰구간: ({lower.round(2)},{upper.round(2)})\")"
   ]
  },
  {
   "cell_type": "markdown",
   "id": "42b1cf9b",
   "metadata": {},
   "source": [
    "## 실습 3 : 모평균(μ)신뢰구간 추정 - 모표준편차(σ)를 모르는 경우"
   ]
  },
  {
   "cell_type": "code",
   "execution_count": 5,
   "id": "dbbeedd3",
   "metadata": {},
   "outputs": [
    {
     "name": "stdout",
     "output_type": "stream",
     "text": [
      "신뢰구간: ([70.6],[72.4])\n"
     ]
    },
    {
     "name": "stderr",
     "output_type": "stream",
     "text": [
      "/home/piai/anaconda3/lib/python3.10/site-packages/numpy/core/fromnumeric.py:3430: FutureWarning: In a future version, DataFrame.mean(axis=None) will return a scalar mean over the entire DataFrame. To retain the old behavior, use 'frame.mean(axis=0)' or just 'frame.mean()'\n",
      "  return mean(axis=axis, dtype=dtype, out=out, **kwargs)\n"
     ]
    }
   ],
   "source": [
    "df = pd.DataFrame({'sample': [73,71,74,69,70,73,70,68,75,72,70,72,73,70,70,72,71,70,75,72]})\n",
    "\n",
    "lower, upper = stats.t.interval(0.95, len(df) - 1, loc = np.mean(df), scale = scipy.stats.sem(df))\n",
    "print(f\"신뢰구간: ({lower.round(2)},{upper.round(2)})\")"
   ]
  },
  {
   "cell_type": "markdown",
   "id": "84126e66",
   "metadata": {},
   "source": [
    "## 실습 4 : 1-Sample t-test"
   ]
  },
  {
   "cell_type": "code",
   "execution_count": 6,
   "id": "1d698ae8",
   "metadata": {},
   "outputs": [
    {
     "data": {
      "text/plain": [
       "<Axes: >"
      ]
     },
     "execution_count": 6,
     "metadata": {},
     "output_type": "execute_result"
    },
    {
     "data": {
      "image/png": "[encoded data removed]",
      "text/plain": [
       "<Figure size 640x480 with 1 Axes>"
      ]
     },
     "metadata": {},
     "output_type": "display_data"
    }
   ],
   "source": [
    "df = pd.DataFrame({'sample': [85.0, 79.0, 79.1, 79.9, 81.6, 78.6, 85.4,83.4,79.2]})\n",
    "df.boxplot(['sample'])"
   ]
  },
  {
   "cell_type": "code",
   "execution_count": 7,
   "id": "1cad1e78",
   "metadata": {},
   "outputs": [
    {
     "name": "stdout",
     "output_type": "stream",
     "text": [
      "statistic=0.8407883644104004, p-value=0.05893223360180855)\n"
     ]
    }
   ],
   "source": [
    "statistic, p = stats.shapiro(df['sample'])\n",
    "print(f\"statistic={statistic}, p-value={p})\")"
   ]
  },
  {
   "cell_type": "code",
   "execution_count": 8,
   "id": "d700760a",
   "metadata": {},
   "outputs": [
    {
     "name": "stdout",
     "output_type": "stream",
     "text": [
      "1-Sample t-test\n",
      " t통계량 : [3.591]\n",
      " p-value : [0.007]\n"
     ]
    }
   ],
   "source": [
    "t_result = stats.ttest_1samp(df, 78.0)\n",
    "\n",
    "t, p = t_result.statistic.round(3),\\\n",
    "       t_result.pvalue.round(3)\n",
    "\n",
    "print(\"1-Sample t-test\")\n",
    "print(f\" t통계량 : {t}\")\n",
    "print(f\" p-value : {p}\")"
   ]
  },
  {
   "cell_type": "markdown",
   "id": "7056891b",
   "metadata": {},
   "source": [
    "## 실습 5 : 2-Sample t-test"
   ]
  },
  {
   "cell_type": "code",
   "execution_count": 9,
   "id": "be9b0e80",
   "metadata": {},
   "outputs": [
    {
     "data": {
      "image/png": "[encoded data removed]",
      "text/plain": [
       "<Figure size 640x480 with 1 Axes>"
      ]
     },
     "metadata": {},
     "output_type": "display_data"
    }
   ],
   "source": [
    "df = pd.DataFrame({'A': [1.883, 1.715, 1.799, 1.768, 1.711, 1.832, 1.427, 1.344],\\\n",
    "                   'B': [1.435, 1.572, 1.486, 1.511, 1.457, 1.548, 1.404, 1.883]})\n",
    "df.boxplot(['A','B'])\n",
    "plt.show()"
   ]
  },
  {
   "cell_type": "code",
   "execution_count": 10,
   "id": "68e72660",
   "metadata": {},
   "outputs": [
    {
     "name": "stdout",
     "output_type": "stream",
     "text": [
      "Shapiro-Wilk Test: statistic=0.8425754904747009, p-value=0.08004532009363174)\n",
      "Shapiro-Wilk Test: statistic=0.7734811902046204, p-value=0.014793740585446358)\n"
     ]
    }
   ],
   "source": [
    "statistic, p = stats.shapiro(df['A'])\n",
    "print(f\"Shapiro-Wilk Test: statistic={statistic}, p-value={p})\")\n",
    "\n",
    "statistic, p = stats.shapiro(df['B'])\n",
    "print(f\"Shapiro-Wilk Test: statistic={statistic}, p-value={p})\")"
   ]
  },
  {
   "cell_type": "code",
   "execution_count": 11,
   "id": "b20033cc",
   "metadata": {},
   "outputs": [
    {
     "name": "stdout",
     "output_type": "stream",
     "text": [
      "LeveneResult(statistic=0.4408416728536036, pvalue=0.5175025061092301)\n"
     ]
    }
   ],
   "source": [
    "# stats.bartlett(df['A'], df['B'])\n",
    "print(stats.levene(df['A'], df['B']))"
   ]
  },
  {
   "cell_type": "code",
   "execution_count": 12,
   "id": "ebaa44f7",
   "metadata": {},
   "outputs": [
    {
     "name": "stdout",
     "output_type": "stream",
     "text": [
      "2-Sample t-test\n",
      " t: [1.7]\n",
      " p: [0.111]\n"
     ]
    }
   ],
   "source": [
    "t_result = stats.ttest_ind(df['A'], df['B'])\n",
    "\n",
    "t, p = t_result.statistic.round(3), t_result.pvalue.round(3)\n",
    "\n",
    "print(\"2-Sample t-test\")\n",
    "print(f\" t: [{t}]\")\n",
    "print(f\" p: [{p}]\")"
   ]
  },
  {
   "cell_type": "code",
   "execution_count": null,
   "id": "a76cc8b0",
   "metadata": {},
   "outputs": [],
   "source": []
  },
  {
   "cell_type": "markdown",
   "id": "b0e01574",
   "metadata": {},
   "source": [
    "## 실습 6 : Paired t_test"
   ]
  },
  {
   "cell_type": "code",
   "execution_count": 13,
   "id": "df279aea",
   "metadata": {},
   "outputs": [
    {
     "name": "stdout",
     "output_type": "stream",
     "text": [
      "Paired t-test\n",
      " t: [-2.266]\n",
      " p: [0.05]\n"
     ]
    }
   ],
   "source": [
    "df1 = pd.DataFrame({'before': [720,589,780,648,720,589,780,648,780,648]})\n",
    "df2 = pd.DataFrame({'after' : [710,580,787,712,750,600,782,670,790,680]})\n",
    "\n",
    "t_result = stats.ttest_rel(df1, df2)\n",
    "\n",
    "t, p = t_result.statistic.round(3), t_result.pvalue.round(3)\n",
    "\n",
    "#paired t-test의 t-값, p값 출력\n",
    "print(\"Paired t-test\")\n",
    "print(f\" t: {t}\")\n",
    "print(f\" p: {p}\")"
   ]
  },
  {
   "cell_type": "markdown",
   "id": "7183999b",
   "metadata": {},
   "source": [
    "## 실습 7 : 1 Proportion test"
   ]
  },
  {
   "cell_type": "code",
   "execution_count": 14,
   "id": "4d0357d4",
   "metadata": {},
   "outputs": [
    {
     "name": "stdout",
     "output_type": "stream",
     "text": [
      "1 Proportion t-test\n",
      " t: -2.041\n",
      " p: 0.041\n"
     ]
    }
   ],
   "source": [
    "count = 40\n",
    "n_obs = 100\n",
    "value = 0.5\n",
    "\n",
    "stat, pval = proportions_ztest(count, n_obs, value)\n",
    "\n",
    "print(\"1 Proportion t-test\")\n",
    "print(f\" t: {stat:.3f}\")\n",
    "print(f\" p: {pval:.3f}\")"
   ]
  },
  {
   "cell_type": "markdown",
   "id": "aff0ee03",
   "metadata": {},
   "source": [
    "## 실습 8 : 2 Proportion test"
   ]
  },
  {
   "cell_type": "code",
   "execution_count": 15,
   "id": "7740495b",
   "metadata": {},
   "outputs": [
    {
     "name": "stdout",
     "output_type": "stream",
     "text": [
      "2 Proportion t-test\n",
      " t: 2.073\n",
      " p: 0.038\n"
     ]
    }
   ],
   "source": [
    "count = np.array([14, 5])\n",
    "nobs = np.array([1200, 1200])\n",
    "\n",
    "stat, pval = proportions_ztest(count, nobs)\n",
    "\n",
    "print(\"2 Proportion t-test\")\n",
    "print(f\" t: {stat:.3f}\")\n",
    "print(f\" p: {pval:.3f}\")"
   ]
  },
  {
   "cell_type": "markdown",
   "id": "25681faf",
   "metadata": {},
   "source": [
    "## 실습 9 : 카이제곱 검정, chi_square test"
   ]
  },
  {
   "cell_type": "code",
   "execution_count": 16,
   "id": "cf38cf06",
   "metadata": {},
   "outputs": [
    {
     "name": "stdout",
     "output_type": "stream",
     "text": [
      "chi-square test\n",
      " chisq: 98.274\n",
      " p-value: 0.000\n",
      " degree of freedom: 30\n",
      " expected value: \n",
      "[[11.004  8.21   5.24   3.843  1.921  9.782]\n",
      " [ 8.528  6.362  4.061  2.978  1.489  7.581]\n",
      " [10.454  7.799  4.978  3.651  1.825  9.293]\n",
      " [ 8.253  6.157  3.93   2.882  1.441  7.336]\n",
      " [ 7.978  5.952  3.799  2.786  1.393  7.092]\n",
      " [ 8.803  6.568  4.192  3.074  1.537  7.825]\n",
      " [ 7.978  5.952  3.799  2.786  1.393  7.092]]\n"
     ]
    }
   ],
   "source": [
    "df = pd.DataFrame({'A': [18, 1, 8, 7, 10, 9, 10], 'B': [8, 2, 14, 5, 5, 9, 4], 'C': [4, 1, 3, 4, 9, 5, 4],\\\n",
    "       'D': [4, 1, 2, 3, 2, 7, 3], 'E': [3, 1, 3, 1, 1, 1, 1], 'F': [3, 25, 8, 10, 2, 1, 7]})\n",
    "\n",
    "chi, pval, dof, expected = stats.chi2_contingency(df)\n",
    "\n",
    "print(\"chi-square test\")\n",
    "print(f\" chisq: {chi:.3f}\")\n",
    "print(f\" p-value: {pval:.3f}\")\n",
    "print(f\" degree of freedom: {dof}\")\n",
    "print(\" expected value: \")\n",
    "print(f\"{expected.round(3)}\")"
   ]
  },
  {
   "cell_type": "markdown",
   "id": "23deb823",
   "metadata": {},
   "source": [
    "## 실습 10 : ANOVA"
   ]
  },
  {
   "cell_type": "markdown",
   "id": "e3ceeade",
   "metadata": {},
   "source": [
    "### 1. 강종별로 2차정련 시간의 차이"
   ]
  },
  {
   "cell_type": "code",
   "execution_count": 17,
   "id": "eb5aa343",
   "metadata": {},
   "outputs": [
    {
     "data": {
      "image/png": "[encoded data removed]",
      "text/plain": [
       "<Figure size 640x480 with 1 Axes>"
      ]
     },
     "metadata": {},
     "output_type": "display_data"
    }
   ],
   "source": [
    "df = pd.read_csv(\"ANOVA.csv\",encoding=\"euc-kr\")\n",
    "\n",
    "df.boxplot(column='time', by=['gangjong'])\n",
    "plt.show()"
   ]
  },
  {
   "cell_type": "code",
   "execution_count": 32,
   "id": "5168036c",
   "metadata": {},
   "outputs": [
    {
     "name": "stdout",
     "output_type": "stream",
     "text": [
      "gangjong\n",
      "a     (0.9879403114318848, 0.983557939529419)\n",
      "b    (0.9769707918167114, 0.9355478286743164)\n",
      "c    (0.8929420113563538, 0.3338908553123474)\n",
      "d     (0.9713904857635498, 0.901641845703125)\n",
      "Name: time, dtype: object\n"
     ]
    }
   ],
   "source": [
    "gangjong_mean = df.groupby('gangjong')['time'].mean()\n",
    "shapiro = df.groupby('gangjong')['time'].apply(stats.shapiro)\n",
    "print(shapiro)"
   ]
  },
  {
   "cell_type": "code",
   "execution_count": 27,
   "id": "722178d7",
   "metadata": {},
   "outputs": [
    {
     "data": {
      "text/plain": [
       "LeveneResult(statistic=0.9417495009041227, pvalue=0.4390899931524723)"
      ]
     },
     "execution_count": 27,
     "metadata": {},
     "output_type": "execute_result"
    }
   ],
   "source": [
    "gangjong_a_time = df.loc[df['gangjong'] == 'a', 'time']\n",
    "gangjong_b_time = df.loc[df['gangjong'] == 'b', 'time']\n",
    "gangjong_c_time = df.loc[df['gangjong'] == 'c', 'time']\n",
    "gangjong_d_time = df.loc[df['gangjong'] == 'd', 'time']\n",
    "\n",
    "stats.bartlett(df[df['gangjong']=='a']['time'], \n",
    "                df[df['gangjong']=='b']['time'], \n",
    "                df[df['gangjong']=='c']['time'],\n",
    "                df[df['gangjong']=='d']['time'])"
   ]
  },
  {
   "cell_type": "code",
   "execution_count": 20,
   "id": "7833ee82",
   "metadata": {},
   "outputs": [
    {
     "name": "stdout",
     "output_type": "stream",
     "text": [
      "One-way \n",
      " F 통계량 : 4.172\n",
      " p-value : 0.019\n"
     ]
    }
   ],
   "source": [
    "gangjong_result = stats.f_oneway(gangjong_a_time, gangjong_b_time, gangjong_c_time, gangjong_d_time)\n",
    "\n",
    "f, p = gangjong_result.statistic.round(3), gangjong_result.pvalue.round(3)\n",
    "\n",
    "print(\"One-way \")\n",
    "print(f\" F 통계량 : {f}\")\n",
    "print(f\" p-value : {p}\")"
   ]
  },
  {
   "cell_type": "markdown",
   "id": "05862e2b",
   "metadata": {},
   "source": [
    "### 2. type별로 2차정련 시간의 차이"
   ]
  },
  {
   "cell_type": "code",
   "execution_count": 21,
   "id": "506f0f49",
   "metadata": {},
   "outputs": [
    {
     "data": {
      "image/png": "[encoded data removed]",
      "text/plain": [
       "<Figure size 640x480 with 1 Axes>"
      ]
     },
     "metadata": {},
     "output_type": "display_data"
    }
   ],
   "source": [
    "df.boxplot(column='time', by=['type'])\n",
    "plt.show()"
   ]
  },
  {
   "cell_type": "code",
   "execution_count": 33,
   "id": "3be32816",
   "metadata": {},
   "outputs": [
    {
     "name": "stdout",
     "output_type": "stream",
     "text": [
      "type\n",
      "a     (0.982139527797699, 0.9907686114311218)\n",
      "b    (0.9098271131515503, 0.2122616022825241)\n",
      "Name: time, dtype: object\n"
     ]
    }
   ],
   "source": [
    "gangjong_mean = df.groupby('type')['time'].mean()\n",
    "shapiro = df.groupby('type')['time'].apply(stats.shapiro)\n",
    "print(shapiro)"
   ]
  },
  {
   "cell_type": "code",
   "execution_count": 34,
   "id": "42949a68",
   "metadata": {},
   "outputs": [
    {
     "data": {
      "text/plain": [
       "BartlettResult(statistic=0.9529700642151171, pvalue=0.3289644435379069)"
      ]
     },
     "execution_count": 34,
     "metadata": {},
     "output_type": "execute_result"
    }
   ],
   "source": [
    "type_a_time = df.loc[df['type'] == 'a', 'time']\n",
    "type_b_time = df.loc[df['type'] == 'b', 'time']\n",
    "\n",
    "\n",
    "stats.bartlett(df[df['type']=='a']['time'], \n",
    "            df[df['type']=='b']['time'])"
   ]
  },
  {
   "cell_type": "code",
   "execution_count": 35,
   "id": "bb140557",
   "metadata": {},
   "outputs": [
    {
     "name": "stdout",
     "output_type": "stream",
     "text": [
      "One-way \n",
      " F 통계량 : 9.654\n",
      " p-value : 0.019\n"
     ]
    }
   ],
   "source": [
    "type_result = stats.f_oneway(type_a_time, type_b_time)\n",
    "\n",
    "f, p = type_result.statistic.round(3), gangjong_result.pvalue.round(3)\n",
    "\n",
    "print(\"One-way \")\n",
    "print(f\" F 통계량 : {f}\")\n",
    "print(f\" p-value : {p}\")"
   ]
  },
  {
   "cell_type": "markdown",
   "id": "1d03cb6a",
   "metadata": {},
   "source": [
    "## 실습 11 : Correlation Analysis"
   ]
  },
  {
   "cell_type": "code",
   "execution_count": 25,
   "id": "83e52139",
   "metadata": {},
   "outputs": [
    {
     "name": "stdout",
     "output_type": "stream",
     "text": [
      "Correlation Analysis \n",
      " corr: -0.723\n",
      " p-value: 0.000\n"
     ]
    }
   ],
   "source": [
    "df1 = [37.6, 38.6, 37.2, 36.4, 38.6, 39, 37.2, 36.1, 35.9, 37.1,\n",
    "       36.9, 37.5, 36.3, 38.1, 39, 36.9, 36.8, 37.6, 33, 33.5]\n",
    "df2 = [14, 15, 14, 16, 17, 14, 17, 16, 15, 16, \n",
    "       14, 16, 18, 13, 15, 17, 14, 16, 20, 21]\n",
    "\n",
    "corr, pval = stats.pearsonr(df1, df2)\n",
    "\n",
    "print(\"Correlation Analysis \")\n",
    "print(f\" corr: {corr:.3f}\")\n",
    "print(f\" p-value: {pval:.3f}\")"
   ]
  },
  {
   "cell_type": "code",
   "execution_count": null,
   "id": "e1c221fb",
   "metadata": {},
   "outputs": [],
   "source": []
  },
  {
   "cell_type": "code",
   "execution_count": null,
   "id": "48829d7f",
   "metadata": {},
   "outputs": [],
   "source": []
  }
 ],
 "metadata": {
  "kernelspec": {
   "display_name": "Python 3 (ipykernel)",
   "language": "python",
   "name": "python3"
  },
  "language_info": {
   "codemirror_mode": {
    "name": "ipython",
    "version": 3
   },
   "file_extension": ".py",
   "mimetype": "text/x-python",
   "name": "python",
   "nbconvert_exporter": "python",
   "pygments_lexer": "ipython3",
   "version": "3.10.9"
  }
 },
 "nbformat": 4,
 "nbformat_minor": 5
}
