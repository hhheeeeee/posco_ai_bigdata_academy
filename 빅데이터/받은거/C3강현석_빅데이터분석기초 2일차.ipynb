{
 "cells": [
  {
   "cell_type": "code",
   "execution_count": 34,
   "id": "0af53358",
   "metadata": {},
   "outputs": [
    {
     "data": {
      "text/html": [
       "<div>\n",
       "<style scoped>\n",
       "    .dataframe tbody tr th:only-of-type {\n",
       "        vertical-align: middle;\n",
       "    }\n",
       "\n",
       "    .dataframe tbody tr th {\n",
       "        vertical-align: top;\n",
       "    }\n",
       "\n",
       "    .dataframe thead tr th {\n",
       "        text-align: left;\n",
       "    }\n",
       "\n",
       "    .dataframe thead tr:last-of-type th {\n",
       "        text-align: right;\n",
       "    }\n",
       "</style>\n",
       "<table border=\"1\" class=\"dataframe\">\n",
       "  <thead>\n",
       "    <tr>\n",
       "      <th></th>\n",
       "      <th colspan=\"8\" halign=\"left\">highway_mileage</th>\n",
       "    </tr>\n",
       "    <tr>\n",
       "      <th></th>\n",
       "      <th>count</th>\n",
       "      <th>mean</th>\n",
       "      <th>std</th>\n",
       "      <th>min</th>\n",
       "      <th>25%</th>\n",
       "      <th>50%</th>\n",
       "      <th>75%</th>\n",
       "      <th>max</th>\n",
       "    </tr>\n",
       "    <tr>\n",
       "      <th>automatic</th>\n",
       "      <th></th>\n",
       "      <th></th>\n",
       "      <th></th>\n",
       "      <th></th>\n",
       "      <th></th>\n",
       "      <th></th>\n",
       "      <th></th>\n",
       "      <th></th>\n",
       "    </tr>\n",
       "  </thead>\n",
       "  <tbody>\n",
       "    <tr>\n",
       "      <th>auto</th>\n",
       "      <td>157.0</td>\n",
       "      <td>22.292994</td>\n",
       "      <td>5.623054</td>\n",
       "      <td>12.0</td>\n",
       "      <td>17.0</td>\n",
       "      <td>22.0</td>\n",
       "      <td>26.0</td>\n",
       "      <td>41.0</td>\n",
       "    </tr>\n",
       "    <tr>\n",
       "      <th>manual</th>\n",
       "      <td>77.0</td>\n",
       "      <td>25.779221</td>\n",
       "      <td>5.961772</td>\n",
       "      <td>12.0</td>\n",
       "      <td>23.0</td>\n",
       "      <td>26.0</td>\n",
       "      <td>29.0</td>\n",
       "      <td>44.0</td>\n",
       "    </tr>\n",
       "  </tbody>\n",
       "</table>\n",
       "</div>"
      ],
      "text/plain": [
       "          highway_mileage                                                   \n",
       "                    count       mean       std   min   25%   50%   75%   max\n",
       "automatic                                                                   \n",
       "auto                157.0  22.292994  5.623054  12.0  17.0  22.0  26.0  41.0\n",
       "manual               77.0  25.779221  5.961772  12.0  23.0  26.0  29.0  44.0"
      ]
     },
     "execution_count": 34,
     "metadata": {},
     "output_type": "execute_result"
    }
   ],
   "source": [
    "import pandas as pd\n",
    "import numpy as np\n",
    "import matplotlib\n",
    "import matplotlib.pyplot as plt\n",
    "from scipy import stats\n",
    "from statsmodels.stats.proportion import proportions_ztest\n",
    "\n",
    "\n",
    "ds_mycars=pd.read_csv(\"mycars.csv\")\n",
    "df= ds_mycars[['highway_mileage','automatic']]\n",
    "df.groupby('automatic').describe()"
   ]
  },
  {
   "cell_type": "code",
   "execution_count": 35,
   "id": "cb00e5d3",
   "metadata": {},
   "outputs": [
    {
     "data": {
      "text/html": [
       "<div>\n",
       "<style scoped>\n",
       "    .dataframe tbody tr th:only-of-type {\n",
       "        vertical-align: middle;\n",
       "    }\n",
       "\n",
       "    .dataframe tbody tr th {\n",
       "        vertical-align: top;\n",
       "    }\n",
       "\n",
       "    .dataframe thead tr th {\n",
       "        text-align: left;\n",
       "    }\n",
       "\n",
       "    .dataframe thead tr:last-of-type th {\n",
       "        text-align: right;\n",
       "    }\n",
       "</style>\n",
       "<table border=\"1\" class=\"dataframe\">\n",
       "  <thead>\n",
       "    <tr>\n",
       "      <th></th>\n",
       "      <th colspan=\"8\" halign=\"left\">mpg</th>\n",
       "    </tr>\n",
       "    <tr>\n",
       "      <th></th>\n",
       "      <th>count</th>\n",
       "      <th>mean</th>\n",
       "      <th>std</th>\n",
       "      <th>min</th>\n",
       "      <th>25%</th>\n",
       "      <th>50%</th>\n",
       "      <th>75%</th>\n",
       "      <th>max</th>\n",
       "    </tr>\n",
       "    <tr>\n",
       "      <th>automatic</th>\n",
       "      <th></th>\n",
       "      <th></th>\n",
       "      <th></th>\n",
       "      <th></th>\n",
       "      <th></th>\n",
       "      <th></th>\n",
       "      <th></th>\n",
       "      <th></th>\n",
       "    </tr>\n",
       "  </thead>\n",
       "  <tbody>\n",
       "    <tr>\n",
       "      <th>auto</th>\n",
       "      <td>157.0</td>\n",
       "      <td>15.968153</td>\n",
       "      <td>3.848777</td>\n",
       "      <td>9.0</td>\n",
       "      <td>13.0</td>\n",
       "      <td>16.0</td>\n",
       "      <td>18.0</td>\n",
       "      <td>29.0</td>\n",
       "    </tr>\n",
       "    <tr>\n",
       "      <th>manual</th>\n",
       "      <td>77.0</td>\n",
       "      <td>18.675325</td>\n",
       "      <td>4.488118</td>\n",
       "      <td>9.0</td>\n",
       "      <td>15.0</td>\n",
       "      <td>18.0</td>\n",
       "      <td>21.0</td>\n",
       "      <td>35.0</td>\n",
       "    </tr>\n",
       "  </tbody>\n",
       "</table>\n",
       "</div>"
      ],
      "text/plain": [
       "             mpg                                                  \n",
       "           count       mean       std  min   25%   50%   75%   max\n",
       "automatic                                                         \n",
       "auto       157.0  15.968153  3.848777  9.0  13.0  16.0  18.0  29.0\n",
       "manual      77.0  18.675325  4.488118  9.0  15.0  18.0  21.0  35.0"
      ]
     },
     "execution_count": 35,
     "metadata": {},
     "output_type": "execute_result"
    }
   ],
   "source": [
    "df= ds_mycars[['mpg','automatic']]\n",
    "df.groupby('automatic').describe()"
   ]
  },
  {
   "cell_type": "code",
   "execution_count": 22,
   "id": "4aeb6686",
   "metadata": {},
   "outputs": [
    {
     "name": "stdout",
     "output_type": "stream",
     "text": [
      "나의 키가 180cm일 경우에 나의 범위는 0.841 %\n"
     ]
    }
   ],
   "source": [
    "mu = 175\n",
    "sigma = 5\n",
    "x = 180\n",
    "prob = stats.norm.cdf(x,mu,sigma)\n",
    "\n",
    "print(f\"나의 키가 180cm일 경우에 나의 범위는 {prob:.3f} %\")"
   ]
  },
  {
   "cell_type": "code",
   "execution_count": 20,
   "id": "0407a258",
   "metadata": {},
   "outputs": [
    {
     "name": "stdout",
     "output_type": "stream",
     "text": [
      "1리터를 가지고 9km 이상 15km 이하를 달릴 확률은 0.683에 해당함\n"
     ]
    }
   ],
   "source": [
    "mu = 12 \n",
    "sigma = 3  \n",
    "\n",
    "lower = 9  \n",
    "upper = 15  \n",
    "\n",
    "\n",
    "z_lower = (lower - mu) / sigma\n",
    "z_upper = (upper - mu) / sigma\n",
    "\n",
    "# 누적분포함수를 사용하여 확률을 계산한다.\n",
    "prob = stats.norm.cdf(z_upper) - stats.norm.cdf(z_lower)\n",
    "\n",
    "print(f\"1리터를 가지고 9km 이상 15km 이하를 달릴 확률은 {prob:.3f}에 해당함\")"
   ]
  },
  {
   "cell_type": "code",
   "execution_count": 25,
   "id": "a095fc39",
   "metadata": {},
   "outputs": [
    {
     "name": "stdout",
     "output_type": "stream",
     "text": [
      "1리터를 가지고 15km 이상을 달릴 확률은 0.159에 해당함\n"
     ]
    }
   ],
   "source": [
    "mu = 12  \n",
    "sigma = 3  \n",
    "\n",
    "prob = 1 - stats.norm.cdf(15, mu, sigma)\n",
    "print(f\"1리터를 가지고 15km 이상을 달릴 확률은 {prob:.3f}에 해당함\")"
   ]
  },
  {
   "cell_type": "code",
   "execution_count": 27,
   "id": "e3475b33",
   "metadata": {},
   "outputs": [
    {
     "name": "stdout",
     "output_type": "stream",
     "text": [
      "P(T<=F): 0.976\n"
     ]
    }
   ],
   "source": [
    "t = 2.0\n",
    "df = 100\n",
    "\n",
    "prob = stats.t.cdf(t, df)\n",
    "print(f\"P(T<=F): {prob:.3f}\")"
   ]
  },
  {
   "cell_type": "code",
   "execution_count": 30,
   "id": "9b0494f0",
   "metadata": {},
   "outputs": [
    {
     "name": "stdout",
     "output_type": "stream",
     "text": [
      "P(X<= 3.0): 0.9759\n"
     ]
    }
   ],
   "source": [
    "chisq = 3.0 \n",
    "df = 8 \n",
    "\n",
    "p_value = stats.chi2.cdf(chisq, df)\n",
    "print(f\"P(X<= {chisq}): {prob:.4f}\")"
   ]
  },
  {
   "cell_type": "code",
   "execution_count": 32,
   "id": "5cd09657",
   "metadata": {},
   "outputs": [
    {
     "name": "stdout",
     "output_type": "stream",
     "text": [
      "P(X<=F): 0.850\n"
     ]
    }
   ],
   "source": [
    "f = 1.5\n",
    "dfnum, dfden = 10, 100\n",
    "\n",
    "\n",
    "prob = stats.f.cdf(f, dfnum, dfden)\n",
    "print(f\"P(X<=F): {prob:.3f}\")"
   ]
  },
  {
   "cell_type": "code",
   "execution_count": 33,
   "id": "96c5dc6a",
   "metadata": {},
   "outputs": [
    {
     "name": "stdout",
     "output_type": "stream",
     "text": [
      "P(X=0) : 0.078\n",
      "P(X=1) : 0.259\n",
      "P(X=2) : 0.346\n",
      "P(X=3) : 0.230\n",
      "P(X=4) : 0.077\n",
      "P(X=5) : 0.010\n"
     ]
    }
   ],
   "source": [
    "n = 5\n",
    "p = 0.4\n",
    "for i in range(n+1):\n",
    "    prob = stats.binom.pmf(i, n, p)\n",
    "    print(f\"P(X={i}) : {prob:.3f}\")"
   ]
  }
 ],
 "metadata": {
  "kernelspec": {
   "display_name": "Python 3 (ipykernel)",
   "language": "python",
   "name": "python3"
  },
  "language_info": {
   "codemirror_mode": {
    "name": "ipython",
    "version": 3
   },
   "file_extension": ".py",
   "mimetype": "text/x-python",
   "name": "python",
   "nbconvert_exporter": "python",
   "pygments_lexer": "ipython3",
   "version": "3.10.9"
  }
 },
 "nbformat": 4,
 "nbformat_minor": 5
}
