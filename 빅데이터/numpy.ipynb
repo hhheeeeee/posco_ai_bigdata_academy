{
 "cells": [
  {
   "cell_type": "code",
   "execution_count": 1,
   "id": "ec4fd586",
   "metadata": {},
   "outputs": [
    {
     "data": {
      "text/plain": [
       "'1.24.3'"
      ]
     },
     "execution_count": 1,
     "metadata": {},
     "output_type": "execute_result"
    }
   ],
   "source": [
    "import numpy as np\n",
    "np.__version__"
   ]
  },
  {
   "cell_type": "code",
   "execution_count": 8,
   "id": "add38df5",
   "metadata": {},
   "outputs": [
    {
     "name": "stdout",
     "output_type": "stream",
     "text": [
      "[2 3 4]\n",
      "int64\n",
      "float64\n",
      "[[1.65766455e-316 0.00000000e+000]\n",
      " [0.00000000e+000 0.00000000e+000]\n",
      " [0.00000000e+000 0.00000000e+000]]\n"
     ]
    }
   ],
   "source": [
    "a = np.array([2,3,4]) #input을 받아서 numpy.ndarray를 만들어 주는 것\n",
    "print(a)\n",
    "\n",
    "print(a.dtype)\n",
    "\n",
    "b = np.array([1.2, 3.5, 5.1])\n",
    "print(b.dtype)\n",
    "\n",
    "c = np.ndarray((3,2)) #input : shape!\n",
    "print(c)"
   ]
  },
  {
   "cell_type": "code",
   "execution_count": 10,
   "id": "69980289",
   "metadata": {},
   "outputs": [
    {
     "data": {
      "text/plain": [
       "array([[0., 0., 0., 0.],\n",
       "       [0., 0., 0., 0.],\n",
       "       [0., 0., 0., 0.]])"
      ]
     },
     "execution_count": 10,
     "metadata": {},
     "output_type": "execute_result"
    }
   ],
   "source": [
    "d = np.array([[1,2],[3,4]])\n",
    "np.zeros((3,4))"
   ]
  },
  {
   "cell_type": "code",
   "execution_count": 11,
   "id": "ef3d4d01",
   "metadata": {},
   "outputs": [
    {
     "data": {
      "text/plain": [
       "array([[[1, 1, 1, 1],\n",
       "        [1, 1, 1, 1],\n",
       "        [1, 1, 1, 1]],\n",
       "\n",
       "       [[1, 1, 1, 1],\n",
       "        [1, 1, 1, 1],\n",
       "        [1, 1, 1, 1]]], dtype=int16)"
      ]
     },
     "execution_count": 11,
     "metadata": {},
     "output_type": "execute_result"
    }
   ],
   "source": [
    "np.ones((2,3,4), dtype = np.int16)"
   ]
  },
  {
   "cell_type": "code",
   "execution_count": 12,
   "id": "44e507e0",
   "metadata": {},
   "outputs": [],
   "source": [
    "c = np.empty((2,3))"
   ]
  },
  {
   "cell_type": "code",
   "execution_count": 13,
   "id": "64cb7b6e",
   "metadata": {},
   "outputs": [
    {
     "data": {
      "text/plain": [
       "array([[2.10689433e-316, 0.00000000e+000, 0.00000000e+000],\n",
       "       [0.00000000e+000, 0.00000000e+000, 0.00000000e+000]])"
      ]
     },
     "execution_count": 13,
     "metadata": {},
     "output_type": "execute_result"
    }
   ],
   "source": [
    "c"
   ]
  },
  {
   "cell_type": "code",
   "execution_count": 15,
   "id": "37a02e9e",
   "metadata": {},
   "outputs": [
    {
     "name": "stdout",
     "output_type": "stream",
     "text": [
      "[10 15 20 25]\n"
     ]
    }
   ],
   "source": [
    "# range(start, stop, step)\n",
    "a = np.arange(10,30,5)\n",
    "print(a)"
   ]
  },
  {
   "cell_type": "code",
   "execution_count": 22,
   "id": "1d0be8cb",
   "metadata": {},
   "outputs": [
    {
     "name": "stdout",
     "output_type": "stream",
     "text": [
      "[0.  0.3 0.6 0.9 1.2 1.5 1.8]\n",
      "\n",
      "[0.  0.3 0.6 0.9 1.2 1.5 1.8 2.1]\n",
      "\n",
      "[0 1 2 3 4 5]\n"
     ]
    }
   ],
   "source": [
    "b = np.arange(0,2,0.3)\n",
    "print(b)\n",
    "print()\n",
    "c = np.arange(0,2.1,0.3) #step 크기가 정수가 아닌 경우 stop포인트 주의하기\n",
    "print(c)\n",
    "print()\n",
    "d = np.arange(6)\n",
    "print(d)"
   ]
  },
  {
   "cell_type": "code",
   "execution_count": 20,
   "id": "acdac2b5",
   "metadata": {},
   "outputs": [
    {
     "name": "stdout",
     "output_type": "stream",
     "text": [
      "[0.   0.25 0.5  0.75 1.   1.25 1.5  1.75 2.  ]\n"
     ]
    }
   ],
   "source": [
    "#(start, stop(포함), 요소 개수\n",
    "#시작하는 지점과 끝나는 지점을 등분해준다\n",
    "a = np.linspace(0,2,9) #마지막 지점 포함 시킨다.!!\n",
    "print(a)"
   ]
  },
  {
   "cell_type": "code",
   "execution_count": 26,
   "id": "0ecc3a8d",
   "metadata": {},
   "outputs": [
    {
     "name": "stdout",
     "output_type": "stream",
     "text": [
      "[   0    1    2 ... 9997 9998 9999]\n",
      "[ 0  1  2  3  4  5  6  7  8  9 10 11 12 13 14 15 16 17 18 19 20 21 22 23\n",
      " 24 25 26 27 28 29]\n"
     ]
    }
   ],
   "source": [
    "\n",
    "np.set_printoptions(threshold = 50) #요소 개수 > 50\n",
    "print(np.arange(10000))\n",
    "print(np.arange(30))\n"
   ]
  },
  {
   "cell_type": "code",
   "execution_count": 28,
   "id": "5939ce50",
   "metadata": {},
   "outputs": [
    {
     "name": "stdout",
     "output_type": "stream",
     "text": [
      "[0 1 2 3 4 5 6 7 8 9]\n",
      "0\n",
      "1\n"
     ]
    }
   ],
   "source": [
    "x = np.arange(10)\n",
    "print(x)\n",
    "print(x[0])\n",
    "print(x[1])"
   ]
  },
  {
   "cell_type": "code",
   "execution_count": 34,
   "id": "b448ecd8",
   "metadata": {},
   "outputs": [
    {
     "name": "stdout",
     "output_type": "stream",
     "text": [
      "[[0 1 2 3 4]\n",
      " [5 6 7 8 9]]\n",
      "\n",
      "[0 1 2 3 4]\n",
      "\n",
      "2\n",
      "8\n",
      "8\n"
     ]
    }
   ],
   "source": [
    "x = np.arange(10).reshape(2,5)\n",
    "print(x)\n",
    "print()\n",
    "print(x[0])\n",
    "print()\n",
    "print(x[0,2])\n",
    "print(x[1,3])\n",
    "\n",
    "y = x[1]\n",
    "print(y[3])"
   ]
  },
  {
   "cell_type": "code",
   "execution_count": 38,
   "id": "27f78745",
   "metadata": {},
   "outputs": [
    {
     "name": "stdout",
     "output_type": "stream",
     "text": [
      "[[1 2 3]\n",
      " [4 5 6]\n",
      " [7 8 9]]\n",
      "\n",
      "[1 6 7 2]\n"
     ]
    }
   ],
   "source": [
    "a = np.array([[1,2,3],[4,5,6],[7,8,9]])\n",
    "print(a)\n",
    "print()\n",
    "print(a[[0,1,2,0],[0,2,0,1]])\n",
    "# a[0,0]\n",
    "# a[1,2]\n",
    "# a[2,0]\n",
    "# a[0,1]\n"
   ]
  },
  {
   "cell_type": "code",
   "execution_count": 41,
   "id": "111253f4",
   "metadata": {},
   "outputs": [
    {
     "name": "stdout",
     "output_type": "stream",
     "text": [
      "[0 1 2 3 4 5 6 7 8 9]\n",
      "\n",
      "[2 3 4]\n"
     ]
    }
   ],
   "source": [
    "#[start : stop : step]\n",
    "\n",
    "x = np.arange(10) #0~9\n",
    "print(x)\n",
    "print()\n",
    "\n",
    "print(x[2:5]) #start idx=2, stop idx = 5(포함x), step 생략 = 1"
   ]
  },
  {
   "cell_type": "code",
   "execution_count": 48,
   "id": "aca8ec20",
   "metadata": {},
   "outputs": [
    {
     "name": "stdout",
     "output_type": "stream",
     "text": [
      "[100 101 102 103 104 105 106 107 108 109]\n",
      "\n",
      "[100 101 102]\n",
      "\n",
      "[101 103 105]\n",
      "\n",
      "[[ 0  1  2  3  4  5  6]\n",
      " [ 7  8  9 10 11 12 13]\n",
      " [14 15 16 17 18 19 20]\n",
      " [21 22 23 24 25 26 27]\n",
      " [28 29 30 31 32 33 34]]\n",
      "\n",
      "[[ 7  8  9 10 11 12 13]\n",
      " [21 22 23 24 25 26 27]]\n",
      "\n",
      "[[ 7 10 13]\n",
      " [21 24 27]]\n"
     ]
    }
   ],
   "source": [
    "x = np.arange(100, 110) #100~109\n",
    "print(x)\n",
    "print()\n",
    "\n",
    "print(x[:-7]) #start 생략 - > 처음부터 (0), stop idx = -7 (3), step 생략 = 1\n",
    "print()\n",
    "\n",
    "print(x[1:7:2])\n",
    "#idx = 1, 3, 5\n",
    "print()\n",
    "\n",
    "y = np.arange(35).reshape(5,7) #0~34\n",
    "print(y)\n",
    "print()\n",
    "\n",
    "print(y[1:5:2]) #axis 0 : index 1, 3\n",
    "print()\n",
    "\n",
    "print(y[1:5:2,::3]) \n",
    "#axis 0 :index 1, 3\n",
    "#axis 1 :index 0, 3, 6"
   ]
  },
  {
   "cell_type": "code",
   "execution_count": 57,
   "id": "629d57d5",
   "metadata": {},
   "outputs": [
    {
     "name": "stdout",
     "output_type": "stream",
     "text": [
      "[[0 1 2]\n",
      " [3 4 5]]\n",
      "\n",
      "[[False False False]\n",
      " [False False  True]]\n",
      "[5]\n",
      "\n",
      "[[ True False  True]\n",
      " [False  True False]]\n",
      "[0 2 4]\n",
      "\n"
     ]
    }
   ],
   "source": [
    "a = np.array(range(6)).reshape(2,3)\n",
    "print(a)\n",
    "print()\n",
    "\n",
    "bool_idx = a>4\n",
    "print(bool_idx)\n",
    "print(a[bool_idx]) #true인 값만 나온다\n",
    "print()\n",
    "\n",
    "bool_idx = (a % 2 == 0)\n",
    "print(bool_idx)\n",
    "print(a[bool_idx])\n",
    "print()"
   ]
  },
  {
   "cell_type": "code",
   "execution_count": 66,
   "id": "0a9609fb",
   "metadata": {},
   "outputs": [
    {
     "name": "stdout",
     "output_type": "stream",
     "text": [
      "[[ 1  2  3  4]\n",
      " [ 5  6  7  8]\n",
      " [ 9 10 11 12]]\n",
      "\n",
      "[[1 2 3 4]\n",
      " [5 6 7 8]]\n",
      "\n",
      "[[-1  2  3  4]\n",
      " [ 5  6  7  8]]\n",
      "[[-1  2  3  4]\n",
      " [ 5  6  7  8]\n",
      " [ 9 10 11 12]]\n",
      "\n",
      "[[ 1  2  3  4]\n",
      " [ 5  6  7  8]\n",
      " [ 9 10 11 12]]\n",
      "[[-1  2  3  4]\n",
      " [ 5  6  7  8]]\n"
     ]
    }
   ],
   "source": [
    "a = np.arange(1, 13).reshape(3,4)\n",
    "print(a)\n",
    "print()\n",
    "\n",
    "b = a[:2] #axis0 : index 0,1\n",
    "# 얕은 복사!!!\n",
    "print(b)\n",
    "print()\n",
    "\n",
    "b[0,0] = -1\n",
    "print(b)\n",
    "print(a) #a와 b가 같음(shallow copy)\n",
    "print()\n",
    "\n",
    "a = np.arange(1, 13).reshape(3,4)\n",
    "b = np.copy(a[:2])\n",
    "b[0,0] = -1\n",
    "print(a)\n",
    "print(b)"
   ]
  },
  {
   "cell_type": "code",
   "execution_count": 79,
   "id": "f92d3fbb",
   "metadata": {},
   "outputs": [
    {
     "name": "stdout",
     "output_type": "stream",
     "text": [
      "[[3. 5. 6. 7.]\n",
      " [1. 5. 3. 6.]\n",
      " [4. 4. 8. 5.]]\n",
      "(3, 4)\n",
      "------------------------------\n",
      "[3. 5. 6. 7. 1. 5. 3. 6. 4. 4. 8. 5.]\n",
      "\n",
      "[[3. 5. 6. 7.]\n",
      " [1. 5. 3. 6.]\n",
      " [4. 4. 8. 5.]]\n",
      "------------------------------\n",
      "[[3. 5.]\n",
      " [6. 7.]\n",
      " [1. 5.]\n",
      " [3. 6.]\n",
      " [4. 4.]\n",
      " [8. 5.]]\n",
      "\n",
      "[[3. 5. 6. 7.]\n",
      " [1. 5. 3. 6.]\n",
      " [4. 4. 8. 5.]]\n",
      "------------------------------\n",
      "[[3. 1. 4.]\n",
      " [5. 5. 4.]\n",
      " [6. 3. 8.]\n",
      " [7. 6. 5.]]\n",
      "\n",
      "[[3. 5. 6. 7.]\n",
      " [1. 5. 3. 6.]\n",
      " [4. 4. 8. 5.]]\n",
      "------------------------------\n"
     ]
    }
   ],
   "source": [
    "a = np.floor(10*np.random.random((3,4)))\n",
    "#numpy.random.random -> 0~1 사의 숫자들로 ndarrya만들기\n",
    "#입력값으로 shape을 받는다\n",
    "\n",
    "#10이 각각의 요소에 곱해진다.\n",
    "print(a)\n",
    "print(a.shape)\n",
    "print(\"-\" * 30)\n",
    "\n",
    "print(a.ravel())  #납작하게 만들었을 때 예상되는 모양을 보여줌\n",
    "print()   #a 자체를 변형시키지는 않는다\n",
    "print(a) \n",
    "print(\"-\" * 30)\n",
    "\n",
    "print(a.reshape(6,2)) #a 자체를 변형시키지는 않는다\n",
    "print()\n",
    "print(a)\n",
    "print(\"-\" * 30)\n",
    "\n",
    "print(a.T)\n",
    "print()\n",
    "print(a)\n",
    "print(\"-\" * 30)"
   ]
  },
  {
   "cell_type": "code",
   "execution_count": 90,
   "id": "df2fc25b",
   "metadata": {},
   "outputs": [
    {
     "name": "stdout",
     "output_type": "stream",
     "text": [
      "[[1. 2. 8. 6. 0. 0. 7. 4. 9. 6. 3. 6. 8. 7.]\n",
      " [1. 1. 1. 9. 6. 1. 0. 4. 8. 2. 7. 8. 4. 9.]]\n"
     ]
    }
   ],
   "source": [
    "b = np.floor(10*np.random.random((7,4)))\n",
    "b.resize((2,14))\n",
    "print(b)"
   ]
  },
  {
   "cell_type": "code",
   "execution_count": null,
   "id": "0e1caf40",
   "metadata": {},
   "outputs": [],
   "source": []
  },
  {
   "cell_type": "markdown",
   "id": "fa56a855",
   "metadata": {},
   "source": [
    "### 실습 문제 1"
   ]
  },
  {
   "cell_type": "code",
   "execution_count": 115,
   "id": "7229442c",
   "metadata": {
    "scrolled": true
   },
   "outputs": [
    {
     "name": "stdout",
     "output_type": "stream",
     "text": [
      "\n",
      "[[1. 1. 1. 1. 1.]\n",
      " [1. 0. 0. 0. 1.]\n",
      " [1. 0. 0. 0. 1.]\n",
      " [1. 0. 0. 0. 1.]\n",
      " [1. 1. 1. 1. 1.]]\n",
      "\n",
      "\n",
      "[[0. 0. 0. 0. 0.]\n",
      " [0. 1. 1. 1. 0.]\n",
      " [0. 1. 1. 1. 0.]\n",
      " [0. 1. 1. 1. 0.]\n",
      " [0. 0. 0. 0. 0.]]\n"
     ]
    }
   ],
   "source": [
    "x = np.ones((5,5))\n",
    "#print(x)\n",
    "print()\n",
    "x[1:4,1:4] = 0\n",
    "print(x)\n",
    "print()\n",
    "\n",
    "x = np.zeros((5,5))\n",
    "#print(x)\n",
    "print()\n",
    "x[1:4,1:4] = 1\n",
    "print(x)"
   ]
  },
  {
   "cell_type": "code",
   "execution_count": 127,
   "id": "ef3b3096",
   "metadata": {},
   "outputs": [
    {
     "name": "stdout",
     "output_type": "stream",
     "text": [
      "[[1. 1. 1.]\n",
      " [1. 1. 1.]\n",
      " [1. 1. 1.]]\n",
      "\n",
      "[[0. 0. 0. 0. 0.]\n",
      " [0. 1. 1. 1. 0.]\n",
      " [0. 1. 1. 1. 0.]\n",
      " [0. 1. 1. 1. 0.]\n",
      " [0. 0. 0. 0. 0.]]\n"
     ]
    }
   ],
   "source": [
    "x = np.ones((3,3))\n",
    "print(x)\n",
    "print()\n",
    "\n",
    "y = np.pad(x, pad_width = 1, mode = 'constant', constant_values = 0) \n",
    "print(y)\n",
    "#input : 감쌀 어레이 , pad_width, mode = 감쌀때 뭐로 감쌀건지"
   ]
  },
  {
   "cell_type": "markdown",
   "id": "6c6a9ced",
   "metadata": {},
   "source": [
    "### 실습 문제 2"
   ]
  },
  {
   "cell_type": "code",
   "execution_count": 136,
   "id": "e577ee43",
   "metadata": {},
   "outputs": [
    {
     "name": "stdout",
     "output_type": "stream",
     "text": [
      "[[0. 0. 0. 0. 0. 0. 0. 0.]\n",
      " [0. 0. 0. 0. 0. 0. 0. 0.]\n",
      " [0. 0. 0. 0. 0. 0. 0. 0.]\n",
      " [0. 0. 0. 0. 0. 0. 0. 0.]\n",
      " [0. 0. 0. 0. 0. 0. 0. 0.]\n",
      " [0. 0. 0. 0. 0. 0. 0. 0.]\n",
      " [0. 0. 0. 0. 0. 0. 0. 0.]\n",
      " [0. 0. 0. 0. 0. 0. 0. 0.]]\n",
      "\n",
      "[[0. 1. 0. 1. 0. 1. 0. 1.]\n",
      " [1. 0. 1. 0. 1. 0. 1. 0.]\n",
      " [0. 1. 0. 1. 0. 1. 0. 1.]\n",
      " [1. 0. 1. 0. 1. 0. 1. 0.]\n",
      " [0. 1. 0. 1. 0. 1. 0. 1.]\n",
      " [1. 0. 1. 0. 1. 0. 1. 0.]\n",
      " [0. 1. 0. 1. 0. 1. 0. 1.]\n",
      " [1. 0. 1. 0. 1. 0. 1. 0.]]\n"
     ]
    }
   ],
   "source": [
    "np.set_printoptions(threshold = 100)\n",
    "x = np.zeros((8,8))\n",
    "\n",
    "#method 1\n",
    "x[::2,1::2] = 1 #행작업\n",
    "x[1::2,::2] = 1 \n",
    "print(x)\n",
    "\n",
    "y = np.zeros((8,8))\n",
    "#method 2 - 생각해보기\n",
    "con = (i % 2 == 0)\n"
   ]
  },
  {
   "cell_type": "markdown",
   "id": "16d62632",
   "metadata": {},
   "source": [
    "### 실습 문제 3"
   ]
  },
  {
   "cell_type": "code",
   "execution_count": 147,
   "id": "3e37cb34",
   "metadata": {},
   "outputs": [
    {
     "name": "stdout",
     "output_type": "stream",
     "text": [
      "[[[180  72]\n",
      "  [172  66]\n",
      "  [162  60]\n",
      "  [167  53]]\n",
      "\n",
      " [[176  80]\n",
      "  [155  60]\n",
      "  [177  77]\n",
      "  [130  40]]]\n",
      "\n",
      "60\n"
     ]
    }
   ],
   "source": [
    "x = np.array([180,72,172,66,162,60,167,53,176,80,155,60,177,77,130,40])\n",
    "y = x.reshape((2,4,2))\n",
    "print(y)\n",
    "print()\n",
    "\n",
    "#B, 2nd student, weight\n",
    "print(y[1,1,1])"
   ]
  },
  {
   "cell_type": "markdown",
   "id": "6d02fd64",
   "metadata": {},
   "source": [
    "# Basic operations"
   ]
  },
  {
   "cell_type": "code",
   "execution_count": 160,
   "id": "db79d1e9",
   "metadata": {},
   "outputs": [],
   "source": [
    "A = np.array([[1,1],\n",
    "            [0,1]])\n",
    "B = np.array([[2,0],\n",
    "            [3,4]])"
   ]
  },
  {
   "cell_type": "code",
   "execution_count": 163,
   "id": "0cbb5d76",
   "metadata": {},
   "outputs": [
    {
     "name": "stdout",
     "output_type": "stream",
     "text": [
      "[[5 4]\n",
      " [3 4]]\n",
      "\n",
      "[[5 4]\n",
      " [3 4]]\n"
     ]
    }
   ],
   "source": [
    "print(A @ B)\n",
    "print()\n",
    "print(A.dot(B))"
   ]
  },
  {
   "cell_type": "code",
   "execution_count": 168,
   "id": "33097277",
   "metadata": {},
   "outputs": [
    {
     "name": "stdout",
     "output_type": "stream",
     "text": [
      "[[ 0  1  2]\n",
      " [ 3  4  5]\n",
      " [ 6  7  8]\n",
      " [ 9 10 11]]\n",
      "[[ 0  2  4]\n",
      " [ 3  5  7]\n",
      " [ 6  8 10]\n",
      " [ 9 11 13]]\n"
     ]
    }
   ],
   "source": [
    "B = np.arange(12).reshape(4,3)\n",
    "print(B)\n",
    "v = np.array([0,1,2])\n",
    "C = B + v\n",
    "print(C)"
   ]
  },
  {
   "cell_type": "code",
   "execution_count": null,
   "id": "4d13b5f6",
   "metadata": {},
   "outputs": [],
   "source": []
  },
  {
   "cell_type": "code",
   "execution_count": null,
   "id": "a4a1ebb9",
   "metadata": {},
   "outputs": [],
   "source": []
  },
  {
   "cell_type": "code",
   "execution_count": null,
   "id": "614bef78",
   "metadata": {},
   "outputs": [],
   "source": []
  },
  {
   "cell_type": "code",
   "execution_count": null,
   "id": "efa7379f",
   "metadata": {},
   "outputs": [],
   "source": []
  },
  {
   "cell_type": "code",
   "execution_count": null,
   "id": "0303ae17",
   "metadata": {},
   "outputs": [],
   "source": []
  },
  {
   "cell_type": "code",
   "execution_count": 148,
   "id": "40fcc319",
   "metadata": {},
   "outputs": [],
   "source": [
    "result = [[20180002, 'lee', 98, 80, 80,\"A\"],\n",
    "          [20180002, 'lee', 98, 80, 110,\"A\"],\n",
    "          [20180002, 'lee', 98 ,80, 90,\"A\"]]"
   ]
  },
  {
   "cell_type": "code",
   "execution_count": 149,
   "id": "3404fc86",
   "metadata": {},
   "outputs": [
    {
     "name": "stdout",
     "output_type": "stream",
     "text": [
      "[[20180002, 'lee', 98, 80, 80, 'A'], [20180002, 'lee', 98, 80, 110, 'A'], [20180002, 'lee', 98, 80, 90, 'A']]\n"
     ]
    }
   ],
   "source": [
    "print(result)"
   ]
  },
  {
   "cell_type": "code",
   "execution_count": null,
   "id": "42a1d934",
   "metadata": {},
   "outputs": [],
   "source": []
  },
  {
   "cell_type": "code",
   "execution_count": null,
   "id": "5e80830c",
   "metadata": {},
   "outputs": [],
   "source": []
  },
  {
   "cell_type": "code",
   "execution_count": 150,
   "id": "91ca10dd",
   "metadata": {},
   "outputs": [
    {
     "name": "stdout",
     "output_type": "stream",
     "text": [
      "[[20180002, 'lee', 98, 80, 110, 'A'], [20180002, 'lee', 98, 80, 90, 'A'], [20180002, 'lee', 98, 80, 80, 'A']]\n"
     ]
    }
   ],
   "source": [
    "r2 = sorted(result, key = lambda x:-x[4])\n",
    "print(r2)"
   ]
  },
  {
   "cell_type": "code",
   "execution_count": 151,
   "id": "48c71ce5",
   "metadata": {},
   "outputs": [
    {
     "name": "stdout",
     "output_type": "stream",
     "text": [
      "[[20180002, 'lee', 98, 80, 110, 'A'], [20180002, 'lee', 98, 80, 90, 'A'], [20180002, 'lee', 98, 80, 80, 'A']]\n"
     ]
    }
   ],
   "source": [
    "result.sort(key = lambda x:-x[4])\n",
    "print(result)"
   ]
  },
  {
   "cell_type": "code",
   "execution_count": 158,
   "id": "ef4ad0f2",
   "metadata": {},
   "outputs": [
    {
     "name": "stdout",
     "output_type": "stream",
     "text": [
      "<class 'list'>\n",
      "20180002\tlee\t98\t80\t110\tA\n"
     ]
    }
   ],
   "source": [
    "line = result[0]\n",
    "print(type(line))\n",
    "line = map(str, line)\n",
    "print(\"\\t\".join(line))"
   ]
  },
  {
   "cell_type": "code",
   "execution_count": null,
   "id": "6be780eb",
   "metadata": {},
   "outputs": [],
   "source": []
  }
 ],
 "metadata": {
  "kernelspec": {
   "display_name": "Python 3 (ipykernel)",
   "language": "python",
   "name": "python3"
  },
  "language_info": {
   "codemirror_mode": {
    "name": "ipython",
    "version": 3
   },
   "file_extension": ".py",
   "mimetype": "text/x-python",
   "name": "python",
   "nbconvert_exporter": "python",
   "pygments_lexer": "ipython3",
   "version": "3.10.9"
  }
 },
 "nbformat": 4,
 "nbformat_minor": 5
}
