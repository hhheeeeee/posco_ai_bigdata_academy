{
 "cells": [
  {
   "cell_type": "code",
   "execution_count": 70,
   "id": "128b4611",
   "metadata": {},
   "outputs": [
    {
     "name": "stdout",
     "output_type": "stream",
     "text": [
      "Found existing installation: numpy 1.23.5\n",
      "Uninstalling numpy-1.23.5:\n",
      "  Successfully uninstalled numpy-1.23.5\n",
      "Found existing installation: scipy 1.10.0\n",
      "Uninstalling scipy-1.10.0:\n",
      "  Successfully uninstalled scipy-1.10.0\n"
     ]
    }
   ],
   "source": [
    "!pip install h5py pip install typing-extensions pip install wheel"
   ]
  },
  {
   "cell_type": "code",
   "execution_count": 71,
   "id": "b33f2e3e",
   "metadata": {},
   "outputs": [
    {
     "name": "stdout",
     "output_type": "stream",
     "text": [
      "Requirement already satisfied: setuptools in ./anaconda3/lib/python3.10/site-packages (65.6.3)\n",
      "Collecting numpy\n",
      "  Using cached numpy-1.24.3-cp310-cp310-manylinux_2_17_x86_64.manylinux2014_x86_64.whl (17.3 MB)\n",
      "Installing collected packages: numpy\n",
      "\u001b[31mERROR: pip's dependency resolver does not currently take into account all the packages that are installed. This behaviour is the source of the following dependency conflicts.\n",
      "statsmodels 0.13.5 requires scipy>=1.3; (python_version > \"3.9\" or platform_system != \"Windows\" or platform_machine != \"x86\") and python_version < \"3.12\", which is not installed.\n",
      "scikit-learn 1.2.1 requires scipy>=1.3.2, which is not installed.\n",
      "scikit-image 0.19.3 requires scipy>=1.4.1, which is not installed.\n",
      "imbalanced-learn 0.10.1 requires scipy>=1.3.2, which is not installed.\n",
      "gensim 4.3.0 requires FuzzyTM>=0.4.0, which is not installed.\n",
      "gensim 4.3.0 requires scipy>=1.7.0, which is not installed.\n",
      "datashader 0.14.4 requires scipy, which is not installed.\n",
      "numba 0.56.4 requires numpy<1.24,>=1.18, but you have numpy 1.24.3 which is incompatible.\u001b[0m\u001b[31m\n",
      "\u001b[0mSuccessfully installed numpy-1.24.3\n",
      "Collecting scipy\n",
      "  Using cached scipy-1.10.1-cp310-cp310-manylinux_2_17_x86_64.manylinux2014_x86_64.whl (34.4 MB)\n",
      "Requirement already satisfied: numpy<1.27.0,>=1.19.5 in ./anaconda3/lib/python3.10/site-packages (from scipy) (1.24.3)\n",
      "Installing collected packages: scipy\n",
      "\u001b[31mERROR: pip's dependency resolver does not currently take into account all the packages that are installed. This behaviour is the source of the following dependency conflicts.\n",
      "gensim 4.3.0 requires FuzzyTM>=0.4.0, which is not installed.\u001b[0m\u001b[31m\n",
      "\u001b[0mSuccessfully installed scipy-1.10.1\n"
     ]
    }
   ],
   "source": [
    "!pip install setuptools\n",
    "!pip install numpy\n",
    "!pip install scipy"
   ]
  },
  {
   "cell_type": "code",
   "execution_count": 12,
   "id": "2adc032d",
   "metadata": {},
   "outputs": [],
   "source": [
    "import pandas as pd\n",
    "import seaborn as sns\n",
    "import matplotlib\n",
    "import matplotlib.pyplot as plt\n",
    "import numpy as np\n",
    "\n",
    "from statsmodels.formula.api import ols\n",
    "from statsmodels.stats.anova import anova_lm"
   ]
  },
  {
   "cell_type": "code",
   "execution_count": 13,
   "id": "b122d23e",
   "metadata": {},
   "outputs": [],
   "source": [
    "import pandas as pd\n",
    "import scipy.stats as stats"
   ]
  },
  {
   "cell_type": "code",
   "execution_count": 14,
   "id": "8cf9e8e7",
   "metadata": {},
   "outputs": [],
   "source": [
    "from statsmodels.stats.proportion import proportions_ztest"
   ]
  },
  {
   "cell_type": "markdown",
   "id": "442e8538",
   "metadata": {},
   "source": [
    "### p.269"
   ]
  },
  {
   "cell_type": "code",
   "execution_count": 15,
   "id": "5a03cd01",
   "metadata": {},
   "outputs": [],
   "source": [
    "df = pd.read_csv(\"/home/piai/문서/1 Big Data 분석 기초/2sample_t_test.csv\", encoding = 'euc-kr')"
   ]
  },
  {
   "cell_type": "code",
   "execution_count": 16,
   "id": "a6ef4986",
   "metadata": {
    "scrolled": true
   },
   "outputs": [
    {
     "data": {
      "text/html": [
       "<div>\n",
       "<style scoped>\n",
       "    .dataframe tbody tr th:only-of-type {\n",
       "        vertical-align: middle;\n",
       "    }\n",
       "\n",
       "    .dataframe tbody tr th {\n",
       "        vertical-align: top;\n",
       "    }\n",
       "\n",
       "    .dataframe thead th {\n",
       "        text-align: right;\n",
       "    }\n",
       "</style>\n",
       "<table border=\"1\" class=\"dataframe\">\n",
       "  <thead>\n",
       "    <tr style=\"text-align: right;\">\n",
       "      <th></th>\n",
       "      <th>Mat_A</th>\n",
       "      <th>Mat_B</th>\n",
       "      <th>Total</th>\n",
       "      <th>Sub</th>\n",
       "    </tr>\n",
       "  </thead>\n",
       "  <tbody>\n",
       "    <tr>\n",
       "      <th>0</th>\n",
       "      <td>73.4</td>\n",
       "      <td>68.7</td>\n",
       "      <td>73.4</td>\n",
       "      <td>1</td>\n",
       "    </tr>\n",
       "    <tr>\n",
       "      <th>1</th>\n",
       "      <td>77.0</td>\n",
       "      <td>71.4</td>\n",
       "      <td>77.0</td>\n",
       "      <td>1</td>\n",
       "    </tr>\n",
       "    <tr>\n",
       "      <th>2</th>\n",
       "      <td>73.7</td>\n",
       "      <td>69.8</td>\n",
       "      <td>73.7</td>\n",
       "      <td>1</td>\n",
       "    </tr>\n",
       "    <tr>\n",
       "      <th>3</th>\n",
       "      <td>73.3</td>\n",
       "      <td>75.3</td>\n",
       "      <td>73.3</td>\n",
       "      <td>1</td>\n",
       "    </tr>\n",
       "    <tr>\n",
       "      <th>4</th>\n",
       "      <td>73.1</td>\n",
       "      <td>71.3</td>\n",
       "      <td>73.1</td>\n",
       "      <td>1</td>\n",
       "    </tr>\n",
       "  </tbody>\n",
       "</table>\n",
       "</div>"
      ],
      "text/plain": [
       "   Mat_A  Mat_B  Total  Sub\n",
       "0   73.4   68.7   73.4    1\n",
       "1   77.0   71.4   77.0    1\n",
       "2   73.7   69.8   73.7    1\n",
       "3   73.3   75.3   73.3    1\n",
       "4   73.1   71.3   73.1    1"
      ]
     },
     "execution_count": 16,
     "metadata": {},
     "output_type": "execute_result"
    }
   ],
   "source": [
    "df.head()"
   ]
  },
  {
   "cell_type": "code",
   "execution_count": 17,
   "id": "50dae809",
   "metadata": {},
   "outputs": [],
   "source": [
    "df = df.dropna(axis = 0)"
   ]
  },
  {
   "cell_type": "code",
   "execution_count": 18,
   "id": "d22a64d6",
   "metadata": {
    "scrolled": false
   },
   "outputs": [
    {
     "name": "stdout",
     "output_type": "stream",
     "text": [
      "Shapiro-Wilk Test : statistic=0.906264066696167, p-value=0.2563020884990692\n"
     ]
    }
   ],
   "source": [
    "data1 = df['Mat_A']\n",
    "\n",
    "#정규성 검정\n",
    "statistic, p = stats.shapiro(data1)\n",
    "print(\"Shapiro-Wilk Test : statistic={}, p-value={}\".format(statistic,p))"
   ]
  },
  {
   "cell_type": "markdown",
   "id": "613d761a",
   "metadata": {},
   "source": [
    "귀무가설 : 정규분포를 따른다.\n",
    "대립가설 : 정규분포를 따르지 않는다.\n",
    "95% 신뢰수준으로 정규성 검정 결과, p-value가 0.05보다 크기 때문에 귀무가설을 채택하고 정규분포라고 판단할 수 있다."
   ]
  },
  {
   "cell_type": "code",
   "execution_count": 19,
   "id": "980625a7",
   "metadata": {
    "scrolled": true
   },
   "outputs": [
    {
     "name": "stdout",
     "output_type": "stream",
     "text": [
      "Shapiro-Wilk Test : statistic=0.9729753732681274, p-value=0.9169775247573853\n"
     ]
    }
   ],
   "source": [
    "data2 = df['Mat_B']\n",
    "\n",
    "#정규성 검정\n",
    "statistic, p = stats.shapiro(data2)\n",
    "print(\"Shapiro-Wilk Test : statistic={}, p-value={}\".format(statistic,p))"
   ]
  },
  {
   "cell_type": "markdown",
   "id": "096fa20a",
   "metadata": {},
   "source": [
    "귀무가설 : 정규분포를 따른다.\n",
    "대립가설 : 정규분포를 따르지 않는다.\n",
    "95% 신뢰수준으로 정규성 검정 결과, p-value가 0.05보다 크기 때문에 귀무가설을 채택하고 정규분포라고 판단할 수 있다."
   ]
  },
  {
   "cell_type": "markdown",
   "id": "c78efa31",
   "metadata": {},
   "source": [
    "### p.272"
   ]
  },
  {
   "cell_type": "code",
   "execution_count": 20,
   "id": "82ec3b06",
   "metadata": {
    "scrolled": true
   },
   "outputs": [
    {
     "name": "stdout",
     "output_type": "stream",
     "text": [
      "신뢰구간 : ([17.83],[21.17])\n"
     ]
    }
   ],
   "source": [
    "df = pd.DataFrame({\"sample\":[18,18,20,21,20,23,19,18,17,21,22,20,20,21,20,19,19,18,17,19]})\n",
    "\n",
    "# 정규분포 구간 추정 함수 실행\n",
    "lower, upper = stats.norm.interval(0.95, loc = df.mean(), scale = 3.8/np.sqrt(20))\n",
    "print(\"신뢰구간 : ({0},{1})\".format(lower.round(2), upper.round(2)))"
   ]
  },
  {
   "cell_type": "markdown",
   "id": "418f673e",
   "metadata": {},
   "source": [
    "표본 평균 df.mean()을 이용해서 구한 범위(17.83 , 21.17) 내에 평균이 있을 확률이 95%이다\n",
    "\n",
    "표본크기가 20인 표본들이 반복적으로 추출되면,  (17.83 , 21.17)의 구간 안에 모평균을 포함하고 있을 확률이 95%이고,  나머지 5%는 모평균을 포함하고 있지 않은 구간을 생성한다.\n",
    "\n",
    "즉, 모평균이 어디에 위치하고있을 확률을 말하는 것이 아니라, 표본평균에서 모평균을 95%의 확률로 포함할 구간은 (17.83 , 21.17)이다."
   ]
  },
  {
   "cell_type": "markdown",
   "id": "9cba68b9",
   "metadata": {},
   "source": [
    "### p. 275"
   ]
  },
  {
   "cell_type": "code",
   "execution_count": 21,
   "id": "7e854b60",
   "metadata": {
    "scrolled": true
   },
   "outputs": [
    {
     "name": "stdout",
     "output_type": "stream",
     "text": [
      "신뢰구간 : ([70.6],[72.4])\n"
     ]
    }
   ],
   "source": [
    "df = pd.DataFrame({'Sample': [73,71,74,69,70,73,70,68,75,72,70,72,73,70,70,72,71,70,75,72]})\n",
    "\n",
    "# 정규분포 구간 추정 함수 실행\n",
    "lower, upper = stats.t.interval(0.95, len(df) - 1, loc=df.mean()[0], scale=stats.sem(df))\n",
    "print(\"신뢰구간 : ({0},{1})\".format(lower.round(2), upper.round(2)))"
   ]
  },
  {
   "cell_type": "markdown",
   "id": "1120a6cd",
   "metadata": {},
   "source": [
    "모표준편차를 모르는 경우이다. 모표준편차를 아는 경우에는 scale에 모표준편자/sqrt(개수)를 넣었지만 이번 문제는 모표준편차가 알려져 있지 않으므로 scale에 sem(standard error of mean)을 사용하였다. s/sqrt(n)\n",
    "\n",
    "결과 해석은 위와 유사한 방법으로,\n",
    "\n",
    "표본 평균 df.mean()을 이용해서 구한 범위(70.6 , 72.4) 내에 평균이 있을 확률이 95%이다\n",
    "\n",
    "표본크기가 20인 표본들이 반복적으로 추출되면,  (70.6 , 72.4)의 구간 안에 모평균을 포함하고 있을 확률이 95%이고,  나머지 5%는 모평균을 포함하고 있지 않은 구간을 생성한다.\n",
    "\n",
    "즉, 모평균이 어디에 위치하고있을 확률을 말하는 것이 아니라, 표본평균에서 모평균을 95%의 확률로 포함할 구간은 (70.6 , 72.4)이다."
   ]
  },
  {
   "cell_type": "markdown",
   "id": "5b65ca1e",
   "metadata": {},
   "source": [
    "### p.301"
   ]
  },
  {
   "cell_type": "code",
   "execution_count": 22,
   "id": "92914e4a",
   "metadata": {},
   "outputs": [
    {
     "data": {
      "text/plain": [
       "<Axes: >"
      ]
     },
     "execution_count": 22,
     "metadata": {},
     "output_type": "execute_result"
    },
    {
     "data": {
      "image/png": "[encoded data removed]",
      "text/plain": [
       "<Figure size 640x480 with 1 Axes>"
      ]
     },
     "metadata": {},
     "output_type": "display_data"
    }
   ],
   "source": [
    "df = pd.DataFrame({'sample': [85.0, 79.0, 79.1, 79.9, 81.6,\n",
    "                             78.6, 85.4,83.4,79.2]})\n",
    "\n",
    "df.boxplot(['sample'])"
   ]
  },
  {
   "cell_type": "code",
   "execution_count": 23,
   "id": "6af38785",
   "metadata": {},
   "outputs": [
    {
     "name": "stdout",
     "output_type": "stream",
     "text": [
      "1-Sample t-test\n",
      " t통계량 : [3.591]\n",
      " p-value : [0.007]\n"
     ]
    }
   ],
   "source": [
    "# 1-sample t-test\n",
    "t_result = stats.ttest_1samp(df,78.0)\n",
    "\n",
    "# 1-sample t-test의 t값, p값 저장\n",
    "t, p = t_result.statistic.round(3), t_result.pvalue.round(3)\n",
    "\n",
    "# 1-sample t-test의 t값 p값 출력\n",
    "print(\"1-Sample t-test\")\n",
    "print(\" t통계량 : {}\".format(t))\n",
    "print(\" p-value : {}\".format(p))"
   ]
  },
  {
   "cell_type": "markdown",
   "id": "db069074",
   "metadata": {},
   "source": [
    "1-sample t_test는 단일집단에 대한 모평균의 검정, 단일 집단의 평균이 기존에 주장하는 평균과 다른지에 대한 검정을 한다. \n",
    "\n",
    "유의수준 5%에서 검정결과 p값이 0.007이므로 개선활동이 만족도를 변화시켰다고 할 수 있다. p값이 작으면 우연수준 차이가 아니라 실제 차이가 있다고 결론내릴 수 있기 때문이다. \n"
   ]
  },
  {
   "cell_type": "markdown",
   "id": "41c65ba6",
   "metadata": {},
   "source": [
    "### p.303"
   ]
  },
  {
   "cell_type": "code",
   "execution_count": 24,
   "id": "78005863",
   "metadata": {},
   "outputs": [],
   "source": [
    "df = pd.DataFrame({'A': [1.883, 1.715, 1.799, 1.768, 1.711, 1.832, 1.427, 1.344],\n",
    "                  'B' : [1.435, 1.572, 1.486, 1.511, 1.457, 1.548, 1.404, 1.883]})"
   ]
  },
  {
   "cell_type": "code",
   "execution_count": 25,
   "id": "2c4ee539",
   "metadata": {},
   "outputs": [
    {
     "data": {
      "image/png": "[encoded data removed]",
      "text/plain": [
       "<Figure size 640x480 with 1 Axes>"
      ]
     },
     "metadata": {},
     "output_type": "display_data"
    }
   ],
   "source": [
    "df.boxplot(['A','B'])\n",
    "plt.show()"
   ]
  },
  {
   "cell_type": "code",
   "execution_count": 26,
   "id": "7b464849",
   "metadata": {
    "scrolled": false
   },
   "outputs": [
    {
     "name": "stdout",
     "output_type": "stream",
     "text": [
      "Shapiro-Wilk Test : statistic=0.8425754904747009, p-value=0.08004532009363174\n",
      "Shapiro-Wilk Test : statistic=0.7734811902046204, p-value=0.014793740585446358\n"
     ]
    }
   ],
   "source": [
    "#'A','B' 정규성 검정 : Shapiro-Wilk Test\n",
    "\n",
    "statistic, p = stats.shapiro(df['A'])\n",
    "print(\"Shapiro-Wilk Test : statistic={}, p-value={}\".format(statistic,p))\n",
    "\n",
    "statistic, p = stats.shapiro(df['B'])\n",
    "print(\"Shapiro-Wilk Test : statistic={}, p-value={}\".format(statistic,p))"
   ]
  },
  {
   "cell_type": "markdown",
   "id": "f4254eef",
   "metadata": {},
   "source": [
    "두 집단에 대한 평균 차이를 검정하려고 할 때 2 sample t_test를 한다. \n",
    "\n",
    " Shapiro-Wilk 테스트의 귀무가설 :  데이터가 정규분포를 따른다\n",
    " \n",
    " 대립가설은:데이터가 정규분포를 따르지 않는다\n",
    "\n",
    "A집단은 p-value가 0.08으로 귀무가설을 기각할 증거가 부족하므로 귀무가설을 채택할 수 있다. \n",
    "\n",
    "B집단은 p-value가 0.01으로 귀무가설을 기각한다. "
   ]
  },
  {
   "cell_type": "code",
   "execution_count": 27,
   "id": "aa342a39",
   "metadata": {
    "scrolled": false
   },
   "outputs": [
    {
     "name": "stdout",
     "output_type": "stream",
     "text": [
      "LeveneResult(statistic=0.4408416728536036, pvalue=0.5175025061092301)\n"
     ]
    }
   ],
   "source": [
    "# 등분산성 검정\n",
    "print(stats.levene(df['A'],df['B']))"
   ]
  },
  {
   "cell_type": "markdown",
   "id": "b84aee42",
   "metadata": {},
   "source": [
    "두 집단을 검정하기 때문에 두 집단 간의 분산이 동일한지 먼저 확인해야 한다.만\n",
    "\n",
    "두 집단이 모두 정규분포를 따른 다면 bartlett's test로 등분산성을 검정하겠지만, 이 경우 B집단이 정규분포를 따르지 않으므로 levene's test로 등분산성을 검정한다.\n",
    "\n",
    "귀무가설 : 등분산성이다 /  대립가설 : 등분산성이 아니다\n",
    "\n",
    "p-value가 약 0.5이기 때문에 크므로 귀무가설을 채택할 수 있다. \n",
    "\n",
    "따라서 두 집단은 등분산성이라고 할 수 있다."
   ]
  },
  {
   "cell_type": "code",
   "execution_count": 28,
   "id": "6c3690e7",
   "metadata": {
    "scrolled": true
   },
   "outputs": [
    {
     "name": "stdout",
     "output_type": "stream",
     "text": [
      "2-sample t-test\n",
      " t :1.7\n",
      " p :0.111\n"
     ]
    }
   ],
   "source": [
    "# 2-sample t-test\n",
    "t_result = stats.ttest_ind(df['A'], df['B'])\n",
    "\n",
    "# 2-sample t-test의 t값 p값 저장\n",
    "t, p = t_result.statistic.round(3), t_result.pvalue.round(3)\n",
    "\n",
    "# 2-sample t-test의 t값, p값 출력\n",
    "print('2-sample t-test')\n",
    "print(\" t :{}\".format(t))\n",
    "print(\" p :{}\".format(p))"
   ]
  },
  {
   "cell_type": "markdown",
   "id": "d5723ed7",
   "metadata": {},
   "source": [
    "두 집단이 등분산성이므로 student's T test를 시행한다.\n",
    "귀무가설 : 두 집단의 모평균 간 차이가 없다.\n",
    "대립가설 : 두 집단의 모평균 간 차이가 있다.\n",
    "유의수준 5%에서 검정결과 p값이 0.111이므로 귀무가설을 채택하여, 공급자 간에 모평균에 차이가 있다고 할 수 없다. p값이 크면 실제 차이가 없다고 결론내릴 수 있기 때문이다."
   ]
  },
  {
   "cell_type": "markdown",
   "id": "c22d2351",
   "metadata": {},
   "source": [
    "### p.307"
   ]
  },
  {
   "cell_type": "code",
   "execution_count": 29,
   "id": "1112ae63",
   "metadata": {},
   "outputs": [
    {
     "name": "stdout",
     "output_type": "stream",
     "text": [
      "paired t-test\n",
      " t :[-2.266]\n",
      " p :[0.05]\n"
     ]
    }
   ],
   "source": [
    "df1 = pd.DataFrame({'before': [720,589,780,648,720,589,780,648,780,648]})\n",
    "df2 = pd.DataFrame({'after' : [710,580,787,712,750,600,782,670,790,680]})\n",
    "\n",
    "# paired t-test\n",
    "t_result = stats.ttest_rel(df1, df2)\n",
    "\n",
    "# paired t-test의 p값, t값 저장\n",
    "t, p = t_result.statistic.round(3), t_result.pvalue.round(3)\n",
    "\n",
    "#paired t-test의 t-값, p값 출력\n",
    "print('paired t-test')\n",
    "print(\" t :{}\".format(t))\n",
    "print(\" p :{}\".format(p))"
   ]
  },
  {
   "cell_type": "markdown",
   "id": "07b195e8",
   "metadata": {},
   "source": [
    "귀무가설 : 학원가기전과 후의 차이가 없다\n",
    "\n",
    "대립가설 : 학원가기전과 후의 차이가 있다\n",
    "\n",
    "유의 수준 5%에서 검정결과 p값이 0.05이기 때문에 귀무가설을 기각해야 한다. 따라서 학원가기 전과 후의 차이가 있다고 할 수 있다. "
   ]
  },
  {
   "cell_type": "markdown",
   "id": "f37245a9",
   "metadata": {},
   "source": [
    "### p.311"
   ]
  },
  {
   "cell_type": "code",
   "execution_count": 30,
   "id": "4156606a",
   "metadata": {},
   "outputs": [
    {
     "name": "stdout",
     "output_type": "stream",
     "text": [
      "proportion t-test\n",
      " t :-2.0412414523193148\n",
      " p :0.0412268333371637\n"
     ]
    }
   ],
   "source": [
    "# 변수 선언\n",
    "count = 40\n",
    "n_obs = 100\n",
    "value = 0.5\n",
    "\n",
    "# proportion test 실행\n",
    "stat, pval = proportions_ztest(count, n_obs, value)\n",
    "\n",
    "# proportion test의 t-값, p값 출력\n",
    "print('proportion t-test')\n",
    "print(\" t :{}\".format(stat))\n",
    "print(\" p :{}\".format(pval))"
   ]
  },
  {
   "cell_type": "markdown",
   "id": "45bf1484",
   "metadata": {},
   "source": [
    "귀무가설 : 이 동전은 정상이다 p = 0.5\n",
    "\n",
    "대립가설 : 이 동전은 비정상이다 p != 0.5\n",
    "\n",
    "유의 수준 5%에서 검정결과 p값이 0.04이기 때문에 귀무가설을 기각해야 한다. 따라서 이 동전은 비정상이라고 할 수 있다.\n"
   ]
  },
  {
   "cell_type": "markdown",
   "id": "108a0f81",
   "metadata": {},
   "source": [
    "### p.315"
   ]
  },
  {
   "cell_type": "code",
   "execution_count": 31,
   "id": "e258714e",
   "metadata": {},
   "outputs": [
    {
     "name": "stdout",
     "output_type": "stream",
     "text": [
      "2 proportion test\n",
      " z : 2.073\n",
      " p : 0.038\n"
     ]
    }
   ],
   "source": [
    "# 변수 선언\n",
    "count = np.array([14, 5])\n",
    "nobs = np.array([1200, 1200])\n",
    "\n",
    "# proportion test 실행\n",
    "stat, pval = proportions_ztest(count, nobs)\n",
    "\n",
    "# proportion test 결과 출력\n",
    "print(\"2 proportion test\")\n",
    "print(\" z : {0:0.3f}\".format(stat))\n",
    "print(\" p : {0:0.3f}\".format(pval))"
   ]
  },
  {
   "cell_type": "markdown",
   "id": "1b20d038",
   "metadata": {},
   "source": [
    "h0 : p1 = p2 두 공장의 불량률은 같다\n",
    "\n",
    "h1 : p1 != p2 두 공장의 불량률은 같지 않다.\n",
    "\n",
    "p-value가 0.05보다 작으므로 귀무가설을 기각할 수 있다. \n",
    "\n",
    "귀무가설을 기각하고 대립가설을 채택하면 결국 두 공장의 불량률은 같지 않다. \n",
    "\n",
    "즉, 두 공장의 불량률에는 유의미한 차이가 있다라고 결론내릴 수 있다."
   ]
  },
  {
   "cell_type": "markdown",
   "id": "185c6f94",
   "metadata": {},
   "source": [
    "### p.323"
   ]
  },
  {
   "cell_type": "code",
   "execution_count": 32,
   "id": "81994c44",
   "metadata": {},
   "outputs": [],
   "source": [
    "df = pd.read_csv(\"/home/piai/다운로드/통계data/카이제곱_노트북.csv\", encoding = 'euc-kr')"
   ]
  },
  {
   "cell_type": "code",
   "execution_count": 33,
   "id": "079a9ded",
   "metadata": {},
   "outputs": [
    {
     "data": {
      "text/html": [
       "<div>\n",
       "<style scoped>\n",
       "    .dataframe tbody tr th:only-of-type {\n",
       "        vertical-align: middle;\n",
       "    }\n",
       "\n",
       "    .dataframe tbody tr th {\n",
       "        vertical-align: top;\n",
       "    }\n",
       "\n",
       "    .dataframe thead th {\n",
       "        text-align: right;\n",
       "    }\n",
       "</style>\n",
       "<table border=\"1\" class=\"dataframe\">\n",
       "  <thead>\n",
       "    <tr style=\"text-align: right;\">\n",
       "      <th></th>\n",
       "      <th>A</th>\n",
       "      <th>B</th>\n",
       "      <th>C</th>\n",
       "      <th>D</th>\n",
       "      <th>E</th>\n",
       "      <th>F</th>\n",
       "    </tr>\n",
       "  </thead>\n",
       "  <tbody>\n",
       "    <tr>\n",
       "      <th>0</th>\n",
       "      <td>18</td>\n",
       "      <td>8</td>\n",
       "      <td>4</td>\n",
       "      <td>4</td>\n",
       "      <td>3</td>\n",
       "      <td>3</td>\n",
       "    </tr>\n",
       "    <tr>\n",
       "      <th>1</th>\n",
       "      <td>2</td>\n",
       "      <td>2</td>\n",
       "      <td>1</td>\n",
       "      <td>1</td>\n",
       "      <td>1</td>\n",
       "      <td>25</td>\n",
       "    </tr>\n",
       "    <tr>\n",
       "      <th>2</th>\n",
       "      <td>14</td>\n",
       "      <td>14</td>\n",
       "      <td>3</td>\n",
       "      <td>2</td>\n",
       "      <td>3</td>\n",
       "      <td>8</td>\n",
       "    </tr>\n",
       "    <tr>\n",
       "      <th>3</th>\n",
       "      <td>5</td>\n",
       "      <td>5</td>\n",
       "      <td>4</td>\n",
       "      <td>3</td>\n",
       "      <td>1</td>\n",
       "      <td>10</td>\n",
       "    </tr>\n",
       "    <tr>\n",
       "      <th>4</th>\n",
       "      <td>5</td>\n",
       "      <td>5</td>\n",
       "      <td>9</td>\n",
       "      <td>2</td>\n",
       "      <td>1</td>\n",
       "      <td>2</td>\n",
       "    </tr>\n",
       "  </tbody>\n",
       "</table>\n",
       "</div>"
      ],
      "text/plain": [
       "    A   B  C  D  E   F\n",
       "0  18   8  4  4  3   3\n",
       "1   2   2  1  1  1  25\n",
       "2  14  14  3  2  3   8\n",
       "3   5   5  4  3  1  10\n",
       "4   5   5  9  2  1   2"
      ]
     },
     "execution_count": 33,
     "metadata": {},
     "output_type": "execute_result"
    }
   ],
   "source": [
    "df.head()"
   ]
  },
  {
   "cell_type": "code",
   "execution_count": 34,
   "id": "624257d4",
   "metadata": {},
   "outputs": [
    {
     "name": "stdout",
     "output_type": "stream",
     "text": [
      "chi-square test\n",
      "chisq :95.759\n",
      "p :0.000\n",
      "degree of freedom : 30\n",
      "expected value : \n",
      "[[10.22421525  8.43049327  5.38116592  3.94618834  1.97309417 10.04484305]\n",
      " [ 8.1793722   6.74439462  4.30493274  3.15695067  1.57847534  8.03587444]\n",
      " [11.24663677  9.2735426   5.91928251  4.34080717  2.17040359 11.04932735]\n",
      " [ 7.15695067  5.90134529  3.76681614  2.76233184  1.38116592  7.03139013]\n",
      " [ 6.13452915  5.05829596  3.22869955  2.367713    1.1838565   6.02690583]\n",
      " [ 8.1793722   6.74439462  4.30493274  3.15695067  1.57847534  8.03587444]\n",
      " [ 5.87892377  4.84753363  3.0941704   2.2690583   1.13452915  5.77578475]]\n"
     ]
    }
   ],
   "source": [
    "# chi-squre test 실행\n",
    "chi, pval, dof, expected = stats.chi2_contingency(df)\n",
    "\n",
    "\n",
    "# chi-squre test 결과 출력\n",
    "print(\"chi-square test\")\n",
    "print(\"chisq :{0:0.3f}\".format(chi))\n",
    "print(\"p :{0:0.3f}\".format(pval))\n",
    "print(\"degree of freedom : {}\".format(dof))\n",
    "print(\"expected value : \\n{}\".format(expected))"
   ]
  },
  {
   "cell_type": "markdown",
   "id": "7e40a1a4",
   "metadata": {},
   "source": [
    "h0 : 각 제품에 대해 이미지에 대해 차이가 없다(=같다)\n",
    "\n",
    "h1 : 각 제품에 대해 이미지에 대해 차이가 있다.\n",
    "\n",
    "p-value가 0.000이므로 귀무가설을 기각하고 대립가설을 채택한다. 유의수준 5%에서 각 제품에 대해 이미지에 대해 차이가 있다고 할 수 있다. "
   ]
  },
  {
   "cell_type": "code",
   "execution_count": 35,
   "id": "9ae4a50e",
   "metadata": {},
   "outputs": [
    {
     "name": "stdout",
     "output_type": "stream",
     "text": [
      "임게치 : 43.773\n"
     ]
    }
   ],
   "source": [
    "alpha = 0.05\n",
    "critical_value = stats.chi2.ppf(q=1-alpha, df=dof)\n",
    "print(\"임게치 :\", critical_value.round(3))"
   ]
  },
  {
   "cell_type": "markdown",
   "id": "b4625cf7",
   "metadata": {},
   "source": [
    "위에서 카이제곱검정통계량은 chisq :95.759이 나왔다.\n",
    "\n",
    "chisq 95.759 > 임계치 43.773 \n",
    "\n",
    "카이제곱 검정통계량이 크다는 것은 실측치 대비 기대치의 차이가 크다는 것을 의미함으로 귀무가설을 기각하게 된다. "
   ]
  },
  {
   "cell_type": "markdown",
   "id": "6c9e1440",
   "metadata": {},
   "source": [
    "### p.329"
   ]
  },
  {
   "cell_type": "code",
   "execution_count": 36,
   "id": "d4ff1328",
   "metadata": {},
   "outputs": [],
   "source": [
    "df = pd.read_csv(\"/home/piai/문서/1 Big Data 분석 기초/ANOVA.csv\", encoding = 'euc-kr')"
   ]
  },
  {
   "cell_type": "code",
   "execution_count": 37,
   "id": "185f45cc",
   "metadata": {},
   "outputs": [
    {
     "data": {
      "text/html": [
       "<div>\n",
       "<style scoped>\n",
       "    .dataframe tbody tr th:only-of-type {\n",
       "        vertical-align: middle;\n",
       "    }\n",
       "\n",
       "    .dataframe tbody tr th {\n",
       "        vertical-align: top;\n",
       "    }\n",
       "\n",
       "    .dataframe thead th {\n",
       "        text-align: right;\n",
       "    }\n",
       "</style>\n",
       "<table border=\"1\" class=\"dataframe\">\n",
       "  <thead>\n",
       "    <tr style=\"text-align: right;\">\n",
       "      <th></th>\n",
       "      <th>time</th>\n",
       "      <th>charge</th>\n",
       "      <th>gangjong</th>\n",
       "      <th>type</th>\n",
       "    </tr>\n",
       "  </thead>\n",
       "  <tbody>\n",
       "    <tr>\n",
       "      <th>0</th>\n",
       "      <td>32.2</td>\n",
       "      <td>A</td>\n",
       "      <td>a</td>\n",
       "      <td>a</td>\n",
       "    </tr>\n",
       "    <tr>\n",
       "      <th>1</th>\n",
       "      <td>30.4</td>\n",
       "      <td>B</td>\n",
       "      <td>a</td>\n",
       "      <td>a</td>\n",
       "    </tr>\n",
       "    <tr>\n",
       "      <th>2</th>\n",
       "      <td>33.6</td>\n",
       "      <td>C</td>\n",
       "      <td>a</td>\n",
       "      <td>a</td>\n",
       "    </tr>\n",
       "    <tr>\n",
       "      <th>3</th>\n",
       "      <td>36.4</td>\n",
       "      <td>D</td>\n",
       "      <td>a</td>\n",
       "      <td>a</td>\n",
       "    </tr>\n",
       "    <tr>\n",
       "      <th>4</th>\n",
       "      <td>33.9</td>\n",
       "      <td>E</td>\n",
       "      <td>a</td>\n",
       "      <td>a</td>\n",
       "    </tr>\n",
       "  </tbody>\n",
       "</table>\n",
       "</div>"
      ],
      "text/plain": [
       "   time charge gangjong type\n",
       "0  32.2      A        a    a\n",
       "1  30.4      B        a    a\n",
       "2  33.6      C        a    a\n",
       "3  36.4      D        a    a\n",
       "4  33.9      E        a    a"
      ]
     },
     "execution_count": 37,
     "metadata": {},
     "output_type": "execute_result"
    }
   ],
   "source": [
    "df.head()"
   ]
  },
  {
   "cell_type": "markdown",
   "id": "1d237758",
   "metadata": {},
   "source": [
    "#### 강종 별로 2차 정련시간의 차이가 있는지"
   ]
  },
  {
   "cell_type": "code",
   "execution_count": 38,
   "id": "3c525622",
   "metadata": {
    "scrolled": true
   },
   "outputs": [
    {
     "data": {
      "text/html": [
       "<div>\n",
       "<style scoped>\n",
       "    .dataframe tbody tr th:only-of-type {\n",
       "        vertical-align: middle;\n",
       "    }\n",
       "\n",
       "    .dataframe tbody tr th {\n",
       "        vertical-align: top;\n",
       "    }\n",
       "\n",
       "    .dataframe thead th {\n",
       "        text-align: right;\n",
       "    }\n",
       "</style>\n",
       "<table border=\"1\" class=\"dataframe\">\n",
       "  <thead>\n",
       "    <tr style=\"text-align: right;\">\n",
       "      <th></th>\n",
       "      <th>a</th>\n",
       "      <th>b</th>\n",
       "      <th>c</th>\n",
       "      <th>d</th>\n",
       "    </tr>\n",
       "  </thead>\n",
       "  <tbody>\n",
       "    <tr>\n",
       "      <th>0</th>\n",
       "      <td>32.2</td>\n",
       "      <td>33.1</td>\n",
       "      <td>32.6</td>\n",
       "      <td>26.7</td>\n",
       "    </tr>\n",
       "    <tr>\n",
       "      <th>1</th>\n",
       "      <td>30.4</td>\n",
       "      <td>29.9</td>\n",
       "      <td>32.7</td>\n",
       "      <td>28.5</td>\n",
       "    </tr>\n",
       "    <tr>\n",
       "      <th>2</th>\n",
       "      <td>33.6</td>\n",
       "      <td>31.7</td>\n",
       "      <td>29.3</td>\n",
       "      <td>30.9</td>\n",
       "    </tr>\n",
       "    <tr>\n",
       "      <th>3</th>\n",
       "      <td>36.4</td>\n",
       "      <td>27.5</td>\n",
       "      <td>25.9</td>\n",
       "      <td>26.2</td>\n",
       "    </tr>\n",
       "    <tr>\n",
       "      <th>4</th>\n",
       "      <td>33.9</td>\n",
       "      <td>34.0</td>\n",
       "      <td>31.1</td>\n",
       "      <td>32.3</td>\n",
       "    </tr>\n",
       "    <tr>\n",
       "      <th>5</th>\n",
       "      <td>34.9</td>\n",
       "      <td>30.7</td>\n",
       "      <td>23.8</td>\n",
       "      <td>23.7</td>\n",
       "    </tr>\n",
       "  </tbody>\n",
       "</table>\n",
       "</div>"
      ],
      "text/plain": [
       "      a     b     c     d\n",
       "0  32.2  33.1  32.6  26.7\n",
       "1  30.4  29.9  32.7  28.5\n",
       "2  33.6  31.7  29.3  30.9\n",
       "3  36.4  27.5  25.9  26.2\n",
       "4  33.9  34.0  31.1  32.3\n",
       "5  34.9  30.7  23.8  23.7"
      ]
     },
     "execution_count": 38,
     "metadata": {},
     "output_type": "execute_result"
    }
   ],
   "source": [
    "# 강종 별로 시간 추출\n",
    "df_time_by_gangjong = df.groupby('gangjong')['time'].apply(list).apply(pd.Series).reset_index()\n",
    "df_1 = df_time_by_gangjong.T\n",
    "df_1.drop('gangjong', axis = 0, inplace = True)\n",
    "df_1.columns = ['a', 'b', 'c', 'd']\n",
    "df_1"
   ]
  },
  {
   "cell_type": "code",
   "execution_count": 39,
   "id": "67989ad6",
   "metadata": {},
   "outputs": [
    {
     "name": "stdout",
     "output_type": "stream",
     "text": [
      "Shapiro-Wilk Test : statistic=0.9879403114318848, p-value=0.983557939529419\n",
      "Shapiro-Wilk Test : statistic=0.9769707918167114, p-value=0.9355478286743164\n",
      "Shapiro-Wilk Test : statistic=0.8929420113563538, p-value=0.3338908553123474\n",
      "Shapiro-Wilk Test : statistic=0.9713904857635498, p-value=0.901641845703125\n"
     ]
    }
   ],
   "source": [
    "# a, b, c, d 강종의 정규성 검정\n",
    "statistic, p = stats.shapiro(df_1['a'])\n",
    "print(\"Shapiro-Wilk Test : statistic={}, p-value={}\".format(statistic,p))\n",
    "\n",
    "statistic, p = stats.shapiro(df_1['b'])\n",
    "print(\"Shapiro-Wilk Test : statistic={}, p-value={}\".format(statistic,p))\n",
    "\n",
    "statistic, p = stats.shapiro(df_1['c'])\n",
    "print(\"Shapiro-Wilk Test : statistic={}, p-value={}\".format(statistic,p))\n",
    "\n",
    "statistic, p = stats.shapiro(df_1['d'])\n",
    "print(\"Shapiro-Wilk Test : statistic={}, p-value={}\".format(statistic,p))"
   ]
  },
  {
   "cell_type": "markdown",
   "id": "4c1a9e17",
   "metadata": {},
   "source": [
    "Shapiro-Wilk 테스트의 귀무가설 : 데이터가 정규분포를 따른다\n",
    "\n",
    "대립가설은:데이터가 정규분포를 따르지 않는다\n",
    "\n",
    "95% 신뢰수준으로 정규성 검정 결과, \n",
    "\n",
    "a, b, c, d 모두 p-value가 0.05보다 크기 때문에 귀무가설을 채택하고 정규분포라고 판단할 수 있다.\n"
   ]
  },
  {
   "cell_type": "code",
   "execution_count": 40,
   "id": "ca503f63",
   "metadata": {
    "scrolled": true
   },
   "outputs": [
    {
     "name": "stdout",
     "output_type": "stream",
     "text": [
      "BartlettResult(statistic=1.7392223273800593, pvalue=0.4191144844976227) 0    26.7\n",
      "1    28.5\n",
      "2    30.9\n",
      "3    26.2\n",
      "4    32.3\n",
      "5    23.7\n",
      "Name: d, dtype: object\n"
     ]
    }
   ],
   "source": [
    "# a, b, c, d 등분산성 검정 \n",
    "print(stats.bartlett(df_1['a'],df_1['b'],df_1['c']),df_1['d'])"
   ]
  },
  {
   "cell_type": "markdown",
   "id": "95bda89a",
   "metadata": {},
   "source": [
    " 정규분포라고 판단되므로 bartlett test를 시행할 수 있다\n",
    " \n",
    " bartlett test의 귀무가설은 모든 데이터셋이 등분산성이다.\n",
    " \n",
    " 대립가설은 등분산성이 아니다.\n",
    " \n",
    " p-value가 0.05보다 크기 때문에 귀무가설을 채택하고 a, b, c, d는 등분산성라고 판단할 수 있다."
   ]
  },
  {
   "cell_type": "code",
   "execution_count": 41,
   "id": "3f45723a",
   "metadata": {
    "scrolled": true
   },
   "outputs": [
    {
     "name": "stdout",
     "output_type": "stream",
     "text": [
      "one-way\n",
      " F 통계량 :  4.172\n",
      " p-value :  0.019\n"
     ]
    }
   ],
   "source": [
    "# anova 실행\n",
    "result = stats.f_oneway(df_1['a'],df_1['b'],df_1['c'],df_1['d'])\n",
    "\n",
    "# anova f값 p값 저장\n",
    "f, p = result.statistic.round(3), result.pvalue.round(3)\n",
    "\n",
    "# anova f값 p값 출력\n",
    "print(\"one-way\")\n",
    "print(\" F 통계량 : \", f)\n",
    "print(\" p-value : \", p)"
   ]
  },
  {
   "cell_type": "markdown",
   "id": "fb50a798",
   "metadata": {},
   "source": [
    "h0 = 강종별로 2차 정련시간의 차이가 없다. (모두 동일하다)\n",
    "h1 = 강종별로 2차 정련시간의 차이가 있다.\n",
    "유의수준 5%에서 검정결과 p값이 0.019이므로 그룹 간의 평균 차이가 있다고 할 수 있다."
   ]
  },
  {
   "cell_type": "markdown",
   "id": "50568db3",
   "metadata": {},
   "source": [
    "#### type 별로 2차 정련시간의 차이가 있는지"
   ]
  },
  {
   "cell_type": "code",
   "execution_count": 42,
   "id": "4b40aae3",
   "metadata": {},
   "outputs": [
    {
     "data": {
      "text/plain": [
       "Index(['time', 'charge', 'gangjong', 'type'], dtype='object')"
      ]
     },
     "execution_count": 42,
     "metadata": {},
     "output_type": "execute_result"
    }
   ],
   "source": [
    "df.columns"
   ]
  },
  {
   "cell_type": "code",
   "execution_count": 43,
   "id": "dbf355c0",
   "metadata": {},
   "outputs": [
    {
     "data": {
      "text/html": [
       "<div>\n",
       "<style scoped>\n",
       "    .dataframe tbody tr th:only-of-type {\n",
       "        vertical-align: middle;\n",
       "    }\n",
       "\n",
       "    .dataframe tbody tr th {\n",
       "        vertical-align: top;\n",
       "    }\n",
       "\n",
       "    .dataframe thead th {\n",
       "        text-align: right;\n",
       "    }\n",
       "</style>\n",
       "<table border=\"1\" class=\"dataframe\">\n",
       "  <thead>\n",
       "    <tr style=\"text-align: right;\">\n",
       "      <th></th>\n",
       "      <th>a</th>\n",
       "      <th>b</th>\n",
       "    </tr>\n",
       "  </thead>\n",
       "  <tbody>\n",
       "    <tr>\n",
       "      <th>0</th>\n",
       "      <td>32.2</td>\n",
       "      <td>32.6</td>\n",
       "    </tr>\n",
       "    <tr>\n",
       "      <th>1</th>\n",
       "      <td>30.4</td>\n",
       "      <td>32.7</td>\n",
       "    </tr>\n",
       "    <tr>\n",
       "      <th>2</th>\n",
       "      <td>33.6</td>\n",
       "      <td>29.3</td>\n",
       "    </tr>\n",
       "    <tr>\n",
       "      <th>3</th>\n",
       "      <td>36.4</td>\n",
       "      <td>25.9</td>\n",
       "    </tr>\n",
       "    <tr>\n",
       "      <th>4</th>\n",
       "      <td>33.9</td>\n",
       "      <td>31.1</td>\n",
       "    </tr>\n",
       "    <tr>\n",
       "      <th>5</th>\n",
       "      <td>34.9</td>\n",
       "      <td>23.8</td>\n",
       "    </tr>\n",
       "    <tr>\n",
       "      <th>6</th>\n",
       "      <td>33.1</td>\n",
       "      <td>26.7</td>\n",
       "    </tr>\n",
       "    <tr>\n",
       "      <th>7</th>\n",
       "      <td>29.9</td>\n",
       "      <td>28.5</td>\n",
       "    </tr>\n",
       "    <tr>\n",
       "      <th>8</th>\n",
       "      <td>31.7</td>\n",
       "      <td>30.9</td>\n",
       "    </tr>\n",
       "    <tr>\n",
       "      <th>9</th>\n",
       "      <td>27.5</td>\n",
       "      <td>26.2</td>\n",
       "    </tr>\n",
       "    <tr>\n",
       "      <th>10</th>\n",
       "      <td>34.0</td>\n",
       "      <td>32.3</td>\n",
       "    </tr>\n",
       "    <tr>\n",
       "      <th>11</th>\n",
       "      <td>30.7</td>\n",
       "      <td>23.7</td>\n",
       "    </tr>\n",
       "  </tbody>\n",
       "</table>\n",
       "</div>"
      ],
      "text/plain": [
       "       a     b\n",
       "0   32.2  32.6\n",
       "1   30.4  32.7\n",
       "2   33.6  29.3\n",
       "3   36.4  25.9\n",
       "4   33.9  31.1\n",
       "5   34.9  23.8\n",
       "6   33.1  26.7\n",
       "7   29.9  28.5\n",
       "8   31.7  30.9\n",
       "9   27.5  26.2\n",
       "10  34.0  32.3\n",
       "11  30.7  23.7"
      ]
     },
     "execution_count": 43,
     "metadata": {},
     "output_type": "execute_result"
    }
   ],
   "source": [
    "# type 별로 시간 추출\n",
    "df_time_by_type = df.groupby('type')['time'].apply(list).apply(pd.Series).reset_index()\n",
    "df_2 = df_time_by_type.T\n",
    "df_2.drop('type', axis = 0, inplace = True)\n",
    "df_2.columns = ['a', 'b']\n",
    "df_2"
   ]
  },
  {
   "cell_type": "code",
   "execution_count": 44,
   "id": "cb2a4400",
   "metadata": {
    "scrolled": true
   },
   "outputs": [
    {
     "name": "stdout",
     "output_type": "stream",
     "text": [
      "Shapiro-Wilk Test : statistic=0.982139527797699, p-value=0.9907686114311218\n",
      "Shapiro-Wilk Test : statistic=0.9098271131515503, p-value=0.2122616022825241\n"
     ]
    }
   ],
   "source": [
    "# a, b type의 정규성 검정\n",
    "statistic, p = stats.shapiro(df_2['a'])\n",
    "print(\"Shapiro-Wilk Test : statistic={}, p-value={}\".format(statistic,p))\n",
    "\n",
    "statistic, p = stats.shapiro(df_2['b'])\n",
    "print(\"Shapiro-Wilk Test : statistic={}, p-value={}\".format(statistic,p))"
   ]
  },
  {
   "cell_type": "markdown",
   "id": "4b06e5bd",
   "metadata": {},
   "source": [
    "대립가설은:데이터가 정규분포를 따르지 않는다\n",
    "\n",
    "95% 신뢰수준으로 정규성 검정 결과, \n",
    "\n",
    "a, b 모두 p-value가 0.05보다 크기 때문에 귀무가설을 채택하고 정규분포라고 판단할 수 있다.\n"
   ]
  },
  {
   "cell_type": "code",
   "execution_count": 45,
   "id": "8c20cd9d",
   "metadata": {},
   "outputs": [
    {
     "name": "stdout",
     "output_type": "stream",
     "text": [
      "BartlettResult(statistic=0.9529700642151171, pvalue=0.3289644435379069)\n"
     ]
    }
   ],
   "source": [
    "# a, b 등분산성 검정 \n",
    "print(stats.bartlett(df_2['a'],df_2['b']))"
   ]
  },
  {
   "cell_type": "markdown",
   "id": "11ed9bf5",
   "metadata": {},
   "source": [
    " 정규분포라고 판단되므로 bartlett test를 시행할 수 있다\n",
    " \n",
    " bartlett test의 귀무가설은 모든 데이터셋이 등분산성이다.\n",
    " \n",
    " 대립가설은 등분산성이 아니다.\n",
    " \n",
    " p-value가 0.05보다 크기 때문에 귀무가설을 채택하고 a, b는 등분산성라고 판단할 수 있다."
   ]
  },
  {
   "cell_type": "code",
   "execution_count": 46,
   "id": "c67e7d10",
   "metadata": {},
   "outputs": [
    {
     "name": "stdout",
     "output_type": "stream",
     "text": [
      "one-way\n",
      " F 통계량 :  9.654\n",
      " p-value :  0.005\n"
     ]
    }
   ],
   "source": [
    "# anova 실행\n",
    "result = stats.f_oneway(df_2['a'],df_2['b'])\n",
    "\n",
    "# anova f값 p값 저장\n",
    "f, p = result.statistic.round(3), result.pvalue.round(3)\n",
    "\n",
    "# anova f값 p값 출력\n",
    "print(\"one-way\")\n",
    "print(\" F 통계량 : \", f)\n",
    "print(\" p-value : \", p)"
   ]
  },
  {
   "cell_type": "markdown",
   "id": "f8f20aa4",
   "metadata": {},
   "source": [
    "h0 = type별로 2차 정련시간의 차이가 없다. (모두 동일하다)\n",
    "\n",
    "h1 = type별로 2차 정련시간의 차이가 있다.\n",
    "\n",
    "유의수준 5%에서 검정결과 p값이 0.005이므로 type 간의 2차 정련시간의 평균 차이가 있다고 할 수 있다."
   ]
  },
  {
   "cell_type": "markdown",
   "id": "738edbdd",
   "metadata": {},
   "source": [
    "### p.334"
   ]
  },
  {
   "cell_type": "code",
   "execution_count": 47,
   "id": "8eaae1b5",
   "metadata": {},
   "outputs": [],
   "source": [
    "df = pd.read_csv(\"/home/piai/문서/1 Big Data 분석 기초/correaltion.csv\", encoding = 'euc-kr')"
   ]
  },
  {
   "cell_type": "code",
   "execution_count": 48,
   "id": "87b1a12d",
   "metadata": {},
   "outputs": [
    {
     "data": {
      "text/plain": [
       "strength    0\n",
       "temp        0\n",
       "Quantity    0\n",
       "b_time      0\n",
       "Oven_TMP    0\n",
       "dtype: int64"
      ]
     },
     "execution_count": 48,
     "metadata": {},
     "output_type": "execute_result"
    }
   ],
   "source": [
    "df.isnull().sum()"
   ]
  },
  {
   "cell_type": "code",
   "execution_count": 49,
   "id": "ff855dc2",
   "metadata": {
    "scrolled": true
   },
   "outputs": [
    {
     "name": "stdout",
     "output_type": "stream",
     "text": [
      "Correlation analysis\n",
      " corr:-0.899\n",
      " p-value:0.000\n"
     ]
    }
   ],
   "source": [
    "df1 = df['strength']\n",
    "df2 = df['temp']\n",
    "\n",
    "# correlation analysis\n",
    "corr, pval = stats.pearsonr(df1, df2)\n",
    "\n",
    "# correlation p-value\n",
    "print(\"Correlation analysis\")\n",
    "print(\" corr:{0:0.3f}\".format(corr))\n",
    "print(\" p-value:{0:0.3f}\".format(pval))"
   ]
  },
  {
   "cell_type": "markdown",
   "id": "471a2d09",
   "metadata": {},
   "source": [
    "유의수준 5%에서 검정결과 p값이 0.000이므로 초코칩의 강도와 재료반죽온도 간에 매우 상관성이 있다고 할 수 있다.\n",
    "\n",
    "반죽온도가 낮을수록 초코칩의 강도가 강하다고 할 수 있다.\n",
    "\n",
    "단 두 변수 간의 연관된 정도를 나타낼 뿐 인과관계까지 설명해주지는 않는다. \n",
    "\n",
    "상관계수는 변수 척도의 단위에 영향을 받지 않는다"
   ]
  }
 ],
 "metadata": {
  "kernelspec": {
   "display_name": "Python 3 (ipykernel)",
   "language": "python",
   "name": "python3"
  },
  "language_info": {
   "codemirror_mode": {
    "name": "ipython",
    "version": 3
   },
   "file_extension": ".py",
   "mimetype": "text/x-python",
   "name": "python",
   "nbconvert_exporter": "python",
   "pygments_lexer": "ipython3",
   "version": "3.10.9"
  }
 },
 "nbformat": 4,
 "nbformat_minor": 5
}
