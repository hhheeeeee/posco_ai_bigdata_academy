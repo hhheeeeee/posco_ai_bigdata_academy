{
 "cells": [
  {
   "cell_type": "markdown",
   "id": "41e04001",
   "metadata": {},
   "source": [
    "# Decision Tree"
   ]
  },
  {
   "cell_type": "markdown",
   "id": "8b6d80b0",
   "metadata": {},
   "source": [
    "Q. 유방암 결과를 분류하는 의사결정나무 모델을 만들고 predict method를\n",
    "이용하여 목표변수 범주를 예측하라. 그리고 모델의 정확도와 confusion\n",
    "matrix를 구하라."
   ]
  },
  {
   "cell_type": "code",
   "execution_count": 1,
   "id": "3df5f83e",
   "metadata": {},
   "outputs": [],
   "source": [
    "%config Conpleter.use_jedi = False"
   ]
  },
  {
   "cell_type": "code",
   "execution_count": 2,
   "id": "b0e5a6ec",
   "metadata": {},
   "outputs": [],
   "source": [
    "import pandas as pd\n",
    "import matplotlib.pyplot as plt\n",
    "import matplotlib\n",
    "from sklearn.tree import export_graphviz\n",
    "import graphviz\n",
    "from sklearn.model_selection import train_test_split\n",
    "from sklearn.tree import DecisionTreeClassifier\n",
    "from sklearn.ensemble import RandomForestClassifier\n",
    "from sklearn.model_selection import GridSearchCV\n",
    "import matplotlib as mpl\n",
    "import pydotplus\n",
    "import warnings\n",
    "warnings.filterwarnings('ignore')"
   ]
  },
  {
   "cell_type": "code",
   "execution_count": 3,
   "id": "6583efe2",
   "metadata": {},
   "outputs": [],
   "source": [
    "from sklearn.metrics import confusion_matrix"
   ]
  },
  {
   "cell_type": "markdown",
   "id": "66a61c4a",
   "metadata": {},
   "source": [
    "### 데이터 구성하기"
   ]
  },
  {
   "cell_type": "code",
   "execution_count": 7,
   "id": "90c54669",
   "metadata": {},
   "outputs": [],
   "source": [
    "import os\n",
    "os.chdir(\"/home/piai/문서/2. Big Data 분석\")\n",
    "os.getcwd()\n",
    "df_raw = pd.read_csv(\"./IRIS.csv\", encoding = 'euc=kr')"
   ]
  },
  {
   "cell_type": "code",
   "execution_count": 8,
   "id": "b69d76b9",
   "metadata": {
    "scrolled": false
   },
   "outputs": [
    {
     "data": {
      "text/html": [
       "<div>\n",
       "<style scoped>\n",
       "    .dataframe tbody tr th:only-of-type {\n",
       "        vertical-align: middle;\n",
       "    }\n",
       "\n",
       "    .dataframe tbody tr th {\n",
       "        vertical-align: top;\n",
       "    }\n",
       "\n",
       "    .dataframe thead th {\n",
       "        text-align: right;\n",
       "    }\n",
       "</style>\n",
       "<table border=\"1\" class=\"dataframe\">\n",
       "  <thead>\n",
       "    <tr style=\"text-align: right;\">\n",
       "      <th></th>\n",
       "      <th>SEPAL_LENGTH</th>\n",
       "      <th>SEPAL_WIDTH</th>\n",
       "      <th>PETAL_LENGTH</th>\n",
       "      <th>PETAL_WIDTH</th>\n",
       "      <th>SPECIES</th>\n",
       "    </tr>\n",
       "  </thead>\n",
       "  <tbody>\n",
       "    <tr>\n",
       "      <th>0</th>\n",
       "      <td>5.1</td>\n",
       "      <td>3.5</td>\n",
       "      <td>1.4</td>\n",
       "      <td>0.2</td>\n",
       "      <td>setosa</td>\n",
       "    </tr>\n",
       "    <tr>\n",
       "      <th>1</th>\n",
       "      <td>4.9</td>\n",
       "      <td>3.0</td>\n",
       "      <td>1.4</td>\n",
       "      <td>0.2</td>\n",
       "      <td>setosa</td>\n",
       "    </tr>\n",
       "    <tr>\n",
       "      <th>2</th>\n",
       "      <td>4.7</td>\n",
       "      <td>3.2</td>\n",
       "      <td>1.3</td>\n",
       "      <td>0.2</td>\n",
       "      <td>setosa</td>\n",
       "    </tr>\n",
       "    <tr>\n",
       "      <th>3</th>\n",
       "      <td>4.6</td>\n",
       "      <td>3.1</td>\n",
       "      <td>1.5</td>\n",
       "      <td>0.2</td>\n",
       "      <td>setosa</td>\n",
       "    </tr>\n",
       "    <tr>\n",
       "      <th>4</th>\n",
       "      <td>5.0</td>\n",
       "      <td>3.6</td>\n",
       "      <td>1.4</td>\n",
       "      <td>0.2</td>\n",
       "      <td>setosa</td>\n",
       "    </tr>\n",
       "  </tbody>\n",
       "</table>\n",
       "</div>"
      ],
      "text/plain": [
       "   SEPAL_LENGTH  SEPAL_WIDTH  PETAL_LENGTH  PETAL_WIDTH SPECIES\n",
       "0           5.1          3.5           1.4          0.2  setosa\n",
       "1           4.9          3.0           1.4          0.2  setosa\n",
       "2           4.7          3.2           1.3          0.2  setosa\n",
       "3           4.6          3.1           1.5          0.2  setosa\n",
       "4           5.0          3.6           1.4          0.2  setosa"
      ]
     },
     "execution_count": 8,
     "metadata": {},
     "output_type": "execute_result"
    }
   ],
   "source": [
    "df_raw.head()"
   ]
  },
  {
   "cell_type": "code",
   "execution_count": 9,
   "id": "b31b0c51",
   "metadata": {},
   "outputs": [],
   "source": [
    "def diag(x):\n",
    "    if x == \"setosa\":\n",
    "        return 0\n",
    "    else:\n",
    "        return 1"
   ]
  },
  {
   "cell_type": "code",
   "execution_count": 11,
   "id": "5d1e5f15",
   "metadata": {
    "scrolled": false
   },
   "outputs": [
    {
     "data": {
      "text/html": [
       "<div>\n",
       "<style scoped>\n",
       "    .dataframe tbody tr th:only-of-type {\n",
       "        vertical-align: middle;\n",
       "    }\n",
       "\n",
       "    .dataframe tbody tr th {\n",
       "        vertical-align: top;\n",
       "    }\n",
       "\n",
       "    .dataframe thead th {\n",
       "        text-align: right;\n",
       "    }\n",
       "</style>\n",
       "<table border=\"1\" class=\"dataframe\">\n",
       "  <thead>\n",
       "    <tr style=\"text-align: right;\">\n",
       "      <th></th>\n",
       "      <th>SEPAL_LENGTH</th>\n",
       "      <th>SEPAL_WIDTH</th>\n",
       "      <th>PETAL_LENGTH</th>\n",
       "      <th>PETAL_WIDTH</th>\n",
       "      <th>SPECIES</th>\n",
       "    </tr>\n",
       "  </thead>\n",
       "  <tbody>\n",
       "    <tr>\n",
       "      <th>0</th>\n",
       "      <td>5.1</td>\n",
       "      <td>3.5</td>\n",
       "      <td>1.4</td>\n",
       "      <td>0.2</td>\n",
       "      <td>0</td>\n",
       "    </tr>\n",
       "    <tr>\n",
       "      <th>1</th>\n",
       "      <td>4.9</td>\n",
       "      <td>3.0</td>\n",
       "      <td>1.4</td>\n",
       "      <td>0.2</td>\n",
       "      <td>0</td>\n",
       "    </tr>\n",
       "    <tr>\n",
       "      <th>2</th>\n",
       "      <td>4.7</td>\n",
       "      <td>3.2</td>\n",
       "      <td>1.3</td>\n",
       "      <td>0.2</td>\n",
       "      <td>0</td>\n",
       "    </tr>\n",
       "    <tr>\n",
       "      <th>3</th>\n",
       "      <td>4.6</td>\n",
       "      <td>3.1</td>\n",
       "      <td>1.5</td>\n",
       "      <td>0.2</td>\n",
       "      <td>0</td>\n",
       "    </tr>\n",
       "    <tr>\n",
       "      <th>4</th>\n",
       "      <td>5.0</td>\n",
       "      <td>3.6</td>\n",
       "      <td>1.4</td>\n",
       "      <td>0.2</td>\n",
       "      <td>0</td>\n",
       "    </tr>\n",
       "  </tbody>\n",
       "</table>\n",
       "</div>"
      ],
      "text/plain": [
       "   SEPAL_LENGTH  SEPAL_WIDTH  PETAL_LENGTH  PETAL_WIDTH  SPECIES\n",
       "0           5.1          3.5           1.4          0.2        0\n",
       "1           4.9          3.0           1.4          0.2        0\n",
       "2           4.7          3.2           1.3          0.2        0\n",
       "3           4.6          3.1           1.5          0.2        0\n",
       "4           5.0          3.6           1.4          0.2        0"
      ]
     },
     "execution_count": 11,
     "metadata": {},
     "output_type": "execute_result"
    }
   ],
   "source": [
    "# SPECIES열이 '음성', '양성' 을 정수에 대입시켜 변환시켜준다\n",
    "df_raw['SPECIES'] = df_raw['SPECIES'].apply(diag)\n",
    "df_raw.head()"
   ]
  },
  {
   "cell_type": "code",
   "execution_count": 12,
   "id": "c94b921d",
   "metadata": {},
   "outputs": [],
   "source": [
    "def fun_data_layout(v_data):\n",
    "    print(\"Data 구조 : \", v_data.shape)\n",
    "    print()\n",
    "    \n",
    "    print('변수 : ', v_data.columns)\n",
    "    print()"
   ]
  },
  {
   "cell_type": "code",
   "execution_count": 13,
   "id": "f4851577",
   "metadata": {},
   "outputs": [
    {
     "name": "stdout",
     "output_type": "stream",
     "text": [
      "Data 구조 :  (150, 5)\n",
      "\n",
      "변수 :  Index(['SEPAL_LENGTH', 'SEPAL_WIDTH', 'PETAL_LENGTH', 'PETAL_WIDTH',\n",
      "       'SPECIES'],\n",
      "      dtype='object')\n",
      "\n"
     ]
    }
   ],
   "source": [
    "fun_data_layout(df_raw)"
   ]
  },
  {
   "cell_type": "code",
   "execution_count": 14,
   "id": "796c1c46",
   "metadata": {
    "scrolled": true
   },
   "outputs": [
    {
     "data": {
      "text/plain": [
       "1    0.666667\n",
       "0    0.333333\n",
       "Name: SPECIES, dtype: float64"
      ]
     },
     "execution_count": 14,
     "metadata": {},
     "output_type": "execute_result"
    }
   ],
   "source": [
    "# 목표변수, 설명변수 데이터 지정\n",
    "df_raw_y = df_raw[\"SPECIES\"]\n",
    "df_raw_x = df_raw.drop(\"SPECIES\",axis = 1, inplace = False)\n",
    "\n",
    "df_raw_y.value_counts(normalize=True)"
   ]
  },
  {
   "cell_type": "markdown",
   "id": "08c19ab6",
   "metadata": {},
   "source": [
    "원 데이터에서 0(음성)인 데이터가 1(양성)인 데이터에 비해서 2배 정도 많다"
   ]
  },
  {
   "cell_type": "code",
   "execution_count": 15,
   "id": "d82863ee",
   "metadata": {},
   "outputs": [
    {
     "name": "stdout",
     "output_type": "stream",
     "text": [
      "train data X size : (90, 4)\n",
      "train data Y size : (90,)\n",
      "test data X size : (60, 4)\n",
      "test data Y size : (60,)\n"
     ]
    }
   ],
   "source": [
    "#데이터는 (train(0.6) : test(0.4))의 비율로 분할\n",
    "df_train_x, df_test_x, df_train_y, df_test_y = train_test_split(df_raw_x, df_raw_y, test_size=0.4,\n",
    "                                                                random_state=1234)\n",
    "print(\"train data X size : {}\".format(df_train_x.shape))\n",
    "print(\"train data Y size : {}\".format(df_train_y.shape))\n",
    "print(\"test data X size : {}\".format(df_test_x.shape))\n",
    "print(\"test data Y size : {}\".format(df_test_y.shape))"
   ]
  },
  {
   "cell_type": "code",
   "execution_count": 16,
   "id": "30624eff",
   "metadata": {
    "scrolled": false
   },
   "outputs": [
    {
     "data": {
      "text/plain": [
       "(1    0.655556\n",
       " 0    0.344444\n",
       " Name: SPECIES, dtype: float64,\n",
       " 1    0.683333\n",
       " 0    0.316667\n",
       " Name: SPECIES, dtype: float64)"
      ]
     },
     "execution_count": 16,
     "metadata": {},
     "output_type": "execute_result"
    }
   ],
   "source": [
    "df_train_y.value_counts(normalize=True),  df_test_y.value_counts(normalize=True)"
   ]
  },
  {
   "cell_type": "markdown",
   "id": "6b444166",
   "metadata": {},
   "source": [
    "train 데이터에서는 0인 데이터와 1인 데이터가 비율이 비슷하게 있으나, test 데이터에는 0인 데이터가 훨씬 많은 것을 확인할 수 있다"
   ]
  },
  {
   "cell_type": "markdown",
   "id": "1465861e",
   "metadata": {},
   "source": [
    "## Over-sampling : SMOTE"
   ]
  },
  {
   "cell_type": "code",
   "execution_count": 17,
   "id": "a173b540",
   "metadata": {},
   "outputs": [],
   "source": [
    "from imblearn.over_sampling import SMOTE"
   ]
  },
  {
   "cell_type": "code",
   "execution_count": 18,
   "id": "5c70e411",
   "metadata": {},
   "outputs": [
    {
     "data": {
      "text/html": [
       "<div>\n",
       "<style scoped>\n",
       "    .dataframe tbody tr th:only-of-type {\n",
       "        vertical-align: middle;\n",
       "    }\n",
       "\n",
       "    .dataframe tbody tr th {\n",
       "        vertical-align: top;\n",
       "    }\n",
       "\n",
       "    .dataframe thead th {\n",
       "        text-align: right;\n",
       "    }\n",
       "</style>\n",
       "<table border=\"1\" class=\"dataframe\">\n",
       "  <thead>\n",
       "    <tr style=\"text-align: right;\">\n",
       "      <th></th>\n",
       "      <th>SEPAL_LENGTH</th>\n",
       "      <th>SEPAL_WIDTH</th>\n",
       "      <th>PETAL_LENGTH</th>\n",
       "      <th>PETAL_WIDTH</th>\n",
       "      <th>SPECIES</th>\n",
       "    </tr>\n",
       "  </thead>\n",
       "  <tbody>\n",
       "    <tr>\n",
       "      <th>0</th>\n",
       "      <td>5.1</td>\n",
       "      <td>3.5</td>\n",
       "      <td>1.4</td>\n",
       "      <td>0.2</td>\n",
       "      <td>0</td>\n",
       "    </tr>\n",
       "    <tr>\n",
       "      <th>1</th>\n",
       "      <td>4.9</td>\n",
       "      <td>3.0</td>\n",
       "      <td>1.4</td>\n",
       "      <td>0.2</td>\n",
       "      <td>0</td>\n",
       "    </tr>\n",
       "    <tr>\n",
       "      <th>2</th>\n",
       "      <td>4.7</td>\n",
       "      <td>3.2</td>\n",
       "      <td>1.3</td>\n",
       "      <td>0.2</td>\n",
       "      <td>0</td>\n",
       "    </tr>\n",
       "    <tr>\n",
       "      <th>3</th>\n",
       "      <td>4.6</td>\n",
       "      <td>3.1</td>\n",
       "      <td>1.5</td>\n",
       "      <td>0.2</td>\n",
       "      <td>0</td>\n",
       "    </tr>\n",
       "    <tr>\n",
       "      <th>4</th>\n",
       "      <td>5.0</td>\n",
       "      <td>3.6</td>\n",
       "      <td>1.4</td>\n",
       "      <td>0.2</td>\n",
       "      <td>0</td>\n",
       "    </tr>\n",
       "  </tbody>\n",
       "</table>\n",
       "</div>"
      ],
      "text/plain": [
       "   SEPAL_LENGTH  SEPAL_WIDTH  PETAL_LENGTH  PETAL_WIDTH  SPECIES\n",
       "0           5.1          3.5           1.4          0.2        0\n",
       "1           4.9          3.0           1.4          0.2        0\n",
       "2           4.7          3.2           1.3          0.2        0\n",
       "3           4.6          3.1           1.5          0.2        0\n",
       "4           5.0          3.6           1.4          0.2        0"
      ]
     },
     "execution_count": 18,
     "metadata": {},
     "output_type": "execute_result"
    }
   ],
   "source": [
    "df_raw.head(5)"
   ]
  },
  {
   "cell_type": "code",
   "execution_count": 19,
   "id": "f19a88ba",
   "metadata": {
    "scrolled": true
   },
   "outputs": [
    {
     "name": "stdout",
     "output_type": "stream",
     "text": [
      "SPECIES\n",
      "1          100\n",
      "0           50\n",
      "dtype: int64 \n",
      "\n",
      "species = 1 setosa SPECIES\n",
      "True     0.666667\n",
      "False    0.333333\n",
      "dtype: float64\n"
     ]
    }
   ],
   "source": [
    "print(df_raw.value_counts(['SPECIES']),'\\n')\n",
    "print('species = 1 setosa', df_raw.value_counts(df_raw['SPECIES'] == 1) / len(df_raw))"
   ]
  },
  {
   "cell_type": "markdown",
   "id": "78ff87b8",
   "metadata": {},
   "source": [
    "원 데이터에서 0(음성)인 데이터가 1(양성)인 데이터에 비해서 2배 정도 많다"
   ]
  },
  {
   "cell_type": "markdown",
   "id": "b931197a",
   "metadata": {},
   "source": [
    " => SPECIES = 1 양성인 데이터가 적다."
   ]
  },
  {
   "cell_type": "code",
   "execution_count": 20,
   "id": "f498873f",
   "metadata": {
    "scrolled": true
   },
   "outputs": [
    {
     "name": "stdout",
     "output_type": "stream",
     "text": [
      "over-sampling 전 : \n",
      " 1    59\n",
      "0    31\n",
      "Name: SPECIES, dtype: int64 \n",
      "\n",
      "over-sampling 후 : (118, 4)\n",
      "over-sampling 후 : (118,)\n",
      "\n",
      "over-sampling 후 1 : 59\n",
      "over-sampling 후  0 : 59\n"
     ]
    }
   ],
   "source": [
    "sm = SMOTE(sampling_strategy='auto')\n",
    "x_resampled, y_resampled = sm.fit_resample(df_train_x, df_train_y)\n",
    "\n",
    "print('over-sampling 전 : \\n', df_train_y.value_counts(), '\\n')\n",
    "print('over-sampling 후 : {}'.format(x_resampled.shape))\n",
    "print('over-sampling 후 : {}\\n'.format(y_resampled.shape))\n",
    "print('over-sampling 후 1 : {}'.format(sum(y_resampled==1)))\n",
    "print('over-sampling 후  0 : {}'.format(sum(y_resampled==0)))"
   ]
  },
  {
   "cell_type": "markdown",
   "id": "53c4eb6b",
   "metadata": {},
   "source": [
    "over -sampling을 하기 전에는 train 데이터에서 0 데이터가 1 데이터에 비해 2배 정도 높았으나 \n",
    "\n",
    "오버샘플링을 한 결과 0 데이터가 1 데이터의 비율이 동일해진 것을 확인할 수 있다"
   ]
  },
  {
   "cell_type": "code",
   "execution_count": 21,
   "id": "7824bd9e",
   "metadata": {
    "scrolled": false
   },
   "outputs": [
    {
     "name": "stdout",
     "output_type": "stream",
     "text": [
      "   SEPAL_LENGTH  SEPAL_WIDTH  PETAL_LENGTH  PETAL_WIDTH  SPECIES\n",
      "0           5.1          3.4           1.5          0.2        0\n",
      "1           7.4          2.8           6.1          1.9        1\n",
      "2           5.7          2.5           5.0          2.0        1\n",
      "3           6.5          3.2           5.1          2.0        1\n",
      "4           5.1          3.7           1.5          0.4        0\n"
     ]
    }
   ],
   "source": [
    "df_resempled = pd.concat([x_resampled, y_resampled], axis = 1)\n",
    "print(df_resempled.head())"
   ]
  },
  {
   "cell_type": "markdown",
   "id": "2d50a52f",
   "metadata": {},
   "source": [
    "=> 1의 빈도와 0의 빈도가 동일해졌다"
   ]
  },
  {
   "cell_type": "markdown",
   "id": "43e84d4a",
   "metadata": {},
   "source": [
    "### 기본 옵션으로 모델 생성"
   ]
  },
  {
   "cell_type": "code",
   "execution_count": 22,
   "id": "70e9de99",
   "metadata": {
    "scrolled": true
   },
   "outputs": [
    {
     "name": "stdout",
     "output_type": "stream",
     "text": [
      "Score on training set: 1.000\n",
      "Score on test set: 1.000\n"
     ]
    }
   ],
   "source": [
    "tree_uncustomized = DecisionTreeClassifier(random_state = 1234)\n",
    "tree_uncustomized.fit(df_train_x, df_train_y)\n",
    "\n",
    "print(\"Score on training set: {:.3f}\".format(tree_uncustomized.score(df_train_x, df_train_y)))\n",
    "print(\"Score on test set: {:.3f}\".format(tree_uncustomized.score(df_test_x, df_test_y)))"
   ]
  },
  {
   "cell_type": "markdown",
   "id": "a7cd8e0f",
   "metadata": {},
   "source": [
    "모델 설명력은 train 100%, test 88%로 모델은 train에 과대적합이다"
   ]
  },
  {
   "cell_type": "markdown",
   "id": "5b68ee11",
   "metadata": {},
   "source": [
    "### 모델 Parameter 조정"
   ]
  },
  {
   "cell_type": "markdown",
   "id": "ca264084",
   "metadata": {},
   "source": [
    "- min_sample_leaf : 잎사귀 노드의 최소 자료 수 변경에 따른 모델 성능"
   ]
  },
  {
   "cell_type": "code",
   "execution_count": 23,
   "id": "0680141c",
   "metadata": {},
   "outputs": [
    {
     "data": {
      "text/html": [
       "<div>\n",
       "<style scoped>\n",
       "    .dataframe tbody tr th:only-of-type {\n",
       "        vertical-align: middle;\n",
       "    }\n",
       "\n",
       "    .dataframe tbody tr th {\n",
       "        vertical-align: top;\n",
       "    }\n",
       "\n",
       "    .dataframe thead th {\n",
       "        text-align: right;\n",
       "    }\n",
       "</style>\n",
       "<table border=\"1\" class=\"dataframe\">\n",
       "  <thead>\n",
       "    <tr style=\"text-align: right;\">\n",
       "      <th></th>\n",
       "      <th>MinSamplesLeaf</th>\n",
       "      <th>TrainAccuracy</th>\n",
       "      <th>TestAccuracy</th>\n",
       "    </tr>\n",
       "  </thead>\n",
       "  <tbody>\n",
       "    <tr>\n",
       "      <th>0</th>\n",
       "      <td>1</td>\n",
       "      <td>1.0</td>\n",
       "      <td>1.0</td>\n",
       "    </tr>\n",
       "    <tr>\n",
       "      <th>1</th>\n",
       "      <td>2</td>\n",
       "      <td>1.0</td>\n",
       "      <td>1.0</td>\n",
       "    </tr>\n",
       "    <tr>\n",
       "      <th>2</th>\n",
       "      <td>3</td>\n",
       "      <td>1.0</td>\n",
       "      <td>1.0</td>\n",
       "    </tr>\n",
       "    <tr>\n",
       "      <th>3</th>\n",
       "      <td>4</td>\n",
       "      <td>1.0</td>\n",
       "      <td>1.0</td>\n",
       "    </tr>\n",
       "    <tr>\n",
       "      <th>4</th>\n",
       "      <td>5</td>\n",
       "      <td>1.0</td>\n",
       "      <td>1.0</td>\n",
       "    </tr>\n",
       "    <tr>\n",
       "      <th>5</th>\n",
       "      <td>6</td>\n",
       "      <td>1.0</td>\n",
       "      <td>1.0</td>\n",
       "    </tr>\n",
       "    <tr>\n",
       "      <th>6</th>\n",
       "      <td>7</td>\n",
       "      <td>1.0</td>\n",
       "      <td>1.0</td>\n",
       "    </tr>\n",
       "    <tr>\n",
       "      <th>7</th>\n",
       "      <td>8</td>\n",
       "      <td>1.0</td>\n",
       "      <td>1.0</td>\n",
       "    </tr>\n",
       "    <tr>\n",
       "      <th>8</th>\n",
       "      <td>9</td>\n",
       "      <td>1.0</td>\n",
       "      <td>1.0</td>\n",
       "    </tr>\n",
       "    <tr>\n",
       "      <th>9</th>\n",
       "      <td>10</td>\n",
       "      <td>1.0</td>\n",
       "      <td>1.0</td>\n",
       "    </tr>\n",
       "    <tr>\n",
       "      <th>10</th>\n",
       "      <td>11</td>\n",
       "      <td>1.0</td>\n",
       "      <td>1.0</td>\n",
       "    </tr>\n",
       "    <tr>\n",
       "      <th>11</th>\n",
       "      <td>12</td>\n",
       "      <td>1.0</td>\n",
       "      <td>1.0</td>\n",
       "    </tr>\n",
       "    <tr>\n",
       "      <th>12</th>\n",
       "      <td>13</td>\n",
       "      <td>1.0</td>\n",
       "      <td>1.0</td>\n",
       "    </tr>\n",
       "    <tr>\n",
       "      <th>13</th>\n",
       "      <td>14</td>\n",
       "      <td>1.0</td>\n",
       "      <td>1.0</td>\n",
       "    </tr>\n",
       "    <tr>\n",
       "      <th>14</th>\n",
       "      <td>15</td>\n",
       "      <td>1.0</td>\n",
       "      <td>1.0</td>\n",
       "    </tr>\n",
       "    <tr>\n",
       "      <th>15</th>\n",
       "      <td>16</td>\n",
       "      <td>1.0</td>\n",
       "      <td>1.0</td>\n",
       "    </tr>\n",
       "    <tr>\n",
       "      <th>16</th>\n",
       "      <td>17</td>\n",
       "      <td>1.0</td>\n",
       "      <td>1.0</td>\n",
       "    </tr>\n",
       "    <tr>\n",
       "      <th>17</th>\n",
       "      <td>18</td>\n",
       "      <td>1.0</td>\n",
       "      <td>1.0</td>\n",
       "    </tr>\n",
       "    <tr>\n",
       "      <th>18</th>\n",
       "      <td>19</td>\n",
       "      <td>1.0</td>\n",
       "      <td>1.0</td>\n",
       "    </tr>\n",
       "  </tbody>\n",
       "</table>\n",
       "</div>"
      ],
      "text/plain": [
       "    MinSamplesLeaf  TrainAccuracy  TestAccuracy\n",
       "0                1            1.0           1.0\n",
       "1                2            1.0           1.0\n",
       "2                3            1.0           1.0\n",
       "3                4            1.0           1.0\n",
       "4                5            1.0           1.0\n",
       "5                6            1.0           1.0\n",
       "6                7            1.0           1.0\n",
       "7                8            1.0           1.0\n",
       "8                9            1.0           1.0\n",
       "9               10            1.0           1.0\n",
       "10              11            1.0           1.0\n",
       "11              12            1.0           1.0\n",
       "12              13            1.0           1.0\n",
       "13              14            1.0           1.0\n",
       "14              15            1.0           1.0\n",
       "15              16            1.0           1.0\n",
       "16              17            1.0           1.0\n",
       "17              18            1.0           1.0\n",
       "18              19            1.0           1.0"
      ]
     },
     "execution_count": 23,
     "metadata": {},
     "output_type": "execute_result"
    }
   ],
   "source": [
    "train_accuracy = []\n",
    "test_accuracy = []\n",
    "\n",
    "para_leaf = [n_leaf * 1 for n_leaf in range(1,20)]\n",
    "\n",
    "for v_min_samples_leaf in para_leaf:\n",
    "    tree = DecisionTreeClassifier(random_state=1234,\n",
    "                                min_samples_leaf=v_min_samples_leaf)\n",
    "    tree.fit(df_train_x, df_train_y)\n",
    "    train_accuracy.append(tree.score(df_train_x, df_train_y))\n",
    "    test_accuracy.append(tree.score(df_test_x, df_test_y))\n",
    "    \n",
    "df_accuracy_leaf = pd.DataFrame()\n",
    "df_accuracy_leaf[\"MinSamplesLeaf\"] = para_leaf\n",
    "df_accuracy_leaf[\"TrainAccuracy\"] = train_accuracy\n",
    "df_accuracy_leaf[\"TestAccuracy\"] = test_accuracy\n",
    "\n",
    "df_accuracy_leaf.round(3)"
   ]
  },
  {
   "cell_type": "code",
   "execution_count": 24,
   "id": "362269d1",
   "metadata": {
    "scrolled": false
   },
   "outputs": [
    {
     "data": {
      "text/plain": [
       "<matplotlib.legend.Legend at 0x7fb075992260>"
      ]
     },
     "execution_count": 24,
     "metadata": {},
     "output_type": "execute_result"
    },
    {
     "data": {
      "image/png": "[encoded data removed]",
      "text/plain": [
       "<Figure size 640x480 with 1 Axes>"
      ]
     },
     "metadata": {},
     "output_type": "display_data"
    }
   ],
   "source": [
    "plt.plot(para_leaf,train_accuracy,linestyle = \"-\",label = \"Train accuracy\")\n",
    "plt.plot(para_leaf,test_accuracy,linestyle = \"--\",label = \"Test accuracy\")\n",
    "plt.legend()"
   ]
  },
  {
   "cell_type": "markdown",
   "id": "a4463bfa",
   "metadata": {},
   "source": [
    "min_sample_leaf가 증가할 때 test accuracy는 10까지는 증가하다가 그 이후는 감소한다.\n",
    "\n",
    "train accuracy는 지속적으로 감소한다.\n",
    "\n",
    "min_sample_leaf가 10일 때 test score도 높으면서 train accuracy와의 gap도 작다\n",
    "\n",
    "=> min_sample_leaf는 10으로 결정"
   ]
  },
  {
   "cell_type": "code",
   "execution_count": 25,
   "id": "af1f2134",
   "metadata": {},
   "outputs": [
    {
     "data": {
      "image/svg+xml": [
       "<?xml version=\"1.0\" encoding=\"UTF-8\" standalone=\"no\"?>\n",
       "<!DOCTYPE svg PUBLIC \"-//W3C//DTD SVG 1.1//EN\"\n",
       " \"http://www.w3.org/Graphics/SVG/1.1/DTD/svg11.dtd\">\n",
       "<!-- Generated by graphviz version 2.50.0 (0)\n",
       " -->\n",
       "<!-- Title: Tree Pages: 1 -->\n",
       "<svg width=\"270pt\" height=\"165pt\"\n",
       " viewBox=\"0.00 0.00 270.00 165.00\" xmlns=\"http://www.w3.org/2000/svg\" xmlns:xlink=\"http://www.w3.org/1999/xlink\">\n",
       "<g id=\"graph0\" class=\"graph\" transform=\"scale(1 1) rotate(0) translate(4 161)\">\n",
       "<title>Tree</title>\n",
       "<polygon fill=\"white\" stroke=\"transparent\" points=\"-4,4 -4,-161 266,-161 266,4 -4,4\"/>\n",
       "<!-- 0 -->\n",
       "<g id=\"node1\" class=\"node\">\n",
       "<title>0</title>\n",
       "<polygon fill=\"#a1d0f3\" stroke=\"black\" points=\"219.5,-157 42.5,-157 42.5,-89 219.5,-89 219.5,-157\"/>\n",
       "<text text-anchor=\"middle\" x=\"131\" y=\"-141.8\" font-family=\"Helvetica,sans-Serif\" font-size=\"14.00\">PETAL_LENGTH &lt;= 2.7</text>\n",
       "<text text-anchor=\"middle\" x=\"131\" y=\"-126.8\" font-family=\"Helvetica,sans-Serif\" font-size=\"14.00\">gini = 0.452</text>\n",
       "<text text-anchor=\"middle\" x=\"131\" y=\"-111.8\" font-family=\"Helvetica,sans-Serif\" font-size=\"14.00\">samples = 90</text>\n",
       "<text text-anchor=\"middle\" x=\"131\" y=\"-96.8\" font-family=\"Helvetica,sans-Serif\" font-size=\"14.00\">value = [31, 59]</text>\n",
       "</g>\n",
       "<!-- 1 -->\n",
       "<g id=\"node2\" class=\"node\">\n",
       "<title>1</title>\n",
       "<polygon fill=\"#e58139\" stroke=\"black\" points=\"122,-53 0,-53 0,0 122,0 122,-53\"/>\n",
       "<text text-anchor=\"middle\" x=\"61\" y=\"-37.8\" font-family=\"Helvetica,sans-Serif\" font-size=\"14.00\">gini = 0.0</text>\n",
       "<text text-anchor=\"middle\" x=\"61\" y=\"-22.8\" font-family=\"Helvetica,sans-Serif\" font-size=\"14.00\">samples = 31</text>\n",
       "<text text-anchor=\"middle\" x=\"61\" y=\"-7.8\" font-family=\"Helvetica,sans-Serif\" font-size=\"14.00\">value = [31, 0]</text>\n",
       "</g>\n",
       "<!-- 0&#45;&gt;1 -->\n",
       "<g id=\"edge1\" class=\"edge\">\n",
       "<title>0&#45;&gt;1</title>\n",
       "<path fill=\"none\" stroke=\"black\" d=\"M106.52,-88.95C99.94,-80.07 92.83,-70.46 86.21,-61.54\"/>\n",
       "<polygon fill=\"black\" stroke=\"black\" points=\"88.83,-59.19 80.06,-53.24 83.2,-63.36 88.83,-59.19\"/>\n",
       "<text text-anchor=\"middle\" x=\"76.38\" y=\"-74.26\" font-family=\"Helvetica,sans-Serif\" font-size=\"14.00\">True</text>\n",
       "</g>\n",
       "<!-- 2 -->\n",
       "<g id=\"node3\" class=\"node\">\n",
       "<title>2</title>\n",
       "<polygon fill=\"#399de5\" stroke=\"black\" points=\"262,-53 140,-53 140,0 262,0 262,-53\"/>\n",
       "<text text-anchor=\"middle\" x=\"201\" y=\"-37.8\" font-family=\"Helvetica,sans-Serif\" font-size=\"14.00\">gini = 0.0</text>\n",
       "<text text-anchor=\"middle\" x=\"201\" y=\"-22.8\" font-family=\"Helvetica,sans-Serif\" font-size=\"14.00\">samples = 59</text>\n",
       "<text text-anchor=\"middle\" x=\"201\" y=\"-7.8\" font-family=\"Helvetica,sans-Serif\" font-size=\"14.00\">value = [0, 59]</text>\n",
       "</g>\n",
       "<!-- 0&#45;&gt;2 -->\n",
       "<g id=\"edge2\" class=\"edge\">\n",
       "<title>0&#45;&gt;2</title>\n",
       "<path fill=\"none\" stroke=\"black\" d=\"M155.48,-88.95C162.06,-80.07 169.17,-70.46 175.79,-61.54\"/>\n",
       "<polygon fill=\"black\" stroke=\"black\" points=\"178.8,-63.36 181.94,-53.24 173.17,-59.19 178.8,-63.36\"/>\n",
       "<text text-anchor=\"middle\" x=\"185.62\" y=\"-74.26\" font-family=\"Helvetica,sans-Serif\" font-size=\"14.00\">False</text>\n",
       "</g>\n",
       "</g>\n",
       "</svg>\n"
      ],
      "text/plain": [
       "<graphviz.sources.Source at 0x7fb0789734f0>"
      ]
     },
     "metadata": {},
     "output_type": "display_data"
    }
   ],
   "source": [
    "v_feature_name = df_train_x.columns\n",
    "\n",
    "#노드의 최소 자료수 = 8 모델\n",
    "tree_graph = DecisionTreeClassifier(random_state = 1234, min_samples_leaf=10)\n",
    "tree_graph.fit(df_train_x, df_train_y)\n",
    "export_graphviz(tree_graph, out_file = \"tree_leaf.dot\",\n",
    "               feature_names= v_feature_name, impurity=True,filled=True)\n",
    "with open(\"tree_leaf.dot\") as f:\n",
    "    dot_graph = f.read()\n",
    "\n",
    "fixed_dot_graph = \"digraph Tree {\\nsize=\\\"10,10\\\";\\n\" + dot_graph.split('{', 1)[1]\n",
    "\n",
    "display(graphviz.Source(fixed_dot_graph))"
   ]
  },
  {
   "cell_type": "markdown",
   "id": "b0fee9ef",
   "metadata": {},
   "source": [
    "- min_sample_split : 분리 노드의 최소 자료 수 변경에 따른 모델 성능"
   ]
  },
  {
   "cell_type": "code",
   "execution_count": 26,
   "id": "ef38e1f2",
   "metadata": {},
   "outputs": [
    {
     "data": {
      "text/html": [
       "<div>\n",
       "<style scoped>\n",
       "    .dataframe tbody tr th:only-of-type {\n",
       "        vertical-align: middle;\n",
       "    }\n",
       "\n",
       "    .dataframe tbody tr th {\n",
       "        vertical-align: top;\n",
       "    }\n",
       "\n",
       "    .dataframe thead th {\n",
       "        text-align: right;\n",
       "    }\n",
       "</style>\n",
       "<table border=\"1\" class=\"dataframe\">\n",
       "  <thead>\n",
       "    <tr style=\"text-align: right;\">\n",
       "      <th></th>\n",
       "      <th>MinSamplesSplit</th>\n",
       "      <th>TrainAccuracy</th>\n",
       "      <th>TestAccuracy</th>\n",
       "    </tr>\n",
       "  </thead>\n",
       "  <tbody>\n",
       "    <tr>\n",
       "      <th>0</th>\n",
       "      <td>60</td>\n",
       "      <td>1.000</td>\n",
       "      <td>1.000</td>\n",
       "    </tr>\n",
       "    <tr>\n",
       "      <th>1</th>\n",
       "      <td>64</td>\n",
       "      <td>1.000</td>\n",
       "      <td>1.000</td>\n",
       "    </tr>\n",
       "    <tr>\n",
       "      <th>2</th>\n",
       "      <td>68</td>\n",
       "      <td>1.000</td>\n",
       "      <td>1.000</td>\n",
       "    </tr>\n",
       "    <tr>\n",
       "      <th>3</th>\n",
       "      <td>72</td>\n",
       "      <td>1.000</td>\n",
       "      <td>1.000</td>\n",
       "    </tr>\n",
       "    <tr>\n",
       "      <th>4</th>\n",
       "      <td>76</td>\n",
       "      <td>1.000</td>\n",
       "      <td>1.000</td>\n",
       "    </tr>\n",
       "    <tr>\n",
       "      <th>5</th>\n",
       "      <td>80</td>\n",
       "      <td>1.000</td>\n",
       "      <td>1.000</td>\n",
       "    </tr>\n",
       "    <tr>\n",
       "      <th>6</th>\n",
       "      <td>84</td>\n",
       "      <td>1.000</td>\n",
       "      <td>1.000</td>\n",
       "    </tr>\n",
       "    <tr>\n",
       "      <th>7</th>\n",
       "      <td>88</td>\n",
       "      <td>1.000</td>\n",
       "      <td>1.000</td>\n",
       "    </tr>\n",
       "    <tr>\n",
       "      <th>8</th>\n",
       "      <td>92</td>\n",
       "      <td>0.656</td>\n",
       "      <td>0.683</td>\n",
       "    </tr>\n",
       "    <tr>\n",
       "      <th>9</th>\n",
       "      <td>96</td>\n",
       "      <td>0.656</td>\n",
       "      <td>0.683</td>\n",
       "    </tr>\n",
       "  </tbody>\n",
       "</table>\n",
       "</div>"
      ],
      "text/plain": [
       "   MinSamplesSplit  TrainAccuracy  TestAccuracy\n",
       "0               60          1.000         1.000\n",
       "1               64          1.000         1.000\n",
       "2               68          1.000         1.000\n",
       "3               72          1.000         1.000\n",
       "4               76          1.000         1.000\n",
       "5               80          1.000         1.000\n",
       "6               84          1.000         1.000\n",
       "7               88          1.000         1.000\n",
       "8               92          0.656         0.683\n",
       "9               96          0.656         0.683"
      ]
     },
     "execution_count": 26,
     "metadata": {},
     "output_type": "execute_result"
    }
   ],
   "source": [
    "train_accuracy = []\n",
    "test_accuracy = []\n",
    "\n",
    "para_split = [n_split * 4 for n_split in range(15,25)]\n",
    "\n",
    "for v_min_samples_split in para_split:\n",
    "    tree = DecisionTreeClassifier(random_state=1234, min_samples_leaf=10,\n",
    "                                min_samples_split=v_min_samples_split)\n",
    "    tree.fit(df_train_x, df_train_y)\n",
    "    train_accuracy.append(tree.score(df_train_x, df_train_y))\n",
    "    test_accuracy.append(tree.score(df_test_x, df_test_y))\n",
    "    \n",
    "df_accuracy_split = pd.DataFrame()\n",
    "df_accuracy_split[\"MinSamplesSplit\"] = para_split\n",
    "df_accuracy_split[\"TrainAccuracy\"] = train_accuracy\n",
    "df_accuracy_split[\"TestAccuracy\"] = test_accuracy\n",
    "df_accuracy_split.round(3)"
   ]
  },
  {
   "cell_type": "code",
   "execution_count": 27,
   "id": "3933ca9f",
   "metadata": {
    "scrolled": true
   },
   "outputs": [
    {
     "data": {
      "text/plain": [
       "<matplotlib.legend.Legend at 0x7fb07587e3e0>"
      ]
     },
     "execution_count": 27,
     "metadata": {},
     "output_type": "execute_result"
    },
    {
     "data": {
      "image/png": "[encoded data removed]",
      "text/plain": [
       "<Figure size 640x480 with 1 Axes>"
      ]
     },
     "metadata": {},
     "output_type": "display_data"
    }
   ],
   "source": [
    "plt.plot(para_split,train_accuracy,linestyle = \"-\",label = \"Train accuracy\")\n",
    "plt.plot(para_split,test_accuracy,linestyle = \"--\",label = \"Test accuracy\")\n",
    "plt.legend()"
   ]
  },
  {
   "cell_type": "markdown",
   "id": "84a1e705",
   "metadata": {},
   "source": [
    "분리 노드의 최소 자료 수 => 60"
   ]
  },
  {
   "cell_type": "markdown",
   "id": "8e374c9f",
   "metadata": {},
   "source": [
    "- max_depth : 최대 깊이 변경에 따른 모델 성능"
   ]
  },
  {
   "cell_type": "code",
   "execution_count": 28,
   "id": "24106f83",
   "metadata": {},
   "outputs": [
    {
     "data": {
      "text/html": [
       "<div>\n",
       "<style scoped>\n",
       "    .dataframe tbody tr th:only-of-type {\n",
       "        vertical-align: middle;\n",
       "    }\n",
       "\n",
       "    .dataframe tbody tr th {\n",
       "        vertical-align: top;\n",
       "    }\n",
       "\n",
       "    .dataframe thead th {\n",
       "        text-align: right;\n",
       "    }\n",
       "</style>\n",
       "<table border=\"1\" class=\"dataframe\">\n",
       "  <thead>\n",
       "    <tr style=\"text-align: right;\">\n",
       "      <th></th>\n",
       "      <th>Depth</th>\n",
       "      <th>TrainAccuracy</th>\n",
       "      <th>TestAccuracy</th>\n",
       "    </tr>\n",
       "  </thead>\n",
       "  <tbody>\n",
       "    <tr>\n",
       "      <th>0</th>\n",
       "      <td>1</td>\n",
       "      <td>1.0</td>\n",
       "      <td>1.0</td>\n",
       "    </tr>\n",
       "    <tr>\n",
       "      <th>1</th>\n",
       "      <td>2</td>\n",
       "      <td>1.0</td>\n",
       "      <td>1.0</td>\n",
       "    </tr>\n",
       "    <tr>\n",
       "      <th>2</th>\n",
       "      <td>3</td>\n",
       "      <td>1.0</td>\n",
       "      <td>1.0</td>\n",
       "    </tr>\n",
       "    <tr>\n",
       "      <th>3</th>\n",
       "      <td>4</td>\n",
       "      <td>1.0</td>\n",
       "      <td>1.0</td>\n",
       "    </tr>\n",
       "    <tr>\n",
       "      <th>4</th>\n",
       "      <td>5</td>\n",
       "      <td>1.0</td>\n",
       "      <td>1.0</td>\n",
       "    </tr>\n",
       "    <tr>\n",
       "      <th>5</th>\n",
       "      <td>6</td>\n",
       "      <td>1.0</td>\n",
       "      <td>1.0</td>\n",
       "    </tr>\n",
       "    <tr>\n",
       "      <th>6</th>\n",
       "      <td>7</td>\n",
       "      <td>1.0</td>\n",
       "      <td>1.0</td>\n",
       "    </tr>\n",
       "    <tr>\n",
       "      <th>7</th>\n",
       "      <td>8</td>\n",
       "      <td>1.0</td>\n",
       "      <td>1.0</td>\n",
       "    </tr>\n",
       "    <tr>\n",
       "      <th>8</th>\n",
       "      <td>9</td>\n",
       "      <td>1.0</td>\n",
       "      <td>1.0</td>\n",
       "    </tr>\n",
       "    <tr>\n",
       "      <th>9</th>\n",
       "      <td>10</td>\n",
       "      <td>1.0</td>\n",
       "      <td>1.0</td>\n",
       "    </tr>\n",
       "  </tbody>\n",
       "</table>\n",
       "</div>"
      ],
      "text/plain": [
       "   Depth  TrainAccuracy  TestAccuracy\n",
       "0      1            1.0           1.0\n",
       "1      2            1.0           1.0\n",
       "2      3            1.0           1.0\n",
       "3      4            1.0           1.0\n",
       "4      5            1.0           1.0\n",
       "5      6            1.0           1.0\n",
       "6      7            1.0           1.0\n",
       "7      8            1.0           1.0\n",
       "8      9            1.0           1.0\n",
       "9     10            1.0           1.0"
      ]
     },
     "execution_count": 28,
     "metadata": {},
     "output_type": "execute_result"
    }
   ],
   "source": [
    "train_accuracy = []\n",
    "test_accuracy = []\n",
    "\n",
    "# max_depth :최대 깊이 변경\n",
    "para_depth = [depth for depth in range(1,11)]\n",
    "\n",
    "for v_max_depth in para_depth:\n",
    "    tree = DecisionTreeClassifier(random_state=1234, min_samples_leaf=10 ,\n",
    "                                 min_samples_split= 60,\n",
    "                                max_depth = v_max_depth)\n",
    "    tree.fit(df_train_x, df_train_y)\n",
    "    train_accuracy.append(tree.score(df_train_x, df_train_y))\n",
    "    test_accuracy.append(tree.score(df_test_x, df_test_y))\n",
    "    \n",
    "df_accuracy_depth = pd.DataFrame()\n",
    "df_accuracy_depth[\"Depth\"] = para_depth\n",
    "df_accuracy_depth[\"TrainAccuracy\"] = train_accuracy\n",
    "df_accuracy_depth[\"TestAccuracy\"] = test_accuracy\n",
    "df_accuracy_depth.round(3)"
   ]
  },
  {
   "cell_type": "code",
   "execution_count": 29,
   "id": "c7e7102f",
   "metadata": {
    "scrolled": true
   },
   "outputs": [
    {
     "data": {
      "text/plain": [
       "<matplotlib.legend.Legend at 0x7fb0737362c0>"
      ]
     },
     "execution_count": 29,
     "metadata": {},
     "output_type": "execute_result"
    },
    {
     "data": {
      "image/png": "[encoded data removed]",
      "text/plain": [
       "<Figure size 640x480 with 1 Axes>"
      ]
     },
     "metadata": {},
     "output_type": "display_data"
    }
   ],
   "source": [
    "plt.plot(para_depth,train_accuracy,linestyle = \"-\",label = \"Train accuracy\")\n",
    "plt.plot(para_depth,test_accuracy,linestyle = \"--\",label = \"Test accuracy\")\n",
    "plt.legend()"
   ]
  },
  {
   "cell_type": "markdown",
   "id": "6f160c76",
   "metadata": {},
   "source": [
    "=> max depth는 3"
   ]
  },
  {
   "cell_type": "markdown",
   "id": "c04cb603",
   "metadata": {},
   "source": [
    "#### 최종 모델 선정"
   ]
  },
  {
   "cell_type": "code",
   "execution_count": 30,
   "id": "a5dd6c6b",
   "metadata": {
    "scrolled": true
   },
   "outputs": [
    {
     "data": {
      "text/html": [
       "<style>#sk-container-id-1 {color: black;background-color: white;}#sk-container-id-1 pre{padding: 0;}#sk-container-id-1 div.sk-toggleable {background-color: white;}#sk-container-id-1 label.sk-toggleable__label {cursor: pointer;display: block;width: 100%;margin-bottom: 0;padding: 0.3em;box-sizing: border-box;text-align: center;}#sk-container-id-1 label.sk-toggleable__label-arrow:before {content: \"▸\";float: left;margin-right: 0.25em;color: #696969;}#sk-container-id-1 label.sk-toggleable__label-arrow:hover:before {color: black;}#sk-container-id-1 div.sk-estimator:hover label.sk-toggleable__label-arrow:before {color: black;}#sk-container-id-1 div.sk-toggleable__content {max-height: 0;max-width: 0;overflow: hidden;text-align: left;background-color: #f0f8ff;}#sk-container-id-1 div.sk-toggleable__content pre {margin: 0.2em;color: black;border-radius: 0.25em;background-color: #f0f8ff;}#sk-container-id-1 input.sk-toggleable__control:checked~div.sk-toggleable__content {max-height: 200px;max-width: 100%;overflow: auto;}#sk-container-id-1 input.sk-toggleable__control:checked~label.sk-toggleable__label-arrow:before {content: \"▾\";}#sk-container-id-1 div.sk-estimator input.sk-toggleable__control:checked~label.sk-toggleable__label {background-color: #d4ebff;}#sk-container-id-1 div.sk-label input.sk-toggleable__control:checked~label.sk-toggleable__label {background-color: #d4ebff;}#sk-container-id-1 input.sk-hidden--visually {border: 0;clip: rect(1px 1px 1px 1px);clip: rect(1px, 1px, 1px, 1px);height: 1px;margin: -1px;overflow: hidden;padding: 0;position: absolute;width: 1px;}#sk-container-id-1 div.sk-estimator {font-family: monospace;background-color: #f0f8ff;border: 1px dotted black;border-radius: 0.25em;box-sizing: border-box;margin-bottom: 0.5em;}#sk-container-id-1 div.sk-estimator:hover {background-color: #d4ebff;}#sk-container-id-1 div.sk-parallel-item::after {content: \"\";width: 100%;border-bottom: 1px solid gray;flex-grow: 1;}#sk-container-id-1 div.sk-label:hover label.sk-toggleable__label {background-color: #d4ebff;}#sk-container-id-1 div.sk-serial::before {content: \"\";position: absolute;border-left: 1px solid gray;box-sizing: border-box;top: 0;bottom: 0;left: 50%;z-index: 0;}#sk-container-id-1 div.sk-serial {display: flex;flex-direction: column;align-items: center;background-color: white;padding-right: 0.2em;padding-left: 0.2em;position: relative;}#sk-container-id-1 div.sk-item {position: relative;z-index: 1;}#sk-container-id-1 div.sk-parallel {display: flex;align-items: stretch;justify-content: center;background-color: white;position: relative;}#sk-container-id-1 div.sk-item::before, #sk-container-id-1 div.sk-parallel-item::before {content: \"\";position: absolute;border-left: 1px solid gray;box-sizing: border-box;top: 0;bottom: 0;left: 50%;z-index: -1;}#sk-container-id-1 div.sk-parallel-item {display: flex;flex-direction: column;z-index: 1;position: relative;background-color: white;}#sk-container-id-1 div.sk-parallel-item:first-child::after {align-self: flex-end;width: 50%;}#sk-container-id-1 div.sk-parallel-item:last-child::after {align-self: flex-start;width: 50%;}#sk-container-id-1 div.sk-parallel-item:only-child::after {width: 0;}#sk-container-id-1 div.sk-dashed-wrapped {border: 1px dashed gray;margin: 0 0.4em 0.5em 0.4em;box-sizing: border-box;padding-bottom: 0.4em;background-color: white;}#sk-container-id-1 div.sk-label label {font-family: monospace;font-weight: bold;display: inline-block;line-height: 1.2em;}#sk-container-id-1 div.sk-label-container {text-align: center;}#sk-container-id-1 div.sk-container {/* jupyter's `normalize.less` sets `[hidden] { display: none; }` but bootstrap.min.css set `[hidden] { display: none !important; }` so we also need the `!important` here to be able to override the default hidden behavior on the sphinx rendered scikit-learn.org. See: https://github.com/scikit-learn/scikit-learn/issues/21755 */display: inline-block !important;position: relative;}#sk-container-id-1 div.sk-text-repr-fallback {display: none;}</style><div id=\"sk-container-id-1\" class=\"sk-top-container\"><div class=\"sk-text-repr-fallback\"><pre>DecisionTreeClassifier(max_depth=3, min_samples_leaf=10, min_samples_split=60,\n",
       "                       random_state=1234)</pre><b>In a Jupyter environment, please rerun this cell to show the HTML representation or trust the notebook. <br />On GitHub, the HTML representation is unable to render, please try loading this page with nbviewer.org.</b></div><div class=\"sk-container\" hidden><div class=\"sk-item\"><div class=\"sk-estimator sk-toggleable\"><input class=\"sk-toggleable__control sk-hidden--visually\" id=\"sk-estimator-id-1\" type=\"checkbox\" checked><label for=\"sk-estimator-id-1\" class=\"sk-toggleable__label sk-toggleable__label-arrow\">DecisionTreeClassifier</label><div class=\"sk-toggleable__content\"><pre>DecisionTreeClassifier(max_depth=3, min_samples_leaf=10, min_samples_split=60,\n",
       "                       random_state=1234)</pre></div></div></div></div></div>"
      ],
      "text/plain": [
       "DecisionTreeClassifier(max_depth=3, min_samples_leaf=10, min_samples_split=60,\n",
       "                       random_state=1234)"
      ]
     },
     "execution_count": 30,
     "metadata": {},
     "output_type": "execute_result"
    }
   ],
   "source": [
    "tree_final = DecisionTreeClassifier(min_samples_leaf=10,min_samples_split=60,max_depth=3, random_state=1234,)\n",
    "tree_final.fit(df_train_x, df_train_y)"
   ]
  },
  {
   "cell_type": "markdown",
   "id": "5ea61b2d",
   "metadata": {},
   "source": [
    "최종 모델 시각화"
   ]
  },
  {
   "cell_type": "code",
   "execution_count": 31,
   "id": "0d254c3f",
   "metadata": {},
   "outputs": [
    {
     "data": {
      "image/svg+xml": [
       "<?xml version=\"1.0\" encoding=\"UTF-8\" standalone=\"no\"?>\n",
       "<!DOCTYPE svg PUBLIC \"-//W3C//DTD SVG 1.1//EN\"\n",
       " \"http://www.w3.org/Graphics/SVG/1.1/DTD/svg11.dtd\">\n",
       "<!-- Generated by graphviz version 2.50.0 (0)\n",
       " -->\n",
       "<!-- Title: Tree Pages: 1 -->\n",
       "<svg width=\"270pt\" height=\"165pt\"\n",
       " viewBox=\"0.00 0.00 270.00 165.00\" xmlns=\"http://www.w3.org/2000/svg\" xmlns:xlink=\"http://www.w3.org/1999/xlink\">\n",
       "<g id=\"graph0\" class=\"graph\" transform=\"scale(1 1) rotate(0) translate(4 161)\">\n",
       "<title>Tree</title>\n",
       "<polygon fill=\"white\" stroke=\"transparent\" points=\"-4,4 -4,-161 266,-161 266,4 -4,4\"/>\n",
       "<!-- 0 -->\n",
       "<g id=\"node1\" class=\"node\">\n",
       "<title>0</title>\n",
       "<polygon fill=\"#a1d0f3\" stroke=\"black\" points=\"219.5,-157 42.5,-157 42.5,-89 219.5,-89 219.5,-157\"/>\n",
       "<text text-anchor=\"middle\" x=\"131\" y=\"-141.8\" font-family=\"Helvetica,sans-Serif\" font-size=\"14.00\">PETAL_LENGTH &lt;= 2.7</text>\n",
       "<text text-anchor=\"middle\" x=\"131\" y=\"-126.8\" font-family=\"Helvetica,sans-Serif\" font-size=\"14.00\">gini = 0.452</text>\n",
       "<text text-anchor=\"middle\" x=\"131\" y=\"-111.8\" font-family=\"Helvetica,sans-Serif\" font-size=\"14.00\">samples = 90</text>\n",
       "<text text-anchor=\"middle\" x=\"131\" y=\"-96.8\" font-family=\"Helvetica,sans-Serif\" font-size=\"14.00\">value = [31, 59]</text>\n",
       "</g>\n",
       "<!-- 1 -->\n",
       "<g id=\"node2\" class=\"node\">\n",
       "<title>1</title>\n",
       "<polygon fill=\"#e58139\" stroke=\"black\" points=\"122,-53 0,-53 0,0 122,0 122,-53\"/>\n",
       "<text text-anchor=\"middle\" x=\"61\" y=\"-37.8\" font-family=\"Helvetica,sans-Serif\" font-size=\"14.00\">gini = 0.0</text>\n",
       "<text text-anchor=\"middle\" x=\"61\" y=\"-22.8\" font-family=\"Helvetica,sans-Serif\" font-size=\"14.00\">samples = 31</text>\n",
       "<text text-anchor=\"middle\" x=\"61\" y=\"-7.8\" font-family=\"Helvetica,sans-Serif\" font-size=\"14.00\">value = [31, 0]</text>\n",
       "</g>\n",
       "<!-- 0&#45;&gt;1 -->\n",
       "<g id=\"edge1\" class=\"edge\">\n",
       "<title>0&#45;&gt;1</title>\n",
       "<path fill=\"none\" stroke=\"black\" d=\"M106.52,-88.95C99.94,-80.07 92.83,-70.46 86.21,-61.54\"/>\n",
       "<polygon fill=\"black\" stroke=\"black\" points=\"88.83,-59.19 80.06,-53.24 83.2,-63.36 88.83,-59.19\"/>\n",
       "<text text-anchor=\"middle\" x=\"76.38\" y=\"-74.26\" font-family=\"Helvetica,sans-Serif\" font-size=\"14.00\">True</text>\n",
       "</g>\n",
       "<!-- 2 -->\n",
       "<g id=\"node3\" class=\"node\">\n",
       "<title>2</title>\n",
       "<polygon fill=\"#399de5\" stroke=\"black\" points=\"262,-53 140,-53 140,0 262,0 262,-53\"/>\n",
       "<text text-anchor=\"middle\" x=\"201\" y=\"-37.8\" font-family=\"Helvetica,sans-Serif\" font-size=\"14.00\">gini = 0.0</text>\n",
       "<text text-anchor=\"middle\" x=\"201\" y=\"-22.8\" font-family=\"Helvetica,sans-Serif\" font-size=\"14.00\">samples = 59</text>\n",
       "<text text-anchor=\"middle\" x=\"201\" y=\"-7.8\" font-family=\"Helvetica,sans-Serif\" font-size=\"14.00\">value = [0, 59]</text>\n",
       "</g>\n",
       "<!-- 0&#45;&gt;2 -->\n",
       "<g id=\"edge2\" class=\"edge\">\n",
       "<title>0&#45;&gt;2</title>\n",
       "<path fill=\"none\" stroke=\"black\" d=\"M155.48,-88.95C162.06,-80.07 169.17,-70.46 175.79,-61.54\"/>\n",
       "<polygon fill=\"black\" stroke=\"black\" points=\"178.8,-63.36 181.94,-53.24 173.17,-59.19 178.8,-63.36\"/>\n",
       "<text text-anchor=\"middle\" x=\"185.62\" y=\"-74.26\" font-family=\"Helvetica,sans-Serif\" font-size=\"14.00\">False</text>\n",
       "</g>\n",
       "</g>\n",
       "</svg>\n"
      ],
      "text/plain": [
       "<graphviz.sources.Source at 0x7fb075c46c80>"
      ]
     },
     "metadata": {},
     "output_type": "display_data"
    }
   ],
   "source": [
    "export_graphviz(tree_final, out_file = \"tree_final.dot\",\n",
    "               feature_names= v_feature_name, impurity=True,filled=True)\n",
    "with open(\"tree_final.dot\") as f:\n",
    "    dot_graph = f.read()\n",
    "\n",
    "fixed_dot_graph = \"digraph Tree {\\nsize=\\\"10,10\\\";\\n\" + dot_graph.split('{', 1)[1]\n",
    "display(graphviz.Source(fixed_dot_graph))"
   ]
  },
  {
   "cell_type": "markdown",
   "id": "23a29aa2",
   "metadata": {},
   "source": [
    "#### 최종 모델을 이용한 분류 예측"
   ]
  },
  {
   "cell_type": "code",
   "execution_count": 34,
   "id": "fc5db591",
   "metadata": {},
   "outputs": [
    {
     "name": "stdout",
     "output_type": "stream",
     "text": [
      "Accuracy :1.000000\n",
      "\n",
      "Confusion matrix: \n",
      "[[19  0]\n",
      " [ 0 41]]\n",
      "              precision    recall  f1-score   support\n",
      "\n",
      "           0      1.000     1.000     1.000        19\n",
      "           1      1.000     1.000     1.000        41\n",
      "\n",
      "    accuracy                          1.000        60\n",
      "   macro avg      1.000     1.000     1.000        60\n",
      "weighted avg      1.000     1.000     1.000        60\n",
      "\n"
     ]
    }
   ],
   "source": [
    "from sklearn.metrics import confusion_matrix, classification_report\n",
    "y_pred = tree_final.predict(df_test_x)\n",
    "print('Accuracy :{0:3f}\\n'.format(tree_final.score(df_test_x, df_test_y)))\n",
    "print(\"Confusion matrix: \\n{}\".format(confusion_matrix(df_test_y, y_pred)))\n",
    "print(classification_report(df_test_y, y_pred, digits=3))"
   ]
  },
  {
   "cell_type": "markdown",
   "id": "e703e582",
   "metadata": {},
   "source": [
    "#### 결론 도출"
   ]
  },
  {
   "cell_type": "markdown",
   "id": "5c4afd05",
   "metadata": {},
   "source": [
    "feature_importances_ : 설명변수의 중요도"
   ]
  },
  {
   "cell_type": "code",
   "execution_count": 35,
   "id": "9386c70a",
   "metadata": {},
   "outputs": [
    {
     "data": {
      "text/html": [
       "<div>\n",
       "<style scoped>\n",
       "    .dataframe tbody tr th:only-of-type {\n",
       "        vertical-align: middle;\n",
       "    }\n",
       "\n",
       "    .dataframe tbody tr th {\n",
       "        vertical-align: top;\n",
       "    }\n",
       "\n",
       "    .dataframe thead th {\n",
       "        text-align: right;\n",
       "    }\n",
       "</style>\n",
       "<table border=\"1\" class=\"dataframe\">\n",
       "  <thead>\n",
       "    <tr style=\"text-align: right;\">\n",
       "      <th></th>\n",
       "      <th>Feature</th>\n",
       "      <th>importance</th>\n",
       "    </tr>\n",
       "  </thead>\n",
       "  <tbody>\n",
       "    <tr>\n",
       "      <th>2</th>\n",
       "      <td>PETAL_LENGTH</td>\n",
       "      <td>1.0</td>\n",
       "    </tr>\n",
       "    <tr>\n",
       "      <th>0</th>\n",
       "      <td>SEPAL_LENGTH</td>\n",
       "      <td>0.0</td>\n",
       "    </tr>\n",
       "    <tr>\n",
       "      <th>1</th>\n",
       "      <td>SEPAL_WIDTH</td>\n",
       "      <td>0.0</td>\n",
       "    </tr>\n",
       "    <tr>\n",
       "      <th>3</th>\n",
       "      <td>PETAL_WIDTH</td>\n",
       "      <td>0.0</td>\n",
       "    </tr>\n",
       "  </tbody>\n",
       "</table>\n",
       "</div>"
      ],
      "text/plain": [
       "        Feature  importance\n",
       "2  PETAL_LENGTH         1.0\n",
       "0  SEPAL_LENGTH         0.0\n",
       "1   SEPAL_WIDTH         0.0\n",
       "3   PETAL_WIDTH         0.0"
      ]
     },
     "execution_count": 35,
     "metadata": {},
     "output_type": "execute_result"
    }
   ],
   "source": [
    "# tree.feature_importances_로 설명변수 중요도 확인 및 테이블로 저장\n",
    "df_importance = pd.DataFrame()\n",
    "df_importance[\"Feature\"] = v_feature_name\n",
    "df_importance[\"importance\"] = tree_final.feature_importances_\n",
    "\n",
    "# df_feature_importance의 테이블을 중요도별로 정렬\n",
    "df_importance.sort_values(\"importance\", ascending=False, inplace = True)\n",
    "df_importance.round(3)"
   ]
  },
  {
   "cell_type": "code",
   "execution_count": 36,
   "id": "7b490b4d",
   "metadata": {
    "scrolled": false
   },
   "outputs": [
    {
     "data": {
      "text/plain": [
       "Text(0, 0.5, '변수')"
      ]
     },
     "execution_count": 36,
     "metadata": {},
     "output_type": "execute_result"
    },
    {
     "data": {
      "image/png": "[encoded data removed]",
      "text/plain": [
       "<Figure size 640x480 with 1 Axes>"
      ]
     },
     "metadata": {},
     "output_type": "display_data"
    }
   ],
   "source": [
    "# 설명변수 중요도 그래프\n",
    "# 중요도가 높은 변수를 상위에 그림\n",
    "df_importance.sort_values(\"importance\", ascending=True, inplace = True)\n",
    "coordinates = range(len(df_importance))\n",
    "plt.barh(y=coordinates, width = df_importance[\"importance\"])\n",
    "plt.yticks(coordinates,df_importance[\"Feature\"])\n",
    "plt.xlabel(\"변수 중요도\")\n",
    "plt.ylabel(\"변수\")"
   ]
  },
  {
   "cell_type": "markdown",
   "id": "9495fa50",
   "metadata": {},
   "source": [
    "worst_concave_points가 유방암에 가장 큰 영향을 주고 그 다음으로 worst_area, 그 다음으로 worst_radius 순으로 유방암에 영향을 준다고 판단하였다"
   ]
  },
  {
   "cell_type": "markdown",
   "id": "ff170a8e",
   "metadata": {},
   "source": [
    "## Over-sampling Data를 이용한 모델링 및 평가"
   ]
  },
  {
   "cell_type": "code",
   "execution_count": 37,
   "id": "c35e4672",
   "metadata": {
    "scrolled": false
   },
   "outputs": [
    {
     "name": "stdout",
     "output_type": "stream",
     "text": [
      "분할 전 데이터 현황 설명 :  (118, 4)   목표 : (118,)\n",
      "분할 후 설명변수 현황..Train:  (70, 4)   Test : (48, 4)\n",
      "분할 후 목표변수 현황..Train:  0    35\n",
      "1    35\n",
      "Name: SPECIES, dtype: int64   Test : 1    24\n",
      "0    24\n",
      "Name: SPECIES, dtype: int64\n"
     ]
    }
   ],
   "source": [
    "df_train_x_over, df_test_x_over, df_train_y_over, df_test_y_over = train_test_split(x_resampled, y_resampled,\\\n",
    "                                                                                   test_size = 0.4, stratify = y_resampled, random_state = 1234)\n",
    "print('분할 전 데이터 현황 설명 : ', x_resampled.shape, \"  목표 :\", y_resampled.shape)\n",
    "print('분할 후 설명변수 현황..Train: ', df_train_x_over.shape, \"  Test :\", df_test_x_over.shape)\n",
    "print('분할 후 목표변수 현황..Train: ', df_train_y_over.value_counts(), \"  Test :\", df_test_y_over.value_counts())"
   ]
  },
  {
   "cell_type": "code",
   "execution_count": 38,
   "id": "fc5b4f03",
   "metadata": {},
   "outputs": [
    {
     "data": {
      "text/html": [
       "<style>#sk-container-id-2 {color: black;background-color: white;}#sk-container-id-2 pre{padding: 0;}#sk-container-id-2 div.sk-toggleable {background-color: white;}#sk-container-id-2 label.sk-toggleable__label {cursor: pointer;display: block;width: 100%;margin-bottom: 0;padding: 0.3em;box-sizing: border-box;text-align: center;}#sk-container-id-2 label.sk-toggleable__label-arrow:before {content: \"▸\";float: left;margin-right: 0.25em;color: #696969;}#sk-container-id-2 label.sk-toggleable__label-arrow:hover:before {color: black;}#sk-container-id-2 div.sk-estimator:hover label.sk-toggleable__label-arrow:before {color: black;}#sk-container-id-2 div.sk-toggleable__content {max-height: 0;max-width: 0;overflow: hidden;text-align: left;background-color: #f0f8ff;}#sk-container-id-2 div.sk-toggleable__content pre {margin: 0.2em;color: black;border-radius: 0.25em;background-color: #f0f8ff;}#sk-container-id-2 input.sk-toggleable__control:checked~div.sk-toggleable__content {max-height: 200px;max-width: 100%;overflow: auto;}#sk-container-id-2 input.sk-toggleable__control:checked~label.sk-toggleable__label-arrow:before {content: \"▾\";}#sk-container-id-2 div.sk-estimator input.sk-toggleable__control:checked~label.sk-toggleable__label {background-color: #d4ebff;}#sk-container-id-2 div.sk-label input.sk-toggleable__control:checked~label.sk-toggleable__label {background-color: #d4ebff;}#sk-container-id-2 input.sk-hidden--visually {border: 0;clip: rect(1px 1px 1px 1px);clip: rect(1px, 1px, 1px, 1px);height: 1px;margin: -1px;overflow: hidden;padding: 0;position: absolute;width: 1px;}#sk-container-id-2 div.sk-estimator {font-family: monospace;background-color: #f0f8ff;border: 1px dotted black;border-radius: 0.25em;box-sizing: border-box;margin-bottom: 0.5em;}#sk-container-id-2 div.sk-estimator:hover {background-color: #d4ebff;}#sk-container-id-2 div.sk-parallel-item::after {content: \"\";width: 100%;border-bottom: 1px solid gray;flex-grow: 1;}#sk-container-id-2 div.sk-label:hover label.sk-toggleable__label {background-color: #d4ebff;}#sk-container-id-2 div.sk-serial::before {content: \"\";position: absolute;border-left: 1px solid gray;box-sizing: border-box;top: 0;bottom: 0;left: 50%;z-index: 0;}#sk-container-id-2 div.sk-serial {display: flex;flex-direction: column;align-items: center;background-color: white;padding-right: 0.2em;padding-left: 0.2em;position: relative;}#sk-container-id-2 div.sk-item {position: relative;z-index: 1;}#sk-container-id-2 div.sk-parallel {display: flex;align-items: stretch;justify-content: center;background-color: white;position: relative;}#sk-container-id-2 div.sk-item::before, #sk-container-id-2 div.sk-parallel-item::before {content: \"\";position: absolute;border-left: 1px solid gray;box-sizing: border-box;top: 0;bottom: 0;left: 50%;z-index: -1;}#sk-container-id-2 div.sk-parallel-item {display: flex;flex-direction: column;z-index: 1;position: relative;background-color: white;}#sk-container-id-2 div.sk-parallel-item:first-child::after {align-self: flex-end;width: 50%;}#sk-container-id-2 div.sk-parallel-item:last-child::after {align-self: flex-start;width: 50%;}#sk-container-id-2 div.sk-parallel-item:only-child::after {width: 0;}#sk-container-id-2 div.sk-dashed-wrapped {border: 1px dashed gray;margin: 0 0.4em 0.5em 0.4em;box-sizing: border-box;padding-bottom: 0.4em;background-color: white;}#sk-container-id-2 div.sk-label label {font-family: monospace;font-weight: bold;display: inline-block;line-height: 1.2em;}#sk-container-id-2 div.sk-label-container {text-align: center;}#sk-container-id-2 div.sk-container {/* jupyter's `normalize.less` sets `[hidden] { display: none; }` but bootstrap.min.css set `[hidden] { display: none !important; }` so we also need the `!important` here to be able to override the default hidden behavior on the sphinx rendered scikit-learn.org. See: https://github.com/scikit-learn/scikit-learn/issues/21755 */display: inline-block !important;position: relative;}#sk-container-id-2 div.sk-text-repr-fallback {display: none;}</style><div id=\"sk-container-id-2\" class=\"sk-top-container\"><div class=\"sk-text-repr-fallback\"><pre>DecisionTreeClassifier(max_depth=3, min_samples_leaf=10, min_samples_split=60,\n",
       "                       random_state=1234)</pre><b>In a Jupyter environment, please rerun this cell to show the HTML representation or trust the notebook. <br />On GitHub, the HTML representation is unable to render, please try loading this page with nbviewer.org.</b></div><div class=\"sk-container\" hidden><div class=\"sk-item\"><div class=\"sk-estimator sk-toggleable\"><input class=\"sk-toggleable__control sk-hidden--visually\" id=\"sk-estimator-id-2\" type=\"checkbox\" checked><label for=\"sk-estimator-id-2\" class=\"sk-toggleable__label sk-toggleable__label-arrow\">DecisionTreeClassifier</label><div class=\"sk-toggleable__content\"><pre>DecisionTreeClassifier(max_depth=3, min_samples_leaf=10, min_samples_split=60,\n",
       "                       random_state=1234)</pre></div></div></div></div></div>"
      ],
      "text/plain": [
       "DecisionTreeClassifier(max_depth=3, min_samples_leaf=10, min_samples_split=60,\n",
       "                       random_state=1234)"
      ]
     },
     "execution_count": 38,
     "metadata": {},
     "output_type": "execute_result"
    }
   ],
   "source": [
    "tree_final_over = DecisionTreeClassifier(min_samples_leaf=10,min_samples_split=60,max_depth=3, random_state=1234,)\n",
    "tree_final_over.fit(df_train_x_over, df_train_y_over)"
   ]
  },
  {
   "cell_type": "code",
   "execution_count": 39,
   "id": "00926b89",
   "metadata": {
    "scrolled": true
   },
   "outputs": [
    {
     "data": {
      "image/svg+xml": [
       "<?xml version=\"1.0\" encoding=\"UTF-8\" standalone=\"no\"?>\n",
       "<!DOCTYPE svg PUBLIC \"-//W3C//DTD SVG 1.1//EN\"\n",
       " \"http://www.w3.org/Graphics/SVG/1.1/DTD/svg11.dtd\">\n",
       "<!-- Generated by graphviz version 2.50.0 (0)\n",
       " -->\n",
       "<!-- Title: Tree Pages: 1 -->\n",
       "<svg width=\"270pt\" height=\"165pt\"\n",
       " viewBox=\"0.00 0.00 270.00 165.00\" xmlns=\"http://www.w3.org/2000/svg\" xmlns:xlink=\"http://www.w3.org/1999/xlink\">\n",
       "<g id=\"graph0\" class=\"graph\" transform=\"scale(1 1) rotate(0) translate(4 161)\">\n",
       "<title>Tree</title>\n",
       "<polygon fill=\"white\" stroke=\"transparent\" points=\"-4,4 -4,-161 266,-161 266,4 -4,4\"/>\n",
       "<!-- 0 -->\n",
       "<g id=\"node1\" class=\"node\">\n",
       "<title>0</title>\n",
       "<polygon fill=\"#ffffff\" stroke=\"black\" points=\"219.5,-157 42.5,-157 42.5,-89 219.5,-89 219.5,-157\"/>\n",
       "<text text-anchor=\"middle\" x=\"131\" y=\"-141.8\" font-family=\"Helvetica,sans-Serif\" font-size=\"14.00\">PETAL_LENGTH &lt;= 2.8</text>\n",
       "<text text-anchor=\"middle\" x=\"131\" y=\"-126.8\" font-family=\"Helvetica,sans-Serif\" font-size=\"14.00\">gini = 0.5</text>\n",
       "<text text-anchor=\"middle\" x=\"131\" y=\"-111.8\" font-family=\"Helvetica,sans-Serif\" font-size=\"14.00\">samples = 70</text>\n",
       "<text text-anchor=\"middle\" x=\"131\" y=\"-96.8\" font-family=\"Helvetica,sans-Serif\" font-size=\"14.00\">value = [35, 35]</text>\n",
       "</g>\n",
       "<!-- 1 -->\n",
       "<g id=\"node2\" class=\"node\">\n",
       "<title>1</title>\n",
       "<polygon fill=\"#e58139\" stroke=\"black\" points=\"122,-53 0,-53 0,0 122,0 122,-53\"/>\n",
       "<text text-anchor=\"middle\" x=\"61\" y=\"-37.8\" font-family=\"Helvetica,sans-Serif\" font-size=\"14.00\">gini = 0.0</text>\n",
       "<text text-anchor=\"middle\" x=\"61\" y=\"-22.8\" font-family=\"Helvetica,sans-Serif\" font-size=\"14.00\">samples = 35</text>\n",
       "<text text-anchor=\"middle\" x=\"61\" y=\"-7.8\" font-family=\"Helvetica,sans-Serif\" font-size=\"14.00\">value = [35, 0]</text>\n",
       "</g>\n",
       "<!-- 0&#45;&gt;1 -->\n",
       "<g id=\"edge1\" class=\"edge\">\n",
       "<title>0&#45;&gt;1</title>\n",
       "<path fill=\"none\" stroke=\"black\" d=\"M106.52,-88.95C99.94,-80.07 92.83,-70.46 86.21,-61.54\"/>\n",
       "<polygon fill=\"black\" stroke=\"black\" points=\"88.83,-59.19 80.06,-53.24 83.2,-63.36 88.83,-59.19\"/>\n",
       "<text text-anchor=\"middle\" x=\"76.38\" y=\"-74.26\" font-family=\"Helvetica,sans-Serif\" font-size=\"14.00\">True</text>\n",
       "</g>\n",
       "<!-- 2 -->\n",
       "<g id=\"node3\" class=\"node\">\n",
       "<title>2</title>\n",
       "<polygon fill=\"#399de5\" stroke=\"black\" points=\"262,-53 140,-53 140,0 262,0 262,-53\"/>\n",
       "<text text-anchor=\"middle\" x=\"201\" y=\"-37.8\" font-family=\"Helvetica,sans-Serif\" font-size=\"14.00\">gini = 0.0</text>\n",
       "<text text-anchor=\"middle\" x=\"201\" y=\"-22.8\" font-family=\"Helvetica,sans-Serif\" font-size=\"14.00\">samples = 35</text>\n",
       "<text text-anchor=\"middle\" x=\"201\" y=\"-7.8\" font-family=\"Helvetica,sans-Serif\" font-size=\"14.00\">value = [0, 35]</text>\n",
       "</g>\n",
       "<!-- 0&#45;&gt;2 -->\n",
       "<g id=\"edge2\" class=\"edge\">\n",
       "<title>0&#45;&gt;2</title>\n",
       "<path fill=\"none\" stroke=\"black\" d=\"M155.48,-88.95C162.06,-80.07 169.17,-70.46 175.79,-61.54\"/>\n",
       "<polygon fill=\"black\" stroke=\"black\" points=\"178.8,-63.36 181.94,-53.24 173.17,-59.19 178.8,-63.36\"/>\n",
       "<text text-anchor=\"middle\" x=\"185.62\" y=\"-74.26\" font-family=\"Helvetica,sans-Serif\" font-size=\"14.00\">False</text>\n",
       "</g>\n",
       "</g>\n",
       "</svg>\n"
      ],
      "text/plain": [
       "<graphviz.sources.Source at 0x7fb072eb1e40>"
      ]
     },
     "metadata": {},
     "output_type": "display_data"
    }
   ],
   "source": [
    "export_graphviz(tree_final_over, out_file = \"tree_final_over.dot\",feature_names = v_feature_name, impurity = True, filled = True)\n",
    "\n",
    "with open(\"tree_final_over.dot\") as f:\n",
    "    dot_graph = f.read()\n",
    "\n",
    "fixed_dot_graph = \"digraph Tree {\\nsize=\\\"10,10\\\";\\n\" + dot_graph.split('{', 1)[1]\n",
    "display(graphviz.Source(fixed_dot_graph))"
   ]
  },
  {
   "cell_type": "code",
   "execution_count": 40,
   "id": "96a68297",
   "metadata": {},
   "outputs": [],
   "source": [
    "from sklearn.metrics import classification_report, confusion_matrix"
   ]
  },
  {
   "cell_type": "code",
   "execution_count": 41,
   "id": "461c1c3b",
   "metadata": {},
   "outputs": [
    {
     "name": "stdout",
     "output_type": "stream",
     "text": [
      "Accuracy :1.000000\n",
      "\n",
      "Confusion matrix: \n",
      "[[24  0]\n",
      " [ 0 24]]\n",
      "              precision    recall  f1-score   support\n",
      "\n",
      "           0      1.000     1.000     1.000        24\n",
      "           1      1.000     1.000     1.000        24\n",
      "\n",
      "    accuracy                          1.000        48\n",
      "   macro avg      1.000     1.000     1.000        48\n",
      "weighted avg      1.000     1.000     1.000        48\n",
      "\n"
     ]
    }
   ],
   "source": [
    "y_pred_over = tree_final_over.predict(df_test_x_over)\n",
    "\n",
    "print('Accuracy :{0:3f}\\n'.format(tree_final_over.score(df_test_x_over, df_test_y_over)))\n",
    "print(\"Confusion matrix: \\n{}\".format(confusion_matrix(df_test_y_over, y_pred_over)))\n",
    "print(classification_report(df_test_y_over, y_pred_over, digits=3))"
   ]
  },
  {
   "cell_type": "markdown",
   "id": "a936b475",
   "metadata": {},
   "source": [
    "|/|음성|양성|\n",
    "|------|---|---|\n",
    "|음성|True negative|False positive|\n",
    "|양성|False negative|True positive|\n",
    "\n",
    "* Accuracy :예측값 중 정확한 예측을 어느정도로 했는지 확인하는 지표 => 88%로 괜찮은 성능을 가짐\n",
    "\n",
    "* f1 score :  macro avg는 단순 평균, weighted avg는 각 클래스에 속하는 표본의 갯수로 가중평균값. 이 둘의 f1-score와 accuracy가 차이가 많이 없어야 괜찮은 모델\n",
    "\n",
    "* 정밀도(Precision) : Positive로 예측한 경우 중 실제로 Positive인 비율이다, 즉 예측값이 얼마나 정확한가 TP/(TP+FP)\n",
    "\n",
    "* 재현율(Recall) : 실제 Positive인 것 중 올바르게 Positive를 맞춘 것의 비율 이다다, 즉 실제 정답을 얼마나 맞췄느냐 TP/(TP+FN)\n",
    "\n",
    "오버샘플링하지 않은 데이터를 가지고 예측을 했을 경우 accuracy가 0.906 이었는데 \n",
    "\n",
    "오버샘플링된 데이터를 가지고 예측을 진행한 결과를 확인해보니 accuracy가 0.848로 줄어든 것을 확인할 수 있다.\n",
    "\n",
    "이는 오버샘플링하기 전 데이터에서 음성, 양성 데이터의 비율이 동일하지 않았기 때문이라고 할 수 있다.\n",
    "\n",
    "1의 경우 이전 confusion matrix에서는 1에 대한 f1-score가 0.812였으나 오버샘플링한 데이터로 예측한 후\n",
    "\n",
    "1에 대한 f1-score가 0.833으로 소폭 증가하였다. 양성에 대한 데이터가 늘어남으로써 이러한 결과가 나타났다는 결론을 내렸다.\n",
    "\n",
    "실제로 유방암인데 유방암이라고 판단하지 않는 경우가 제일 위험하다. 이전의 recall값은 0.839였는데 0.761로 소폭 하락했다.\n",
    "\n",
    "만약 오버샘플링을 하지 않고 모델을 그냥 사용했다면 이 모델의 예측도를 과대평가하는 위험함이 있을 것이다."
   ]
  },
  {
   "cell_type": "code",
   "execution_count": 42,
   "id": "0eb4a4e1",
   "metadata": {},
   "outputs": [
    {
     "data": {
      "text/html": [
       "<div>\n",
       "<style scoped>\n",
       "    .dataframe tbody tr th:only-of-type {\n",
       "        vertical-align: middle;\n",
       "    }\n",
       "\n",
       "    .dataframe tbody tr th {\n",
       "        vertical-align: top;\n",
       "    }\n",
       "\n",
       "    .dataframe thead th {\n",
       "        text-align: right;\n",
       "    }\n",
       "</style>\n",
       "<table border=\"1\" class=\"dataframe\">\n",
       "  <thead>\n",
       "    <tr style=\"text-align: right;\">\n",
       "      <th></th>\n",
       "      <th>Feature</th>\n",
       "      <th>importance</th>\n",
       "    </tr>\n",
       "  </thead>\n",
       "  <tbody>\n",
       "    <tr>\n",
       "      <th>2</th>\n",
       "      <td>PETAL_LENGTH</td>\n",
       "      <td>1.0</td>\n",
       "    </tr>\n",
       "    <tr>\n",
       "      <th>0</th>\n",
       "      <td>SEPAL_LENGTH</td>\n",
       "      <td>0.0</td>\n",
       "    </tr>\n",
       "    <tr>\n",
       "      <th>1</th>\n",
       "      <td>SEPAL_WIDTH</td>\n",
       "      <td>0.0</td>\n",
       "    </tr>\n",
       "    <tr>\n",
       "      <th>3</th>\n",
       "      <td>PETAL_WIDTH</td>\n",
       "      <td>0.0</td>\n",
       "    </tr>\n",
       "  </tbody>\n",
       "</table>\n",
       "</div>"
      ],
      "text/plain": [
       "        Feature  importance\n",
       "2  PETAL_LENGTH         1.0\n",
       "0  SEPAL_LENGTH         0.0\n",
       "1   SEPAL_WIDTH         0.0\n",
       "3   PETAL_WIDTH         0.0"
      ]
     },
     "execution_count": 42,
     "metadata": {},
     "output_type": "execute_result"
    }
   ],
   "source": [
    "# tree.feature_importances_로 설명변수 중요도 확인 및 테이블로 저장\n",
    "df_importance = pd.DataFrame()\n",
    "df_importance[\"Feature\"] = v_feature_name\n",
    "df_importance[\"importance\"] = tree_final_over.feature_importances_\n",
    "\n",
    "# df_feature_importance의 테이블을 중요도별로 정렬\n",
    "df_importance.sort_values(\"importance\", ascending=False, inplace = True)\n",
    "df_importance.round(3)"
   ]
  },
  {
   "cell_type": "code",
   "execution_count": 43,
   "id": "6682312a",
   "metadata": {
    "scrolled": true
   },
   "outputs": [
    {
     "data": {
      "text/plain": [
       "Text(0, 0.5, '변수')"
      ]
     },
     "execution_count": 43,
     "metadata": {},
     "output_type": "execute_result"
    },
    {
     "data": {
      "image/png": "[encoded data removed]",
      "text/plain": [
       "<Figure size 640x480 with 1 Axes>"
      ]
     },
     "metadata": {},
     "output_type": "display_data"
    }
   ],
   "source": [
    "# 설명변수 중요도 그래프\n",
    "# 중요도가 높은 변수를 상위에 그림\n",
    "df_importance.sort_values(\"importance\", ascending=True, inplace = True)\n",
    "coordinates = range(len(df_importance))\n",
    "plt.barh(y=coordinates, width = df_importance[\"importance\"])\n",
    "plt.yticks(coordinates,df_importance[\"Feature\"])\n",
    "plt.xlabel(\"변수 중요도\")\n",
    "plt.ylabel(\"변수\")"
   ]
  },
  {
   "cell_type": "markdown",
   "id": "7d8433ed",
   "metadata": {},
   "source": [
    "오버샘플링하지 않고 만든 모델은 worst_concave_points가 유방암에 가장 큰 영향을 주고 그 다음으로 worst_area, 그 다음으로 worst_radius 순으로 유방암에 영향을 준다고 판단하였다\n",
    "\n",
    "하지만 오버샘플링을 통해 얻은 데이터로 모델을 만들었을 때에는 mean_concave_points, worst_perimeter, worst_area 순으로 영향을 준다는 결과로 기존의 모델과 완전히 다른 결과가 나왔다."
   ]
  },
  {
   "cell_type": "code",
   "execution_count": 45,
   "id": "548ac30e",
   "metadata": {
    "scrolled": false
   },
   "outputs": [
    {
     "name": "stdout",
     "output_type": "stream",
     "text": [
      "전체 행의 수: 48\n",
      "예측값이 맞은 행의 수: 48\n",
      "예측값이 틀린 행의 수: 0\n"
     ]
    }
   ],
   "source": [
    "different_rows = sum(df_result['original'] != df_result['predict'])\n",
    "print('전체 행의 수:', df_result.shape[0])\n",
    "print('예측값이 맞은 행의 수:', df_result.shape[0] - different_rows)\n",
    "print('예측값이 틀린 행의 수:', different_rows)"
   ]
  },
  {
   "cell_type": "markdown",
   "id": "c596b2ce",
   "metadata": {},
   "source": [
    "--------------------"
   ]
  },
  {
   "cell_type": "markdown",
   "id": "4eb401b4",
   "metadata": {},
   "source": [
    "# Random Forest"
   ]
  },
  {
   "cell_type": "markdown",
   "id": "655c28f0",
   "metadata": {},
   "source": [
    "Q. 유방암 결과를 분류하는 랜덤 포레스트 모델을 만들고 predict method를\n",
    "이용하여 목표변수 범주를 예측하라. 그리고 모델의 정확도와 confusion\n",
    "matrix를 구하라."
   ]
  },
  {
   "cell_type": "code",
   "execution_count": null,
   "id": "5846f34c",
   "metadata": {},
   "outputs": [],
   "source": [
    "import pandas as pd\n",
    "import matplotlib.pyplot as plt\n",
    "import matplotlib\n",
    "from sklearn.tree import export_graphviz\n",
    "import graphviz\n",
    "from sklearn.model_selection import train_test_split\n",
    "from sklearn.tree import DecisionTreeClassifier\n",
    "from sklearn.ensemble import RandomForestClassifier\n",
    "from sklearn.model_selection import GridSearchCV\n",
    "import matplotlib as mpl\n",
    "import pydotplus\n",
    "import warnings\n",
    "warnings.filterwarnings('ignore')"
   ]
  },
  {
   "cell_type": "markdown",
   "id": "63b2ace1",
   "metadata": {},
   "source": [
    "#### 데이터 구성하기"
   ]
  },
  {
   "cell_type": "code",
   "execution_count": 46,
   "id": "4bc22eb0",
   "metadata": {},
   "outputs": [],
   "source": [
    "import os\n",
    "os.chdir(\"/home/piai/문서/2. Big Data 분석\")\n",
    "os.getcwd()\n",
    "df_raw = pd.read_csv(\"./IRIS.csv\", encoding = 'euc=kr')"
   ]
  },
  {
   "cell_type": "code",
   "execution_count": 47,
   "id": "b9032189",
   "metadata": {},
   "outputs": [],
   "source": [
    "def diag(x):\n",
    "    if x == \"setosa\":\n",
    "        return 0\n",
    "    else:\n",
    "        return 1"
   ]
  },
  {
   "cell_type": "code",
   "execution_count": 48,
   "id": "d5c2dd48",
   "metadata": {},
   "outputs": [
    {
     "data": {
      "text/html": [
       "<div>\n",
       "<style scoped>\n",
       "    .dataframe tbody tr th:only-of-type {\n",
       "        vertical-align: middle;\n",
       "    }\n",
       "\n",
       "    .dataframe tbody tr th {\n",
       "        vertical-align: top;\n",
       "    }\n",
       "\n",
       "    .dataframe thead th {\n",
       "        text-align: right;\n",
       "    }\n",
       "</style>\n",
       "<table border=\"1\" class=\"dataframe\">\n",
       "  <thead>\n",
       "    <tr style=\"text-align: right;\">\n",
       "      <th></th>\n",
       "      <th>SEPAL_LENGTH</th>\n",
       "      <th>SEPAL_WIDTH</th>\n",
       "      <th>PETAL_LENGTH</th>\n",
       "      <th>PETAL_WIDTH</th>\n",
       "      <th>SPECIES</th>\n",
       "    </tr>\n",
       "  </thead>\n",
       "  <tbody>\n",
       "    <tr>\n",
       "      <th>0</th>\n",
       "      <td>5.1</td>\n",
       "      <td>3.5</td>\n",
       "      <td>1.4</td>\n",
       "      <td>0.2</td>\n",
       "      <td>0</td>\n",
       "    </tr>\n",
       "    <tr>\n",
       "      <th>1</th>\n",
       "      <td>4.9</td>\n",
       "      <td>3.0</td>\n",
       "      <td>1.4</td>\n",
       "      <td>0.2</td>\n",
       "      <td>0</td>\n",
       "    </tr>\n",
       "    <tr>\n",
       "      <th>2</th>\n",
       "      <td>4.7</td>\n",
       "      <td>3.2</td>\n",
       "      <td>1.3</td>\n",
       "      <td>0.2</td>\n",
       "      <td>0</td>\n",
       "    </tr>\n",
       "    <tr>\n",
       "      <th>3</th>\n",
       "      <td>4.6</td>\n",
       "      <td>3.1</td>\n",
       "      <td>1.5</td>\n",
       "      <td>0.2</td>\n",
       "      <td>0</td>\n",
       "    </tr>\n",
       "    <tr>\n",
       "      <th>4</th>\n",
       "      <td>5.0</td>\n",
       "      <td>3.6</td>\n",
       "      <td>1.4</td>\n",
       "      <td>0.2</td>\n",
       "      <td>0</td>\n",
       "    </tr>\n",
       "  </tbody>\n",
       "</table>\n",
       "</div>"
      ],
      "text/plain": [
       "   SEPAL_LENGTH  SEPAL_WIDTH  PETAL_LENGTH  PETAL_WIDTH  SPECIES\n",
       "0           5.1          3.5           1.4          0.2        0\n",
       "1           4.9          3.0           1.4          0.2        0\n",
       "2           4.7          3.2           1.3          0.2        0\n",
       "3           4.6          3.1           1.5          0.2        0\n",
       "4           5.0          3.6           1.4          0.2        0"
      ]
     },
     "execution_count": 48,
     "metadata": {},
     "output_type": "execute_result"
    }
   ],
   "source": [
    "# SPECIES열이 '음성', '양성' 을 정수에 대입시켜 변환시켜준다\n",
    "df_raw['SPECIES'] = df_raw['SPECIES'].apply(diag)\n",
    "df_raw.head()"
   ]
  },
  {
   "cell_type": "code",
   "execution_count": 49,
   "id": "02de0d10",
   "metadata": {},
   "outputs": [
    {
     "name": "stdout",
     "output_type": "stream",
     "text": [
      "train dzta X size : (90, 4)\n",
      "train dzta Y size : (90,)\n",
      "test dzta X size : (60, 4)\n",
      "test dzta Y size : (60,)\n"
     ]
    }
   ],
   "source": [
    "# 목표변수, 설명변수 데이터 지정\n",
    "df_raw_y = df_raw[\"SPECIES\"]\n",
    "df_raw_x = df_raw.drop(\"SPECIES\",axis = 1, inplace = False)\n",
    "\n",
    "#데이터는 (train(0.6) : test(0.4))의 비율로 분할\n",
    "df_train_x, df_test_x, df_train_y, df_test_y = train_test_split(df_raw_x, df_raw_y, test_size=0.4,\n",
    "                                                                random_state=1234)\n",
    "print(\"train dzta X size : {}\".format(df_train_x.shape))\n",
    "print(\"train dzta Y size : {}\".format(df_train_y.shape))\n",
    "print(\"test dzta X size : {}\".format(df_test_x.shape))\n",
    "print(\"test dzta Y size : {}\".format(df_test_y.shape))"
   ]
  },
  {
   "cell_type": "markdown",
   "id": "f83617c5",
   "metadata": {},
   "source": [
    "#### 기본 옵션으로 모델 생성"
   ]
  },
  {
   "cell_type": "code",
   "execution_count": 50,
   "id": "fbcc52bf",
   "metadata": {
    "scrolled": true
   },
   "outputs": [
    {
     "name": "stdout",
     "output_type": "stream",
     "text": [
      "Score on training set: 1.000\n",
      "Score on test set: 1.000\n"
     ]
    }
   ],
   "source": [
    "rf_uncustomized = RandomForestClassifier(random_state=1234)\n",
    "rf_uncustomized.fit(df_train_x, df_train_y)\n",
    "\n",
    "# Train 데이터 설명력\n",
    "print(\"Score on training set: {:.3f}\".format(rf_uncustomized.score(df_train_x, df_train_y)))\n",
    "\n",
    "# Test 데이터 설명력\n",
    "print(\"Score on test set: {:.3f}\".format(rf_uncustomized.score(df_test_x, df_test_y)))"
   ]
  },
  {
   "cell_type": "markdown",
   "id": "6bd70427",
   "metadata": {},
   "source": [
    "모델 설명력은 train 97%, test 66%로 모델은 ,train 데이터에 과대적합"
   ]
  },
  {
   "cell_type": "markdown",
   "id": "851f3b81",
   "metadata": {},
   "source": [
    "- n_estimators : 트리 수 변경에 따른 모델 성능"
   ]
  },
  {
   "cell_type": "code",
   "execution_count": 75,
   "id": "010f0ce8",
   "metadata": {},
   "outputs": [],
   "source": [
    "# train_accuracy = []\n",
    "# test_accuracy = []\n",
    "\n",
    "# # n_estimators : 트리 수 변경\n",
    "# para_n_tree = [n_tree * 10 for n_tree in range(1,11)]\n",
    "\n",
    "# for v_n_estimators in para_n_tree:\n",
    "#     rf = RandomForestClassifier(n_estimators=v_n_estimators, random_state = 1234)\n",
    "#     rf.fit(df_train_x, df_train_y)\n",
    "#     train_accuracy.append(rf.score(df_train_x, df_train_y))\n",
    "#     test_accuracy.append(rf.score(df_test_x, df_test_y))\n",
    "    \n",
    "# df_accuracy_split = pd.DataFrame()\n",
    "# df_accuracy_split[\"n_estimators\"] = para_n_tree\n",
    "# df_accuracy_split[\"TrainAccuracy\"] = train_accuracy\n",
    "# df_accuracy_split[\"TestAccuracy\"] = test_accuracy\n",
    "# df_accuracy_split.round(3)"
   ]
  },
  {
   "cell_type": "code",
   "execution_count": 74,
   "id": "f7f0deb1",
   "metadata": {
    "scrolled": false
   },
   "outputs": [],
   "source": [
    "# plt.plot(para_n_tree,train_accuracy,linestyle = \"-\",label = \"Train accuracy\")\n",
    "# plt.plot(para_n_tree,test_accuracy,linestyle = \"--\",label = \"Test accuracy\")\n",
    "# plt.ylabel('accuracy');plt.xlabel(\"n_estimators\")\n",
    "# plt.legend()"
   ]
  },
  {
   "cell_type": "markdown",
   "id": "16803211",
   "metadata": {},
   "source": [
    "### n_estimators 트리 수 변경에 따른 모델 oob error 변화"
   ]
  },
  {
   "cell_type": "code",
   "execution_count": 68,
   "id": "53767fcc",
   "metadata": {
    "scrolled": false
   },
   "outputs": [],
   "source": [
    "# oob_error = []\n",
    "# for v_n_estimator in range(1,151):\n",
    "#     rf = RandomForestClassifier(n_estimators= v_n_estimator, oob_score= True, random_state=1234)\n",
    "#     rf.fit(df_train_x, df_train_y)\n",
    "#     oob_error.append(1 -rf.oob_score_)\n",
    "\n",
    "# import plotly.express as px\n",
    "# import numpy as np\n",
    "\n",
    "# temp = pd.DataFrame(np.arange(1,151), columns=['n_estimator'])\n",
    "\n",
    "# temp['oob_error'] = oob_error\n",
    "\n",
    "# fig = px.scatter(temp, x = 'n_estimator', y = 'oob_error')\n",
    "# fig.show()\n",
    "# fig = px.line(temp, x = 'n_estimator', y = 'oob_error')\n",
    "# fig.show()\n",
    "# temp.oob_error.argmin(), temp.oob_error.min()"
   ]
  },
  {
   "cell_type": "markdown",
   "id": "fea84047",
   "metadata": {},
   "source": [
    "결정 트리 수 증가에 따라 모델의 정확도는 증가한다. OOB Error가 감소하기 때문이다.\n",
    "\n",
    "모델의 특성을 고려하여 100을 선택한다. 왜나하면 자료가 많다고 판단했기 때문이다"
   ]
  },
  {
   "cell_type": "code",
   "execution_count": 73,
   "id": "39559c0b",
   "metadata": {
    "scrolled": true
   },
   "outputs": [],
   "source": [
    "# plt.plot(range(1, 151),oob_error)\n",
    "# plt.ylabel('oob error')\n",
    "# plt.xlabel('n_estimators')\n",
    "# n_estimators = 100"
   ]
  },
  {
   "cell_type": "markdown",
   "id": "188bb6b6",
   "metadata": {},
   "source": [
    "n_estimator = 100으로 선택"
   ]
  },
  {
   "cell_type": "markdown",
   "id": "8f1a872f",
   "metadata": {},
   "source": [
    "- min_samples_leaf : 잎사귀 노드의 최소 자료 수 변경에 따른 모델 성능"
   ]
  },
  {
   "cell_type": "code",
   "execution_count": 69,
   "id": "46064fcd",
   "metadata": {},
   "outputs": [],
   "source": [
    "# train_accuracy = []\n",
    "# test_accuracy = []\n",
    "\n",
    "# # min_sample_leaf : 잎사귀 최소 자료 수\n",
    "# para_leaf = [n_leaf for n_leaf in range(1,21)]\n",
    "\n",
    "# for v_min_samples_leaf in para_leaf:\n",
    "#     rf = RandomForestClassifier(random_state = 1234, n_estimators=100,\n",
    "#                               min_samples_leaf=v_min_samples_leaf)\n",
    "#     rf.fit(df_train_x, df_train_y)\n",
    "#     train_accuracy.append(rf.score(df_train_x, df_train_y))\n",
    "#     test_accuracy.append(rf.score(df_test_x, df_test_y))\n",
    "    \n",
    "# df_accuracy_split = pd.DataFrame()\n",
    "# df_accuracy_split[\"MinSamplesLeaf\"] = para_leaf\n",
    "# df_accuracy_split[\"Trainaccuracy\"] = train_accuracy\n",
    "# df_accuracy_split[\"Testaccuracy\"] = test_accuracy\n",
    "# df_accuracy_split.round(3)"
   ]
  },
  {
   "cell_type": "code",
   "execution_count": 70,
   "id": "764599b4",
   "metadata": {
    "scrolled": false
   },
   "outputs": [],
   "source": [
    "# plt.plot(para_leaf,train_accuracy,linestyle = \"-\",label = \"Train accuracy\")\n",
    "# plt.plot(para_leaf,test_accuracy,linestyle = \"--\",label = \"Test accuracy\")\n",
    "# plt.ylabel(\"accuracy\")\n",
    "# plt.xlabel(\"min sampels leaf\")\n",
    "# plt.legend()"
   ]
  },
  {
   "cell_type": "markdown",
   "id": "645365a6",
   "metadata": {},
   "source": [
    "min_samples_leaf => 2 로 선택"
   ]
  },
  {
   "cell_type": "markdown",
   "id": "d7624632",
   "metadata": {},
   "source": [
    " - min_samples_split : 분리 노드의 최소 자료 수 변경"
   ]
  },
  {
   "cell_type": "code",
   "execution_count": 72,
   "id": "8b16b41f",
   "metadata": {},
   "outputs": [],
   "source": [
    "# train_accuracy = []\n",
    "# test_accuracy = []\n",
    "\n",
    "# # min_sample_split : 분할하기 위한 노드의 최소자료 수\n",
    "# para_split = [n_split * 2 for n_split in range(1,5)]\n",
    "\n",
    "# for v_min_samples_split in para_split:\n",
    "#     rf = RandomForestClassifier(random_state = 1234, n_estimators=100,\n",
    "#                               min_samples_leaf=2, min_samples_split= v_min_samples_split)\n",
    "#     rf.fit(df_train_x, df_train_y)\n",
    "#     train_accuracy.append(rf.score(df_train_x, df_train_y))\n",
    "#     test_accuracy.append(rf.score(df_test_x, df_test_y))\n",
    "    \n",
    "# # 결과 저장    \n",
    "# df_accuracy_split = pd.DataFrame()\n",
    "# df_accuracy_split[\"MinSamplesSplit\"] = para_split\n",
    "# df_accuracy_split[\"Trainaccuracy\"] = train_accuracy\n",
    "# df_accuracy_split[\"Testaccuracy\"] = test_accuracy\n",
    "# df_accuracy_split.round(3)"
   ]
  },
  {
   "cell_type": "markdown",
   "id": "f899c7fc",
   "metadata": {},
   "source": [
    "=> min_samples_split 3로 결정"
   ]
  },
  {
   "cell_type": "markdown",
   "id": "32e91706",
   "metadata": {},
   "source": [
    "=> 최대깊이 depth는 4로 결정"
   ]
  },
  {
   "cell_type": "markdown",
   "id": "5d296797",
   "metadata": {},
   "source": [
    "#### 최종 모델 생성"
   ]
  },
  {
   "cell_type": "code",
   "execution_count": 60,
   "id": "5d09b804",
   "metadata": {},
   "outputs": [
    {
     "name": "stdout",
     "output_type": "stream",
     "text": [
      "Accurcy on training set: 1.000\n",
      "Accuracy on test set: 1.000\n",
      "Confusion matrix: \n",
      "[[19  0]\n",
      " [ 0 41]]\n",
      "              precision    recall  f1-score   support\n",
      "\n",
      "           0      1.000     1.000     1.000        19\n",
      "           1      1.000     1.000     1.000        41\n",
      "\n",
      "    accuracy                          1.000        60\n",
      "   macro avg      1.000     1.000     1.000        60\n",
      "weighted avg      1.000     1.000     1.000        60\n",
      "\n"
     ]
    }
   ],
   "source": [
    "rf_final = RandomForestClassifier(random_state=1234, n_estimators=100, min_samples_leaf=2,\n",
    "                                min_samples_split=3, max_depth=4)\n",
    "\n",
    "rf_final.fit(df_train_x, df_train_y)\n",
    "\n",
    "y_pred = rf_final.predict(df_test_x)\n",
    "\n",
    "# train 모델 정확도\n",
    "print(\"Accurcy on training set: {:.3f}\".format(rf_final.score(df_train_x,df_train_y)))\n",
    "\n",
    "# test 모델 정확도\n",
    "print(\"Accuracy on test set: {:.3f}\".format(rf_final.score(df_test_x,df_test_y)))\n",
    "\n",
    "\n",
    "print(\"Confusion matrix: \\n{}\".format(confusion_matrix(df_test_y, y_pred)))\n",
    "\n",
    "print(classification_report(df_test_y, y_pred, digits=3))"
   ]
  },
  {
   "cell_type": "markdown",
   "id": "35d6b613",
   "metadata": {},
   "source": [
    "|/|음성|양성|\n",
    "|------|---|---|\n",
    "|음성|True negative|False positive|\n",
    "|양성|False negative|True positive|\n",
    "\n",
    "* Accuracy :예측값 중 정확한 예측을 어느정도로 했는지 확인하는 지표 => 91%로 괜찮은 성능을 가짐\n",
    "\n",
    "* f1 score :  macro avg는 단순 평균, weighted avg는 각 클래스에 속하는 표본의 갯수로 가중평균값. 이 둘의 f1-score와 accuracy가 차이가 많이 없어야 괜찮은 모델이다. f1score가 0과 1 모두 0.8 이상이므로 이 모델은 좋은 모델이라고 할 수 있다.\n",
    "\n",
    "* 정밀도(Precision) : Positive로 예측한 경우 중 실제로 Positive인 비율이다, 즉 예측값이 얼마나 정확한가 TP/(TP+FP)\n",
    "\n",
    "* 재현율(Recall) : 실제 Positive인 것 중 올바르게 Positive를 맞춘 것의 비율 이다다, 즉 실제 정답을 얼마나 맞췄느냐 TP/(TP+FN)\n",
    "\n",
    "의사결정나무를 이용하여 예측을 했을 경우 accuracy가 0.906 이었는데 0.914로 상승한 것을 보아 랜덤포레스트의 모델이 의사결정나무보다 더 높은 정확도를 보여준다. \n",
    "\n",
    "실제로 유방암인데 유방암이라고 판단하지 않는 경우가 제일 위험하다. \n",
    "\n",
    "이전의 recall값은 0.761이었는데 0.806으로 소폭 상승하였다. 이 모델의 경우 유방암이 걸린 사람을 더 잘 알 수 있게 하는 모델로 전에 만든 의사결정나무보다 더 좋은 설명력을 가진 모델이라고 할 수 있다. \n",
    "\n"
   ]
  },
  {
   "cell_type": "markdown",
   "id": "f77aec11",
   "metadata": {},
   "source": [
    "- 최종 모델 시각화 : graphviz 활용"
   ]
  },
  {
   "cell_type": "code",
   "execution_count": 221,
   "id": "a9c8086e",
   "metadata": {},
   "outputs": [
    {
     "data": {
      "image/svg+xml": [
       "<?xml version=\"1.0\" encoding=\"UTF-8\" standalone=\"no\"?>\n",
       "<!DOCTYPE svg PUBLIC \"-//W3C//DTD SVG 1.1//EN\"\n",
       " \"http://www.w3.org/Graphics/SVG/1.1/DTD/svg11.dtd\">\n",
       "<!-- Generated by graphviz version 2.50.0 (0)\n",
       " -->\n",
       "<!-- Title: Tree Pages: 1 -->\n",
       "<svg width=\"720pt\" height=\"432pt\"\n",
       " viewBox=\"0.00 0.00 720.00 431.73\" xmlns=\"http://www.w3.org/2000/svg\" xmlns:xlink=\"http://www.w3.org/1999/xlink\">\n",
       "<g id=\"graph0\" class=\"graph\" transform=\"scale(0.91 0.91) rotate(0) translate(4 473)\">\n",
       "<title>Tree</title>\n",
       "<polygon fill=\"white\" stroke=\"transparent\" points=\"-4,4 -4,-473 791.5,-473 791.5,4 -4,4\"/>\n",
       "<!-- 0 -->\n",
       "<g id=\"node1\" class=\"node\">\n",
       "<title>0</title>\n",
       "<polygon fill=\"#f7d9c3\" stroke=\"black\" points=\"449,-469 222,-469 222,-401 449,-401 449,-469\"/>\n",
       "<text text-anchor=\"middle\" x=\"335.5\" y=\"-453.8\" font-family=\"Helvetica,sans-Serif\" font-size=\"14.00\">mean_compactness &lt;= 0.098</text>\n",
       "<text text-anchor=\"middle\" x=\"335.5\" y=\"-438.8\" font-family=\"Helvetica,sans-Serif\" font-size=\"14.00\">gini = 0.484</text>\n",
       "<text text-anchor=\"middle\" x=\"335.5\" y=\"-423.8\" font-family=\"Helvetica,sans-Serif\" font-size=\"14.00\">samples = 129</text>\n",
       "<text text-anchor=\"middle\" x=\"335.5\" y=\"-408.8\" font-family=\"Helvetica,sans-Serif\" font-size=\"14.00\">value = [113, 79]</text>\n",
       "</g>\n",
       "<!-- 1 -->\n",
       "<g id=\"node2\" class=\"node\">\n",
       "<title>1</title>\n",
       "<polygon fill=\"#53aae8\" stroke=\"black\" points=\"331,-365 72,-365 72,-297 331,-297 331,-365\"/>\n",
       "<text text-anchor=\"middle\" x=\"201.5\" y=\"-349.8\" font-family=\"Helvetica,sans-Serif\" font-size=\"14.00\">mean_fractal_dimension &lt;= 0.053</text>\n",
       "<text text-anchor=\"middle\" x=\"201.5\" y=\"-334.8\" font-family=\"Helvetica,sans-Serif\" font-size=\"14.00\">gini = 0.205</text>\n",
       "<text text-anchor=\"middle\" x=\"201.5\" y=\"-319.8\" font-family=\"Helvetica,sans-Serif\" font-size=\"14.00\">samples = 49</text>\n",
       "<text text-anchor=\"middle\" x=\"201.5\" y=\"-304.8\" font-family=\"Helvetica,sans-Serif\" font-size=\"14.00\">value = [8, 61]</text>\n",
       "</g>\n",
       "<!-- 0&#45;&gt;1 -->\n",
       "<g id=\"edge1\" class=\"edge\">\n",
       "<title>0&#45;&gt;1</title>\n",
       "<path fill=\"none\" stroke=\"black\" d=\"M291.99,-400.88C279.71,-391.53 266.21,-381.26 253.48,-371.57\"/>\n",
       "<polygon fill=\"black\" stroke=\"black\" points=\"255.32,-368.57 245.25,-365.3 251.08,-374.14 255.32,-368.57\"/>\n",
       "<text text-anchor=\"middle\" x=\"248.61\" y=\"-386.37\" font-family=\"Helvetica,sans-Serif\" font-size=\"14.00\">True</text>\n",
       "</g>\n",
       "<!-- 8 -->\n",
       "<g id=\"node9\" class=\"node\">\n",
       "<title>8</title>\n",
       "<polygon fill=\"#e9975b\" stroke=\"black\" points=\"591.5,-365 349.5,-365 349.5,-297 591.5,-297 591.5,-365\"/>\n",
       "<text text-anchor=\"middle\" x=\"470.5\" y=\"-349.8\" font-family=\"Helvetica,sans-Serif\" font-size=\"14.00\">worst_concave_points &lt;= 0.106</text>\n",
       "<text text-anchor=\"middle\" x=\"470.5\" y=\"-334.8\" font-family=\"Helvetica,sans-Serif\" font-size=\"14.00\">gini = 0.25</text>\n",
       "<text text-anchor=\"middle\" x=\"470.5\" y=\"-319.8\" font-family=\"Helvetica,sans-Serif\" font-size=\"14.00\">samples = 80</text>\n",
       "<text text-anchor=\"middle\" x=\"470.5\" y=\"-304.8\" font-family=\"Helvetica,sans-Serif\" font-size=\"14.00\">value = [105, 18]</text>\n",
       "</g>\n",
       "<!-- 0&#45;&gt;8 -->\n",
       "<g id=\"edge8\" class=\"edge\">\n",
       "<title>0&#45;&gt;8</title>\n",
       "<path fill=\"none\" stroke=\"black\" d=\"M379.33,-400.88C391.71,-391.53 405.3,-381.26 418.13,-371.57\"/>\n",
       "<polygon fill=\"black\" stroke=\"black\" points=\"420.56,-374.12 426.43,-365.3 416.34,-368.54 420.56,-374.12\"/>\n",
       "<text text-anchor=\"middle\" x=\"422.98\" y=\"-386.36\" font-family=\"Helvetica,sans-Serif\" font-size=\"14.00\">False</text>\n",
       "</g>\n",
       "<!-- 2 -->\n",
       "<g id=\"node3\" class=\"node\">\n",
       "<title>2</title>\n",
       "<polygon fill=\"#e58139\" stroke=\"black\" points=\"113,-253.5 0,-253.5 0,-200.5 113,-200.5 113,-253.5\"/>\n",
       "<text text-anchor=\"middle\" x=\"56.5\" y=\"-238.3\" font-family=\"Helvetica,sans-Serif\" font-size=\"14.00\">gini = 0.0</text>\n",
       "<text text-anchor=\"middle\" x=\"56.5\" y=\"-223.3\" font-family=\"Helvetica,sans-Serif\" font-size=\"14.00\">samples = 4</text>\n",
       "<text text-anchor=\"middle\" x=\"56.5\" y=\"-208.3\" font-family=\"Helvetica,sans-Serif\" font-size=\"14.00\">value = [4, 0]</text>\n",
       "</g>\n",
       "<!-- 1&#45;&gt;2 -->\n",
       "<g id=\"edge2\" class=\"edge\">\n",
       "<title>1&#45;&gt;2</title>\n",
       "<path fill=\"none\" stroke=\"black\" d=\"M154.42,-296.88C137.38,-284.9 118.19,-271.4 101.35,-259.55\"/>\n",
       "<polygon fill=\"black\" stroke=\"black\" points=\"102.97,-256.41 92.78,-253.52 98.94,-262.14 102.97,-256.41\"/>\n",
       "</g>\n",
       "<!-- 3 -->\n",
       "<g id=\"node4\" class=\"node\">\n",
       "<title>3</title>\n",
       "<polygon fill=\"#46a3e7\" stroke=\"black\" points=\"319.5,-261 131.5,-261 131.5,-193 319.5,-193 319.5,-261\"/>\n",
       "<text text-anchor=\"middle\" x=\"225.5\" y=\"-245.8\" font-family=\"Helvetica,sans-Serif\" font-size=\"14.00\">mean_radius &lt;= 14.445</text>\n",
       "<text text-anchor=\"middle\" x=\"225.5\" y=\"-230.8\" font-family=\"Helvetica,sans-Serif\" font-size=\"14.00\">gini = 0.116</text>\n",
       "<text text-anchor=\"middle\" x=\"225.5\" y=\"-215.8\" font-family=\"Helvetica,sans-Serif\" font-size=\"14.00\">samples = 45</text>\n",
       "<text text-anchor=\"middle\" x=\"225.5\" y=\"-200.8\" font-family=\"Helvetica,sans-Serif\" font-size=\"14.00\">value = [4, 61]</text>\n",
       "</g>\n",
       "<!-- 1&#45;&gt;3 -->\n",
       "<g id=\"edge3\" class=\"edge\">\n",
       "<title>1&#45;&gt;3</title>\n",
       "<path fill=\"none\" stroke=\"black\" d=\"M209.29,-296.88C211.22,-288.69 213.31,-279.79 215.34,-271.19\"/>\n",
       "<polygon fill=\"black\" stroke=\"black\" points=\"218.78,-271.84 217.66,-261.3 211.97,-270.23 218.78,-271.84\"/>\n",
       "</g>\n",
       "<!-- 4 -->\n",
       "<g id=\"node5\" class=\"node\">\n",
       "<title>4</title>\n",
       "<polygon fill=\"#399de5\" stroke=\"black\" points=\"237.5,-149.5 115.5,-149.5 115.5,-96.5 237.5,-96.5 237.5,-149.5\"/>\n",
       "<text text-anchor=\"middle\" x=\"176.5\" y=\"-134.3\" font-family=\"Helvetica,sans-Serif\" font-size=\"14.00\">gini = 0.0</text>\n",
       "<text text-anchor=\"middle\" x=\"176.5\" y=\"-119.3\" font-family=\"Helvetica,sans-Serif\" font-size=\"14.00\">samples = 38</text>\n",
       "<text text-anchor=\"middle\" x=\"176.5\" y=\"-104.3\" font-family=\"Helvetica,sans-Serif\" font-size=\"14.00\">value = [0, 56]</text>\n",
       "</g>\n",
       "<!-- 3&#45;&gt;4 -->\n",
       "<g id=\"edge4\" class=\"edge\">\n",
       "<title>3&#45;&gt;4</title>\n",
       "<path fill=\"none\" stroke=\"black\" d=\"M209.59,-192.88C204.36,-182 198.53,-169.86 193.24,-158.85\"/>\n",
       "<polygon fill=\"black\" stroke=\"black\" points=\"196.24,-157.02 188.76,-149.52 189.93,-160.05 196.24,-157.02\"/>\n",
       "</g>\n",
       "<!-- 5 -->\n",
       "<g id=\"node6\" class=\"node\">\n",
       "<title>5</title>\n",
       "<polygon fill=\"#d7ebfa\" stroke=\"black\" points=\"429,-157 256,-157 256,-89 429,-89 429,-157\"/>\n",
       "<text text-anchor=\"middle\" x=\"342.5\" y=\"-141.8\" font-family=\"Helvetica,sans-Serif\" font-size=\"14.00\">radius_error &lt;= 0.376</text>\n",
       "<text text-anchor=\"middle\" x=\"342.5\" y=\"-126.8\" font-family=\"Helvetica,sans-Serif\" font-size=\"14.00\">gini = 0.494</text>\n",
       "<text text-anchor=\"middle\" x=\"342.5\" y=\"-111.8\" font-family=\"Helvetica,sans-Serif\" font-size=\"14.00\">samples = 7</text>\n",
       "<text text-anchor=\"middle\" x=\"342.5\" y=\"-96.8\" font-family=\"Helvetica,sans-Serif\" font-size=\"14.00\">value = [4, 5]</text>\n",
       "</g>\n",
       "<!-- 3&#45;&gt;5 -->\n",
       "<g id=\"edge5\" class=\"edge\">\n",
       "<title>3&#45;&gt;5</title>\n",
       "<path fill=\"none\" stroke=\"black\" d=\"M263.49,-192.88C274.01,-183.71 285.55,-173.65 296.48,-164.12\"/>\n",
       "<polygon fill=\"black\" stroke=\"black\" points=\"299.07,-166.51 304.3,-157.3 294.47,-161.23 299.07,-166.51\"/>\n",
       "</g>\n",
       "<!-- 6 -->\n",
       "<g id=\"node7\" class=\"node\">\n",
       "<title>6</title>\n",
       "<polygon fill=\"#399de5\" stroke=\"black\" points=\"356,-53 243,-53 243,0 356,0 356,-53\"/>\n",
       "<text text-anchor=\"middle\" x=\"299.5\" y=\"-37.8\" font-family=\"Helvetica,sans-Serif\" font-size=\"14.00\">gini = 0.0</text>\n",
       "<text text-anchor=\"middle\" x=\"299.5\" y=\"-22.8\" font-family=\"Helvetica,sans-Serif\" font-size=\"14.00\">samples = 4</text>\n",
       "<text text-anchor=\"middle\" x=\"299.5\" y=\"-7.8\" font-family=\"Helvetica,sans-Serif\" font-size=\"14.00\">value = [0, 5]</text>\n",
       "</g>\n",
       "<!-- 5&#45;&gt;6 -->\n",
       "<g id=\"edge6\" class=\"edge\">\n",
       "<title>5&#45;&gt;6</title>\n",
       "<path fill=\"none\" stroke=\"black\" d=\"M327.46,-88.95C323.55,-80.35 319.32,-71.06 315.37,-62.37\"/>\n",
       "<polygon fill=\"black\" stroke=\"black\" points=\"318.54,-60.89 311.21,-53.24 312.17,-63.79 318.54,-60.89\"/>\n",
       "</g>\n",
       "<!-- 7 -->\n",
       "<g id=\"node8\" class=\"node\">\n",
       "<title>7</title>\n",
       "<polygon fill=\"#e58139\" stroke=\"black\" points=\"487,-53 374,-53 374,0 487,0 487,-53\"/>\n",
       "<text text-anchor=\"middle\" x=\"430.5\" y=\"-37.8\" font-family=\"Helvetica,sans-Serif\" font-size=\"14.00\">gini = 0.0</text>\n",
       "<text text-anchor=\"middle\" x=\"430.5\" y=\"-22.8\" font-family=\"Helvetica,sans-Serif\" font-size=\"14.00\">samples = 3</text>\n",
       "<text text-anchor=\"middle\" x=\"430.5\" y=\"-7.8\" font-family=\"Helvetica,sans-Serif\" font-size=\"14.00\">value = [4, 0]</text>\n",
       "</g>\n",
       "<!-- 5&#45;&gt;7 -->\n",
       "<g id=\"edge7\" class=\"edge\">\n",
       "<title>5&#45;&gt;7</title>\n",
       "<path fill=\"none\" stroke=\"black\" d=\"M373.28,-88.95C381.8,-79.8 391.04,-69.87 399.57,-60.71\"/>\n",
       "<polygon fill=\"black\" stroke=\"black\" points=\"402.28,-62.94 406.53,-53.24 397.16,-58.17 402.28,-62.94\"/>\n",
       "</g>\n",
       "<!-- 9 -->\n",
       "<g id=\"node10\" class=\"node\">\n",
       "<title>9</title>\n",
       "<polygon fill=\"#399de5\" stroke=\"black\" points=\"507.5,-253.5 385.5,-253.5 385.5,-200.5 507.5,-200.5 507.5,-253.5\"/>\n",
       "<text text-anchor=\"middle\" x=\"446.5\" y=\"-238.3\" font-family=\"Helvetica,sans-Serif\" font-size=\"14.00\">gini = 0.0</text>\n",
       "<text text-anchor=\"middle\" x=\"446.5\" y=\"-223.3\" font-family=\"Helvetica,sans-Serif\" font-size=\"14.00\">samples = 7</text>\n",
       "<text text-anchor=\"middle\" x=\"446.5\" y=\"-208.3\" font-family=\"Helvetica,sans-Serif\" font-size=\"14.00\">value = [0, 14]</text>\n",
       "</g>\n",
       "<!-- 8&#45;&gt;9 -->\n",
       "<g id=\"edge9\" class=\"edge\">\n",
       "<title>8&#45;&gt;9</title>\n",
       "<path fill=\"none\" stroke=\"black\" d=\"M462.71,-296.88C460.2,-286.22 457.41,-274.35 454.86,-263.52\"/>\n",
       "<polygon fill=\"black\" stroke=\"black\" points=\"458.2,-262.45 452.5,-253.52 451.39,-264.06 458.2,-262.45\"/>\n",
       "</g>\n",
       "<!-- 10 -->\n",
       "<g id=\"node11\" class=\"node\">\n",
       "<title>10</title>\n",
       "<polygon fill=\"#e68641\" stroke=\"black\" points=\"745.5,-261 525.5,-261 525.5,-193 745.5,-193 745.5,-261\"/>\n",
       "<text text-anchor=\"middle\" x=\"635.5\" y=\"-245.8\" font-family=\"Helvetica,sans-Serif\" font-size=\"14.00\">mean_smoothness &lt;= 0.083</text>\n",
       "<text text-anchor=\"middle\" x=\"635.5\" y=\"-230.8\" font-family=\"Helvetica,sans-Serif\" font-size=\"14.00\">gini = 0.071</text>\n",
       "<text text-anchor=\"middle\" x=\"635.5\" y=\"-215.8\" font-family=\"Helvetica,sans-Serif\" font-size=\"14.00\">samples = 73</text>\n",
       "<text text-anchor=\"middle\" x=\"635.5\" y=\"-200.8\" font-family=\"Helvetica,sans-Serif\" font-size=\"14.00\">value = [105, 4]</text>\n",
       "</g>\n",
       "<!-- 8&#45;&gt;10 -->\n",
       "<g id=\"edge10\" class=\"edge\">\n",
       "<title>8&#45;&gt;10</title>\n",
       "<path fill=\"none\" stroke=\"black\" d=\"M524.07,-296.88C539.71,-287.21 556.94,-276.56 573.08,-266.59\"/>\n",
       "<polygon fill=\"black\" stroke=\"black\" points=\"575.25,-269.36 581.92,-261.12 571.57,-263.41 575.25,-269.36\"/>\n",
       "</g>\n",
       "<!-- 11 -->\n",
       "<g id=\"node12\" class=\"node\">\n",
       "<title>11</title>\n",
       "<polygon fill=\"#399de5\" stroke=\"black\" points=\"577,-149.5 464,-149.5 464,-96.5 577,-96.5 577,-149.5\"/>\n",
       "<text text-anchor=\"middle\" x=\"520.5\" y=\"-134.3\" font-family=\"Helvetica,sans-Serif\" font-size=\"14.00\">gini = 0.0</text>\n",
       "<text text-anchor=\"middle\" x=\"520.5\" y=\"-119.3\" font-family=\"Helvetica,sans-Serif\" font-size=\"14.00\">samples = 2</text>\n",
       "<text text-anchor=\"middle\" x=\"520.5\" y=\"-104.3\" font-family=\"Helvetica,sans-Serif\" font-size=\"14.00\">value = [0, 2]</text>\n",
       "</g>\n",
       "<!-- 10&#45;&gt;11 -->\n",
       "<g id=\"edge11\" class=\"edge\">\n",
       "<title>10&#45;&gt;11</title>\n",
       "<path fill=\"none\" stroke=\"black\" d=\"M598.16,-192.88C584.9,-181.12 569.99,-167.89 556.81,-156.2\"/>\n",
       "<polygon fill=\"black\" stroke=\"black\" points=\"559.08,-153.54 549.27,-149.52 554.43,-158.77 559.08,-153.54\"/>\n",
       "</g>\n",
       "<!-- 12 -->\n",
       "<g id=\"node13\" class=\"node\">\n",
       "<title>12</title>\n",
       "<polygon fill=\"#e5833d\" stroke=\"black\" points=\"774,-157 595,-157 595,-89 774,-89 774,-157\"/>\n",
       "<text text-anchor=\"middle\" x=\"684.5\" y=\"-141.8\" font-family=\"Helvetica,sans-Serif\" font-size=\"14.00\">mean_radius &lt;= 13.74</text>\n",
       "<text text-anchor=\"middle\" x=\"684.5\" y=\"-126.8\" font-family=\"Helvetica,sans-Serif\" font-size=\"14.00\">gini = 0.037</text>\n",
       "<text text-anchor=\"middle\" x=\"684.5\" y=\"-111.8\" font-family=\"Helvetica,sans-Serif\" font-size=\"14.00\">samples = 71</text>\n",
       "<text text-anchor=\"middle\" x=\"684.5\" y=\"-96.8\" font-family=\"Helvetica,sans-Serif\" font-size=\"14.00\">value = [105, 2]</text>\n",
       "</g>\n",
       "<!-- 10&#45;&gt;12 -->\n",
       "<g id=\"edge12\" class=\"edge\">\n",
       "<title>10&#45;&gt;12</title>\n",
       "<path fill=\"none\" stroke=\"black\" d=\"M651.41,-192.88C655.47,-184.42 659.9,-175.21 664.15,-166.35\"/>\n",
       "<polygon fill=\"black\" stroke=\"black\" points=\"667.33,-167.83 668.5,-157.3 661.02,-164.8 667.33,-167.83\"/>\n",
       "</g>\n",
       "<!-- 13 -->\n",
       "<g id=\"node14\" class=\"node\">\n",
       "<title>13</title>\n",
       "<polygon fill=\"#eeab7b\" stroke=\"black\" points=\"647,-53 534,-53 534,0 647,0 647,-53\"/>\n",
       "<text text-anchor=\"middle\" x=\"590.5\" y=\"-37.8\" font-family=\"Helvetica,sans-Serif\" font-size=\"14.00\">gini = 0.375</text>\n",
       "<text text-anchor=\"middle\" x=\"590.5\" y=\"-22.8\" font-family=\"Helvetica,sans-Serif\" font-size=\"14.00\">samples = 7</text>\n",
       "<text text-anchor=\"middle\" x=\"590.5\" y=\"-7.8\" font-family=\"Helvetica,sans-Serif\" font-size=\"14.00\">value = [6, 2]</text>\n",
       "</g>\n",
       "<!-- 12&#45;&gt;13 -->\n",
       "<g id=\"edge13\" class=\"edge\">\n",
       "<title>12&#45;&gt;13</title>\n",
       "<path fill=\"none\" stroke=\"black\" d=\"M651.62,-88.95C642.43,-79.71 632.45,-69.67 623.26,-60.44\"/>\n",
       "<polygon fill=\"black\" stroke=\"black\" points=\"625.63,-57.86 616.1,-53.24 620.67,-62.79 625.63,-57.86\"/>\n",
       "</g>\n",
       "<!-- 14 -->\n",
       "<g id=\"node15\" class=\"node\">\n",
       "<title>14</title>\n",
       "<polygon fill=\"#e58139\" stroke=\"black\" points=\"787.5,-53 665.5,-53 665.5,0 787.5,0 787.5,-53\"/>\n",
       "<text text-anchor=\"middle\" x=\"726.5\" y=\"-37.8\" font-family=\"Helvetica,sans-Serif\" font-size=\"14.00\">gini = 0.0</text>\n",
       "<text text-anchor=\"middle\" x=\"726.5\" y=\"-22.8\" font-family=\"Helvetica,sans-Serif\" font-size=\"14.00\">samples = 64</text>\n",
       "<text text-anchor=\"middle\" x=\"726.5\" y=\"-7.8\" font-family=\"Helvetica,sans-Serif\" font-size=\"14.00\">value = [99, 0]</text>\n",
       "</g>\n",
       "<!-- 12&#45;&gt;14 -->\n",
       "<g id=\"edge14\" class=\"edge\">\n",
       "<title>12&#45;&gt;14</title>\n",
       "<path fill=\"none\" stroke=\"black\" d=\"M699.19,-88.95C702.97,-80.44 707.05,-71.26 710.88,-62.65\"/>\n",
       "<polygon fill=\"black\" stroke=\"black\" points=\"714.2,-63.8 715.06,-53.24 707.8,-60.95 714.2,-63.8\"/>\n",
       "</g>\n",
       "</g>\n",
       "</svg>\n"
      ],
      "text/plain": [
       "<graphviz.sources.Source at 0x7f1bce740730>"
      ]
     },
     "metadata": {},
     "output_type": "display_data"
    }
   ],
   "source": [
    "# 변수명 저장\n",
    "v_feature_name = df_train_x.columns\n",
    "\n",
    "# 0번 트리\n",
    "export_graphviz(rf_final.estimators_[0], out_file=\"rfr_final_0.dot\", feature_names=v_feature_name,\\\n",
    "               impurity = True, filled=True)\n",
    "\n",
    "#tree_final_0.dot그리기\n",
    "with open(\"rfr_final_0.dot\") as f:\n",
    "    dot_graph = f.read()\n",
    "fixed_dot_graph = \"digraph Tree {\\nsize=\\\"10,10\\\";\\n\" + dot_graph.split('{', 1)[1]\n",
    "display(graphviz.Source(fixed_dot_graph))"
   ]
  },
  {
   "cell_type": "markdown",
   "id": "21f4ef25",
   "metadata": {},
   "source": [
    "#### 결론 도출"
   ]
  },
  {
   "cell_type": "markdown",
   "id": "9c5f9fc1",
   "metadata": {},
   "source": [
    "feature_importances_ : 설명변수의 중요도"
   ]
  },
  {
   "cell_type": "code",
   "execution_count": 64,
   "id": "1424e318",
   "metadata": {},
   "outputs": [
    {
     "data": {
      "text/html": [
       "<div>\n",
       "<style scoped>\n",
       "    .dataframe tbody tr th:only-of-type {\n",
       "        vertical-align: middle;\n",
       "    }\n",
       "\n",
       "    .dataframe tbody tr th {\n",
       "        vertical-align: top;\n",
       "    }\n",
       "\n",
       "    .dataframe thead th {\n",
       "        text-align: right;\n",
       "    }\n",
       "</style>\n",
       "<table border=\"1\" class=\"dataframe\">\n",
       "  <thead>\n",
       "    <tr style=\"text-align: right;\">\n",
       "      <th></th>\n",
       "      <th>Feature</th>\n",
       "      <th>importance</th>\n",
       "    </tr>\n",
       "  </thead>\n",
       "  <tbody>\n",
       "    <tr>\n",
       "      <th>2</th>\n",
       "      <td>PETAL_LENGTH</td>\n",
       "      <td>0.489</td>\n",
       "    </tr>\n",
       "    <tr>\n",
       "      <th>3</th>\n",
       "      <td>PETAL_WIDTH</td>\n",
       "      <td>0.364</td>\n",
       "    </tr>\n",
       "    <tr>\n",
       "      <th>0</th>\n",
       "      <td>SEPAL_LENGTH</td>\n",
       "      <td>0.129</td>\n",
       "    </tr>\n",
       "    <tr>\n",
       "      <th>1</th>\n",
       "      <td>SEPAL_WIDTH</td>\n",
       "      <td>0.019</td>\n",
       "    </tr>\n",
       "  </tbody>\n",
       "</table>\n",
       "</div>"
      ],
      "text/plain": [
       "        Feature  importance\n",
       "2  PETAL_LENGTH       0.489\n",
       "3   PETAL_WIDTH       0.364\n",
       "0  SEPAL_LENGTH       0.129\n",
       "1   SEPAL_WIDTH       0.019"
      ]
     },
     "execution_count": 64,
     "metadata": {},
     "output_type": "execute_result"
    }
   ],
   "source": [
    "# tree.feature_importances_로 설명변수 중요도 확인 및 테이블로 저장\n",
    "df_importance = pd.DataFrame()\n",
    "df_importance[\"Feature\"] = v_feature_name\n",
    "df_importance[\"importance\"] = rf_final.feature_importances_\n",
    "\n",
    "# df_feature_importance의 테이블을 중요도별로 정렬\n",
    "df_importance.sort_values(\"importance\", ascending=False, inplace = True)\n",
    "df_importance.round(3)"
   ]
  },
  {
   "cell_type": "code",
   "execution_count": 65,
   "id": "b00e868e",
   "metadata": {
    "scrolled": true
   },
   "outputs": [
    {
     "data": {
      "text/plain": [
       "Text(0, 0.5, '변수')"
      ]
     },
     "execution_count": 65,
     "metadata": {},
     "output_type": "execute_result"
    },
    {
     "data": {
      "image/png": "[encoded data removed]",
      "text/plain": [
       "<Figure size 640x480 with 1 Axes>"
      ]
     },
     "metadata": {},
     "output_type": "display_data"
    }
   ],
   "source": [
    "# 설명변수 중요도 그래프\n",
    "# 중요도가 높은 변수를 상위에 그림\n",
    "df_importance.sort_values(\"importance\", ascending=True, inplace = True)\n",
    "coordinates = range(len(df_importance))\n",
    "plt.barh(y=coordinates, width = df_importance[\"importance\"])\n",
    "plt.yticks(coordinates,df_importance[\"Feature\"])\n",
    "plt.xlabel(\"변수 중요도\")\n",
    "plt.ylabel(\"변수\")"
   ]
  }
 ],
 "metadata": {
  "kernelspec": {
   "display_name": "Python 3 (ipykernel)",
   "language": "python",
   "name": "python3"
  },
  "language_info": {
   "codemirror_mode": {
    "name": "ipython",
    "version": 3
   },
   "file_extension": ".py",
   "mimetype": "text/x-python",
   "name": "python",
   "nbconvert_exporter": "python",
   "pygments_lexer": "ipython3",
   "version": "3.10.9"
  }
 },
 "nbformat": 4,
 "nbformat_minor": 5
}
