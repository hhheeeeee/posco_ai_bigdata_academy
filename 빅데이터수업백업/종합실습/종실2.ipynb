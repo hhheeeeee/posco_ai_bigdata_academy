{
 "cells": [
  {
   "cell_type": "code",
   "execution_count": null,
   "id": "5ee6336c",
   "metadata": {},
   "outputs": [],
   "source": [
    "import pandas as pd\n",
    "import numpy as np\n",
    "import matplotlib\n",
    "import matplotlib.pyplot as plt\n",
    "import seaborn as sns\n",
    "from statsmodels.api import add_constant\n",
    "from sklearn.svm import SVC \n",
    "from sklearn.model_selection import train_test_split\n",
    "from sklearn.preprocessing import StandardScaler\n",
    "from sklearn.model_selection import GridSearchCV\n",
    "from scipy.stats import chi2_contingency\n",
    "from sklearn.metrics import accuracy_score, f1_score\n",
    "from sklearn.metrics import confusion_matrix, classification_report\n",
    "from sklearn.tree import export_graphviz\n",
    "import graphviz\n",
    "from statsmodels.api import Logit\n",
    "from sklearn.metrics import accuracy_score\n",
    "from sklearn.tree import DecisionTreeClassifier\n",
    "from sklearn.ensemble import RandomForestClassifier\n",
    "from sklearn.ensemble import GradientBoostingClassifier\n",
    "from sklearn.metrics import confusion_matrix\n",
    "%matplotlib inline\n",
    "#matplotlib.rc('font', family = \"NanumGothic\")\n",
    "#plt.rc('font', family = \"NanumGothic\")\n",
    "#plt.rcParams[\"font.family\"] = 'NanumGothic'\n",
    "import matplotlib.pyplot as plt\n",
    "plt.rc('font', family='Malgun Gothic')\n",
    "plt.rcParams['axes.unicode_minus'] = False"
   ]
  },
  {
   "cell_type": "code",
   "execution_count": null,
   "id": "8276d7b3",
   "metadata": {},
   "outputs": [],
   "source": [
    "import os\n",
    "os.chdir(\"C:/Users/PIAI/Downloads/실습화일/2. Big Data 분석\")\n",
    "os.getcwd()\n",
    "df_raw = pd.read_csv(\"SCALE불량.csv\", encoding=\"cp949\")"
   ]
  },
  {
   "cell_type": "markdown",
   "id": "1792a3b5",
   "metadata": {},
   "source": [
    "# Data processing"
   ]
  },
  {
   "cell_type": "code",
   "execution_count": null,
   "id": "9ea846e3",
   "metadata": {},
   "outputs": [],
   "source": [
    "df_raw.head()"
   ]
  },
  {
   "cell_type": "code",
   "execution_count": null,
   "id": "7fe935b3",
   "metadata": {
    "scrolled": false
   },
   "outputs": [],
   "source": [
    "df_raw.info()"
   ]
  },
  {
   "cell_type": "code",
   "execution_count": null,
   "id": "2a9a1fab",
   "metadata": {},
   "outputs": [],
   "source": [
    "# 사전 조사에 의하여 목표변수와 일절 상관없다고 여겨지는 열 삭제\n",
    "df_raw = df_raw.drop(df_raw.columns[[0,1,3,4,11,21]], axis='columns')"
   ]
  },
  {
   "cell_type": "code",
   "execution_count": null,
   "id": "1eef3d49",
   "metadata": {},
   "outputs": [],
   "source": [
    "df_raw.describe()"
   ]
  },
  {
   "cell_type": "code",
   "execution_count": null,
   "id": "48602d8d",
   "metadata": {},
   "outputs": [],
   "source": [
    "#결측치 확인\n",
    "df_raw.isnull().sum()"
   ]
  },
  {
   "cell_type": "code",
   "execution_count": null,
   "id": "1d4a9450",
   "metadata": {},
   "outputs": [],
   "source": [
    "def defect(x):\n",
    "    if x == \"불량\":\n",
    "        return 1\n",
    "    else:\n",
    "        return 0"
   ]
  },
  {
   "cell_type": "code",
   "execution_count": null,
   "id": "3f124d33",
   "metadata": {},
   "outputs": [],
   "source": [
    "# scale열이 '음성', '양성' 을 정수에 대입시켜 변환시켜준다\n",
    "df_raw['scale'] = df_raw['scale'].apply(defect)\n",
    "df_raw.head()"
   ]
  },
  {
   "cell_type": "code",
   "execution_count": null,
   "id": "743b56fc",
   "metadata": {},
   "outputs": [],
   "source": [
    "# 데이터에서 목표변수인 scale의 불량과 정상 비율을 확인\n",
    "df_raw.scale.value_counts(normalize=True)"
   ]
  },
  {
   "cell_type": "code",
   "execution_count": null,
   "id": "a337ef50",
   "metadata": {},
   "outputs": [],
   "source": [
    "# 설명변수 중 object형이 변수 확인\n",
    "print(df_raw['hsb'].unique())\n",
    "print(df_raw['fur_no'].unique())\n",
    "print(df_raw['rolling_method'].unique())"
   ]
  },
  {
   "cell_type": "code",
   "execution_count": null,
   "id": "2ae0bbaa",
   "metadata": {},
   "outputs": [],
   "source": [
    "df_raw.info()"
   ]
  },
  {
   "cell_type": "code",
   "execution_count": null,
   "id": "e2c3ffcf",
   "metadata": {},
   "outputs": [],
   "source": [
    "cols = ['pt_thick', 'pt_width', 'pt_length', 'fur_heat_temp', 'fur_heat_time']\n",
    "data = df_raw[cols]\n",
    "# 5개 열에 대한 boxplot을 그리기 위한 5개의 Axes 생성\n",
    "fig, axes = plt.subplots(nrows=1, ncols=5, figsize=(15,3))\n",
    "\n",
    "# 각 Axes에 대해 boxplot 그리기\n",
    "for i, ax in enumerate(axes):\n",
    "    sns.boxplot(y=data[cols[i]], ax=ax)\n",
    "    ax.set_xlabel(cols[i])\n",
    "\n",
    "# 그래프 출력\n",
    "plt.show()"
   ]
  },
  {
   "cell_type": "code",
   "execution_count": null,
   "id": "c9cb4589",
   "metadata": {},
   "outputs": [],
   "source": [
    "cols = ['fur_soak_temp', 'fur_total_time', 'fur_ex_temp', 'rolling_temp', 'descaling_count']\n",
    "data = df_raw[cols]\n",
    "# 5개 열에 대한 boxplot을 그리기 위한 5개의 Axes 생성\n",
    "fig, axes = plt.subplots(nrows=1, ncols=5, figsize=(15,3))\n",
    "\n",
    "# 각 Axes에 대해 boxplot 그리기\n",
    "for i, ax in enumerate(axes):\n",
    "    sns.boxplot(y=data[cols[i]], ax=ax)\n",
    "    ax.set_xlabel(cols[i])\n",
    "\n",
    "# 그래프 출력\n",
    "plt.show()"
   ]
  },
  {
   "cell_type": "code",
   "execution_count": null,
   "id": "a07d186d",
   "metadata": {},
   "outputs": [],
   "source": [
    "# pt_thick 열에서 300 이상인 행 삭제\n",
    "df_raw = df_raw[df_raw['pt_thick'] < 90]\n",
    "\n",
    "# rolling_temp 열에서 100 이하인 행 삭제\n",
    "df_raw = df_raw[df_raw['rolling_temp'] > 100]"
   ]
  },
  {
   "cell_type": "code",
   "execution_count": null,
   "id": "cb59ddfb",
   "metadata": {},
   "outputs": [],
   "source": [
    "df_raw.describe()"
   ]
  },
  {
   "cell_type": "code",
   "execution_count": null,
   "id": "6ded4664",
   "metadata": {
    "scrolled": true
   },
   "outputs": [],
   "source": [
    "# pt_width, rolling_temp 열 데이터 가져오기\n",
    "cols = ['pt_width', 'rolling_temp']\n",
    "data = df_raw[cols]\n",
    "# 5개 열에 대한 boxplot을 그리기 위한 5개의 Axes 생성\n",
    "fig, axes = plt.subplots(nrows=1, ncols=2, figsize=(15,3))\n",
    "\n",
    "# 각 Axes에 대해 boxplot 그리기\n",
    "for i, ax in enumerate(axes):\n",
    "    sns.boxplot(y=data[cols[i]], ax=ax)\n",
    "    ax.set_xlabel(cols[i])\n",
    "\n",
    "# 그래프 출력\n",
    "plt.show()"
   ]
  },
  {
   "cell_type": "code",
   "execution_count": null,
   "id": "985347b6",
   "metadata": {},
   "outputs": [],
   "source": [
    "#파생 변수 생성\n",
    "# 크기 = 후판 지시두꼐*(지시폭+지시길이)\n",
    "df_raw['size'] = df_raw['pt_thick'] *(df_raw['pt_width'] + df_raw['pt_length'])\n",
    "df_raw = df_raw.drop(['pt_thick', 'pt_width', 'pt_length'], axis=1)"
   ]
  },
  {
   "cell_type": "markdown",
   "id": "b34057bc",
   "metadata": {},
   "source": [
    "# 탐색적 분석"
   ]
  },
  {
   "cell_type": "code",
   "execution_count": null,
   "id": "20ba1994",
   "metadata": {},
   "outputs": [],
   "source": [
    "df_raw.columns"
   ]
  },
  {
   "cell_type": "code",
   "execution_count": null,
   "id": "74edffb8",
   "metadata": {},
   "outputs": [],
   "source": [
    "def chisquare(col, name):\n",
    "    # 빈도수를 계산하고 값이 0인 셀이 없는지 확인\n",
    "    #contingency_table = pd.crosstab(col, df_raw['scale'], margins = True)\n",
    "    contingency_table =pd.crosstab(df_raw[\"scale\"], df_raw[name], margins=True)\n",
    "    print(\"Contingency Table:\")\n",
    "    print(contingency_table)\n",
    "    print()\n",
    "    # 카이제곱 검정 수행\n",
    "    chi2, p_value, dof, expected_freq = chi2_contingency(contingency_table)\n",
    "\n",
    "    # 결과 출력\n",
    "    print(\"카이제곱 통계량: {:.2f}\".format(chi2))\n",
    "    print(\"P-값: {:.2f}\".format(p_value))\n",
    "\n",
    "    if p_value < 0.05:\n",
    "        print(\" scale에 영향을 미칩니다.\")\n",
    "    else:\n",
    "        print(\" scale에 영향을 미치지 않습니다.\")"
   ]
  },
  {
   "cell_type": "code",
   "execution_count": null,
   "id": "f1ab7485",
   "metadata": {},
   "outputs": [],
   "source": [
    "chisquare(df_raw['hsb'],'hsb')"
   ]
  },
  {
   "cell_type": "code",
   "execution_count": null,
   "id": "1afa252c",
   "metadata": {
    "scrolled": true
   },
   "outputs": [],
   "source": [
    "chisquare(df_raw['fur_no'], 'fur_no')"
   ]
  },
  {
   "cell_type": "code",
   "execution_count": null,
   "id": "1d66b260",
   "metadata": {},
   "outputs": [],
   "source": [
    "df_raw.drop(\"fur_no\", axis=1, inplace = True)"
   ]
  },
  {
   "cell_type": "code",
   "execution_count": null,
   "id": "6ce2aab5",
   "metadata": {
    "scrolled": true
   },
   "outputs": [],
   "source": [
    "chisquare(df_raw['rolling_method'], 'rolling_method')"
   ]
  },
  {
   "cell_type": "code",
   "execution_count": null,
   "id": "a819ff13",
   "metadata": {
    "scrolled": true
   },
   "outputs": [],
   "source": [
    "chisquare(df_raw['steel_kind'], 'steel_kind')"
   ]
  },
  {
   "cell_type": "markdown",
   "id": "a9cb423e",
   "metadata": {},
   "source": [
    "# 모델 생성"
   ]
  },
  {
   "cell_type": "markdown",
   "id": "8d698d45",
   "metadata": {},
   "source": [
    "## 1. 로지스틱 회귀"
   ]
  },
  {
   "cell_type": "code",
   "execution_count": null,
   "id": "f7803a42",
   "metadata": {
    "scrolled": true
   },
   "outputs": [],
   "source": [
    "df_train, df_test = train_test_split(df_raw, test_size=0.3, random_state=1234)\n",
    "\n",
    "print(\"train data size : {}\".format(df_train.shape))\n",
    "print(\"test data size : {}\".format(df_test.shape))"
   ]
  },
  {
   "cell_type": "code",
   "execution_count": null,
   "id": "f97b9f82",
   "metadata": {
    "scrolled": false
   },
   "outputs": [],
   "source": [
    "df_train['scale'].value_counts(normalize=True), df_test['scale'].value_counts(normalize=True)"
   ]
  },
  {
   "cell_type": "code",
   "execution_count": null,
   "id": "037be1d1",
   "metadata": {},
   "outputs": [],
   "source": [
    "df_train.info()"
   ]
  },
  {
   "cell_type": "code",
   "execution_count": null,
   "id": "2164fa1f",
   "metadata": {},
   "outputs": [],
   "source": [
    "log_model = Logit.from_formula(\"scale ~ C(steel_kind)+ C(hsb)+ fur_heat_temp+ fur_heat_time+\\\n",
    "       fur_soak_temp+ fur_soak_time+ fur_total_time+ fur_ex_temp+\\\n",
    "       rolling_temp+ descaling_count+ size+C(rolling_method)\", df_train)\n",
    "                               \n",
    "log_result = log_model.fit()\n",
    "print(log_result.summary())"
   ]
  },
  {
   "cell_type": "code",
   "execution_count": null,
   "id": "a764f889",
   "metadata": {},
   "outputs": [],
   "source": [
    "y_pred_train = log_result.predict(df_train)\n",
    "y_pred_train_class = (y_pred_train>0.5).astype(int)\n",
    "\n",
    "y_pred_test = log_result.predict(df_test)\n",
    "y_pred_test_class = (y_pred_test>0.4).astype(int)\n",
    "\n",
    "print('Trian 예측/분류 결과')\n",
    "print(\"Accuracy: {0:.3f}\\n\".format(accuracy_score(df_train['scale'], y_pred_train_class)))\n",
    "print('Confusion Matrix:\\n{}'.format(confusion_matrix(df_train['scale'], y_pred_train_class)),'\\n')\n",
    "print(classification_report(df_train['scale'], y_pred_train_class,target_names = ['승인', '거절'] ,digits=3))\n",
    "\n",
    "print('Test 예측/분류 결과')\n",
    "print(\"Accuracy: {0:.3f}\\n\".format(accuracy_score(df_test['scale'], y_pred_test_class)))\n",
    "print('Confusion Matrix:\\n{}'.format(confusion_matrix(df_test['scale'], y_pred_test_class)),'\\n')\n",
    "print(classification_report(df_test['scale'], y_pred_test_class,target_names = ['양성', '음성'], digits=3))"
   ]
  },
  {
   "cell_type": "code",
   "execution_count": null,
   "id": "e49248ee",
   "metadata": {},
   "outputs": [],
   "source": [
    "df_logistic_coef = pd.DataFrame({'Coef':log_result.params.values[1:]}, index = log_model.exog_names[1:])\n",
    "df_logistic_coef.plot.barh(y = 'Coef')"
   ]
  },
  {
   "cell_type": "markdown",
   "id": "85b151e8",
   "metadata": {},
   "source": [
    "------------"
   ]
  },
  {
   "cell_type": "code",
   "execution_count": null,
   "id": "ae251f1e",
   "metadata": {},
   "outputs": [],
   "source": [
    "df_scale = df_raw.drop(\"hsb\", axis=1)"
   ]
  },
  {
   "cell_type": "code",
   "execution_count": null,
   "id": "9839f79b",
   "metadata": {
    "scrolled": true
   },
   "outputs": [],
   "source": [
    "df_char = df_scale.select_dtypes(include = 'object')\n",
    "df_numeric = df_scale.select_dtypes(exclude = 'object')\n",
    "\n",
    "scaler = StandardScaler()\n",
    "np_numeric_scaled = scaler.fit_transform(df_numeric)\n",
    "df_numeric_scaled = pd.DataFrame(np_numeric_scaled, columns = df_numeric.columns)\n",
    "\n",
    "df_scaled = pd.concat([df_numeric_scaled, df_char], axis = 1)\n",
    "df_scaled.head()"
   ]
  },
  {
   "cell_type": "code",
   "execution_count": null,
   "id": "39de8219",
   "metadata": {
    "scrolled": true
   },
   "outputs": [],
   "source": [
    "df_scaled['scale'] = np.where(df_scaled['scale']>0, 1, 0)\n",
    "df_scaled.isnull().sum()"
   ]
  },
  {
   "cell_type": "code",
   "execution_count": null,
   "id": "9d3e4d2d",
   "metadata": {},
   "outputs": [],
   "source": [
    "df_scaled = df_scaled.fillna(df_scaled.mean())"
   ]
  },
  {
   "cell_type": "code",
   "execution_count": null,
   "id": "538b8039",
   "metadata": {},
   "outputs": [],
   "source": [
    "df_scaled_train, df_scaled_test = train_test_split(df_scaled, test_size=0.3, random_state=1234)\n",
    "\n",
    "print(\"train data size : {}\".format(df_train.shape))\n",
    "print(\"test data size : {}\".format(df_test.shape))"
   ]
  },
  {
   "cell_type": "markdown",
   "id": "204e3231",
   "metadata": {},
   "source": [
    "스케일링 과정에서 나누기 연산이 발생할 경우 일부 값이 무한대(inf)로 표현되거나 결측값(NaN)이 발생할 수 있습니다. 이는 주로 분산이 0인 경우 발생합니다. 이 경우, 무한대 값을 결측값으로 변환한 다음, 결측값 처리를 수행해야 합니다."
   ]
  },
  {
   "cell_type": "code",
   "execution_count": null,
   "id": "4af8f0c8",
   "metadata": {},
   "outputs": [],
   "source": [
    "print(df_scaled_train.isnull().sum())\n",
    "print((df_scaled_train == np.inf).sum())\n",
    "print((df_scaled_train == -np.inf).sum())"
   ]
  },
  {
   "cell_type": "code",
   "execution_count": null,
   "id": "add0f5f4",
   "metadata": {},
   "outputs": [],
   "source": [
    "df_scaled = df_scaled.dropna()"
   ]
  },
  {
   "cell_type": "code",
   "execution_count": null,
   "id": "bbba776c",
   "metadata": {},
   "outputs": [],
   "source": [
    "scaled_log_model = Logit.from_formula(\"scale ~ C(steel_kind)+ fur_heat_temp+ fur_heat_time+\\\n",
    "       fur_soak_temp+ fur_soak_time+ fur_total_time+ fur_ex_temp+\\\n",
    "       rolling_temp+ descaling_count+ size+C(rolling_method)\", df_scaled_train)\n",
    "                               \n",
    "scaled_log_result = scaled_log_model.fit()\n",
    "print(scaled_log_result.summary())"
   ]
  },
  {
   "cell_type": "code",
   "execution_count": null,
   "id": "4a13a9a5",
   "metadata": {},
   "outputs": [],
   "source": [
    "df_log_scaled_coef = pd.DataFrame({'Coef':scaled_log_result.params.values[1:]}, index = scaled_log_model.exog_names[1:])\n",
    "df_log_scaled_coef.plot.barh(y = 'Coef', legend = False)"
   ]
  },
  {
   "cell_type": "code",
   "execution_count": null,
   "id": "6e7100f1",
   "metadata": {},
   "outputs": [],
   "source": [
    "y_pred_train = scaled_log_result.predict(df_train)\n",
    "y_pred_train_class = (y_pred_train>0.4).astype(int)\n",
    "\n",
    "y_pred_test = log_result.predict(df_test)\n",
    "y_pred_test_class = (y_pred_test>0.4).astype(int)\n",
    "\n",
    "print('Trian 예측/분류 결과')\n",
    "print(\"Accuracy: {0:.3f}\\n\".format(accuracy_score(df_train['scale'], y_pred_train_class)))\n",
    "print('Confusion Matrix:\\n{}'.format(confusion_matrix(df_train['scale'], y_pred_train_class)),'\\n')\n",
    "print(classification_report(df_train['scale'], y_pred_train_class,target_names = ['양성', '음성'] ,digits=3))\n",
    "\n",
    "print('Test 예측/분류 결과')\n",
    "print(\"Accuracy: {0:.3f}\\n\".format(accuracy_score(df_test['scale'], y_pred_test_class)))\n",
    "logit_confusion = confusion_matrix(df_test['scale'], y_pred_test_class)\n",
    "print('Confusion Matrix:\\n{}'.format(confusion_matrix(df_test['scale'], y_pred_test_class)),'\\n')\n",
    "logit_creport = classification_report(df_test['scale'], y_pred_test_class,target_names = ['양성', '음성'], digits=3)\n",
    "print(classification_report(df_test['scale'], y_pred_test_class,target_names = ['양성', '음성'], digits=3))"
   ]
  },
  {
   "cell_type": "markdown",
   "id": "881d6c68",
   "metadata": {},
   "source": [
    "## 2. 의사결정나무"
   ]
  },
  {
   "cell_type": "code",
   "execution_count": null,
   "id": "9700448c",
   "metadata": {},
   "outputs": [],
   "source": [
    "# 문자형 변수에 대한 더미변수 생성\n",
    "df_raw_dummy = pd.get_dummies(df_raw)\n",
    "\n",
    "df_raw_x = df_raw_dummy.drop('scale', axis =1, inplace = False)\n",
    "df_raw_y = df_raw_dummy['scale']"
   ]
  },
  {
   "cell_type": "code",
   "execution_count": 562,
   "id": "3652b2a0",
   "metadata": {},
   "outputs": [
    {
     "name": "stdout",
     "output_type": "stream",
     "text": [
      "train data X size: (692, 15)\n",
      "train data Y size: (692,)\n",
      "test data X size: (297, 15)\n",
      "test data Y size: (297,)\n"
     ]
    }
   ],
   "source": [
    "#데이터는 (train(0.6) : test(0.4))의 비율로 분할\n",
    "df_train_x, df_test_x, df_train_y, df_test_y = train_test_split(df_raw_x, df_raw_y, \n",
    "                                                                test_size=0.3, random_state=1234)\n",
    "print(\"train data X size: {}\".format(df_train_x.shape))\n",
    "print(\"train data Y size: {}\".format(df_train_y.shape))\n",
    "print(\"test data X size: {}\".format(df_test_x.shape))\n",
    "print(\"test data Y size: {}\".format(df_test_y.shape))"
   ]
  },
  {
   "cell_type": "code",
   "execution_count": 563,
   "id": "a8c320c7",
   "metadata": {
    "scrolled": true
   },
   "outputs": [
    {
     "data": {
      "text/plain": [
       "0    0.688574\n",
       "1    0.311426\n",
       "Name: scale, dtype: float64"
      ]
     },
     "execution_count": 563,
     "metadata": {},
     "output_type": "execute_result"
    }
   ],
   "source": [
    "df_raw_y.value_counts(normalize=True)\n",
    "#원 데이터에서 0(음성)인 데이터가 1(양성)인 데이터에 비해서 2배 정도 많다"
   ]
  },
  {
   "cell_type": "code",
   "execution_count": 565,
   "id": "8dc0c222",
   "metadata": {},
   "outputs": [
    {
     "name": "stdout",
     "output_type": "stream",
     "text": [
      "over-sampling 전 : \n",
      " 0    472\n",
      "1    220\n",
      "Name: scale, dtype: int64 \n",
      "\n",
      "over-sampling 후 : (944, 15)\n",
      "over-sampling 후 : (944,)\n",
      "\n",
      "over-sampling 후 1 : 472\n",
      "over-sampling 후  0 : 472\n"
     ]
    }
   ],
   "source": [
    "from imblearn.over_sampling import SMOTE\n",
    "\n",
    "sm = SMOTE(sampling_strategy='auto')\n",
    "x_resampled, y_resampled = sm.fit_resample(df_train_x, df_train_y)\n",
    "\n",
    "print('over-sampling 전 : \\n', df_train_y.value_counts(), '\\n')\n",
    "print('over-sampling 후 : {}'.format(x_resampled.shape))\n",
    "print('over-sampling 후 : {}\\n'.format(y_resampled.shape))\n",
    "print('over-sampling 후 1 : {}'.format(sum(y_resampled==1)))\n",
    "print('over-sampling 후  0 : {}'.format(sum(y_resampled==0)))"
   ]
  },
  {
   "cell_type": "code",
   "execution_count": 567,
   "id": "76d68076",
   "metadata": {
    "scrolled": false
   },
   "outputs": [],
   "source": [
    "df_resempled = pd.concat([x_resampled, y_resampled], axis = 1)"
   ]
  },
  {
   "cell_type": "code",
   "execution_count": 589,
   "id": "1961ac91",
   "metadata": {},
   "outputs": [
    {
     "name": "stdout",
     "output_type": "stream",
     "text": [
      "Score on training set: 1.000\n",
      "Score on test set: 0.993\n"
     ]
    }
   ],
   "source": [
    "tree_uncustomized = DecisionTreeClassifier(random_state = 1234)\n",
    "tree_uncustomized.fit(df_train_x, df_train_y)\n",
    "\n",
    "print(\"Score on training set: {:.3f}\".format(tree_uncustomized.score(df_train_x, df_train_y)))\n",
    "print(\"Score on test set: {:.3f}\".format(tree_uncustomized.score(df_test_x, df_test_y)))"
   ]
  },
  {
   "cell_type": "code",
   "execution_count": 570,
   "id": "c3fb6faf",
   "metadata": {},
   "outputs": [
    {
     "name": "stdout",
     "output_type": "stream",
     "text": [
      "best estimator model: \n",
      "DecisionTreeClassifier(max_depth=9, max_features=1.0, min_samples_leaf=7,\n",
      "                       min_samples_split=19)\n",
      "\n",
      "best parameter: \n",
      "{'criterion': 'gini', 'max_depth': 9, 'max_features': 1.0, 'min_samples_leaf': 7, 'min_samples_split': 19}\n",
      "\n",
      "best score: \n",
      "0.913\n"
     ]
    }
   ],
   "source": [
    "from sklearn.tree import DecisionTreeClassifier\n",
    "from sklearn.model_selection import RandomizedSearchCV\n",
    "from scipy.stats import randint as sp_randint\n",
    "from scipy.stats import uniform\n",
    "\n",
    "param_dist = {\n",
    "    \"max_depth\": sp_randint(1, 20),\n",
    "    \"min_samples_split\": sp_randint(2, 20),\n",
    "    \"min_samples_leaf\": sp_randint(1, 20),\n",
    "    \"max_features\": [1.0],\n",
    "    \"criterion\": ['gini', 'entropy', 'log_loss']\n",
    "}\n",
    "\n",
    "dt = DecisionTreeClassifier()\n",
    "\n",
    "random_dt = RandomizedSearchCV(dt, param_distributions=param_dist, n_iter=10, cv=3, scoring=\"r2\", random_state=42)\n",
    "random_dt.fit(df_train_x, df_train_y)\n",
    "\n",
    "print(\"best estimator model: \\n{}\".format(random_dt.best_estimator_))\n",
    "print(\"\\nbest parameter: \\n{}\".format(random_dt.best_params_))\n",
    "print(\"\\nbest score: \\n{}\".format(random_dt.best_score_.round(3)))"
   ]
  },
  {
   "cell_type": "code",
   "execution_count": 572,
   "id": "a4d39917",
   "metadata": {},
   "outputs": [
    {
     "name": "stdout",
     "output_type": "stream",
     "text": [
      "Score on training set: 0.993\n",
      "Score on test set: 0.993\n"
     ]
    }
   ],
   "source": [
    "tree_final = DecisionTreeClassifier(min_samples_leaf=7,min_samples_split=19,max_depth=9, random_state=1234)\n",
    "tree_final.fit(df_train_x, df_train_y)\n",
    "\n",
    "\n",
    "print(\"Score on training set: {:.3f}\".format(tree_final.score(df_train_x, df_train_y)))\n",
    "print(\"Score on test set: {:.3f}\".format(tree_final.score(df_test_x, df_test_y)))"
   ]
  },
  {
   "cell_type": "code",
   "execution_count": 573,
   "id": "8efe2525",
   "metadata": {},
   "outputs": [
    {
     "data": {
      "text/html": [
       "<div>\n",
       "<style scoped>\n",
       "    .dataframe tbody tr th:only-of-type {\n",
       "        vertical-align: middle;\n",
       "    }\n",
       "\n",
       "    .dataframe tbody tr th {\n",
       "        vertical-align: top;\n",
       "    }\n",
       "\n",
       "    .dataframe thead th {\n",
       "        text-align: right;\n",
       "    }\n",
       "</style>\n",
       "<table border=\"1\" class=\"dataframe\">\n",
       "  <thead>\n",
       "    <tr style=\"text-align: right;\">\n",
       "      <th></th>\n",
       "      <th>Feature</th>\n",
       "      <th>importance</th>\n",
       "    </tr>\n",
       "  </thead>\n",
       "  <tbody>\n",
       "    <tr>\n",
       "      <th>6</th>\n",
       "      <td>rolling_temp</td>\n",
       "      <td>0.541</td>\n",
       "    </tr>\n",
       "    <tr>\n",
       "      <th>11</th>\n",
       "      <td>hsb_미적용</td>\n",
       "      <td>0.163</td>\n",
       "    </tr>\n",
       "    <tr>\n",
       "      <th>2</th>\n",
       "      <td>fur_soak_temp</td>\n",
       "      <td>0.153</td>\n",
       "    </tr>\n",
       "    <tr>\n",
       "      <th>7</th>\n",
       "      <td>descaling_count</td>\n",
       "      <td>0.100</td>\n",
       "    </tr>\n",
       "    <tr>\n",
       "      <th>5</th>\n",
       "      <td>fur_ex_temp</td>\n",
       "      <td>0.042</td>\n",
       "    </tr>\n",
       "    <tr>\n",
       "      <th>4</th>\n",
       "      <td>fur_total_time</td>\n",
       "      <td>0.001</td>\n",
       "    </tr>\n",
       "    <tr>\n",
       "      <th>0</th>\n",
       "      <td>fur_heat_temp</td>\n",
       "      <td>0.000</td>\n",
       "    </tr>\n",
       "    <tr>\n",
       "      <th>1</th>\n",
       "      <td>fur_heat_time</td>\n",
       "      <td>0.000</td>\n",
       "    </tr>\n",
       "    <tr>\n",
       "      <th>3</th>\n",
       "      <td>fur_soak_time</td>\n",
       "      <td>0.000</td>\n",
       "    </tr>\n",
       "    <tr>\n",
       "      <th>8</th>\n",
       "      <td>size</td>\n",
       "      <td>0.000</td>\n",
       "    </tr>\n",
       "    <tr>\n",
       "      <th>9</th>\n",
       "      <td>steel_kind_C</td>\n",
       "      <td>0.000</td>\n",
       "    </tr>\n",
       "    <tr>\n",
       "      <th>10</th>\n",
       "      <td>steel_kind_T</td>\n",
       "      <td>0.000</td>\n",
       "    </tr>\n",
       "    <tr>\n",
       "      <th>12</th>\n",
       "      <td>hsb_적용</td>\n",
       "      <td>0.000</td>\n",
       "    </tr>\n",
       "    <tr>\n",
       "      <th>13</th>\n",
       "      <td>rolling_method_CR(제어압연)</td>\n",
       "      <td>0.000</td>\n",
       "    </tr>\n",
       "    <tr>\n",
       "      <th>14</th>\n",
       "      <td>rolling_method_TMCP(온도제어)</td>\n",
       "      <td>0.000</td>\n",
       "    </tr>\n",
       "  </tbody>\n",
       "</table>\n",
       "</div>"
      ],
      "text/plain": [
       "                      Feature  importance\n",
       "6                rolling_temp       0.541\n",
       "11                    hsb_미적용       0.163\n",
       "2               fur_soak_temp       0.153\n",
       "7             descaling_count       0.100\n",
       "5                 fur_ex_temp       0.042\n",
       "4              fur_total_time       0.001\n",
       "0               fur_heat_temp       0.000\n",
       "1               fur_heat_time       0.000\n",
       "3               fur_soak_time       0.000\n",
       "8                        size       0.000\n",
       "9                steel_kind_C       0.000\n",
       "10               steel_kind_T       0.000\n",
       "12                     hsb_적용       0.000\n",
       "13    rolling_method_CR(제어압연)       0.000\n",
       "14  rolling_method_TMCP(온도제어)       0.000"
      ]
     },
     "execution_count": 573,
     "metadata": {},
     "output_type": "execute_result"
    }
   ],
   "source": [
    "v_feature_name = df_train_x.columns\n",
    "\n",
    "# tree.feature_importances_로 설명변수 중요도 확인 및 테이블로 저장\n",
    "df_importance = pd.DataFrame()\n",
    "df_importance[\"Feature\"] = v_feature_name\n",
    "df_importance[\"importance\"] = tree_final.feature_importances_\n",
    "\n",
    "# df_feature_importance의 테이블을 중요도별로 정렬\n",
    "df_importance.sort_values(\"importance\", ascending=False, inplace = True)\n",
    "df_importance.round(3)"
   ]
  },
  {
   "cell_type": "code",
   "execution_count": 574,
   "id": "44d6df4c",
   "metadata": {
    "scrolled": true
   },
   "outputs": [
    {
     "data": {
      "text/plain": [
       "Text(0, 0.5, '변수')"
      ]
     },
     "execution_count": 574,
     "metadata": {},
     "output_type": "execute_result"
    },
    {
     "data": {
      "image/png": "[encoded data removed]",
      "text/plain": [
       "<Figure size 640x480 with 1 Axes>"
      ]
     },
     "metadata": {},
     "output_type": "display_data"
    }
   ],
   "source": [
    "# 설명변수 중요도 그래프\n",
    "# 중요도가 높은 변수를 상위에 그림\n",
    "df_importance.sort_values(\"importance\", ascending=True, inplace = True)\n",
    "coordinates = range(len(df_importance))\n",
    "plt.barh(y=coordinates, width = df_importance[\"importance\"])\n",
    "plt.yticks(coordinates,df_importance[\"Feature\"])\n",
    "plt.xlabel(\"변수 중요도\")\n",
    "plt.ylabel(\"변수\")"
   ]
  },
  {
   "cell_type": "code",
   "execution_count": 590,
   "id": "d91e45be",
   "metadata": {},
   "outputs": [
    {
     "name": "stdout",
     "output_type": "stream",
     "text": [
      "분할 전 데이터 현황 설명 :  (944, 15)   목표 : (944,)\n",
      "분할 후 설명변수 현황..Train:  (566, 15)   Test : (378, 15)\n",
      "분할 후 목표변수 현황..Train:  1    283\n",
      "0    283\n",
      "Name: scale, dtype: int64   Test : 0    189\n",
      "1    189\n",
      "Name: scale, dtype: int64\n"
     ]
    }
   ],
   "source": [
    "# Over-sampling Data를 이용한 모델링 및 평가\n",
    "df_train_x_over, df_test_x_over, df_train_y_over, df_test_y_over = train_test_split(x_resampled, y_resampled,\\\n",
    "                                                                                   test_size = 0.4, stratify = y_resampled, random_state = 1234)\n",
    "print('분할 전 데이터 현황 설명 : ', x_resampled.shape, \"  목표 :\", y_resampled.shape)\n",
    "print('분할 후 설명변수 현황..Train: ', df_train_x_over.shape, \"  Test :\", df_test_x_over.shape)\n",
    "print('분할 후 목표변수 현황..Train: ', df_train_y_over.value_counts(), \"  Test :\", df_test_y_over.value_counts())"
   ]
  },
  {
   "cell_type": "code",
   "execution_count": 603,
   "id": "19ffdf8c",
   "metadata": {},
   "outputs": [
    {
     "name": "stdout",
     "output_type": "stream",
     "text": [
      "Score on training set: 0.963\n",
      "Score on test set: 0.934\n",
      "Accuracy :0.976190\n",
      "\n",
      "Confusion matrix: \n",
      "[[188   1]\n",
      " [  8 181]]\n",
      "              precision    recall  f1-score   support\n",
      "\n",
      "           0      0.959     0.995     0.977       189\n",
      "           1      0.995     0.958     0.976       189\n",
      "\n",
      "    accuracy                          0.976       378\n",
      "   macro avg      0.977     0.976     0.976       378\n",
      "weighted avg      0.977     0.976     0.976       378\n",
      "\n"
     ]
    }
   ],
   "source": [
    "tree_final = DecisionTreeClassifier(min_samples_leaf=7,min_samples_split=19,max_depth=9, random_state=1234)\n",
    "tree_final.fit(df_train_x, df_train_y)\n",
    "\n",
    "print(\"Score on training set: {:.3f}\".format(tree_final.score(df_train_x_over, df_train_y_over)))\n",
    "print(\"Score on test set: {:.3f}\".format(tree_final.score(df_test_x_over, df_test_y_over)))\n",
    "\n",
    "tree_final_over =  DecisionTreeClassifier(min_samples_leaf=7,min_samples_split=19,max_depth=9, random_state=1234)\n",
    "tree_final_over.fit(df_train_x_over, df_train_y_over)\n",
    "y_pred_over = tree_final_over.predict(df_test_x_over)\n",
    "\n",
    "print('Accuracy :{0:3f}\\n'.format(tree_final_over.score(df_test_x_over, df_test_y_over)))\n",
    "dt_confusion = confusion_matrix(df_test_y_over, y_pred_over)\n",
    "print(\"Confusion matrix: \\n{}\".format(confusion_matrix(df_test_y_over, y_pred_over)))\n",
    "dt_creport = classification_report(df_test_y_over, y_pred_over, digits=3)\n",
    "print(classification_report(df_test_y_over, y_pred_over, digits=3))"
   ]
  },
  {
   "cell_type": "markdown",
   "id": "d6e0d1a0",
   "metadata": {},
   "source": [
    "## 3. 랜덤포레스트"
   ]
  },
  {
   "cell_type": "code",
   "execution_count": 575,
   "id": "2ee8b4a3",
   "metadata": {},
   "outputs": [],
   "source": [
    "# 문자형 변수에 대한 더미변수 생성\n",
    "df_raw_dummy = pd.get_dummies(df_raw)\n",
    "\n",
    "df_raw_x = df_raw_dummy.drop('scale', axis =1, inplace = False)\n",
    "df_raw_y = df_raw_dummy['scale']"
   ]
  },
  {
   "cell_type": "code",
   "execution_count": 576,
   "id": "4528e784",
   "metadata": {},
   "outputs": [
    {
     "name": "stdout",
     "output_type": "stream",
     "text": [
      "train data X size: (692, 15)\n",
      "train data Y size: (692,)\n",
      "test data X size: (297, 15)\n",
      "test data Y size: (297,)\n"
     ]
    }
   ],
   "source": [
    "#데이터는 (train(0.6) : test(0.4))의 비율로 분할\n",
    "df_train_x, df_test_x, df_train_y, df_test_y = train_test_split(df_raw_x, df_raw_y, \n",
    "                                                                test_size=0.3, random_state=1234)\n",
    "print(\"train data X size: {}\".format(df_train_x.shape))\n",
    "print(\"train data Y size: {}\".format(df_train_y.shape))\n",
    "print(\"test data X size: {}\".format(df_test_x.shape))\n",
    "print(\"test data Y size: {}\".format(df_test_y.shape))"
   ]
  },
  {
   "cell_type": "code",
   "execution_count": 577,
   "id": "a5e5612c",
   "metadata": {},
   "outputs": [
    {
     "name": "stdout",
     "output_type": "stream",
     "text": [
      "Score on training set: 1.000\n",
      "Score on test set: 0.963\n"
     ]
    }
   ],
   "source": [
    "rf_uncustomized = RandomForestClassifier(random_state=1234)\n",
    "rf_uncustomized.fit(df_train_x, df_train_y)\n",
    "\n",
    "# Train 데이터 설명력\n",
    "print(\"Score on training set: {:.3f}\".format(rf_uncustomized.score(df_train_x, df_train_y)))\n",
    "\n",
    "# Test 데이터 설명력\n",
    "print(\"Score on test set: {:.3f}\".format(rf_uncustomized.score(df_test_x, df_test_y)))"
   ]
  },
  {
   "cell_type": "code",
   "execution_count": 579,
   "id": "310554f9",
   "metadata": {},
   "outputs": [
    {
     "name": "stdout",
     "output_type": "stream",
     "text": [
      "best estimator model: \n",
      "RandomForestClassifier(max_depth=15, max_features=1.0, min_samples_leaf=11,\n",
      "                       min_samples_split=9)\n",
      "\n",
      "best parameter: \n",
      "{'bootstrap': True, 'criterion': 'gini', 'max_depth': 15, 'max_features': 1.0, 'min_samples_leaf': 11, 'min_samples_split': 9}\n",
      "\n",
      "best score: \n",
      "0.813\n"
     ]
    }
   ],
   "source": [
    "from sklearn.model_selection import RandomizedSearchCV\n",
    "from scipy.stats import randint as sp_randint\n",
    "from scipy.stats import uniform\n",
    "\n",
    "param_dist = {\n",
    "    \"max_depth\": sp_randint(1, 20),\n",
    "    \"min_samples_split\": sp_randint(2, 20),\n",
    "    \"min_samples_leaf\": sp_randint(1, 20),\n",
    "    \"max_features\": [1.0],\n",
    "    \"bootstrap\": [True, False],\n",
    "    \"criterion\": ['gini', 'entropy', 'log_loss']\n",
    "}\n",
    "\n",
    "rf = RandomForestClassifier(n_estimators=100)\n",
    "\n",
    "random_rf = RandomizedSearchCV(rf, param_distributions=param_dist, n_iter=10, cv=3, scoring=\"r2\", random_state=42)\n",
    "random_rf.fit(df_train_x, df_train_y)\n",
    "\n",
    "print(\"best estimator model: \\n{}\".format(random_rf.best_estimator_))\n",
    "print(\"\\nbest parameter: \\n{}\".format(random_rf.best_params_))\n",
    "print(\"\\nbest score: \\n{}\".format(random_rf.best_score_.round(3)))"
   ]
  },
  {
   "cell_type": "code",
   "execution_count": 599,
   "id": "d107b6e4",
   "metadata": {},
   "outputs": [
    {
     "name": "stdout",
     "output_type": "stream",
     "text": [
      "Score on training set: 0.954\n",
      "Score on test set: 0.939\n",
      "Confusion matrix: \n",
      "[[209   0]\n",
      " [ 18  70]]\n",
      "              precision    recall  f1-score   support\n",
      "\n",
      "           0      0.921     1.000     0.959       209\n",
      "           1      1.000     0.795     0.886        88\n",
      "\n",
      "    accuracy                          0.939       297\n",
      "   macro avg      0.960     0.898     0.922       297\n",
      "weighted avg      0.944     0.939     0.937       297\n",
      "\n"
     ]
    }
   ],
   "source": [
    "rf_final = RandomForestClassifier(min_samples_leaf = 11, min_samples_split = 9,\n",
    "                                max_depth = 15, random_state = 1234)\n",
    "rf_final.fit(df_train_x, df_train_y)\n",
    "y_pred = rf_final.predict(df_test_x)\n",
    "\n",
    "# train 데이터의 설명력\n",
    "print(\"Score on training set: {:.3f}\".format(rf_final.score(df_train_x,df_train_y)))\n",
    "\n",
    "# test 데이터의 설명력\n",
    "print(\"Score on test set: {:.3f}\".format(rf_final.score(df_test_x,df_test_y)))\n",
    "rf_confusion = confusion_matrix(df_test_y, y_pred)\n",
    "print(\"Confusion matrix: \\n{}\".format(confusion_matrix(df_test_y, y_pred)))\n",
    "rf_creport = classification_report(df_test_y, y_pred, digits=3)\n",
    "print(classification_report(df_test_y, y_pred, digits=3))"
   ]
  },
  {
   "cell_type": "code",
   "execution_count": 600,
   "id": "b1309141",
   "metadata": {},
   "outputs": [
    {
     "data": {
      "text/html": [
       "<div>\n",
       "<style scoped>\n",
       "    .dataframe tbody tr th:only-of-type {\n",
       "        vertical-align: middle;\n",
       "    }\n",
       "\n",
       "    .dataframe tbody tr th {\n",
       "        vertical-align: top;\n",
       "    }\n",
       "\n",
       "    .dataframe thead th {\n",
       "        text-align: right;\n",
       "    }\n",
       "</style>\n",
       "<table border=\"1\" class=\"dataframe\">\n",
       "  <thead>\n",
       "    <tr style=\"text-align: right;\">\n",
       "      <th></th>\n",
       "      <th>Feature</th>\n",
       "      <th>importance</th>\n",
       "    </tr>\n",
       "  </thead>\n",
       "  <tbody>\n",
       "    <tr>\n",
       "      <th>6</th>\n",
       "      <td>rolling_temp</td>\n",
       "      <td>0.491</td>\n",
       "    </tr>\n",
       "    <tr>\n",
       "      <th>5</th>\n",
       "      <td>fur_ex_temp</td>\n",
       "      <td>0.103</td>\n",
       "    </tr>\n",
       "    <tr>\n",
       "      <th>2</th>\n",
       "      <td>fur_soak_temp</td>\n",
       "      <td>0.093</td>\n",
       "    </tr>\n",
       "    <tr>\n",
       "      <th>7</th>\n",
       "      <td>descaling_count</td>\n",
       "      <td>0.072</td>\n",
       "    </tr>\n",
       "    <tr>\n",
       "      <th>11</th>\n",
       "      <td>hsb_미적용</td>\n",
       "      <td>0.051</td>\n",
       "    </tr>\n",
       "    <tr>\n",
       "      <th>12</th>\n",
       "      <td>hsb_적용</td>\n",
       "      <td>0.047</td>\n",
       "    </tr>\n",
       "    <tr>\n",
       "      <th>0</th>\n",
       "      <td>fur_heat_temp</td>\n",
       "      <td>0.035</td>\n",
       "    </tr>\n",
       "    <tr>\n",
       "      <th>8</th>\n",
       "      <td>size</td>\n",
       "      <td>0.032</td>\n",
       "    </tr>\n",
       "    <tr>\n",
       "      <th>9</th>\n",
       "      <td>steel_kind_C</td>\n",
       "      <td>0.017</td>\n",
       "    </tr>\n",
       "    <tr>\n",
       "      <th>3</th>\n",
       "      <td>fur_soak_time</td>\n",
       "      <td>0.016</td>\n",
       "    </tr>\n",
       "    <tr>\n",
       "      <th>4</th>\n",
       "      <td>fur_total_time</td>\n",
       "      <td>0.015</td>\n",
       "    </tr>\n",
       "    <tr>\n",
       "      <th>1</th>\n",
       "      <td>fur_heat_time</td>\n",
       "      <td>0.014</td>\n",
       "    </tr>\n",
       "    <tr>\n",
       "      <th>10</th>\n",
       "      <td>steel_kind_T</td>\n",
       "      <td>0.009</td>\n",
       "    </tr>\n",
       "    <tr>\n",
       "      <th>13</th>\n",
       "      <td>rolling_method_CR(제어압연)</td>\n",
       "      <td>0.003</td>\n",
       "    </tr>\n",
       "    <tr>\n",
       "      <th>14</th>\n",
       "      <td>rolling_method_TMCP(온도제어)</td>\n",
       "      <td>0.002</td>\n",
       "    </tr>\n",
       "  </tbody>\n",
       "</table>\n",
       "</div>"
      ],
      "text/plain": [
       "                      Feature  importance\n",
       "6                rolling_temp       0.491\n",
       "5                 fur_ex_temp       0.103\n",
       "2               fur_soak_temp       0.093\n",
       "7             descaling_count       0.072\n",
       "11                    hsb_미적용       0.051\n",
       "12                     hsb_적용       0.047\n",
       "0               fur_heat_temp       0.035\n",
       "8                        size       0.032\n",
       "9                steel_kind_C       0.017\n",
       "3               fur_soak_time       0.016\n",
       "4              fur_total_time       0.015\n",
       "1               fur_heat_time       0.014\n",
       "10               steel_kind_T       0.009\n",
       "13    rolling_method_CR(제어압연)       0.003\n",
       "14  rolling_method_TMCP(온도제어)       0.002"
      ]
     },
     "execution_count": 600,
     "metadata": {},
     "output_type": "execute_result"
    }
   ],
   "source": [
    "# tree.feature_importances_로 설명변수 중요도 확인 및 테이블로 저장\n",
    "df_importance = pd.DataFrame()\n",
    "df_importance[\"Feature\"] = v_feature_name\n",
    "df_importance[\"importance\"] = rf_final.feature_importances_\n",
    "\n",
    "# df_feature_importance의 테이블을 중요도별로 정렬\n",
    "df_importance.sort_values(\"importance\", ascending=False, inplace = True)\n",
    "df_importance.round(3)"
   ]
  },
  {
   "cell_type": "code",
   "execution_count": 582,
   "id": "f1fd4ef2",
   "metadata": {},
   "outputs": [
    {
     "data": {
      "text/plain": [
       "Text(0, 0.5, '변수')"
      ]
     },
     "execution_count": 582,
     "metadata": {},
     "output_type": "execute_result"
    },
    {
     "data": {
      "image/png": "[encoded data removed]",
      "text/plain": [
       "<Figure size 640x480 with 1 Axes>"
      ]
     },
     "metadata": {},
     "output_type": "display_data"
    }
   ],
   "source": [
    "# 설명변수 중요도 그래프\n",
    "# 중요도가 높은 변수를 상위에 그림\n",
    "df_importance.sort_values(\"importance\", ascending=True, inplace = True)\n",
    "coordinates = range(len(df_importance))\n",
    "plt.barh(y=coordinates, width = df_importance[\"importance\"])\n",
    "plt.yticks(coordinates,df_importance[\"Feature\"])\n",
    "plt.xlabel(\"변수 중요도\")\n",
    "plt.ylabel(\"변수\")"
   ]
  },
  {
   "cell_type": "code",
   "execution_count": null,
   "id": "1cbecb09",
   "metadata": {},
   "outputs": [],
   "source": [
    "rf_final = RandomForestClassifier(random_state=1234, n_estimators=100, min_samples_leaf=2,\n",
    "                                min_samples_split=3, max_depth=4)\n",
    "\n",
    "rf_final.fit(df_train_x, df_train_y)\n",
    "\n",
    "y_pred = rf_final.predict(df_test_x)\n",
    "\n",
    "# train 모델 정확도\n",
    "print(\"Accurcy on training set: {:.3f}\".format(rf_final.score(df_train_x,df_train_y)))\n",
    "\n",
    "# test 모델 정확도\n",
    "print(\"Accuracy on test set: {:.3f}\".format(rf_final.score(df_test_x,df_test_y)))\n",
    "\n"
   ]
  },
  {
   "cell_type": "markdown",
   "id": "6ddae22a",
   "metadata": {},
   "source": [
    "## 4. 그라디언트 부스팅"
   ]
  },
  {
   "cell_type": "code",
   "execution_count": 583,
   "id": "8f8bf103",
   "metadata": {},
   "outputs": [],
   "source": [
    "from sklearn.ensemble import RandomForestRegressor\n",
    "from sklearn.ensemble import GradientBoostingRegressor\n",
    "from sklearn.model_selection import GridSearchCV"
   ]
  },
  {
   "cell_type": "code",
   "execution_count": 584,
   "id": "07bacd9c",
   "metadata": {},
   "outputs": [],
   "source": [
    "# 문자형 변수에 대한 더미변수 생성\n",
    "df_raw_dummy = pd.get_dummies(df_raw)\n",
    "\n",
    "df_raw_x = df_raw_dummy.drop('scale', axis =1, inplace = False)\n",
    "df_raw_y = df_raw_dummy['scale']"
   ]
  },
  {
   "cell_type": "code",
   "execution_count": 585,
   "id": "a0144a62",
   "metadata": {},
   "outputs": [
    {
     "name": "stdout",
     "output_type": "stream",
     "text": [
      "train data X size: (692, 15)\n",
      "train data Y size: (692,)\n",
      "test data X size: (297, 15)\n",
      "test data Y size: (297,)\n"
     ]
    }
   ],
   "source": [
    "#데이터는 (train(0.6) : test(0.4))의 비율로 분할\n",
    "df_train_x, df_test_x, df_train_y, df_test_y = train_test_split(df_raw_x, df_raw_y, \n",
    "                                                                test_size=0.3, random_state=1234)\n",
    "print(\"train data X size: {}\".format(df_train_x.shape))\n",
    "print(\"train data Y size: {}\".format(df_train_y.shape))\n",
    "print(\"test data X size: {}\".format(df_test_x.shape))\n",
    "print(\"test data Y size: {}\".format(df_test_y.shape))"
   ]
  },
  {
   "cell_type": "code",
   "execution_count": 586,
   "id": "b5541d1a",
   "metadata": {},
   "outputs": [
    {
     "name": "stdout",
     "output_type": "stream",
     "text": [
      "Score on training set: 1.000\n",
      "Score on test set: 0.993\n"
     ]
    }
   ],
   "source": [
    "# 모델 생성 : GradientboostingRegressor\n",
    "gb_uncustomized = GradientBoostingClassifier(random_state=1234)\n",
    "gb_uncustomized.fit(df_train_x, df_train_y)\n",
    "\n",
    "# Train 데이터 설명력\n",
    "print(\"Score on training set: {:.3f}\".format(gb_uncustomized.score(df_train_x, df_train_y)))\n",
    "\n",
    "# Test 데이터 설명력\n",
    "print(\"Score on test set: {:.3f}\".format(gb_uncustomized.score(df_test_x, df_test_y)))"
   ]
  },
  {
   "cell_type": "code",
   "execution_count": 594,
   "id": "b7eb2e07",
   "metadata": {},
   "outputs": [
    {
     "name": "stdout",
     "output_type": "stream",
     "text": [
      "best estimator model: \n",
      "GradientBoostingClassifier(learning_rate=0.7653614103176525, max_depth=6,\n",
      "                           max_features=0.21794166286818883, min_samples_leaf=4,\n",
      "                           min_samples_split=19)\n",
      "\n",
      "best parameter: \n",
      "{'learning_rate': 0.7653614103176525, 'max_depth': 6, 'max_features': 0.21794166286818883, 'min_samples_leaf': 4, 'min_samples_split': 19}\n",
      "\n",
      "best score: \n",
      "0.94\n"
     ]
    }
   ],
   "source": [
    "from sklearn.ensemble import GradientBoostingClassifier\n",
    "from sklearn.model_selection import RandomizedSearchCV\n",
    "from scipy.stats import uniform\n",
    "\n",
    "param_dist = {\n",
    "    \"max_depth\": sp_randint(1, 20),\n",
    "    \"min_samples_split\": sp_randint(2, 20),\n",
    "    \"min_samples_leaf\": sp_randint(1, 20),\n",
    "    \"max_features\": uniform(0.01, 1.0),\n",
    "    \"learning_rate\": uniform(0.01, 1.0),\n",
    "}\n",
    "\n",
    "gb = GradientBoostingClassifier(n_estimators=100)\n",
    "\n",
    "random_gb = RandomizedSearchCV(gb, param_distributions=param_dist, n_iter=10, cv=3, scoring=\"r2\", random_state=42)\n",
    "random_gb.fit(df_train_x, df_train_y)\n",
    "\n",
    "print(\"best estimator model: \\n{}\".format(random_gb.best_estimator_))\n",
    "print(\"\\nbest parameter: \\n{}\".format(random_gb.best_params_))\n",
    "print(\"\\nbest score: \\n{}\".format(random_gb.best_score_.round(3)))\n"
   ]
  },
  {
   "cell_type": "code",
   "execution_count": 605,
   "id": "de80eef4",
   "metadata": {},
   "outputs": [
    {
     "name": "stdout",
     "output_type": "stream",
     "text": [
      "Accurcy on training set: 1.000\n",
      "Accuracy on test set: 0.997\n",
      "Confusion matrix: \n",
      "[[209   0]\n",
      " [  1  87]]\n",
      "              precision    recall  f1-score   support\n",
      "\n",
      "           0      0.995     1.000     0.998       209\n",
      "           1      1.000     0.989     0.994        88\n",
      "\n",
      "    accuracy                          0.997       297\n",
      "   macro avg      0.998     0.994     0.996       297\n",
      "weighted avg      0.997     0.997     0.997       297\n",
      "\n"
     ]
    }
   ],
   "source": [
    "gb_final = GradientBoostingClassifier(min_samples_leaf=4,max_depth=6, n_estimators=100,learning_rate=0.7, random_state=1234 )\n",
    "\n",
    "gb_final.fit(df_train_x, df_train_y)\n",
    "\n",
    "y_pred = gb_final.predict(df_test_x)\n",
    "\n",
    "# train 모델 정확도\n",
    "print(\"Accurcy on training set: {:.3f}\".format(gb_final.score(df_train_x,df_train_y)))\n",
    "\n",
    "# test 모델 정확도\n",
    "print(\"Accuracy on test set: {:.3f}\".format(gb_final.score(df_test_x,df_test_y)))\n",
    "gb_confusion = confusion_matrix(df_test_y, y_pred)\n",
    "print(\"Confusion matrix: \\n{}\".format(confusion_matrix(df_test_y, y_pred)))\n",
    "gb_creport = classification_report(df_test_y, y_pred, digits=3)\n",
    "print(classification_report(df_test_y, y_pred, digits=3))"
   ]
  },
  {
   "cell_type": "code",
   "execution_count": 606,
   "id": "30d27f71",
   "metadata": {},
   "outputs": [
    {
     "data": {
      "text/html": [
       "<div>\n",
       "<style scoped>\n",
       "    .dataframe tbody tr th:only-of-type {\n",
       "        vertical-align: middle;\n",
       "    }\n",
       "\n",
       "    .dataframe tbody tr th {\n",
       "        vertical-align: top;\n",
       "    }\n",
       "\n",
       "    .dataframe thead th {\n",
       "        text-align: right;\n",
       "    }\n",
       "</style>\n",
       "<table border=\"1\" class=\"dataframe\">\n",
       "  <thead>\n",
       "    <tr style=\"text-align: right;\">\n",
       "      <th></th>\n",
       "      <th>Feature</th>\n",
       "      <th>importance</th>\n",
       "    </tr>\n",
       "  </thead>\n",
       "  <tbody>\n",
       "    <tr>\n",
       "      <th>6</th>\n",
       "      <td>rolling_temp</td>\n",
       "      <td>0.530</td>\n",
       "    </tr>\n",
       "    <tr>\n",
       "      <th>7</th>\n",
       "      <td>descaling_count</td>\n",
       "      <td>0.162</td>\n",
       "    </tr>\n",
       "    <tr>\n",
       "      <th>2</th>\n",
       "      <td>fur_soak_temp</td>\n",
       "      <td>0.147</td>\n",
       "    </tr>\n",
       "    <tr>\n",
       "      <th>11</th>\n",
       "      <td>hsb_미적용</td>\n",
       "      <td>0.142</td>\n",
       "    </tr>\n",
       "    <tr>\n",
       "      <th>12</th>\n",
       "      <td>hsb_적용</td>\n",
       "      <td>0.016</td>\n",
       "    </tr>\n",
       "    <tr>\n",
       "      <th>4</th>\n",
       "      <td>fur_total_time</td>\n",
       "      <td>0.001</td>\n",
       "    </tr>\n",
       "    <tr>\n",
       "      <th>0</th>\n",
       "      <td>fur_heat_temp</td>\n",
       "      <td>0.001</td>\n",
       "    </tr>\n",
       "    <tr>\n",
       "      <th>5</th>\n",
       "      <td>fur_ex_temp</td>\n",
       "      <td>0.001</td>\n",
       "    </tr>\n",
       "    <tr>\n",
       "      <th>3</th>\n",
       "      <td>fur_soak_time</td>\n",
       "      <td>0.000</td>\n",
       "    </tr>\n",
       "    <tr>\n",
       "      <th>1</th>\n",
       "      <td>fur_heat_time</td>\n",
       "      <td>0.000</td>\n",
       "    </tr>\n",
       "    <tr>\n",
       "      <th>10</th>\n",
       "      <td>steel_kind_T</td>\n",
       "      <td>0.000</td>\n",
       "    </tr>\n",
       "    <tr>\n",
       "      <th>8</th>\n",
       "      <td>size</td>\n",
       "      <td>0.000</td>\n",
       "    </tr>\n",
       "    <tr>\n",
       "      <th>9</th>\n",
       "      <td>steel_kind_C</td>\n",
       "      <td>0.000</td>\n",
       "    </tr>\n",
       "    <tr>\n",
       "      <th>13</th>\n",
       "      <td>rolling_method_CR(제어압연)</td>\n",
       "      <td>0.000</td>\n",
       "    </tr>\n",
       "    <tr>\n",
       "      <th>14</th>\n",
       "      <td>rolling_method_TMCP(온도제어)</td>\n",
       "      <td>0.000</td>\n",
       "    </tr>\n",
       "  </tbody>\n",
       "</table>\n",
       "</div>"
      ],
      "text/plain": [
       "                      Feature  importance\n",
       "6                rolling_temp       0.530\n",
       "7             descaling_count       0.162\n",
       "2               fur_soak_temp       0.147\n",
       "11                    hsb_미적용       0.142\n",
       "12                     hsb_적용       0.016\n",
       "4              fur_total_time       0.001\n",
       "0               fur_heat_temp       0.001\n",
       "5                 fur_ex_temp       0.001\n",
       "3               fur_soak_time       0.000\n",
       "1               fur_heat_time       0.000\n",
       "10               steel_kind_T       0.000\n",
       "8                        size       0.000\n",
       "9                steel_kind_C       0.000\n",
       "13    rolling_method_CR(제어압연)       0.000\n",
       "14  rolling_method_TMCP(온도제어)       0.000"
      ]
     },
     "execution_count": 606,
     "metadata": {},
     "output_type": "execute_result"
    }
   ],
   "source": [
    "# 변수명 저장\n",
    "v_feature_name = df_train_x.columns\n",
    "\n",
    "\n",
    "# tree.feature_importances_로 설명변수 중요도 확인 및 테이블로 저장\n",
    "df_importance = pd.DataFrame()\n",
    "df_importance[\"Feature\"] = v_feature_name\n",
    "df_importance[\"importance\"] = gb_final.feature_importances_\n",
    "\n",
    "# df_feature_importance의 테이블을 중요도별로 정렬\n",
    "df_importance.sort_values(\"importance\", ascending=False, inplace = True)\n",
    "df_importance.round(3)"
   ]
  },
  {
   "cell_type": "code",
   "execution_count": 607,
   "id": "bfd91775",
   "metadata": {},
   "outputs": [
    {
     "data": {
      "text/plain": [
       "Text(0, 0.5, '변수')"
      ]
     },
     "execution_count": 607,
     "metadata": {},
     "output_type": "execute_result"
    },
    {
     "data": {
      "image/png": "[encoded data removed]",
      "text/plain": [
       "<Figure size 640x480 with 1 Axes>"
      ]
     },
     "metadata": {},
     "output_type": "display_data"
    }
   ],
   "source": [
    "# 설명변수 중요도 그래프\n",
    "# 중요도가 높은 변수를 상위에 그림\n",
    "df_importance.sort_values(\"importance\", ascending=True, inplace = True)\n",
    "coordinates = range(len(df_importance))\n",
    "plt.barh(y=coordinates, width = df_importance[\"importance\"])\n",
    "plt.yticks(coordinates,df_importance[\"Feature\"])\n",
    "plt.xlabel(\"변수 중요도\")\n",
    "plt.ylabel(\"변수\")"
   ]
  },
  {
   "cell_type": "markdown",
   "id": "9ed4a717",
   "metadata": {},
   "source": [
    "## 5. 서포트 벡터 머신"
   ]
  },
  {
   "cell_type": "code",
   "execution_count": 608,
   "id": "f980b196",
   "metadata": {},
   "outputs": [
    {
     "name": "stdout",
     "output_type": "stream",
     "text": [
      "train data X size: (692, 15)\n",
      "train data Y size: (692,)\n",
      "test data X size: (297, 15)\n",
      "test data Y size: (297,)\n"
     ]
    }
   ],
   "source": [
    "# 문자형 변수에 대한 더미변수 생성\n",
    "df_raw_dummy = pd.get_dummies(df_raw)\n",
    "\n",
    "df_raw_x = df_raw_dummy.drop('scale', axis =1, inplace = False)\n",
    "df_raw_y = df_raw_dummy['scale']\n",
    "\n",
    "#데이터는 (train(0.6) : test(0.4))의 비율로 분할\n",
    "df_train_x, df_test_x, df_train_y, df_test_y = train_test_split(df_raw_x, df_raw_y, \n",
    "                                                                test_size=0.3, random_state=1234)\n",
    "print(\"train data X size: {}\".format(df_train_x.shape))\n",
    "print(\"train data Y size: {}\".format(df_train_y.shape))\n",
    "print(\"test data X size: {}\".format(df_test_x.shape))\n",
    "print(\"test data Y size: {}\".format(df_test_y.shape))"
   ]
  },
  {
   "cell_type": "code",
   "execution_count": 609,
   "id": "8446aa82",
   "metadata": {},
   "outputs": [
    {
     "name": "stdout",
     "output_type": "stream",
     "text": [
      "Accuracy on training set: 0.682\n",
      "Accuracy on test set: 0.704\n"
     ]
    }
   ],
   "source": [
    "svm_uncustomized = SVC(random_state = 1234)\n",
    "svm_uncustomized.fit(df_train_x, df_train_y)\n",
    "\n",
    "print(\"Accuracy on training set: {:.3f}\".format(svm_uncustomized.score(df_train_x, df_train_y)))\n",
    "print(\"Accuracy on test set: {:.3f}\".format(svm_uncustomized.score(df_test_x, df_test_y)))"
   ]
  },
  {
   "cell_type": "code",
   "execution_count": null,
   "id": "6490ec03",
   "metadata": {},
   "outputs": [],
   "source": [
    "param_dist = {\n",
    "    \"C\": uniform(0.01, 10.0),\n",
    "    \"kernel\": [\"linear\", \"rbf\", \"poly\"],\n",
    "    \"gamma\": uniform(0.01, 1.0),\n",
    "}\n",
    "\n",
    "svm = SVC()\n",
    "\n",
    "random_svm = RandomizedSearchCV(svm, param_distributions=param_dist, n_iter=10, cv=3, scoring=\"accuracy\", random_state=42)\n",
    "random_svm.fit(df_train_x, df_train_y)\n",
    "\n",
    "print(\"best estimator model:\\n{}\".format(random_svm.best_estimator_))\n",
    "print(\"\\nbest parameter:\\n{}\".format(random_svm.best_params_))\n",
    "print(\"\\nbest score:\\n{}\".format(random_svm.best_score_.round(3)))"
   ]
  },
  {
   "cell_type": "code",
   "execution_count": null,
   "id": "80641ff5",
   "metadata": {},
   "outputs": [],
   "source": [
    "svc_final = SVC(gamma = 0.15, C = 1.3, random_state = 1234)\n",
    "svc_final.fit(df_scaled_train_x, df_train_y)\n",
    "y_pred = svc_final.predict(df_scaled_test_x)\n",
    "\n",
    "print(\"Accuracy on training set: {:.3f}\".format(svc_final.score(df_scaled_train_x, df_train_y)))\n",
    "print(\"Accuracy on test set: {:.3f}\".format(svc_final.score(df_scaled_test_x, df_test_y)))\n",
    "svm_confusion = confusion_matrix(df_test_y, y_pred)\n",
    "print(\"Confusion matrix : \\n{}\".format(confusion_matrix(df_test_y, y_pred)))\n",
    "svm_creport = classification_report(df_test_y, y_pred, digits = 3)\n",
    "print(classification_report(df_test_y, y_pred, digits = 3))"
   ]
  },
  {
   "cell_type": "markdown",
   "id": "0c98ef35",
   "metadata": {},
   "source": [
    "# 결론"
   ]
  },
  {
   "cell_type": "code",
   "execution_count": null,
   "id": "e067cbcc",
   "metadata": {},
   "outputs": [],
   "source": [
    "# scale + 하나의 항목 제거\n",
    "print(\"Logistic Confusion matrix : \\n{}\".format(logit_confusion))\n",
    "print(logit_creport)"
   ]
  },
  {
   "cell_type": "code",
   "execution_count": null,
   "id": "5fd35020",
   "metadata": {},
   "outputs": [],
   "source": [
    "# smote\n",
    "print(\"Decision Tree Confusion matrix : \\n{}\".format(dt_confusion))\n",
    "print(dt_creport)"
   ]
  },
  {
   "cell_type": "code",
   "execution_count": null,
   "id": "49306c4d",
   "metadata": {},
   "outputs": [],
   "source": [
    "print(\"RandomForest Confusion matrix : \\n{}\".format(rf_confusion))\n",
    "print(rf_creport)"
   ]
  },
  {
   "cell_type": "code",
   "execution_count": null,
   "id": "7692cc0f",
   "metadata": {},
   "outputs": [],
   "source": [
    "print(\"GradientBoosting Confusion matrix : \\n{}\".format(gb_confusion))\n",
    "print(gb_creport)"
   ]
  },
  {
   "cell_type": "code",
   "execution_count": null,
   "id": "ce8f2d9f",
   "metadata": {},
   "outputs": [],
   "source": [
    "print(\"SVM Confusion matrix : \\n{}\".format(svm_confusion))\n",
    "print(svm_creport)"
   ]
  },
  {
   "cell_type": "code",
   "execution_count": null,
   "id": "c3df755c",
   "metadata": {},
   "outputs": [],
   "source": []
  },
  {
   "cell_type": "code",
   "execution_count": null,
   "id": "2983b626",
   "metadata": {},
   "outputs": [],
   "source": []
  },
  {
   "cell_type": "code",
   "execution_count": null,
   "id": "3751fc36",
   "metadata": {},
   "outputs": [],
   "source": []
  },
  {
   "cell_type": "code",
   "execution_count": null,
   "id": "99a23ff7",
   "metadata": {},
   "outputs": [],
   "source": []
  },
  {
   "cell_type": "code",
   "execution_count": null,
   "id": "e78cbcdc",
   "metadata": {},
   "outputs": [],
   "source": []
  },
  {
   "cell_type": "code",
   "execution_count": null,
   "id": "9b75c192",
   "metadata": {},
   "outputs": [],
   "source": []
  },
  {
   "cell_type": "code",
   "execution_count": null,
   "id": "379b94d7",
   "metadata": {},
   "outputs": [],
   "source": []
  },
  {
   "cell_type": "code",
   "execution_count": null,
   "id": "d77de4a3",
   "metadata": {},
   "outputs": [],
   "source": []
  },
  {
   "cell_type": "code",
   "execution_count": null,
   "id": "5f38d500",
   "metadata": {},
   "outputs": [],
   "source": []
  },
  {
   "cell_type": "code",
   "execution_count": null,
   "id": "859076f2",
   "metadata": {},
   "outputs": [],
   "source": []
  },
  {
   "cell_type": "code",
   "execution_count": null,
   "id": "41116c0d",
   "metadata": {},
   "outputs": [],
   "source": []
  },
  {
   "cell_type": "code",
   "execution_count": null,
   "id": "d7860609",
   "metadata": {},
   "outputs": [],
   "source": []
  },
  {
   "cell_type": "code",
   "execution_count": null,
   "id": "5d18b055",
   "metadata": {},
   "outputs": [],
   "source": []
  },
  {
   "cell_type": "code",
   "execution_count": null,
   "id": "14c34a1d",
   "metadata": {},
   "outputs": [],
   "source": []
  },
  {
   "cell_type": "code",
   "execution_count": null,
   "id": "5e7a7e0f",
   "metadata": {},
   "outputs": [],
   "source": []
  },
  {
   "cell_type": "code",
   "execution_count": null,
   "id": "bdafe13d",
   "metadata": {},
   "outputs": [],
   "source": []
  },
  {
   "cell_type": "code",
   "execution_count": null,
   "id": "f25ae8c0",
   "metadata": {},
   "outputs": [],
   "source": []
  },
  {
   "cell_type": "code",
   "execution_count": null,
   "id": "f98e42b3",
   "metadata": {},
   "outputs": [],
   "source": []
  },
  {
   "cell_type": "code",
   "execution_count": null,
   "id": "0d1dd8a6",
   "metadata": {},
   "outputs": [],
   "source": []
  },
  {
   "cell_type": "code",
   "execution_count": null,
   "id": "1eeda77a",
   "metadata": {},
   "outputs": [],
   "source": []
  },
  {
   "cell_type": "code",
   "execution_count": null,
   "id": "412962f2",
   "metadata": {},
   "outputs": [],
   "source": []
  },
  {
   "cell_type": "code",
   "execution_count": null,
   "id": "fa718692",
   "metadata": {},
   "outputs": [],
   "source": []
  },
  {
   "cell_type": "code",
   "execution_count": null,
   "id": "78b9e68e",
   "metadata": {},
   "outputs": [],
   "source": []
  },
  {
   "cell_type": "code",
   "execution_count": null,
   "id": "9373f15a",
   "metadata": {},
   "outputs": [],
   "source": []
  },
  {
   "cell_type": "code",
   "execution_count": null,
   "id": "aaaa72a1",
   "metadata": {},
   "outputs": [],
   "source": []
  },
  {
   "cell_type": "code",
   "execution_count": null,
   "id": "88a7acc7",
   "metadata": {},
   "outputs": [],
   "source": []
  },
  {
   "cell_type": "code",
   "execution_count": null,
   "id": "8337d74f",
   "metadata": {},
   "outputs": [],
   "source": []
  },
  {
   "cell_type": "code",
   "execution_count": null,
   "id": "259bf9f2",
   "metadata": {},
   "outputs": [],
   "source": []
  },
  {
   "cell_type": "code",
   "execution_count": null,
   "id": "69b4cb63",
   "metadata": {},
   "outputs": [],
   "source": []
  },
  {
   "cell_type": "code",
   "execution_count": null,
   "id": "77398cb4",
   "metadata": {},
   "outputs": [],
   "source": []
  },
  {
   "cell_type": "code",
   "execution_count": null,
   "id": "41f11e73",
   "metadata": {},
   "outputs": [],
   "source": []
  },
  {
   "cell_type": "code",
   "execution_count": null,
   "id": "fcde6b0a",
   "metadata": {},
   "outputs": [],
   "source": []
  },
  {
   "cell_type": "code",
   "execution_count": null,
   "id": "98de9539",
   "metadata": {},
   "outputs": [],
   "source": []
  },
  {
   "cell_type": "code",
   "execution_count": null,
   "id": "2a82ab88",
   "metadata": {},
   "outputs": [],
   "source": []
  },
  {
   "cell_type": "code",
   "execution_count": null,
   "id": "0bfb5d0f",
   "metadata": {},
   "outputs": [],
   "source": []
  },
  {
   "cell_type": "code",
   "execution_count": null,
   "id": "ee97ff77",
   "metadata": {},
   "outputs": [],
   "source": []
  },
  {
   "cell_type": "code",
   "execution_count": null,
   "id": "d9295343",
   "metadata": {},
   "outputs": [],
   "source": []
  },
  {
   "cell_type": "code",
   "execution_count": null,
   "id": "35913fb4",
   "metadata": {},
   "outputs": [],
   "source": []
  },
  {
   "cell_type": "code",
   "execution_count": null,
   "id": "31a6047c",
   "metadata": {},
   "outputs": [],
   "source": []
  },
  {
   "cell_type": "code",
   "execution_count": null,
   "id": "985a03cf",
   "metadata": {},
   "outputs": [],
   "source": []
  },
  {
   "cell_type": "code",
   "execution_count": null,
   "id": "3c1a5949",
   "metadata": {},
   "outputs": [],
   "source": []
  },
  {
   "cell_type": "code",
   "execution_count": null,
   "id": "6adbcfcf",
   "metadata": {},
   "outputs": [],
   "source": []
  },
  {
   "cell_type": "code",
   "execution_count": null,
   "id": "325559f1",
   "metadata": {},
   "outputs": [],
   "source": []
  },
  {
   "cell_type": "code",
   "execution_count": null,
   "id": "d802d91f",
   "metadata": {},
   "outputs": [],
   "source": []
  },
  {
   "cell_type": "code",
   "execution_count": null,
   "id": "1f0522f0",
   "metadata": {},
   "outputs": [],
   "source": []
  },
  {
   "cell_type": "code",
   "execution_count": null,
   "id": "25b06188",
   "metadata": {},
   "outputs": [],
   "source": []
  },
  {
   "cell_type": "code",
   "execution_count": null,
   "id": "084fac1b",
   "metadata": {},
   "outputs": [],
   "source": []
  },
  {
   "cell_type": "code",
   "execution_count": null,
   "id": "b34d5edc",
   "metadata": {},
   "outputs": [],
   "source": []
  },
  {
   "cell_type": "code",
   "execution_count": null,
   "id": "0afa3214",
   "metadata": {},
   "outputs": [],
   "source": []
  },
  {
   "cell_type": "code",
   "execution_count": null,
   "id": "2bd435ed",
   "metadata": {},
   "outputs": [],
   "source": []
  },
  {
   "cell_type": "code",
   "execution_count": null,
   "id": "d6b4d215",
   "metadata": {},
   "outputs": [],
   "source": []
  },
  {
   "cell_type": "code",
   "execution_count": null,
   "id": "150bd9d3",
   "metadata": {},
   "outputs": [],
   "source": []
  },
  {
   "cell_type": "code",
   "execution_count": null,
   "id": "93147b2b",
   "metadata": {},
   "outputs": [],
   "source": []
  },
  {
   "cell_type": "code",
   "execution_count": null,
   "id": "730b2a8a",
   "metadata": {},
   "outputs": [],
   "source": []
  },
  {
   "cell_type": "code",
   "execution_count": null,
   "id": "d2d1b20c",
   "metadata": {},
   "outputs": [],
   "source": []
  },
  {
   "cell_type": "code",
   "execution_count": null,
   "id": "21bd3a19",
   "metadata": {},
   "outputs": [],
   "source": []
  },
  {
   "cell_type": "code",
   "execution_count": null,
   "id": "e10d8705",
   "metadata": {},
   "outputs": [],
   "source": []
  },
  {
   "cell_type": "code",
   "execution_count": null,
   "id": "df93ef6f",
   "metadata": {},
   "outputs": [],
   "source": []
  },
  {
   "cell_type": "code",
   "execution_count": null,
   "id": "0e099df9",
   "metadata": {},
   "outputs": [],
   "source": []
  },
  {
   "cell_type": "code",
   "execution_count": null,
   "id": "8f6f7334",
   "metadata": {},
   "outputs": [],
   "source": []
  },
  {
   "cell_type": "code",
   "execution_count": null,
   "id": "3c1aa921",
   "metadata": {},
   "outputs": [],
   "source": []
  },
  {
   "cell_type": "code",
   "execution_count": null,
   "id": "5c7e1a62",
   "metadata": {},
   "outputs": [],
   "source": []
  },
  {
   "cell_type": "code",
   "execution_count": null,
   "id": "69b61504",
   "metadata": {},
   "outputs": [],
   "source": []
  },
  {
   "cell_type": "code",
   "execution_count": null,
   "id": "d699617a",
   "metadata": {},
   "outputs": [],
   "source": []
  },
  {
   "cell_type": "code",
   "execution_count": null,
   "id": "f03f16ab",
   "metadata": {},
   "outputs": [],
   "source": []
  },
  {
   "cell_type": "code",
   "execution_count": null,
   "id": "a0ac2195",
   "metadata": {},
   "outputs": [],
   "source": []
  },
  {
   "cell_type": "code",
   "execution_count": null,
   "id": "b4c2e3df",
   "metadata": {},
   "outputs": [],
   "source": []
  },
  {
   "cell_type": "code",
   "execution_count": null,
   "id": "f61354c7",
   "metadata": {},
   "outputs": [],
   "source": []
  },
  {
   "cell_type": "code",
   "execution_count": null,
   "id": "00e4d562",
   "metadata": {},
   "outputs": [],
   "source": []
  },
  {
   "cell_type": "code",
   "execution_count": null,
   "id": "e615e9af",
   "metadata": {},
   "outputs": [],
   "source": []
  },
  {
   "cell_type": "code",
   "execution_count": null,
   "id": "7c6bb3f9",
   "metadata": {},
   "outputs": [],
   "source": []
  }
 ],
 "metadata": {
  "kernelspec": {
   "display_name": "Python 3 (ipykernel)",
   "language": "python",
   "name": "python3"
  },
  "language_info": {
   "codemirror_mode": {
    "name": "ipython",
    "version": 3
   },
   "file_extension": ".py",
   "mimetype": "text/x-python",
   "name": "python",
   "nbconvert_exporter": "python",
   "pygments_lexer": "ipython3",
   "version": "3.10.9"
  }
 },
 "nbformat": 4,
 "nbformat_minor": 5
}
