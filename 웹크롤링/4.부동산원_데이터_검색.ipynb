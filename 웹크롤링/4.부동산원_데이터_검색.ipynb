{
 "cells": [
  {
   "cell_type": "markdown",
   "metadata": {},
   "source": [
    "- 한국 부동산원 접속\n",
    "- https://www.reb.or.kr/r-one/main.do"
   ]
  },
  {
   "cell_type": "code",
   "execution_count": 8,
   "metadata": {},
   "outputs": [],
   "source": [
    "import pyautogui as pg\n",
    "from selenium import webdriver\n",
    "from selenium.webdriver.common.by import By\n",
    "from selenium.webdriver.common.keys import Keys \n",
    "from selenium.webdriver.support.ui import Select"
   ]
  },
  {
   "cell_type": "code",
   "execution_count": 16,
   "metadata": {},
   "outputs": [],
   "source": [
    "# class 살펴보기, instance 개념\n",
    "url = 'https://www.reb.or.kr/r-one/main.do'\n",
    "driver = webdriver.Chrome()\n",
    "driver.get(url)\n",
    "\n",
    "#  10초안에 웹페이지를 load 하면 바로 넘어가거나, 10초를 기다림.\n",
    "driver.implicitly_wait(10)\n",
    "\n",
    "# 화면 키우기\n",
    "driver.maximize_window()"
   ]
  },
  {
   "cell_type": "markdown",
   "metadata": {},
   "source": [
    "- 팝업창 제거"
   ]
  },
  {
   "cell_type": "code",
   "execution_count": 17,
   "metadata": {},
   "outputs": [],
   "source": [
    "# 팝업창 제거 같은 경우는 예외처리\n",
    "# try ~ except"
   ]
  },
  {
   "cell_type": "markdown",
   "metadata": {},
   "source": [
    "- 아파트 접속"
   ]
  },
  {
   "cell_type": "code",
   "execution_count": 18,
   "metadata": {},
   "outputs": [],
   "source": [
    "driver.find_element(By.XPATH,'//*[@id=\"tab\"]/li[3]/a').click()"
   ]
  },
  {
   "cell_type": "code",
   "execution_count": 19,
   "metadata": {},
   "outputs": [],
   "source": [
    "\\driver.find_element(By.XPATH,'//*[@id=\"tab02\"]/div[2]/ul/li[2]/a/p').click()"
   ]
  },
  {
   "cell_type": "markdown",
   "metadata": {},
   "source": [
    "- 조건 검색"
   ]
  },
  {
   "cell_type": "code",
   "execution_count": 22,
   "metadata": {},
   "outputs": [
    {
     "data": {
      "text/plain": [
       "['D46EAAF9067C92AB3F2A01F62E9D9C49', '85E1B9EA910CFA78F5A5D8C8913D04F0']"
      ]
     },
     "execution_count": 22,
     "metadata": {},
     "output_type": "execute_result"
    }
   ],
   "source": [
    "# 새로운 창이 떠짐\n",
    "# driver 검사를 해보면 2개가 나오고 그 2개는 동급임\n",
    "# 리스트\n",
    "driver.window_handles"
   ]
  },
  {
   "cell_type": "code",
   "execution_count": 24,
   "metadata": {},
   "outputs": [],
   "source": [
    "# 이걸로 어떤 창이 몇번째인지 확인 가능\n",
    "driver.switch_to.window(driver.window_handles[0])"
   ]
  },
  {
   "cell_type": "code",
   "execution_count": 25,
   "metadata": {},
   "outputs": [],
   "source": [
    "pg.sleep(3)\n",
    "\n",
    "# 가장 최근 창 띄우기\n",
    "driver.switch_to.window(driver.window_handles[-1])"
   ]
  },
  {
   "cell_type": "code",
   "execution_count": 28,
   "metadata": {},
   "outputs": [],
   "source": [
    "#날짜 선택하기\n",
    "# id 값이 있으면 굳이 xpath로 안해도 됨\n",
    "# 객체를 생성\n",
    "select = Select(driver.find_element(By.ID,'researchYear_s'))\n",
    "select.select_by_value('2021')\n",
    "\n",
    "select = Select(driver.find_element(By.ID,'researchMonth_s'))\n",
    "select.select_by_value('01')\n",
    "\n",
    "select = Select(driver.find_element(By.ID,'researchYear_e'))\n",
    "select.select_by_value('2022')\n",
    "pg.sleep(1)\n",
    "select = Select(driver.find_element(By.ID,'researchMonth_e'))\n",
    "select.select_by_value('12')"
   ]
  },
  {
   "cell_type": "code",
   "execution_count": 29,
   "metadata": {},
   "outputs": [],
   "source": [
    "# 확인 버튼 누르기\n",
    "driver.find_element(By.XPATH,'//*[@id=\"statisticsBtnOk\"]').click()\n",
    "pg.sleep(5)"
   ]
  },
  {
   "cell_type": "code",
   "execution_count": 30,
   "metadata": {},
   "outputs": [],
   "source": [
    "# 저장 버튼버튼 누르기\n",
    "driver.find_element(By.XPATH,'//*[@id=\"imgDownloadAll\"]').click()"
   ]
  },
  {
   "cell_type": "code",
   "execution_count": null,
   "metadata": {},
   "outputs": [],
   "source": [
    "# 특정 폴더 파일명 추출 구글링하기\n",
    "# 다운로드 시간 계산해서 두 번 이상 다운로드 안되게 할 수 있음"
   ]
  }
 ],
 "metadata": {
  "kernelspec": {
   "display_name": "Python 3 (ipykernel)",
   "language": "python",
   "name": "python3"
  },
  "language_info": {
   "codemirror_mode": {
    "name": "ipython",
    "version": 3
   },
   "file_extension": ".py",
   "mimetype": "text/x-python",
   "name": "python",
   "nbconvert_exporter": "python",
   "pygments_lexer": "ipython3",
   "version": "3.10.9"
  },
  "vscode": {
   "interpreter": {
    "hash": "e2782e0ab7cab974e8fb2dfc8cec048a29dc3b50e54743df0c4a34ac41b2be7e"
   }
  }
 },
 "nbformat": 4,
 "nbformat_minor": 2
}
