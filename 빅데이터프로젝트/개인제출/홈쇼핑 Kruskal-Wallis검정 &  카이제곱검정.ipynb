{
 "cells": [
  {
   "cell_type": "code",
   "execution_count": 1,
   "id": "a8a514d0",
   "metadata": {},
   "outputs": [],
   "source": [
    "import pandas as pd\n",
    "import seaborn as sns\n",
    "import matplotlib\n",
    "import matplotlib.pyplot as plt\n",
    "import numpy as np\n",
    "\n",
    "from statsmodels.formula.api import ols\n",
    "from statsmodels.stats.anova import anova_lm"
   ]
  },
  {
   "cell_type": "code",
   "execution_count": 2,
   "id": "fe4e29d1",
   "metadata": {},
   "outputs": [],
   "source": [
    "import pandas as pd\n",
    "import os\n",
    "os.chdir(\"/home/piai/문서/빅데이터프로젝트\")\n",
    "os.getcwd()\n",
    "df = pd.read_csv(\"./df.csv\", encoding = 'euc-kr')\n",
    "import matplotlib.pyplot as plt\n",
    "plt.rcParams['font.family'] = 'NanumGothic'"
   ]
  },
  {
   "cell_type": "markdown",
   "id": "4eb6a9e9",
   "metadata": {},
   "source": [
    "# 대분류가 식품일 때 계절별로 매출액 차이가 있는지 검정"
   ]
  },
  {
   "cell_type": "code",
   "execution_count": 6,
   "id": "301aa1bb",
   "metadata": {},
   "outputs": [
    {
     "name": "stdout",
     "output_type": "stream",
     "text": [
      "Kruskal-Wallis 검정 결과:\n",
      "통계량 (H): 17.115012575123917\n",
      "p-value: 0.0006692731118479165\n"
     ]
    }
   ],
   "source": [
    "from scipy.stats import kruskal\n",
    "\n",
    "# '대분류'가 '의류'이고 '계절'이 '겨울'인 데이터 필터링\n",
    "df_filtered = df[(df['대분류'] == '식품')]\n",
    "\n",
    "# '요일'별 '매출액' 데이터 리스트로 추출\n",
    "days = sorted(list(set(df_filtered['계절'])))\n",
    "data = [df_filtered[df_filtered['계절'] == day]['매출액'] for day in days]\n",
    "\n",
    "# Kruskal-Wallis 검정 실행\n",
    "statistic, p_value = kruskal(*data)\n",
    "\n",
    "# 결과 출력\n",
    "print(\"Kruskal-Wallis 검정 결과:\")\n",
    "print(\"통계량 (H):\", statistic)\n",
    "print(\"p-value:\", p_value)\n"
   ]
  },
  {
   "cell_type": "markdown",
   "id": "3a56a65f",
   "metadata": {},
   "source": [
    "# 대분류가 식품이고 계절이 겨울일 때 요일별로 매출액 차이가 있는지 검정"
   ]
  },
  {
   "cell_type": "code",
   "execution_count": 10,
   "id": "7268bf63",
   "metadata": {
    "scrolled": true
   },
   "outputs": [
    {
     "name": "stdout",
     "output_type": "stream",
     "text": [
      "Kruskal-Wallis 검정 결과:\n",
      "통계량 (H): 3.9103413444839883\n",
      "p-value: 0.6888083408440451\n"
     ]
    }
   ],
   "source": [
    "from scipy.stats import kruskal\n",
    "\n",
    "# '대분류'가 '의류'이고 '계절'이 '겨울'인 데이터 필터링\n",
    "df_filtered = df[(df['대분류'] == '식품') & (df['계절'] == '여름')]\n",
    "\n",
    "# '요일'별 '매출액' 데이터 리스트로 추출\n",
    "days = sorted(list(set(df_filtered['요일'])))\n",
    "data = [df_filtered[df_filtered['요일'] == day]['매출액'] for day in days]\n",
    "\n",
    "# Kruskal-Wallis 검정 실행\n",
    "statistic, p_value = kruskal(*data)\n",
    "\n",
    "# 결과 출력\n",
    "print(\"Kruskal-Wallis 검정 결과:\")\n",
    "print(\"통계량 (H):\", statistic)\n",
    "print(\"p-value:\", p_value)\n"
   ]
  },
  {
   "cell_type": "markdown",
   "id": "18b72101",
   "metadata": {},
   "source": [
    "# 대분류가 식품일 때 시간대별로 차이 있는지"
   ]
  },
  {
   "cell_type": "code",
   "execution_count": 11,
   "id": "19d072e2",
   "metadata": {},
   "outputs": [
    {
     "name": "stdout",
     "output_type": "stream",
     "text": [
      "Kruskal-Wallis 검정 결과:\n",
      "통계량 (H): 8.910655935716012\n",
      "p-value: 0.25913442072367404\n"
     ]
    }
   ],
   "source": [
    "from scipy.stats import kruskal\n",
    "\n",
    "# '대분류'가 '의류'이고 '계절'이 '겨울'인 데이터 필터링\n",
    "df_filtered = df[(df['대분류'] == '식품')]\n",
    "\n",
    "# '요일'별 '매출액' 데이터 리스트로 추출\n",
    "days = sorted(list(set(df_filtered['시간대'])))\n",
    "data = [df_filtered[df_filtered['시간대'] == day]['매출액'] for day in days]\n",
    "\n",
    "# Kruskal-Wallis 검정 실행\n",
    "statistic, p_value = kruskal(*data)\n",
    "\n",
    "# 결과 출력\n",
    "print(\"Kruskal-Wallis 검정 결과:\")\n",
    "print(\"통계량 (H):\", statistic)\n",
    "print(\"p-value:\", p_value)\n"
   ]
  },
  {
   "cell_type": "markdown",
   "id": "e9431cd6",
   "metadata": {},
   "source": [
    "# 대분류가 의류일 때 계절별로 매출액 차이가 있는지 검정"
   ]
  },
  {
   "cell_type": "code",
   "execution_count": 4,
   "id": "a17cb7d2",
   "metadata": {},
   "outputs": [
    {
     "name": "stdout",
     "output_type": "stream",
     "text": [
      "Kruskal-Wallis 검정 결과:\n",
      "통계량 (H): 4.079010953695479\n",
      "p-value: 0.2530577981261492\n"
     ]
    }
   ],
   "source": [
    "from scipy.stats import kruskal\n",
    "\n",
    "# '대분류'가 '의류'이고 '계절'이 '겨울'인 데이터 필터링\n",
    "df_filtered = df[(df['대분류'] == '의류')]\n",
    "\n",
    "# '요일'별 '매출액' 데이터 리스트로 추출\n",
    "days = sorted(list(set(df_filtered['계절'])))\n",
    "data = [df_filtered[df_filtered['계절'] == day]['매출액'] for day in days]\n",
    "\n",
    "# Kruskal-Wallis 검정 실행\n",
    "statistic, p_value = kruskal(*data)\n",
    "\n",
    "# 결과 출력\n",
    "print(\"Kruskal-Wallis 검정 결과:\")\n",
    "print(\"통계량 (H):\", statistic)\n",
    "print(\"p-value:\", p_value)\n"
   ]
  },
  {
   "cell_type": "markdown",
   "id": "e84b3b7d",
   "metadata": {},
   "source": [
    "# 대분류가 의류이고 계절이 겨울일 때 요일별로 매출액 차이가 있는지 검정"
   ]
  },
  {
   "cell_type": "code",
   "execution_count": 3,
   "id": "ad4ff2f1",
   "metadata": {
    "scrolled": true
   },
   "outputs": [
    {
     "name": "stdout",
     "output_type": "stream",
     "text": [
      "Kruskal-Wallis 검정 결과:\n",
      "통계량 (H): 5.049420862973198\n",
      "p-value: 0.5374903460661069\n"
     ]
    }
   ],
   "source": [
    "from scipy.stats import kruskal\n",
    "\n",
    "# '대분류'가 '의류'이고 '계절'이 '겨울'인 데이터 필터링\n",
    "df_filtered = df[(df['대분류'] == '의류') & (df['계절'] == '겨울')]\n",
    "\n",
    "# '요일'별 '매출액' 데이터 리스트로 추출\n",
    "days = sorted(list(set(df_filtered['요일'])))\n",
    "data = [df_filtered[df_filtered['요일'] == day]['매출액'] for day in days]\n",
    "\n",
    "# Kruskal-Wallis 검정 실행\n",
    "statistic, p_value = kruskal(*data)\n",
    "\n",
    "# 결과 출력\n",
    "print(\"Kruskal-Wallis 검정 결과:\")\n",
    "print(\"통계량 (H):\", statistic)\n",
    "print(\"p-value:\", p_value)\n"
   ]
  },
  {
   "cell_type": "markdown",
   "id": "52fad57a",
   "metadata": {},
   "source": [
    "# 대분류가 의류이고 계절이 겨울이고 요일이 토요일일 때 시간대별 매출액 차이가 있는지 검정"
   ]
  },
  {
   "cell_type": "code",
   "execution_count": 5,
   "id": "09b6be39",
   "metadata": {},
   "outputs": [
    {
     "name": "stdout",
     "output_type": "stream",
     "text": [
      "Kruskal-Wallis 검정 결과:\n",
      "통계량 (H): 10.380728485843957\n",
      "p-value: 0.16800481306659232\n"
     ]
    }
   ],
   "source": [
    "from scipy.stats import kruskal\n",
    "\n",
    "# '대분류'가 '의류'이고 '계절'이 '겨울'인 데이터 필터링\n",
    "df_filtered = df[(df['대분류'] == '의류') & (df['계절'] == '겨울')& (df['요일'] == '토요일')]\n",
    "\n",
    "# '요일'별 '매출액' 데이터 리스트로 추출\n",
    "days = sorted(list(set(df_filtered['시간대'])))\n",
    "data = [df_filtered[df_filtered['시간대'] == day]['매출액'] for day in days]\n",
    "\n",
    "# Kruskal-Wallis 검정 실행\n",
    "statistic, p_value = kruskal(*data)\n",
    "\n",
    "# 결과 출력\n",
    "print(\"Kruskal-Wallis 검정 결과:\")\n",
    "print(\"통계량 (H):\", statistic)\n",
    "print(\"p-value:\", p_value)\n"
   ]
  },
  {
   "cell_type": "markdown",
   "id": "a672d265",
   "metadata": {},
   "source": [
    "---------------------------------------------"
   ]
  },
  {
   "cell_type": "markdown",
   "id": "c3ed9cc0",
   "metadata": {},
   "source": [
    "# 대분류-식품일 때 계절별로 매출액 차이가 있는지 카이제곱 검정"
   ]
  },
  {
   "cell_type": "code",
   "execution_count": 7,
   "id": "8e8d9639",
   "metadata": {
    "scrolled": true
   },
   "outputs": [
    {
     "name": "stdout",
     "output_type": "stream",
     "text": [
      "Chi-square statistic: 35.902228903525625\n",
      "P-value: 7.85341002879271e-08\n",
      "Degrees of freedom: 3\n"
     ]
    }
   ],
   "source": [
    "import pandas as pd\n",
    "from scipy.stats import chi2_contingency\n",
    "\n",
    "# '대분류'가 '식품'인 데이터만 추출\n",
    "df_food = df[df['대분류'] == '식품']\n",
    "\n",
    "# 교차표 생성\n",
    "contingency_table = pd.crosstab(df_food['목표달성여부'], df_food['계절'])\n",
    "\n",
    "# 카이제곱 검정 수행\n",
    "chi2, p_value, dof, expected = chi2_contingency(contingency_table)\n",
    "\n",
    "print(\"Chi-square statistic:\", chi2)\n",
    "print(\"P-value:\", p_value)\n",
    "print(\"Degrees of freedom:\", dof)\n"
   ]
  },
  {
   "cell_type": "markdown",
   "id": "09b639db",
   "metadata": {},
   "source": [
    "=> 대분류 식품에서 계절별로 목표달성여부의 차이가 없다는 것"
   ]
  },
  {
   "cell_type": "markdown",
   "id": "67719a8b",
   "metadata": {},
   "source": [
    "# 대분류-의류일 때 계절별로 매출액 차이가 있는지 카이제곱 검정"
   ]
  },
  {
   "cell_type": "code",
   "execution_count": 8,
   "id": "554e3823",
   "metadata": {
    "scrolled": true
   },
   "outputs": [
    {
     "name": "stdout",
     "output_type": "stream",
     "text": [
      "Chi-square statistic: 18.225848147674817\n",
      "P-value: 0.0003951036811660769\n",
      "Degrees of freedom: 3\n"
     ]
    }
   ],
   "source": [
    "import pandas as pd\n",
    "from scipy.stats import chi2_contingency\n",
    "\n",
    "# '대분류'가 '의류'인 데이터만 추출\n",
    "df_clothing = df[df['대분류'] == '의류']\n",
    "\n",
    "# 교차표 생성\n",
    "contingency_table = pd.crosstab(df_clothing['목표달성여부'], df_clothing['계절'])\n",
    "\n",
    "# 카이제곱 검정 수행\n",
    "chi2, p_value, dof, expected = chi2_contingency(contingency_table)\n",
    "\n",
    "print(\"Chi-square statistic:\", chi2)\n",
    "print(\"P-value:\", p_value)\n",
    "print(\"Degrees of freedom:\", dof)\n"
   ]
  },
  {
   "cell_type": "markdown",
   "id": "4cfaee1d",
   "metadata": {},
   "source": [
    "=> 대분류 의류에서 계절별로 목표달성여부의 차이가 있다"
   ]
  },
  {
   "cell_type": "markdown",
   "id": "b18b36cb",
   "metadata": {},
   "source": [
    "# 대분류-생활용품일 때 계절별로 매출액 차이가 있는지 카이제곱 검정"
   ]
  },
  {
   "cell_type": "code",
   "execution_count": 10,
   "id": "48961df9",
   "metadata": {},
   "outputs": [
    {
     "name": "stdout",
     "output_type": "stream",
     "text": [
      "Chi-square statistic: 28.400006776351628\n",
      "P-value: 2.9934489990297977e-06\n",
      "Degrees of freedom: 3\n"
     ]
    }
   ],
   "source": [
    "df_household = df[df['대분류'] == '생활용품']\n",
    "\n",
    "# 교차표 생성\n",
    "contingency_table = pd.crosstab(df_household['목표달성여부'], df_household['계절'])\n",
    "\n",
    "# 카이제곱 검정 수행\n",
    "chi2, p_value, dof, expected = chi2_contingency(contingency_table)\n",
    "\n",
    "print(\"Chi-square statistic:\", chi2)\n",
    "print(\"P-value:\", p_value)\n",
    "print(\"Degrees of freedom:\", dof)"
   ]
  },
  {
   "cell_type": "markdown",
   "id": "6d389eec",
   "metadata": {},
   "source": [
    "=> 대분류 생활용품에서 계절별로 목표달성여부의 차이가 없다는 것이야"
   ]
  },
  {
   "cell_type": "markdown",
   "id": "b7873cdf",
   "metadata": {},
   "source": [
    "# 대분류-식품일 때 요일별로 매출액 차이가 있는지 카이제곱 검정"
   ]
  },
  {
   "cell_type": "code",
   "execution_count": 11,
   "id": "fbfafb97",
   "metadata": {
    "scrolled": true
   },
   "outputs": [
    {
     "name": "stdout",
     "output_type": "stream",
     "text": [
      "Chi-square statistic: 3.707239602067837\n",
      "P-value: 0.7162238956758131\n",
      "Degrees of freedom: 6\n"
     ]
    }
   ],
   "source": [
    "import pandas as pd\n",
    "from scipy.stats import chi2_contingency\n",
    "\n",
    "# '대분류'가 '식품'인 데이터만 추출\n",
    "df_food = df[df['대분류'] == '식품']\n",
    "\n",
    "# 교차표 생성\n",
    "contingency_table = pd.crosstab(df_food['목표달성여부'], df_food['요일'])\n",
    "\n",
    "# 카이제곱 검정 수행\n",
    "chi2, p_value, dof, expected = chi2_contingency(contingency_table)\n",
    "\n",
    "print(\"Chi-square statistic:\", chi2)\n",
    "print(\"P-value:\", p_value)\n",
    "print(\"Degrees of freedom:\", dof)\n"
   ]
  },
  {
   "cell_type": "markdown",
   "id": "87dc1e1d",
   "metadata": {},
   "source": [
    "=> 식품은 요일별로도 차이가 왜 없지.."
   ]
  },
  {
   "cell_type": "markdown",
   "id": "192c58a7",
   "metadata": {},
   "source": [
    "# 대분류-생활용품일 때 요일별로 매출액 차이가 있는지 카이제곱 검정"
   ]
  },
  {
   "cell_type": "code",
   "execution_count": 12,
   "id": "5f720cb9",
   "metadata": {
    "scrolled": true
   },
   "outputs": [
    {
     "name": "stdout",
     "output_type": "stream",
     "text": [
      "Chi-square statistic: 3.3261909598387587\n",
      "P-value: 0.7669319839997183\n",
      "Degrees of freedom: 6\n"
     ]
    }
   ],
   "source": [
    "df_household = df[df['대분류'] == '생활용품']\n",
    "\n",
    "# 교차표 생성\n",
    "contingency_table = pd.crosstab(df_household['목표달성여부'], df_household['요일'])\n",
    "\n",
    "# 카이제곱 검정 수행\n",
    "chi2, p_value, dof, expected = chi2_contingency(contingency_table)\n",
    "\n",
    "print(\"Chi-square statistic:\", chi2)\n",
    "print(\"P-value:\", p_value)\n",
    "print(\"Degrees of freedom:\", dof)"
   ]
  },
  {
   "cell_type": "markdown",
   "id": "d45c3008",
   "metadata": {},
   "source": [
    "# 대분류-의류 계절별로 목표달성여부 분포도"
   ]
  },
  {
   "cell_type": "code",
   "execution_count": 13,
   "id": "49afc787",
   "metadata": {},
   "outputs": [
    {
     "data": {
      "image/png": "[encoded data removed]",
      "text/plain": [
       "<Figure size 1000x600 with 1 Axes>"
      ]
     },
     "metadata": {},
     "output_type": "display_data"
    }
   ],
   "source": [
    "import pandas as pd\n",
    "import matplotlib.pyplot as plt\n",
    "\n",
    "# '대분류'가 '의류'인 경우 필터링\n",
    "df_clothing = df[df['대분류'] == '의류']\n",
    "\n",
    "# '계절'별로 '목표달성여부'의 합 계산\n",
    "season_goal_sum = df_clothing.groupby('계절')['목표달성여부'].sum()\n",
    "\n",
    "# 그래프 그리기\n",
    "fig, ax = plt.subplots(figsize=(10, 6))\n",
    "season_goal_sum.plot(kind='bar', ax=ax)\n",
    "\n",
    "ax.set_xlabel('계절')\n",
    "ax.set_ylabel('목표달성여부 합')\n",
    "ax.set_title('의류 대분류의 계절별 목표달성여부 합')\n",
    "\n",
    "plt.show()\n"
   ]
  },
  {
   "cell_type": "code",
   "execution_count": 14,
   "id": "56f3ed22",
   "metadata": {},
   "outputs": [
    {
     "name": "stdout",
     "output_type": "stream",
     "text": [
      "Chi-square value: 6.841161891650341\n",
      "p-value: 0.3357866977602603\n"
     ]
    }
   ],
   "source": [
    "import pandas as pd\n",
    "from scipy.stats import chi2_contingency\n",
    "\n",
    "# '대분류'가 '의류'이고 '계절'이 '겨울'인 경우 필터링\n",
    "df_filtered = df[(df['대분류'] == '의류') & (df['계절'] == '겨울')]\n",
    "\n",
    "# '요일'별로 '목표달성여부'의 분포 구하기\n",
    "cross_tab = pd.crosstab(df_filtered['요일'], df_filtered['목표달성여부'])\n",
    "\n",
    "# 카이제곱 검정 수행\n",
    "chi2, p_value, _, _ = chi2_contingency(cross_tab)\n",
    "\n",
    "print(\"Chi-square value:\", chi2)\n",
    "print(\"p-value:\", p_value)"
   ]
  },
  {
   "cell_type": "markdown",
   "id": "4bd87b4d",
   "metadata": {},
   "source": [
    "=> 대분류:의류의 경우 계절별로 목표달성여부의 확실한 차이가 있지만 그 안에서 겨울일 경우에 요일별로는 별 차이가 없다"
   ]
  },
  {
   "cell_type": "code",
   "execution_count": 15,
   "id": "89f0e650",
   "metadata": {},
   "outputs": [
    {
     "name": "stdout",
     "output_type": "stream",
     "text": [
      "Chi-square value: 1.8093854842886465\n",
      "p-value: 0.93636814224193\n"
     ]
    }
   ],
   "source": [
    "import pandas as pd\n",
    "from scipy.stats import chi2_contingency\n",
    "\n",
    "# '대분류'가 '의류'이고 '계절'이 '겨울'인 경우 필터링\n",
    "df_filtered = df[(df['대분류'] == '의류')]\n",
    "\n",
    "# '요일'별로 '목표달성여부'의 분포 구하기\n",
    "cross_tab = pd.crosstab(df_filtered['요일'], df_filtered['목표달성여부'])\n",
    "\n",
    "# 카이제곱 검정 수행\n",
    "chi2, p_value, _, _ = chi2_contingency(cross_tab)\n",
    "\n",
    "print(\"Chi-square value:\", chi2)\n",
    "print(\"p-value:\", p_value)"
   ]
  },
  {
   "cell_type": "code",
   "execution_count": 17,
   "id": "62206a61",
   "metadata": {},
   "outputs": [
    {
     "name": "stdout",
     "output_type": "stream",
     "text": [
      "Chi-square value: 4.0337044801619895\n",
      "p-value: 0.7758872273465269\n"
     ]
    }
   ],
   "source": [
    "import pandas as pd\n",
    "from scipy.stats import chi2_contingency\n",
    "\n",
    "# '대분류'가 '의류'이고 '계절'이 '겨울'인 경우 필터링\n",
    "df_filtered = df[(df['대분류'] == '의류')]\n",
    "\n",
    "# '요일'별로 '목표달성여부'의 분포 구하기\n",
    "cross_tab = pd.crosstab(df_filtered['시간대'], df_filtered['목표달성여부'])\n",
    "\n",
    "# 카이제곱 검정 수행\n",
    "chi2, p_value, _, _ = chi2_contingency(cross_tab)\n",
    "\n",
    "print(\"Chi-square value:\", chi2)\n",
    "print(\"p-value:\", p_value)"
   ]
  },
  {
   "cell_type": "code",
   "execution_count": null,
   "id": "e5b858a5",
   "metadata": {},
   "outputs": [],
   "source": [
    "import pandas as pd\n",
    "\n",
    "# 시간대 구분 함수 정의\n",
    "def get_time_category(hour):\n",
    "\thour = int(hour)\n",
    "\tif 0 <= hour < 3:\n",
    "    \treturn '심야'\n",
    "\telif 3 <= hour < 6:\n",
    "    \treturn '새벽'\n",
    "\telif 6 <= hour < 9:\n",
    "    \treturn '아침'\n",
    "\telif 9 <= hour < 12:\n",
    "    \treturn '오전'\n",
    "\telif 12 <= hour < 15:\n",
    "    \treturn '점심'\n",
    "\telif 15 <= hour < 18:\n",
    "    \treturn '오후'\n",
    "\telif 18 <= hour < 21:\n",
    "    \treturn '저녁'\n",
    "\telif 21 <= hour < 24:\n",
    "    \treturn '야간'\n",
    "\n",
    "# '시간대' 열 생성\n",
    "df['시간대'] = df['시작시간'].apply(get_time_category)"
   ]
  }
 ],
 "metadata": {
  "kernelspec": {
   "display_name": "Python 3 (ipykernel)",
   "language": "python",
   "name": "python3"
  },
  "language_info": {
   "codemirror_mode": {
    "name": "ipython",
    "version": 3
   },
   "file_extension": ".py",
   "mimetype": "text/x-python",
   "name": "python",
   "nbconvert_exporter": "python",
   "pygments_lexer": "ipython3",
   "version": "3.10.9"
  }
 },
 "nbformat": 4,
 "nbformat_minor": 5
}
