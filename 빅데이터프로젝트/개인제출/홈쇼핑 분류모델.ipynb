{
 "cells": [
  {
   "cell_type": "code",
   "execution_count": 1,
   "id": "d9e2c55d",
   "metadata": {},
   "outputs": [
    {
     "data": {
      "text/plain": [
       "'/home/piai/문서/빅데이터프로젝트'"
      ]
     },
     "execution_count": 1,
     "metadata": {},
     "output_type": "execute_result"
    }
   ],
   "source": [
    "import pandas as pd\n",
    "import os\n",
    "os.chdir(\"/home/piai/문서/빅데이터프로젝트\")\n",
    "os.getcwd()"
   ]
  },
  {
   "cell_type": "code",
   "execution_count": 26,
   "id": "774e7ea2",
   "metadata": {},
   "outputs": [],
   "source": [
    "df = pd.read_csv(\"./df.csv\", encoding = 'euc-kr')\n",
    "import matplotlib.pyplot as plt\n",
    "plt.rcParams['font.family'] = 'NanumGothic'"
   ]
  },
  {
   "cell_type": "markdown",
   "id": "c1422f5f",
   "metadata": {},
   "source": [
    "----------------"
   ]
  },
  {
   "cell_type": "markdown",
   "id": "775bb2aa",
   "metadata": {},
   "source": [
    "# 문화서비스 제거"
   ]
  },
  {
   "cell_type": "code",
   "execution_count": 68,
   "id": "a7d7fa17",
   "metadata": {},
   "outputs": [],
   "source": [
    "# '대분류'에서 '문화/서비스'인 행만 제거\n",
    "df = df[df['대분류'] != '문화/서비스']\n"
   ]
  },
  {
   "cell_type": "markdown",
   "id": "889af6e2",
   "metadata": {},
   "source": [
    "-------------------------"
   ]
  },
  {
   "cell_type": "markdown",
   "id": "73b44462",
   "metadata": {},
   "source": [
    "# 대분류 - 식품인 경우 의사결정나무"
   ]
  },
  {
   "cell_type": "code",
   "execution_count": null,
   "id": "d216ce77",
   "metadata": {},
   "outputs": [],
   "source": [
    "import pandas as pd\n",
    "import os\n",
    "import pandas as pd\n",
    "import matplotlib.pyplot as plt\n",
    "import matplotlib\n",
    "from sklearn.tree import export_graphviz\n",
    "import graphviz\n",
    "from sklearn.model_selection import train_test_split\n",
    "from sklearn.tree import DecisionTreeClassifier\n",
    "from sklearn.ensemble import RandomForestClassifier\n",
    "from sklearn.model_selection import GridSearchCV\n",
    "import matplotlib as mpl\n",
    "import pydotplus\n",
    "import warnings\n",
    "warnings.filterwarnings('ignore')\n",
    "\n",
    "os.chdir(\"/home/piai/문서/빅데이터프로젝트\")\n",
    "os.getcwd()\n",
    "df = pd.read_csv(\"./df.csv\", encoding = 'euc-kr')"
   ]
  },
  {
   "cell_type": "code",
   "execution_count": null,
   "id": "ef01db44",
   "metadata": {},
   "outputs": [],
   "source": [
    "df = df[['목표달성여부','소요분', '가중분','대분류','중분류','월','요일','시간', '계절','시간대' ]]\n",
    "df = df[df['대분류'] == '식품']\n",
    "df['목표달성여부'] = df['목표달성여부'].astype(int)\n",
    "\n",
    "df_dummy = pd.get_dummies(df[['중분류','요일','계절','시간대']])\n",
    "df_new = pd.concat([df, df_dummy], axis = 1)\n",
    "df_new = df_new.drop(['중분류','요일','계절','시간대','대분류'], axis = 1)\n",
    "\n",
    "# 목표변수, 설명변수 데이터 지정\n",
    "df_raw_y = df_new[\"목표달성여부\"]\n",
    "df_raw_x = df_new.drop(\"목표달성여부\",axis = 1, inplace = False)\n",
    "\n",
    "df_raw_y.value_counts(normalize=True)"
   ]
  },
  {
   "cell_type": "code",
   "execution_count": null,
   "id": "cb2307ef",
   "metadata": {},
   "outputs": [],
   "source": [
    "#데이터는 (train(0.6) : test(0.4))의 비율로 분할\n",
    "df_train_x, df_test_x, df_train_y, df_test_y = train_test_split(df_raw_x, df_raw_y, test_size=0.4,\n",
    "                                                                random_state=1234)\n",
    "print(\"train data X size : {}\".format(df_train_x.shape))\n",
    "print(\"train data Y size : {}\".format(df_train_y.shape))\n",
    "print(\"test data X size : {}\".format(df_test_x.shape))\n",
    "print(\"test data Y size : {}\".format(df_test_y.shape))"
   ]
  },
  {
   "cell_type": "code",
   "execution_count": 68,
   "id": "9f12713e",
   "metadata": {},
   "outputs": [
    {
     "name": "stdout",
     "output_type": "stream",
     "text": [
      "Score on training set: 0.955\n",
      "Score on test set: 0.616\n"
     ]
    }
   ],
   "source": [
    "tree_uncustomized = DecisionTreeClassifier(random_state = 1234)\n",
    "tree_uncustomized.fit(df_train_x, df_train_y)\n",
    "\n",
    "print(\"Score on training set: {:.3f}\".format(tree_uncustomized.score(df_train_x, df_train_y)))\n",
    "print(\"Score on test set: {:.3f}\".format(tree_uncustomized.score(df_test_x, df_test_y)))"
   ]
  },
  {
   "cell_type": "code",
   "execution_count": 69,
   "id": "11145aa6",
   "metadata": {},
   "outputs": [
    {
     "name": "stdout",
     "output_type": "stream",
     "text": [
      "best estimator model: \n",
      "DecisionTreeClassifier(criterion='entropy', max_depth=2, max_features=1.0,\n",
      "                       min_samples_leaf=12, min_samples_split=7,\n",
      "                       random_state=42)\n",
      "\n",
      "best parameter: \n",
      "{'criterion': 'entropy', 'max_depth': 2, 'max_features': 1.0, 'min_samples_leaf': 12, 'min_samples_split': 7}\n",
      "\n",
      "best score: \n",
      "0.724\n"
     ]
    }
   ],
   "source": [
    "from sklearn.tree import DecisionTreeClassifier\n",
    "from sklearn.model_selection import RandomizedSearchCV\n",
    "from scipy.stats import randint as sp_randint\n",
    "\n",
    "param_dist = {\n",
    "    \"max_depth\": sp_randint(1, 20),\n",
    "    \"min_samples_split\": sp_randint(2, 20),\n",
    "    \"min_samples_leaf\": sp_randint(1, 20),\n",
    "    \"max_features\": [1.0],\n",
    "    \"criterion\": ['gini', 'entropy']\n",
    "}\n",
    "\n",
    "dt = DecisionTreeClassifier(random_state=42)\n",
    "\n",
    "random_dt = RandomizedSearchCV(dt, param_distributions=param_dist, n_iter=10, cv=3, scoring=\"accuracy\", random_state=42)\n",
    "random_dt.fit(df_train_x, df_train_y)\n",
    "\n",
    "print(\"best estimator model: \\n{}\".format(random_dt.best_estimator_))\n",
    "print(\"\\nbest parameter: \\n{}\".format(random_dt.best_params_))\n",
    "print(\"\\nbest score: \\n{}\".format(random_dt.best_score_.round(3)))\n"
   ]
  },
  {
   "cell_type": "code",
   "execution_count": 70,
   "id": "c5593ff9",
   "metadata": {},
   "outputs": [
    {
     "name": "stdout",
     "output_type": "stream",
     "text": [
      "Score on training set: 0.724\n",
      "Score on test set: 0.719\n"
     ]
    }
   ],
   "source": [
    "tree_final = DecisionTreeClassifier(min_samples_leaf=12,min_samples_split=7,max_depth=2, random_state=1234,)\n",
    "tree_final.fit(df_train_x, df_train_y)\n",
    "\n",
    "print(\"Score on training set: {:.3f}\".format(tree_final.score(df_train_x, df_train_y)))\n",
    "print(\"Score on test set: {:.3f}\".format(tree_final.score(df_test_x, df_test_y)))"
   ]
  },
  {
   "cell_type": "code",
   "execution_count": 71,
   "id": "095e245f",
   "metadata": {},
   "outputs": [
    {
     "data": {
      "text/html": [
       "<div>\n",
       "<style scoped>\n",
       "    .dataframe tbody tr th:only-of-type {\n",
       "        vertical-align: middle;\n",
       "    }\n",
       "\n",
       "    .dataframe tbody tr th {\n",
       "        vertical-align: top;\n",
       "    }\n",
       "\n",
       "    .dataframe thead th {\n",
       "        text-align: right;\n",
       "    }\n",
       "</style>\n",
       "<table border=\"1\" class=\"dataframe\">\n",
       "  <thead>\n",
       "    <tr style=\"text-align: right;\">\n",
       "      <th></th>\n",
       "      <th>Feature</th>\n",
       "      <th>importance</th>\n",
       "    </tr>\n",
       "  </thead>\n",
       "  <tbody>\n",
       "    <tr>\n",
       "      <th>19</th>\n",
       "      <td>계절_겨울</td>\n",
       "      <td>0.395</td>\n",
       "    </tr>\n",
       "    <tr>\n",
       "      <th>3</th>\n",
       "      <td>시간</td>\n",
       "      <td>0.342</td>\n",
       "    </tr>\n",
       "    <tr>\n",
       "      <th>12</th>\n",
       "      <td>요일_목요일</td>\n",
       "      <td>0.263</td>\n",
       "    </tr>\n",
       "    <tr>\n",
       "      <th>0</th>\n",
       "      <td>소요분</td>\n",
       "      <td>0.000</td>\n",
       "    </tr>\n",
       "    <tr>\n",
       "      <th>16</th>\n",
       "      <td>요일_토요일</td>\n",
       "      <td>0.000</td>\n",
       "    </tr>\n",
       "    <tr>\n",
       "      <th>28</th>\n",
       "      <td>시간대_저녁</td>\n",
       "      <td>0.000</td>\n",
       "    </tr>\n",
       "    <tr>\n",
       "      <th>27</th>\n",
       "      <td>시간대_오후</td>\n",
       "      <td>0.000</td>\n",
       "    </tr>\n",
       "    <tr>\n",
       "      <th>26</th>\n",
       "      <td>시간대_오전</td>\n",
       "      <td>0.000</td>\n",
       "    </tr>\n",
       "    <tr>\n",
       "      <th>25</th>\n",
       "      <td>시간대_야간</td>\n",
       "      <td>0.000</td>\n",
       "    </tr>\n",
       "    <tr>\n",
       "      <th>24</th>\n",
       "      <td>시간대_아침</td>\n",
       "      <td>0.000</td>\n",
       "    </tr>\n",
       "    <tr>\n",
       "      <th>23</th>\n",
       "      <td>시간대_심야</td>\n",
       "      <td>0.000</td>\n",
       "    </tr>\n",
       "    <tr>\n",
       "      <th>22</th>\n",
       "      <td>시간대_새벽</td>\n",
       "      <td>0.000</td>\n",
       "    </tr>\n",
       "    <tr>\n",
       "      <th>21</th>\n",
       "      <td>계절_여름</td>\n",
       "      <td>0.000</td>\n",
       "    </tr>\n",
       "    <tr>\n",
       "      <th>20</th>\n",
       "      <td>계절_봄</td>\n",
       "      <td>0.000</td>\n",
       "    </tr>\n",
       "    <tr>\n",
       "      <th>18</th>\n",
       "      <td>계절_가을</td>\n",
       "      <td>0.000</td>\n",
       "    </tr>\n",
       "    <tr>\n",
       "      <th>17</th>\n",
       "      <td>요일_화요일</td>\n",
       "      <td>0.000</td>\n",
       "    </tr>\n",
       "    <tr>\n",
       "      <th>15</th>\n",
       "      <td>요일_일요일</td>\n",
       "      <td>0.000</td>\n",
       "    </tr>\n",
       "    <tr>\n",
       "      <th>1</th>\n",
       "      <td>가중분</td>\n",
       "      <td>0.000</td>\n",
       "    </tr>\n",
       "    <tr>\n",
       "      <th>14</th>\n",
       "      <td>요일_월요일</td>\n",
       "      <td>0.000</td>\n",
       "    </tr>\n",
       "    <tr>\n",
       "      <th>13</th>\n",
       "      <td>요일_수요일</td>\n",
       "      <td>0.000</td>\n",
       "    </tr>\n",
       "    <tr>\n",
       "      <th>11</th>\n",
       "      <td>요일_금요일</td>\n",
       "      <td>0.000</td>\n",
       "    </tr>\n",
       "    <tr>\n",
       "      <th>10</th>\n",
       "      <td>중분류_축산물</td>\n",
       "      <td>0.000</td>\n",
       "    </tr>\n",
       "    <tr>\n",
       "      <th>9</th>\n",
       "      <td>중분류_차/음료</td>\n",
       "      <td>0.000</td>\n",
       "    </tr>\n",
       "    <tr>\n",
       "      <th>8</th>\n",
       "      <td>중분류_수산물</td>\n",
       "      <td>0.000</td>\n",
       "    </tr>\n",
       "    <tr>\n",
       "      <th>7</th>\n",
       "      <td>중분류_농산물</td>\n",
       "      <td>0.000</td>\n",
       "    </tr>\n",
       "    <tr>\n",
       "      <th>6</th>\n",
       "      <td>중분류_김치</td>\n",
       "      <td>0.000</td>\n",
       "    </tr>\n",
       "    <tr>\n",
       "      <th>5</th>\n",
       "      <td>중분류_건강식품</td>\n",
       "      <td>0.000</td>\n",
       "    </tr>\n",
       "    <tr>\n",
       "      <th>4</th>\n",
       "      <td>중분류_가공식품</td>\n",
       "      <td>0.000</td>\n",
       "    </tr>\n",
       "    <tr>\n",
       "      <th>2</th>\n",
       "      <td>월</td>\n",
       "      <td>0.000</td>\n",
       "    </tr>\n",
       "    <tr>\n",
       "      <th>29</th>\n",
       "      <td>시간대_점심</td>\n",
       "      <td>0.000</td>\n",
       "    </tr>\n",
       "  </tbody>\n",
       "</table>\n",
       "</div>"
      ],
      "text/plain": [
       "     Feature  importance\n",
       "19     계절_겨울       0.395\n",
       "3         시간       0.342\n",
       "12    요일_목요일       0.263\n",
       "0        소요분       0.000\n",
       "16    요일_토요일       0.000\n",
       "28    시간대_저녁       0.000\n",
       "27    시간대_오후       0.000\n",
       "26    시간대_오전       0.000\n",
       "25    시간대_야간       0.000\n",
       "24    시간대_아침       0.000\n",
       "23    시간대_심야       0.000\n",
       "22    시간대_새벽       0.000\n",
       "21     계절_여름       0.000\n",
       "20      계절_봄       0.000\n",
       "18     계절_가을       0.000\n",
       "17    요일_화요일       0.000\n",
       "15    요일_일요일       0.000\n",
       "1        가중분       0.000\n",
       "14    요일_월요일       0.000\n",
       "13    요일_수요일       0.000\n",
       "11    요일_금요일       0.000\n",
       "10   중분류_축산물       0.000\n",
       "9   중분류_차/음료       0.000\n",
       "8    중분류_수산물       0.000\n",
       "7    중분류_농산물       0.000\n",
       "6     중분류_김치       0.000\n",
       "5   중분류_건강식품       0.000\n",
       "4   중분류_가공식품       0.000\n",
       "2          월       0.000\n",
       "29    시간대_점심       0.000"
      ]
     },
     "execution_count": 71,
     "metadata": {},
     "output_type": "execute_result"
    }
   ],
   "source": [
    "v_feature_name = df_train_x.columns\n",
    "\n",
    "# tree.feature_importances_로 설명변수 중요도 확인 및 테이블로 저장\n",
    "df_importance = pd.DataFrame()\n",
    "df_importance[\"Feature\"] = v_feature_name\n",
    "df_importance[\"importance\"] = tree_final.feature_importances_\n",
    "\n",
    "# df_feature_importance의 테이블을 중요도별로 정렬\n",
    "df_importance.sort_values(\"importance\", ascending=False, inplace = True)\n",
    "df_importance.round(3)"
   ]
  },
  {
   "cell_type": "code",
   "execution_count": 72,
   "id": "f4127b0e",
   "metadata": {},
   "outputs": [
    {
     "data": {
      "text/plain": [
       "Text(0, 0.5, '변수')"
      ]
     },
     "execution_count": 72,
     "metadata": {},
     "output_type": "execute_result"
    },
    {
     "data": {
      "image/png": "[encoded data removed]",
      "text/plain": [
       "<Figure size 640x480 with 1 Axes>"
      ]
     },
     "metadata": {},
     "output_type": "display_data"
    }
   ],
   "source": [
    "# 설명변수 중요도 그래프\n",
    "# 중요도가 높은 변수를 상위에 그림\n",
    "df_importance.sort_values(\"importance\", ascending=True, inplace=True)\n",
    "top_30 = df_importance.tail(30)  # 상위 50개 데이터만 선택\n",
    "coordinates = range(len(top_30))\n",
    "plt.barh(y=coordinates, width=top_30[\"importance\"])\n",
    "plt.yticks(coordinates, top_30[\"Feature\"])\n",
    "plt.xlabel(\"변수 중요도\")\n",
    "plt.ylabel(\"변수\")\n"
   ]
  },
  {
   "cell_type": "markdown",
   "id": "aa6b8b26",
   "metadata": {},
   "source": [
    "_________________________________"
   ]
  },
  {
   "cell_type": "markdown",
   "id": "09513e24",
   "metadata": {},
   "source": [
    "# 대분류 - 의류일 때 랜덤포레스트"
   ]
  },
  {
   "cell_type": "code",
   "execution_count": 73,
   "id": "da128ac3",
   "metadata": {},
   "outputs": [
    {
     "data": {
      "text/plain": [
       "'/home/piai/문서/빅데이터프로젝트'"
      ]
     },
     "execution_count": 73,
     "metadata": {},
     "output_type": "execute_result"
    }
   ],
   "source": [
    "import pandas as pd\n",
    "import matplotlib.pyplot as plt\n",
    "import matplotlib\n",
    "from sklearn.tree import export_graphviz\n",
    "import graphviz\n",
    "from sklearn.model_selection import train_test_split\n",
    "from sklearn.tree import DecisionTreeClassifier\n",
    "from sklearn.ensemble import RandomForestClassifier\n",
    "from sklearn.model_selection import GridSearchCV\n",
    "import matplotlib as mpl\n",
    "import pydotplus\n",
    "import warnings\n",
    "warnings.filterwarnings('ignore')\n",
    "import pandas as pd\n",
    "import os\n",
    "os.chdir(\"/home/piai/문서/빅데이터프로젝트\")\n",
    "os.getcwd()"
   ]
  },
  {
   "cell_type": "code",
   "execution_count": 37,
   "id": "ea45ce40",
   "metadata": {},
   "outputs": [
    {
     "data": {
      "text/plain": [
       "Index(['의뢰ID', '상품목표주문금액', '상품순주문금액', '상품목표공헌이익금액', '상품예상취급금액', '매출액', '순매출액',\n",
       "       '소요분', '가중분', '방송구분', '프로그램명', 'ARS금액', '방송시작시간', '방송종료시간', 'PD', 'SH',\n",
       "       'TD', 'MD담당자명', '부서코드', '부서명', '협력사ID', '협력사명', '브랜드ID', '브랜드명', '대분류',\n",
       "       '중분류', '카테고리', '요일', '요일그룹', '분기', '주', '월', '시간', '시간대', '연도', '계절',\n",
       "       '목표달성율', '목표달성여부'],\n",
       "      dtype='object')"
      ]
     },
     "execution_count": 37,
     "metadata": {},
     "output_type": "execute_result"
    }
   ],
   "source": [
    "df = pd.read_csv(\"./df.csv\", encoding = 'euc-kr')\n",
    "import matplotlib.pyplot as plt\n",
    "plt.rcParams['font.family'] = 'NanumGothic' \n",
    "df.columns"
   ]
  },
  {
   "cell_type": "code",
   "execution_count": 39,
   "id": "4d8635b8",
   "metadata": {},
   "outputs": [
    {
     "data": {
      "text/html": [
       "<div>\n",
       "<style scoped>\n",
       "    .dataframe tbody tr th:only-of-type {\n",
       "        vertical-align: middle;\n",
       "    }\n",
       "\n",
       "    .dataframe tbody tr th {\n",
       "        vertical-align: top;\n",
       "    }\n",
       "\n",
       "    .dataframe thead th {\n",
       "        text-align: right;\n",
       "    }\n",
       "</style>\n",
       "<table border=\"1\" class=\"dataframe\">\n",
       "  <thead>\n",
       "    <tr style=\"text-align: right;\">\n",
       "      <th></th>\n",
       "      <th>목표달성여부</th>\n",
       "      <th>소요분</th>\n",
       "      <th>가중분</th>\n",
       "      <th>대분류</th>\n",
       "      <th>중분류</th>\n",
       "      <th>월</th>\n",
       "      <th>요일</th>\n",
       "      <th>시간</th>\n",
       "      <th>계절</th>\n",
       "      <th>시간대</th>\n",
       "    </tr>\n",
       "  </thead>\n",
       "  <tbody>\n",
       "    <tr>\n",
       "      <th>0</th>\n",
       "      <td>0</td>\n",
       "      <td>50.0</td>\n",
       "      <td>52.7</td>\n",
       "      <td>의류</td>\n",
       "      <td>여성의류</td>\n",
       "      <td>1</td>\n",
       "      <td>금요일</td>\n",
       "      <td>0</td>\n",
       "      <td>겨울</td>\n",
       "      <td>심야</td>\n",
       "    </tr>\n",
       "    <tr>\n",
       "      <th>9</th>\n",
       "      <td>0</td>\n",
       "      <td>75.0</td>\n",
       "      <td>69.5</td>\n",
       "      <td>의류</td>\n",
       "      <td>여성의류</td>\n",
       "      <td>1</td>\n",
       "      <td>금요일</td>\n",
       "      <td>6</td>\n",
       "      <td>겨울</td>\n",
       "      <td>아침</td>\n",
       "    </tr>\n",
       "    <tr>\n",
       "      <th>17</th>\n",
       "      <td>0</td>\n",
       "      <td>60.0</td>\n",
       "      <td>96.7</td>\n",
       "      <td>의류</td>\n",
       "      <td>여성의류</td>\n",
       "      <td>1</td>\n",
       "      <td>금요일</td>\n",
       "      <td>9</td>\n",
       "      <td>겨울</td>\n",
       "      <td>오전</td>\n",
       "    </tr>\n",
       "    <tr>\n",
       "      <th>40</th>\n",
       "      <td>0</td>\n",
       "      <td>69.5</td>\n",
       "      <td>74.5</td>\n",
       "      <td>의류</td>\n",
       "      <td>여성의류</td>\n",
       "      <td>1</td>\n",
       "      <td>토요일</td>\n",
       "      <td>8</td>\n",
       "      <td>겨울</td>\n",
       "      <td>아침</td>\n",
       "    </tr>\n",
       "    <tr>\n",
       "      <th>41</th>\n",
       "      <td>0</td>\n",
       "      <td>69.5</td>\n",
       "      <td>74.5</td>\n",
       "      <td>의류</td>\n",
       "      <td>여성의류</td>\n",
       "      <td>1</td>\n",
       "      <td>토요일</td>\n",
       "      <td>8</td>\n",
       "      <td>겨울</td>\n",
       "      <td>아침</td>\n",
       "    </tr>\n",
       "  </tbody>\n",
       "</table>\n",
       "</div>"
      ],
      "text/plain": [
       "    목표달성여부   소요분   가중분 대분류   중분류  월   요일  시간  계절 시간대\n",
       "0        0  50.0  52.7  의류  여성의류  1  금요일   0  겨울  심야\n",
       "9        0  75.0  69.5  의류  여성의류  1  금요일   6  겨울  아침\n",
       "17       0  60.0  96.7  의류  여성의류  1  금요일   9  겨울  오전\n",
       "40       0  69.5  74.5  의류  여성의류  1  토요일   8  겨울  아침\n",
       "41       0  69.5  74.5  의류  여성의류  1  토요일   8  겨울  아침"
      ]
     },
     "execution_count": 39,
     "metadata": {},
     "output_type": "execute_result"
    }
   ],
   "source": [
    "df = df[['목표달성여부','소요분', '가중분','대분류','중분류','월','요일','시간', '계절','시간대' ]]\n",
    "df = df[df['대분류'] == '의류']\n",
    "df['목표달성여부'] = df['목표달성여부'].astype(int)\n",
    "df.head()"
   ]
  },
  {
   "cell_type": "code",
   "execution_count": 44,
   "id": "69637ed8",
   "metadata": {},
   "outputs": [],
   "source": [
    "df_dummy = pd.get_dummies(df[['중분류','요일','계절','시간대']])\n",
    "df_new = pd.concat([df, df_dummy], axis = 1)\n",
    "df_new = df_new.drop(['중분류','요일','계절','시간대','대분류'], axis = 1)"
   ]
  },
  {
   "cell_type": "code",
   "execution_count": 47,
   "id": "9d1d8206",
   "metadata": {},
   "outputs": [
    {
     "data": {
      "text/plain": [
       "0    0.712889\n",
       "1    0.287111\n",
       "Name: 목표달성여부, dtype: float64"
      ]
     },
     "execution_count": 47,
     "metadata": {},
     "output_type": "execute_result"
    }
   ],
   "source": [
    "# 목표변수, 설명변수 데이터 지정\n",
    "df_raw_y = df_new[\"목표달성여부\"]\n",
    "df_raw_x = df_new.drop(\"목표달성여부\",axis = 1, inplace = False)\n",
    "\n",
    "df_raw_y.value_counts(normalize=True)"
   ]
  },
  {
   "cell_type": "code",
   "execution_count": 60,
   "id": "eeb8001d",
   "metadata": {},
   "outputs": [
    {
     "name": "stdout",
     "output_type": "stream",
     "text": [
      "Score on training set: 0.968\n",
      "Score on test set: 0.603\n"
     ]
    }
   ],
   "source": [
    "#데이터는 (train(0.6) : test(0.4))의 비율로 분할\n",
    "df_train_x, df_test_x, df_train_y, df_test_y = train_test_split(df_raw_x, df_raw_y, test_size=0.4,\n",
    "                                                                random_state=1234)\n",
    "\n",
    "\n",
    "\n",
    "tree_uncustomized = DecisionTreeClassifier(random_state = 1234)\n",
    "tree_uncustomized.fit(df_train_x, df_train_y)\n",
    "\n",
    "print(\"Score on training set: {:.3f}\".format(tree_uncustomized.score(df_train_x, df_train_y)))\n",
    "print(\"Score on test set: {:.3f}\".format(tree_uncustomized.score(df_test_x, df_test_y)))"
   ]
  },
  {
   "cell_type": "code",
   "execution_count": 61,
   "id": "7e0a85d1",
   "metadata": {},
   "outputs": [
    {
     "name": "stdout",
     "output_type": "stream",
     "text": [
      "best estimator model: \n",
      "DecisionTreeClassifier(criterion='entropy', max_depth=2, max_features=1.0,\n",
      "                       min_samples_leaf=12, min_samples_split=7,\n",
      "                       random_state=42)\n",
      "\n",
      "best parameter: \n",
      "{'criterion': 'entropy', 'max_depth': 2, 'max_features': 1.0, 'min_samples_leaf': 12, 'min_samples_split': 7}\n",
      "\n",
      "best score: \n",
      "0.706\n"
     ]
    }
   ],
   "source": [
    "from sklearn.tree import DecisionTreeClassifier\n",
    "from sklearn.model_selection import RandomizedSearchCV\n",
    "from scipy.stats import randint as sp_randint\n",
    "\n",
    "param_dist = {\n",
    "    \"max_depth\": sp_randint(1, 20),\n",
    "    \"min_samples_split\": sp_randint(2, 20),\n",
    "    \"min_samples_leaf\": sp_randint(1, 20),\n",
    "    \"max_features\": [1.0],\n",
    "    \"criterion\": ['gini', 'entropy']\n",
    "}\n",
    "\n",
    "dt = DecisionTreeClassifier(random_state=42)\n",
    "\n",
    "random_dt = RandomizedSearchCV(dt, param_distributions=param_dist, n_iter=10, cv=3, scoring=\"accuracy\", random_state=42)\n",
    "random_dt.fit(df_train_x, df_train_y)\n",
    "\n",
    "print(\"best estimator model: \\n{}\".format(random_dt.best_estimator_))\n",
    "print(\"\\nbest parameter: \\n{}\".format(random_dt.best_params_))\n",
    "print(\"\\nbest score: \\n{}\".format(random_dt.best_score_.round(3)))\n"
   ]
  },
  {
   "cell_type": "code",
   "execution_count": 62,
   "id": "23909862",
   "metadata": {},
   "outputs": [
    {
     "name": "stdout",
     "output_type": "stream",
     "text": [
      "Score on training set: 0.706\n",
      "Score on test set: 0.724\n"
     ]
    }
   ],
   "source": [
    "tree_final = DecisionTreeClassifier(min_samples_leaf=12,min_samples_split=7,max_depth=2, random_state=1234,)\n",
    "tree_final.fit(df_train_x, df_train_y)\n",
    "\n",
    "print(\"Score on training set: {:.3f}\".format(tree_final.score(df_train_x, df_train_y)))\n",
    "print(\"Score on test set: {:.3f}\".format(tree_final.score(df_test_x, df_test_y)))"
   ]
  },
  {
   "cell_type": "code",
   "execution_count": 63,
   "id": "d8cdbd50",
   "metadata": {},
   "outputs": [
    {
     "data": {
      "text/html": [
       "<div>\n",
       "<style scoped>\n",
       "    .dataframe tbody tr th:only-of-type {\n",
       "        vertical-align: middle;\n",
       "    }\n",
       "\n",
       "    .dataframe tbody tr th {\n",
       "        vertical-align: top;\n",
       "    }\n",
       "\n",
       "    .dataframe thead th {\n",
       "        text-align: right;\n",
       "    }\n",
       "</style>\n",
       "<table border=\"1\" class=\"dataframe\">\n",
       "  <thead>\n",
       "    <tr style=\"text-align: right;\">\n",
       "      <th></th>\n",
       "      <th>Feature</th>\n",
       "      <th>importance</th>\n",
       "    </tr>\n",
       "  </thead>\n",
       "  <tbody>\n",
       "    <tr>\n",
       "      <th>16</th>\n",
       "      <td>계절_가을</td>\n",
       "      <td>0.444</td>\n",
       "    </tr>\n",
       "    <tr>\n",
       "      <th>14</th>\n",
       "      <td>요일_토요일</td>\n",
       "      <td>0.281</td>\n",
       "    </tr>\n",
       "    <tr>\n",
       "      <th>3</th>\n",
       "      <td>시간</td>\n",
       "      <td>0.275</td>\n",
       "    </tr>\n",
       "    <tr>\n",
       "      <th>15</th>\n",
       "      <td>요일_화요일</td>\n",
       "      <td>0.000</td>\n",
       "    </tr>\n",
       "    <tr>\n",
       "      <th>26</th>\n",
       "      <td>시간대_저녁</td>\n",
       "      <td>0.000</td>\n",
       "    </tr>\n",
       "    <tr>\n",
       "      <th>25</th>\n",
       "      <td>시간대_오후</td>\n",
       "      <td>0.000</td>\n",
       "    </tr>\n",
       "    <tr>\n",
       "      <th>24</th>\n",
       "      <td>시간대_오전</td>\n",
       "      <td>0.000</td>\n",
       "    </tr>\n",
       "    <tr>\n",
       "      <th>23</th>\n",
       "      <td>시간대_야간</td>\n",
       "      <td>0.000</td>\n",
       "    </tr>\n",
       "    <tr>\n",
       "      <th>22</th>\n",
       "      <td>시간대_아침</td>\n",
       "      <td>0.000</td>\n",
       "    </tr>\n",
       "    <tr>\n",
       "      <th>21</th>\n",
       "      <td>시간대_심야</td>\n",
       "      <td>0.000</td>\n",
       "    </tr>\n",
       "    <tr>\n",
       "      <th>20</th>\n",
       "      <td>시간대_새벽</td>\n",
       "      <td>0.000</td>\n",
       "    </tr>\n",
       "    <tr>\n",
       "      <th>19</th>\n",
       "      <td>계절_여름</td>\n",
       "      <td>0.000</td>\n",
       "    </tr>\n",
       "    <tr>\n",
       "      <th>18</th>\n",
       "      <td>계절_봄</td>\n",
       "      <td>0.000</td>\n",
       "    </tr>\n",
       "    <tr>\n",
       "      <th>17</th>\n",
       "      <td>계절_겨울</td>\n",
       "      <td>0.000</td>\n",
       "    </tr>\n",
       "    <tr>\n",
       "      <th>0</th>\n",
       "      <td>소요분</td>\n",
       "      <td>0.000</td>\n",
       "    </tr>\n",
       "    <tr>\n",
       "      <th>1</th>\n",
       "      <td>가중분</td>\n",
       "      <td>0.000</td>\n",
       "    </tr>\n",
       "    <tr>\n",
       "      <th>13</th>\n",
       "      <td>요일_일요일</td>\n",
       "      <td>0.000</td>\n",
       "    </tr>\n",
       "    <tr>\n",
       "      <th>12</th>\n",
       "      <td>요일_월요일</td>\n",
       "      <td>0.000</td>\n",
       "    </tr>\n",
       "    <tr>\n",
       "      <th>11</th>\n",
       "      <td>요일_수요일</td>\n",
       "      <td>0.000</td>\n",
       "    </tr>\n",
       "    <tr>\n",
       "      <th>10</th>\n",
       "      <td>요일_목요일</td>\n",
       "      <td>0.000</td>\n",
       "    </tr>\n",
       "    <tr>\n",
       "      <th>9</th>\n",
       "      <td>요일_금요일</td>\n",
       "      <td>0.000</td>\n",
       "    </tr>\n",
       "    <tr>\n",
       "      <th>8</th>\n",
       "      <td>중분류_유아의류</td>\n",
       "      <td>0.000</td>\n",
       "    </tr>\n",
       "    <tr>\n",
       "      <th>7</th>\n",
       "      <td>중분류_여성의류</td>\n",
       "      <td>0.000</td>\n",
       "    </tr>\n",
       "    <tr>\n",
       "      <th>6</th>\n",
       "      <td>중분류_애견의류</td>\n",
       "      <td>0.000</td>\n",
       "    </tr>\n",
       "    <tr>\n",
       "      <th>5</th>\n",
       "      <td>중분류_남성의류</td>\n",
       "      <td>0.000</td>\n",
       "    </tr>\n",
       "    <tr>\n",
       "      <th>4</th>\n",
       "      <td>중분류_UNISEX류</td>\n",
       "      <td>0.000</td>\n",
       "    </tr>\n",
       "    <tr>\n",
       "      <th>2</th>\n",
       "      <td>월</td>\n",
       "      <td>0.000</td>\n",
       "    </tr>\n",
       "    <tr>\n",
       "      <th>27</th>\n",
       "      <td>시간대_점심</td>\n",
       "      <td>0.000</td>\n",
       "    </tr>\n",
       "  </tbody>\n",
       "</table>\n",
       "</div>"
      ],
      "text/plain": [
       "        Feature  importance\n",
       "16        계절_가을       0.444\n",
       "14       요일_토요일       0.281\n",
       "3            시간       0.275\n",
       "15       요일_화요일       0.000\n",
       "26       시간대_저녁       0.000\n",
       "25       시간대_오후       0.000\n",
       "24       시간대_오전       0.000\n",
       "23       시간대_야간       0.000\n",
       "22       시간대_아침       0.000\n",
       "21       시간대_심야       0.000\n",
       "20       시간대_새벽       0.000\n",
       "19        계절_여름       0.000\n",
       "18         계절_봄       0.000\n",
       "17        계절_겨울       0.000\n",
       "0           소요분       0.000\n",
       "1           가중분       0.000\n",
       "13       요일_일요일       0.000\n",
       "12       요일_월요일       0.000\n",
       "11       요일_수요일       0.000\n",
       "10       요일_목요일       0.000\n",
       "9        요일_금요일       0.000\n",
       "8      중분류_유아의류       0.000\n",
       "7      중분류_여성의류       0.000\n",
       "6      중분류_애견의류       0.000\n",
       "5      중분류_남성의류       0.000\n",
       "4   중분류_UNISEX류       0.000\n",
       "2             월       0.000\n",
       "27       시간대_점심       0.000"
      ]
     },
     "execution_count": 63,
     "metadata": {},
     "output_type": "execute_result"
    }
   ],
   "source": [
    "v_feature_name = df_train_x.columns\n",
    "\n",
    "# tree.feature_importances_로 설명변수 중요도 확인 및 테이블로 저장\n",
    "df_importance = pd.DataFrame()\n",
    "df_importance[\"Feature\"] = v_feature_name\n",
    "df_importance[\"importance\"] = tree_final.feature_importances_\n",
    "\n",
    "# df_feature_importance의 테이블을 중요도별로 정렬\n",
    "df_importance.sort_values(\"importance\", ascending=False, inplace = True)\n",
    "df_importance.round(3)"
   ]
  },
  {
   "cell_type": "code",
   "execution_count": 27,
   "id": "94246a9b",
   "metadata": {},
   "outputs": [
    {
     "data": {
      "text/plain": [
       "Text(0, 0.5, '변수')"
      ]
     },
     "execution_count": 27,
     "metadata": {},
     "output_type": "execute_result"
    },
    {
     "data": {
      "image/png": "[encoded data removed]",
      "text/plain": [
       "<Figure size 640x480 with 1 Axes>"
      ]
     },
     "metadata": {},
     "output_type": "display_data"
    }
   ],
   "source": [
    "# 설명변수 중요도 그래프\n",
    "# 중요도가 높은 변수를 상위에 그림\n",
    "df_importance.sort_values(\"importance\", ascending=True, inplace=True)\n",
    "top_30 = df_importance.tail(30)  # 상위 50개 데이터만 선택\n",
    "coordinates = range(len(top_30))\n",
    "plt.barh(y=coordinates, width=top_30[\"importance\"])\n",
    "plt.yticks(coordinates, top_30[\"Feature\"])\n",
    "plt.xlabel(\"변수 중요도\")\n",
    "plt.ylabel(\"변수\")\n"
   ]
  },
  {
   "cell_type": "markdown",
   "id": "8872a84d",
   "metadata": {},
   "source": [
    "---------------"
   ]
  },
  {
   "cell_type": "markdown",
   "id": "73cf7545",
   "metadata": {},
   "source": [
    "# 대분류 - 식품 랜덤포레스트"
   ]
  },
  {
   "cell_type": "code",
   "execution_count": 35,
   "id": "fe2ac1bf",
   "metadata": {},
   "outputs": [],
   "source": [
    "import pandas as pd\n",
    "import os\n",
    "import pandas as pd\n",
    "import matplotlib.pyplot as plt\n",
    "import matplotlib\n",
    "from sklearn.tree import export_graphviz\n",
    "import graphviz\n",
    "from sklearn.model_selection import train_test_split\n",
    "from sklearn.tree import DecisionTreeClassifier\n",
    "from sklearn.ensemble import RandomForestClassifier\n",
    "from sklearn.model_selection import GridSearchCV\n",
    "import matplotlib as mpl\n",
    "import pydotplus\n",
    "import warnings\n",
    "warnings.filterwarnings('ignore')\n",
    "\n",
    "os.chdir(\"/home/piai/문서/빅데이터프로젝트\")\n",
    "os.getcwd()\n",
    "df = pd.read_csv(\"./df.csv\", encoding = 'euc-kr')"
   ]
  },
  {
   "cell_type": "code",
   "execution_count": 36,
   "id": "532133f7",
   "metadata": {},
   "outputs": [
    {
     "data": {
      "text/plain": [
       "0    0.722072\n",
       "1    0.277928\n",
       "Name: 목표달성여부, dtype: float64"
      ]
     },
     "execution_count": 36,
     "metadata": {},
     "output_type": "execute_result"
    }
   ],
   "source": [
    "df = df[['목표달성여부','대분류','중분류','월','요일','시간', '계절','시간대' ]]\n",
    "df = df[df['대분류'] == '식품']\n",
    "df['목표달성여부'] = df['목표달성여부'].astype(int)\n",
    "\n",
    "df_dummy = pd.get_dummies(df[['중분류','요일','계절','시간대']])\n",
    "df_new = pd.concat([df, df_dummy], axis = 1)\n",
    "df_new = df_new.drop(['중분류','요일','계절','시간대','대분류'], axis = 1)\n",
    "\n",
    "# 목표변수, 설명변수 데이터 지정\n",
    "df_raw_y = df_new[\"목표달성여부\"]\n",
    "df_raw_x = df_new.drop(\"목표달성여부\",axis = 1, inplace = False)\n",
    "\n",
    "df_raw_y.value_counts(normalize=True)"
   ]
  },
  {
   "cell_type": "code",
   "execution_count": 37,
   "id": "01a06fa2",
   "metadata": {},
   "outputs": [
    {
     "name": "stdout",
     "output_type": "stream",
     "text": [
      "Score on training set: 0.905\n",
      "Score on test set: 0.651\n"
     ]
    }
   ],
   "source": [
    "#데이터는 (train(0.6) : test(0.4))의 비율로 분할\n",
    "df_train_x, df_test_x, df_train_y, df_test_y = train_test_split(df_raw_x, df_raw_y, test_size=0.4,\n",
    "                                                                random_state=1234)\n",
    "\n",
    "rf_uncustomized = RandomForestClassifier(random_state=1234)\n",
    "rf_uncustomized.fit(df_train_x, df_train_y)\n",
    "\n",
    "# Train 데이터 설명력\n",
    "print(\"Score on training set: {:.3f}\".format(rf_uncustomized.score(df_train_x, df_train_y)))\n",
    "\n",
    "# Test 데이터 설명력\n",
    "print(\"Score on test set: {:.3f}\".format(rf_uncustomized.score(df_test_x, df_test_y)))"
   ]
  },
  {
   "cell_type": "code",
   "execution_count": 20,
   "id": "89a491b4",
   "metadata": {},
   "outputs": [
    {
     "name": "stdout",
     "output_type": "stream",
     "text": [
      "best estimator model: \n",
      "RandomForestClassifier(max_depth=4, max_features=1.0, min_samples_leaf=8,\n",
      "                       min_samples_split=4, n_estimators=249, random_state=42)\n",
      "\n",
      "best parameter: \n",
      "{'criterion': 'gini', 'max_depth': 4, 'max_features': 1.0, 'min_samples_leaf': 8, 'min_samples_split': 4, 'n_estimators': 249}\n",
      "\n",
      "best score: \n",
      "0.725\n"
     ]
    }
   ],
   "source": [
    "from sklearn.ensemble import RandomForestClassifier\n",
    "from sklearn.model_selection import RandomizedSearchCV\n",
    "from scipy.stats import randint as sp_randint\n",
    "\n",
    "param_dist = {\n",
    "    \"n_estimators\": sp_randint(100, 500),\n",
    "    \"max_depth\": sp_randint(1, 20),\n",
    "    \"min_samples_split\": sp_randint(2, 20),\n",
    "    \"min_samples_leaf\": sp_randint(1, 20),\n",
    "    \"max_features\": [1.0],\n",
    "    \"criterion\": ['gini', 'entropy']\n",
    "}\n",
    "\n",
    "rf = RandomForestClassifier(random_state=42)\n",
    "\n",
    "random_rf = RandomizedSearchCV(rf, param_distributions=param_dist, n_iter=10, cv=3, scoring=\"accuracy\", random_state=42)\n",
    "random_rf.fit(df_train_x, df_train_y)\n",
    "\n",
    "print(\"best estimator model: \\n{}\".format(random_rf.best_estimator_))\n",
    "print(\"\\nbest parameter: \\n{}\".format(random_rf.best_params_))\n",
    "print(\"\\nbest score: \\n{}\".format(random_rf.best_score_.round(3)))\n"
   ]
  },
  {
   "cell_type": "code",
   "execution_count": 38,
   "id": "22b785c3",
   "metadata": {},
   "outputs": [
    {
     "name": "stdout",
     "output_type": "stream",
     "text": [
      "Score on training set: 0.724\n",
      "Score on test set: 0.719\n"
     ]
    }
   ],
   "source": [
    "tree_final = RandomForestClassifier(min_samples_leaf=19,min_samples_split=12,max_depth=7, random_state=1234,)\n",
    "tree_final.fit(df_train_x, df_train_y)\n",
    "\n",
    "print(\"Score on training set: {:.3f}\".format(tree_final.score(df_train_x, df_train_y)))\n",
    "print(\"Score on test set: {:.3f}\".format(tree_final.score(df_test_x, df_test_y)))"
   ]
  },
  {
   "cell_type": "code",
   "execution_count": 25,
   "id": "d0154f5b",
   "metadata": {},
   "outputs": [
    {
     "data": {
      "text/plain": [
       "Text(0, 0.5, '변수')"
      ]
     },
     "execution_count": 25,
     "metadata": {},
     "output_type": "execute_result"
    },
    {
     "data": {
      "image/png": "[encoded data removed]",
      "text/plain": [
       "<Figure size 640x480 with 1 Axes>"
      ]
     },
     "metadata": {},
     "output_type": "display_data"
    }
   ],
   "source": [
    "v_feature_name = df_train_x.columns\n",
    "\n",
    "# tree.feature_importances_로 설명변수 중요도 확인 및 테이블로 저장\n",
    "df_importance = pd.DataFrame()\n",
    "df_importance[\"Feature\"] = v_feature_name\n",
    "df_importance[\"importance\"] = tree_final.feature_importances_\n",
    "\n",
    "# df_feature_importance의 테이블을 중요도별로 정렬\n",
    "df_importance.sort_values(\"importance\", ascending=False, inplace = True)\n",
    "\n",
    "# 설명변수 중요도 그래프\n",
    "# 중요도가 높은 변수를 상위에 그림\n",
    "df_importance.sort_values(\"importance\", ascending=True, inplace=True)\n",
    "top_30 = df_importance.tail(30)  # 상위 50개 데이터만 선택\n",
    "coordinates = range(len(top_30))\n",
    "plt.barh(y=coordinates, width=top_30[\"importance\"])\n",
    "plt.yticks(coordinates, top_30[\"Feature\"])\n",
    "plt.xlabel(\"변수 중요도\")\n",
    "plt.ylabel(\"변수\")"
   ]
  },
  {
   "cell_type": "markdown",
   "id": "9d04accb",
   "metadata": {},
   "source": [
    "---------------"
   ]
  },
  {
   "cell_type": "markdown",
   "id": "37ee4603",
   "metadata": {},
   "source": [
    "# 대분류-식품 그라디언트 부스팅"
   ]
  },
  {
   "cell_type": "code",
   "execution_count": 28,
   "id": "d463be56",
   "metadata": {},
   "outputs": [],
   "source": [
    "import pandas as pd\n",
    "import scipy.stats\n",
    "import numpy as np\n",
    "import seaborn as sns\n",
    "import matplotlib\n",
    "import matplotlib.pyplot as plt\n",
    "from sklearn.model_selection import train_test_split\n",
    "from sklearn.ensemble import GradientBoostingClassifier\n",
    "from sklearn.model_selection import GridSearchCV\n",
    "from sklearn.metrics import accuracy_score, roc_auc_score, precision_score, recall_score, f1_score\n",
    "from sklearn.metrics import confusion_matrix, classification_report\n",
    "import warnings\n",
    "warnings.filterwarnings('ignore')"
   ]
  },
  {
   "cell_type": "code",
   "execution_count": 31,
   "id": "961adad7",
   "metadata": {},
   "outputs": [
    {
     "name": "stdout",
     "output_type": "stream",
     "text": [
      "Accuracy on train set: 0.7293492695883134 \n",
      "\n",
      "Accuracy on test set: 0.716\n",
      "\n"
     ]
    }
   ],
   "source": [
    "gb_uncust = GradientBoostingClassifier(random_state = 1234)\n",
    "gb_uncust.fit(df_train_x, df_train_y)\n",
    "\n",
    "print(\"Accuracy on train set:\", gb_uncust.score(df_train_x, df_train_y), \"\\n\")\n",
    "print(\"Accuracy on test set: {0:.3f}\\n\".format(gb_uncust.score(df_test_x, df_test_y)))\n"
   ]
  },
  {
   "cell_type": "code",
   "execution_count": 6,
   "id": "b1e55097",
   "metadata": {},
   "outputs": [
    {
     "name": "stdout",
     "output_type": "stream",
     "text": [
      "best estimator model: \n",
      "GradientBoostingClassifier(loss='deviance', max_depth=2, max_features=1.0,\n",
      "                           min_samples_leaf=15, min_samples_split=8,\n",
      "                           n_estimators=363, random_state=42)\n",
      "\n",
      "best parameter: \n",
      "{'learning_rate': 0.1, 'loss': 'deviance', 'max_depth': 2, 'max_features': 1.0, 'min_samples_leaf': 15, 'min_samples_split': 8, 'n_estimators': 363}\n",
      "\n",
      "best score: \n",
      "0.713\n"
     ]
    }
   ],
   "source": [
    "from sklearn.ensemble import GradientBoostingClassifier\n",
    "from sklearn.model_selection import RandomizedSearchCV\n",
    "from scipy.stats import randint as sp_randint\n",
    "\n",
    "param_dist = {\n",
    "    \"n_estimators\": sp_randint(100, 500),\n",
    "    \"learning_rate\": [0.01, 0.1, 0.2, 0.3],\n",
    "    \"max_depth\": sp_randint(1, 20),\n",
    "    \"min_samples_split\": sp_randint(2, 20),\n",
    "    \"min_samples_leaf\": sp_randint(1, 20),\n",
    "    \"max_features\": [1.0],\n",
    "    \"loss\": ['deviance', 'exponential']\n",
    "}\n",
    "\n",
    "gb = GradientBoostingClassifier(random_state=42)\n",
    "\n",
    "random_gb = RandomizedSearchCV(gb, param_distributions=param_dist, n_iter=10, cv=3, scoring=\"accuracy\", random_state=42)\n",
    "random_gb.fit(df_train_x, df_train_y)\n",
    "\n",
    "print(\"best estimator model: \\n{}\".format(random_gb.best_estimator_))\n",
    "print(\"\\nbest parameter: \\n{}\".format(random_gb.best_params_))\n",
    "print(\"\\nbest score: \\n{}\".format(random_gb.best_score_.round(3)))\n"
   ]
  },
  {
   "cell_type": "code",
   "execution_count": 34,
   "id": "4493281c",
   "metadata": {},
   "outputs": [
    {
     "name": "stdout",
     "output_type": "stream",
     "text": [
      "Accurcy on training set: 0.725\n",
      "Accuracy on test set: 0.717\n",
      "Confusion matrix: \n",
      "[[1795    9]\n",
      " [ 701    5]]\n",
      "              precision    recall  f1-score   support\n",
      "\n",
      "           0      0.719     0.995     0.835      1804\n",
      "           1      0.357     0.007     0.014       706\n",
      "\n",
      "    accuracy                          0.717      2510\n",
      "   macro avg      0.538     0.501     0.424      2510\n",
      "weighted avg      0.617     0.717     0.604      2510\n",
      "\n"
     ]
    }
   ],
   "source": [
    "gb_final = GradientBoostingClassifier(min_samples_leaf=15,max_depth=2, n_estimators=363,learning_rate=0.1, random_state=1234 )\n",
    "\n",
    "gb_final.fit(df_train_x, df_train_y)\n",
    "\n",
    "y_pred = gb_final.predict(df_test_x)\n",
    "\n",
    "# train 모델 정확도\n",
    "print(\"Accurcy on training set: {:.3f}\".format(gb_final.score(df_train_x,df_train_y)))\n",
    "\n",
    "# test 모델 정확도\n",
    "print(\"Accuracy on test set: {:.3f}\".format(gb_final.score(df_test_x,df_test_y)))\n",
    "\n",
    "\n",
    "print(\"Confusion matrix: \\n{}\".format(confusion_matrix(df_test_y, y_pred)))\n",
    "\n",
    "print(classification_report(df_test_y, y_pred, digits=3))"
   ]
  },
  {
   "cell_type": "code",
   "execution_count": 21,
   "id": "94651ac2",
   "metadata": {},
   "outputs": [
    {
     "data": {
      "text/plain": [
       "Index(['월', '시간', '중분류_가공식품', '중분류_건강식품', '중분류_김치', '중분류_농산물', '중분류_수산물',\n",
       "       '중분류_차/음료', '중분류_축산물', '요일_금요일', '요일_목요일', '요일_수요일', '요일_월요일', '요일_일요일',\n",
       "       '요일_토요일', '요일_화요일', '계절_가을', '계절_겨울', '계절_봄', '계절_여름', '시간대_새벽',\n",
       "       '시간대_심야', '시간대_아침', '시간대_야간', '시간대_오전', '시간대_오후', '시간대_저녁', '시간대_점심'],\n",
       "      dtype='object')"
      ]
     },
     "execution_count": 21,
     "metadata": {},
     "output_type": "execute_result"
    }
   ],
   "source": [
    "df_test_x.columns"
   ]
  },
  {
   "cell_type": "markdown",
   "id": "e184ae30",
   "metadata": {},
   "source": [
    "# 의류 그라디언트부스팅"
   ]
  },
  {
   "cell_type": "code",
   "execution_count": 2,
   "id": "bcaef35d",
   "metadata": {},
   "outputs": [],
   "source": [
    "import pandas as pd\n",
    "import scipy.stats\n",
    "import numpy as np\n",
    "import seaborn as sns\n",
    "import matplotlib\n",
    "import matplotlib.pyplot as plt\n",
    "from sklearn.model_selection import train_test_split\n",
    "from sklearn.ensemble import GradientBoostingClassifier\n",
    "from sklearn.model_selection import GridSearchCV\n",
    "from sklearn.metrics import accuracy_score, roc_auc_score, precision_score, recall_score, f1_score\n",
    "from sklearn.metrics import confusion_matrix, classification_report\n",
    "import warnings\n",
    "import os\n",
    "warnings.filterwarnings('ignore')\n",
    "os.chdir(\"/home/piai/문서/빅데이터프로젝트\")\n",
    "os.getcwd()\n",
    "df = pd.read_csv(\"./df.csv\", encoding = 'euc-kr')"
   ]
  },
  {
   "cell_type": "code",
   "execution_count": 3,
   "id": "65a97bdf",
   "metadata": {
    "scrolled": true
   },
   "outputs": [
    {
     "data": {
      "text/plain": [
       "0    0.712889\n",
       "1    0.287111\n",
       "Name: 목표달성여부, dtype: float64"
      ]
     },
     "execution_count": 3,
     "metadata": {},
     "output_type": "execute_result"
    }
   ],
   "source": [
    "df = df[['목표달성여부','대분류','중분류','월','요일','시간', '계절','시간대' ]]\n",
    "df = df[df['대분류'] == '의류']\n",
    "df['목표달성여부'] = df['목표달성여부'].astype(int)\n",
    "\n",
    "df_dummy = pd.get_dummies(df[['중분류','요일','계절','시간대']])\n",
    "df_new = pd.concat([df, df_dummy], axis = 1)\n",
    "df_new = df_new.drop(['중분류','요일','계절','시간대','대분류'], axis = 1)\n",
    "\n",
    "# 목표변수, 설명변수 데이터 지정\n",
    "df_raw_y = df_new[\"목표달성여부\"]\n",
    "df_raw_x = df_new.drop(\"목표달성여부\",axis = 1, inplace = False)\n",
    "\n",
    "df_raw_y.value_counts(normalize=True)"
   ]
  },
  {
   "cell_type": "code",
   "execution_count": 5,
   "id": "d8cd32f9",
   "metadata": {},
   "outputs": [],
   "source": [
    "df_train_x, df_test_x, df_train_y, df_test_y = train_test_split(df_raw_x, df_raw_y, test_size=0.4,\n",
    "                                                                random_state=1234)\n"
   ]
  },
  {
   "cell_type": "code",
   "execution_count": 6,
   "id": "b9ec3ab1",
   "metadata": {},
   "outputs": [
    {
     "name": "stdout",
     "output_type": "stream",
     "text": [
      "best estimator model: \n",
      "GradientBoostingClassifier(learning_rate=0.01, loss='deviance', max_depth=19,\n",
      "                           max_features=1.0, min_samples_leaf=11,\n",
      "                           min_samples_split=12, n_estimators=187,\n",
      "                           random_state=42)\n",
      "\n",
      "best parameter: \n",
      "{'learning_rate': 0.01, 'loss': 'deviance', 'max_depth': 19, 'max_features': 1.0, 'min_samples_leaf': 11, 'min_samples_split': 12, 'n_estimators': 187}\n",
      "\n",
      "best score: \n",
      "0.672\n"
     ]
    }
   ],
   "source": [
    "from sklearn.ensemble import GradientBoostingClassifier\n",
    "from sklearn.model_selection import RandomizedSearchCV\n",
    "from scipy.stats import randint as sp_randint\n",
    "\n",
    "param_dist = {\n",
    "    \"n_estimators\": sp_randint(100, 500),\n",
    "    \"learning_rate\": [0.01, 0.1, 0.2, 0.3],\n",
    "    \"max_depth\": sp_randint(1, 20),\n",
    "    \"min_samples_split\": sp_randint(2, 20),\n",
    "    \"min_samples_leaf\": sp_randint(1, 20),\n",
    "    \"max_features\": [1.0],\n",
    "    \"loss\": ['deviance', 'exponential']\n",
    "}\n",
    "\n",
    "gb = GradientBoostingClassifier(random_state=42)\n",
    "\n",
    "random_gb = RandomizedSearchCV(gb, param_distributions=param_dist, n_iter=10, cv=3, scoring=\"accuracy\", random_state=42)\n",
    "random_gb.fit(df_train_x, df_train_y)\n",
    "\n",
    "print(\"best estimator model: \\n{}\".format(random_gb.best_estimator_))\n",
    "print(\"\\nbest parameter: \\n{}\".format(random_gb.best_params_))\n",
    "print(\"\\nbest score: \\n{}\".format(random_gb.best_score_.round(3)))\n"
   ]
  },
  {
   "cell_type": "code",
   "execution_count": 9,
   "id": "5ce1f85a",
   "metadata": {},
   "outputs": [
    {
     "name": "stdout",
     "output_type": "stream",
     "text": [
      "Accurcy on training set: 0.784\n",
      "Accuracy on test set: 0.667\n",
      "Confusion matrix: \n",
      "[[424  50]\n",
      " [168  13]]\n",
      "              precision    recall  f1-score   support\n",
      "\n",
      "           0      0.716     0.895     0.795       474\n",
      "           1      0.206     0.072     0.107       181\n",
      "\n",
      "    accuracy                          0.667       655\n",
      "   macro avg      0.461     0.483     0.451       655\n",
      "weighted avg      0.575     0.667     0.605       655\n",
      "\n"
     ]
    }
   ],
   "source": [
    "gb_final = GradientBoostingClassifier(min_samples_leaf=11,max_depth=19, n_estimators=187,learning_rate=0.01, random_state=1234 )\n",
    "\n",
    "gb_final.fit(df_train_x, df_train_y)\n",
    "\n",
    "y_pred = gb_final.predict(df_test_x)\n",
    "\n",
    "# train 모델 정확도\n",
    "print(\"Accurcy on training set: {:.3f}\".format(gb_final.score(df_train_x,df_train_y)))\n",
    "\n",
    "# test 모델 정확도\n",
    "print(\"Accuracy on test set: {:.3f}\".format(gb_final.score(df_test_x,df_test_y)))\n",
    "\n",
    "\n",
    "print(\"Confusion matrix: \\n{}\".format(confusion_matrix(df_test_y, y_pred)))\n",
    "\n",
    "print(classification_report(df_test_y, y_pred, digits=3))"
   ]
  },
  {
   "cell_type": "code",
   "execution_count": 16,
   "id": "91ff9e7e",
   "metadata": {},
   "outputs": [
    {
     "data": {
      "text/plain": [
       "Index(['월', '시간', '중분류_UNISEX류', '중분류_남성의류', '중분류_애견의류', '중분류_여성의류',\n",
       "       '중분류_유아의류', '요일_금요일', '요일_목요일', '요일_수요일', '요일_월요일', '요일_일요일', '요일_토요일',\n",
       "       '요일_화요일', '계절_가을', '계절_겨울', '계절_봄', '계절_여름', '시간대_새벽', '시간대_심야',\n",
       "       '시간대_아침', '시간대_야간', '시간대_오전', '시간대_오후', '시간대_저녁', '시간대_점심'],\n",
       "      dtype='object')"
      ]
     },
     "execution_count": 16,
     "metadata": {},
     "output_type": "execute_result"
    }
   ],
   "source": [
    "df_test_x.columns"
   ]
  },
  {
   "cell_type": "code",
   "execution_count": null,
   "id": "bdd2dd3a",
   "metadata": {},
   "outputs": [],
   "source": []
  }
 ],
 "metadata": {
  "kernelspec": {
   "display_name": "Python 3 (ipykernel)",
   "language": "python",
   "name": "python3"
  },
  "language_info": {
   "codemirror_mode": {
    "name": "ipython",
    "version": 3
   },
   "file_extension": ".py",
   "mimetype": "text/x-python",
   "name": "python",
   "nbconvert_exporter": "python",
   "pygments_lexer": "ipython3",
   "version": "3.10.9"
  }
 },
 "nbformat": 4,
 "nbformat_minor": 5
}
