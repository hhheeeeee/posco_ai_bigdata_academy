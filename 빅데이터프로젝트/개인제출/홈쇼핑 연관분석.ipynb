{
 "cells": [
  {
   "cell_type": "code",
   "execution_count": 2,
   "id": "b78d4f69",
   "metadata": {},
   "outputs": [
    {
     "data": {
      "text/plain": [
       "'/home/piai/문서/빅데이터프로젝트'"
      ]
     },
     "execution_count": 2,
     "metadata": {},
     "output_type": "execute_result"
    }
   ],
   "source": [
    "import pandas as pd\n",
    "import os\n",
    "os.chdir(\"/home/piai/문서/빅데이터프로젝트\")\n",
    "os.getcwd()"
   ]
  },
  {
   "cell_type": "code",
   "execution_count": 3,
   "id": "2a4d3cd4",
   "metadata": {},
   "outputs": [],
   "source": [
    "df = pd.read_csv(\"./df.csv\", encoding = 'euc-kr')\n",
    "import matplotlib.pyplot as plt\n",
    "plt.rcParams['font.family'] = 'NanumGothic'"
   ]
  },
  {
   "cell_type": "code",
   "execution_count": 14,
   "id": "2dc5ebe6",
   "metadata": {
    "scrolled": false
   },
   "outputs": [
    {
     "name": "stdout",
     "output_type": "stream",
     "text": [
      "Empty DataFrame\n",
      "Columns: [antecedents, consequents, antecedent support, consequent support, support, confidence, lift, leverage, conviction, zhangs_metric]\n",
      "Index: []\n"
     ]
    }
   ],
   "source": [
    "import pandas as pd\n",
    "from mlxtend.preprocessing import TransactionEncoder\n",
    "from mlxtend.frequent_patterns import apriori, association_rules\n",
    "\n",
    "# 이름을 Transaction 형태로 변환\n",
    "transactions = []\n",
    "\n",
    "for idx, row in df.iterrows():\n",
    "    names = set()\n",
    "    for col in ['SH', 'PD', 'TD']:\n",
    "        for name in str(row[col]).split(','):\n",
    "            names.add(str(name))  # 정수형을 문자열로 변환\n",
    "\n",
    "    names.add(str(row['목표달성여부']))  # 정수형을 문자열로 변환\n",
    "    transactions.append(list(names))  # 리스트로 변환하여 추가\n",
    "\n",
    "# TransactionEncoder를 이용하여 원-핫 인코딩 수행\n",
    "te = TransactionEncoder()\n",
    "te_ary = te.fit(transactions).transform(transactions)\n",
    "one_hot_df = pd.DataFrame(te_ary, columns=te.columns_)\n",
    "\n",
    "# apriori를 이용하여 빈발 항목 집합을 계산\n",
    "frequent_itemsets = apriori(one_hot_df, min_support=0.01, use_colnames=True)\n",
    "\n",
    "# 연관 규칙 분석 수행\n",
    "association_rules_df = association_rules(frequent_itemsets, metric=\"confidence\", min_threshold=0.1)\n",
    "association_rules_df.sort_values(by='confidence', ascending=False, inplace=True)\n",
    "\n",
    "\n",
    "filtered_df = association_rules_df[association_rules_df['consequents'].astype(str) == '1']\n",
    "\n",
    "print(filtered_df)\n",
    "\n",
    "\n",
    "\n",
    "\n",
    "#print(association_rules_df.head(50))\n"
   ]
  },
  {
   "cell_type": "code",
   "execution_count": 7,
   "id": "1f5dd5a8",
   "metadata": {},
   "outputs": [
    {
     "data": {
      "text/plain": [
       "Index(['의뢰ID', '상품목표주문금액', '상품순주문금액', '상품목표공헌이익금액', '상품예상취급금액', '매출액', '순매출액',\n",
       "       '소요분', '가중분', '방송구분', '프로그램명', 'ARS금액', '방송시작시간', '방송종료시간', 'PD', 'SH',\n",
       "       'TD', 'MD담당자명', '부서코드', '부서명', '협력사ID', '협력사명', '브랜드ID', '브랜드명', '대분류',\n",
       "       '중분류', '카테고리', '요일', '요일그룹', '분기', '주', '월', '시간', '시간대', '연도', '계절',\n",
       "       '목표달성율', '목표달성여부'],\n",
       "      dtype='object')"
      ]
     },
     "execution_count": 7,
     "metadata": {},
     "output_type": "execute_result"
    }
   ],
   "source": [
    "df.columns"
   ]
  },
  {
   "cell_type": "code",
   "execution_count": 8,
   "id": "963b9363",
   "metadata": {},
   "outputs": [
    {
     "ename": "TypeError",
     "evalue": "'<' not supported between instances of 'str' and 'float'",
     "output_type": "error",
     "traceback": [
      "\u001b[0;31m---------------------------------------------------------------------------\u001b[0m",
      "\u001b[0;31mTypeError\u001b[0m                                 Traceback (most recent call last)",
      "Cell \u001b[0;32mIn[8], line 19\u001b[0m\n\u001b[1;32m     17\u001b[0m \u001b[38;5;66;03m# TransactionEncoder를 이용하여 원-핫 인코딩 수행\u001b[39;00m\n\u001b[1;32m     18\u001b[0m te \u001b[38;5;241m=\u001b[39m TransactionEncoder()\n\u001b[0;32m---> 19\u001b[0m te_ary \u001b[38;5;241m=\u001b[39m \u001b[43mte\u001b[49m\u001b[38;5;241;43m.\u001b[39;49m\u001b[43mfit\u001b[49m\u001b[43m(\u001b[49m\u001b[43mtransactions\u001b[49m\u001b[43m)\u001b[49m\u001b[38;5;241m.\u001b[39mtransform(transactions)\n\u001b[1;32m     20\u001b[0m one_hot_df \u001b[38;5;241m=\u001b[39m pd\u001b[38;5;241m.\u001b[39mDataFrame(te_ary, columns\u001b[38;5;241m=\u001b[39mte\u001b[38;5;241m.\u001b[39mcolumns_)\n\u001b[1;32m     22\u001b[0m \u001b[38;5;66;03m# apriori를 이용하여 빈발 항목 집합을 계산\u001b[39;00m\n",
      "File \u001b[0;32m~/anaconda3/lib/python3.10/site-packages/mlxtend/preprocessing/transactionencoder.py:59\u001b[0m, in \u001b[0;36mTransactionEncoder.fit\u001b[0;34m(self, X)\u001b[0m\n\u001b[1;32m     57\u001b[0m     \u001b[38;5;28;01mfor\u001b[39;00m item \u001b[38;5;129;01min\u001b[39;00m transaction:\n\u001b[1;32m     58\u001b[0m         unique_items\u001b[38;5;241m.\u001b[39madd(item)\n\u001b[0;32m---> 59\u001b[0m \u001b[38;5;28mself\u001b[39m\u001b[38;5;241m.\u001b[39mcolumns_ \u001b[38;5;241m=\u001b[39m \u001b[38;5;28;43msorted\u001b[39;49m\u001b[43m(\u001b[49m\u001b[43munique_items\u001b[49m\u001b[43m)\u001b[49m\n\u001b[1;32m     60\u001b[0m columns_mapping \u001b[38;5;241m=\u001b[39m {}\n\u001b[1;32m     61\u001b[0m \u001b[38;5;28;01mfor\u001b[39;00m col_idx, item \u001b[38;5;129;01min\u001b[39;00m \u001b[38;5;28menumerate\u001b[39m(\u001b[38;5;28mself\u001b[39m\u001b[38;5;241m.\u001b[39mcolumns_):\n",
      "\u001b[0;31mTypeError\u001b[0m: '<' not supported between instances of 'str' and 'float'"
     ]
    }
   ],
   "source": [
    "import pandas as pd\n",
    "from mlxtend.preprocessing import TransactionEncoder\n",
    "from mlxtend.frequent_patterns import apriori, association_rules\n",
    "\n",
    "# 이름을 Transaction 형태로 변환\n",
    "transactions = []\n",
    "\n",
    "for idx, row in df.iterrows():\n",
    "    names = set()\n",
    "    for col in ['SH', 'PD', 'TD']:\n",
    "        for name in str(row[col]).split(','):\n",
    "            names.add(name)\n",
    "\n",
    "    names.add(row['목표달성여부'])\n",
    "    transactions.append(names)\n",
    "\n",
    "# TransactionEncoder를 이용하여 원-핫 인코딩 수행\n",
    "te = TransactionEncoder()\n",
    "te_ary = te.fit(transactions).transform(transactions)\n",
    "one_hot_df = pd.DataFrame(te_ary, columns=te.columns_)\n",
    "\n",
    "# apriori를 이용하여 빈발 항목 집합을 계산\n",
    "frequent_itemsets = apriori(one_hot_df, min_support=0.01, use_colnames=True)\n",
    "\n",
    "# 연관 규칙 분석 수행\n",
    "association_rules_df = association_rules(frequent_itemsets, metric=\"confidence\", min_threshold=0.1)\n",
    "association_rules_df.sort_values(by='confidence', ascending=False, inplace=True)\n",
    "\n",
    "print(association_rules_df)\n"
   ]
  },
  {
   "cell_type": "code",
   "execution_count": 20,
   "id": "54ae552b",
   "metadata": {
    "scrolled": true
   },
   "outputs": [
    {
     "name": "stdout",
     "output_type": "stream",
     "text": [
      "   antecedents consequents  antecedent support  consequent support   support  \\\n",
      "12       (안수연)       (박상언)            0.044319            0.087677  0.015974   \n",
      "19       (박서희)       (하재원)            0.036392            0.036632  0.012971   \n",
      "20       (하재원)       (박서희)            0.036632            0.036392  0.012971   \n",
      "10       (박승희)       (박상언)            0.068821            0.087677  0.022580   \n",
      "22       (안수연)       (박승희)            0.044319            0.068821  0.012131   \n",
      "28       (이효경)       (이주혁)            0.036993            0.054048  0.010089   \n",
      "9        (박상언)       (박승희)            0.087677            0.068821  0.022580   \n",
      "8        (박보경)       (박상언)            0.049123            0.087677  0.011530   \n",
      "14       (이조헌)       (박상언)            0.060894            0.087677  0.014172   \n",
      "2        (강규주)       (임주원)            0.060413            0.067259  0.012131   \n",
      "16       (이주혁)       (박상언)            0.054048            0.087677  0.010449   \n",
      "27       (이주혁)       (이효경)            0.054048            0.036993  0.010089   \n",
      "11       (박상언)       (안수연)            0.087677            0.044319  0.015974   \n",
      "1        (임주원)       (강규주)            0.067259            0.060413  0.012131   \n",
      "3        (강인택)       (이주규)            0.057411            0.067379  0.010329   \n",
      "5        (강인택)      (최규식B)            0.057411            0.078669  0.010329   \n",
      "18       (이혁빈)       (박상언)            0.057290            0.087677  0.010209   \n",
      "21       (박승희)       (안수연)            0.068821            0.044319  0.012131   \n",
      "24       (이유경)       (윤주혁)            0.085155            0.137161  0.014893   \n",
      "0        (강규주)       (윤주혁)            0.060413            0.137161  0.010089   \n",
      "25       (이주규)       (윤주혁)            0.067379            0.137161  0.010930   \n",
      "13       (박상언)       (이조헌)            0.087677            0.060894  0.014172   \n",
      "30       (최채원)       (임주원)            0.062815            0.067259  0.010089   \n",
      "26       (임주원)       (윤주혁)            0.067259            0.137161  0.010449   \n",
      "4        (이주규)       (강인택)            0.067379            0.057411  0.010329   \n",
      "29       (임주원)       (최채원)            0.067259            0.062815  0.010089   \n",
      "7        (박상언)       (박보경)            0.087677            0.049123  0.011530   \n",
      "6       (최규식B)       (강인택)            0.078669            0.057411  0.010329   \n",
      "15       (박상언)       (이주혁)            0.087677            0.054048  0.010449   \n",
      "17       (박상언)       (이혁빈)            0.087677            0.057290  0.010209   \n",
      "23       (윤주혁)       (이유경)            0.137161            0.085155  0.014893   \n",
      "\n",
      "    confidence      lift  leverage  conviction  zhangs_metric  \n",
      "12    0.360434  4.110918  0.012088    1.426471       0.791839  \n",
      "19    0.356436  9.730109  0.011638    1.496925       0.931111  \n",
      "20    0.354098  9.730109  0.011638    1.491880       0.931343  \n",
      "10    0.328098  3.742112  0.016546    1.357821       0.786928  \n",
      "22    0.273713  3.977194  0.009081    1.282109       0.783281  \n",
      "28    0.272727  5.046061  0.008090    1.300685       0.832627  \n",
      "9     0.257534  3.742112  0.016546    1.254172       0.803193  \n",
      "8     0.234719  2.677081  0.007223    1.192141       0.658822  \n",
      "14    0.232742  2.654530  0.008833    1.189069       0.663701  \n",
      "2     0.200795  2.985395  0.008067    1.167086       0.707796  \n",
      "16    0.193333  2.205059  0.005710    1.130979       0.577722  \n",
      "27    0.186667  5.046061  0.008090    1.184026       0.847638  \n",
      "11    0.182192  4.110918  0.012088    1.168588       0.829471  \n",
      "1     0.180357  2.985395  0.008067    1.146337       0.712991  \n",
      "3     0.179916  2.670202  0.006461    1.137226       0.663594  \n",
      "5     0.179916  2.286997  0.005813    1.123459       0.597021  \n",
      "18    0.178197  2.032423  0.005186    1.110148       0.538847  \n",
      "21    0.176265  3.977194  0.009081    1.160181       0.803891  \n",
      "24    0.174894  1.275104  0.003213    1.045732       0.235833  \n",
      "0     0.166998  1.217535  0.001803    1.035819       0.190157  \n",
      "25    0.162210  1.182630  0.001688    1.029900       0.165584  \n",
      "13    0.161644  2.654530  0.008833    1.120176       0.683185  \n",
      "30    0.160612  2.387954  0.005864    1.111215       0.620189  \n",
      "26    0.155357  1.132665  0.001224    1.021543       0.125572  \n",
      "4     0.153298  2.670202  0.006461    1.113248       0.670687  \n",
      "29    0.150000  2.387954  0.005864    1.102570       0.623144  \n",
      "7     0.131507  2.677081  0.007223    1.094858       0.686663  \n",
      "6     0.131298  2.286997  0.005813    1.085055       0.610796  \n",
      "15    0.119178  2.205059  0.005710    1.073943       0.599018  \n",
      "17    0.116438  2.032423  0.005186    1.066943       0.556795  \n",
      "23    0.108581  1.275104  0.003213    1.026280       0.250047  \n"
     ]
    }
   ],
   "source": [
    "import pandas as pd\n",
    "from mlxtend.preprocessing import TransactionEncoder\n",
    "from mlxtend.frequent_patterns import apriori, association_rules\n",
    "\n",
    "\n",
    "df = df[df['목표달성여부'] == 1]\n",
    "\n",
    "# 이름을 Transaction 형태로 변환\n",
    "transactions = []\n",
    "\n",
    "for idx, row in df.iterrows():\n",
    "    names = set()\n",
    "    for col in ['SH', 'PD', 'TD']:\n",
    "        for name in str(row[col]).split(','):\n",
    "            names.add(str(name))  # 정수형을 문자열로 변환\n",
    "\n",
    "    transactions.append(list(names))  # 리스트로 변환하여 추가\n",
    "\n",
    "# TransactionEncoder를 이용하여 원-핫 인코딩 수행\n",
    "te = TransactionEncoder()\n",
    "te_ary = te.fit(transactions).transform(transactions)\n",
    "one_hot_df = pd.DataFrame(te_ary, columns=te.columns_)\n",
    "\n",
    "# apriori를 이용하여 빈발 항목 집합을 계산\n",
    "frequent_itemsets = apriori(one_hot_df, min_support=0.01, use_colnames=True)\n",
    "\n",
    "# 연관 규칙 분석 수행\n",
    "association_rules_df = association_rules(frequent_itemsets, metric=\"confidence\", min_threshold=0.1)\n",
    "association_rules_df.sort_values(by='confidence', ascending=False, inplace=True)\n",
    "\n",
    "\n",
    "association_rules_df.sort_values(by='confidence', ascending=False, inplace=True)\n",
    "print(association_rules_df.head(50))\n"
   ]
  },
  {
   "cell_type": "code",
   "execution_count": 3,
   "id": "664b455c",
   "metadata": {},
   "outputs": [],
   "source": [
    "import pandas as pd\n",
    "\n",
    "\n",
    "# 시간대 구분 함수 정의\n",
    "def get_time_category(hour):\n",
    "    hour = int(hour)\n",
    "    if 0 <= hour < 3:\n",
    "        return '심야'\n",
    "    elif 3 <= hour < 6:\n",
    "        return '새벽'\n",
    "    elif 6 <= hour < 9:\n",
    "        return '아침'\n",
    "    elif 9 <= hour < 12:\n",
    "        return '오전'\n",
    "    elif 12 <= hour < 15:\n",
    "        return '점심'\n",
    "    elif 15 <= hour < 18:\n",
    "        return '오후'\n",
    "    elif 18 <= hour < 21:\n",
    "        return '저녁'\n",
    "    elif 21 <= hour < 24:\n",
    "        return '야간'\n",
    "\n",
    "# '시간대' 열 생성\n",
    "df['시간대'] = df['시작시간'].apply(get_time_category)\n",
    "\n"
   ]
  },
  {
   "cell_type": "code",
   "execution_count": 4,
   "id": "d232f6a2",
   "metadata": {},
   "outputs": [],
   "source": [
    "# 목표 달성 했는지 안했는지 여부 확인하는 열 추가\n",
    "df['성공여부']=df['상품목표취급금액'] - df['매출액']\n",
    "df['성공여부'] = ['실패' if x > 0 else '성공' for x in df['성공여부']]"
   ]
  },
  {
   "cell_type": "code",
   "execution_count": 5,
   "id": "ded6a3d7",
   "metadata": {},
   "outputs": [],
   "source": [
    "def success(x):\n",
    "    if x =='성공':\n",
    "        return 1\n",
    "    else:\n",
    "        return 0"
   ]
  },
  {
   "cell_type": "code",
   "execution_count": 6,
   "id": "8891ac4e",
   "metadata": {},
   "outputs": [],
   "source": [
    "df['성공여부'] = df['성공여부'].apply(success)"
   ]
  },
  {
   "cell_type": "code",
   "execution_count": 7,
   "id": "66300875",
   "metadata": {},
   "outputs": [],
   "source": [
    "import pandas as pd\n",
    "import numpy as np\n",
    "\n",
    "\n",
    "# 매핑 함수\n",
    "def map_md_names(value):\n",
    "    if isinstance(value, str):\n",
    "        names = value.split(',')\n",
    "        if len(names) > 1:\n",
    "            return names[0], names[1]\n",
    "        else:\n",
    "            return names[0], np.nan\n",
    "    else:\n",
    "        return np.nan, np.nan\n",
    "\n",
    "# 새로운 열 'MD1'과 'MD2' 생성\n",
    "df['MD1'], df['MD2'] = zip(*df['MD담당자명'].map(map_md_names))\n",
    "df['SH1'], df['SH2'] = zip(*df['SH'].map(map_md_names))\n"
   ]
  },
  {
   "cell_type": "code",
   "execution_count": 8,
   "id": "a7565dbd",
   "metadata": {
    "scrolled": true
   },
   "outputs": [
    {
     "name": "stdout",
     "output_type": "stream",
     "text": [
      "0        nan,최승미\n",
      "1        nan,심인혜\n",
      "2        nan,심인혜\n",
      "3        nan,최병규\n",
      "4        nan,신대혁\n",
      "          ...   \n",
      "25651     최석,가길호\n",
      "25652     최석,가길호\n",
      "25653     최석,가길호\n",
      "25654    박원이,심인혜\n",
      "25655    최규좌,최희수\n",
      "Name: 조합, Length: 25656, dtype: object\n"
     ]
    }
   ],
   "source": [
    "# 조합 열을 새로 만들기\n",
    "df['조합'] = df.apply(lambda row: f\"{row['SH1']},{row['MD1']}\" if row['SH1'] and row['MD1'] else None, axis=1)\n",
    "\n",
    "print(df['조합'])"
   ]
  },
  {
   "cell_type": "markdown",
   "id": "6e413eda",
   "metadata": {},
   "source": [
    "__________________________"
   ]
  },
  {
   "cell_type": "code",
   "execution_count": 9,
   "id": "98bad1f3",
   "metadata": {},
   "outputs": [],
   "source": [
    "new_df = pd.DataFrame(df[df['성공여부'] == 1]['조합'].copy())"
   ]
  },
  {
   "cell_type": "code",
   "execution_count": 10,
   "id": "131f176a",
   "metadata": {},
   "outputs": [],
   "source": [
    "df_filtered = new_df[~new_df['조합'].str.contains('nan')]"
   ]
  },
  {
   "cell_type": "code",
   "execution_count": 11,
   "id": "ac87330c",
   "metadata": {},
   "outputs": [],
   "source": [
    "df_filtered.columns = ['조합']"
   ]
  },
  {
   "cell_type": "code",
   "execution_count": 9,
   "id": "09390b3f",
   "metadata": {},
   "outputs": [
    {
     "ename": "TypeError",
     "evalue": "'<' not supported between instances of 'str' and 'float'",
     "output_type": "error",
     "traceback": [
      "\u001b[0;31m---------------------------------------------------------------------------\u001b[0m",
      "\u001b[0;31mTypeError\u001b[0m                                 Traceback (most recent call last)",
      "Cell \u001b[0;32mIn[9], line 19\u001b[0m\n\u001b[1;32m     17\u001b[0m \u001b[38;5;66;03m# TransactionEncoder를 이용하여 원-핫 인코딩 수행\u001b[39;00m\n\u001b[1;32m     18\u001b[0m te \u001b[38;5;241m=\u001b[39m TransactionEncoder()\n\u001b[0;32m---> 19\u001b[0m te_ary \u001b[38;5;241m=\u001b[39m \u001b[43mte\u001b[49m\u001b[38;5;241;43m.\u001b[39;49m\u001b[43mfit\u001b[49m\u001b[43m(\u001b[49m\u001b[43mtransactions\u001b[49m\u001b[43m)\u001b[49m\u001b[38;5;241m.\u001b[39mtransform(transactions)\n\u001b[1;32m     20\u001b[0m one_hot_df \u001b[38;5;241m=\u001b[39m pd\u001b[38;5;241m.\u001b[39mDataFrame(te_ary, columns\u001b[38;5;241m=\u001b[39mte\u001b[38;5;241m.\u001b[39mcolumns_)\n\u001b[1;32m     22\u001b[0m \u001b[38;5;66;03m# apriori를 이용하여 빈발 항목 집합을 계산\u001b[39;00m\n",
      "File \u001b[0;32m~/anaconda3/lib/python3.10/site-packages/mlxtend/preprocessing/transactionencoder.py:59\u001b[0m, in \u001b[0;36mTransactionEncoder.fit\u001b[0;34m(self, X)\u001b[0m\n\u001b[1;32m     57\u001b[0m     \u001b[38;5;28;01mfor\u001b[39;00m item \u001b[38;5;129;01min\u001b[39;00m transaction:\n\u001b[1;32m     58\u001b[0m         unique_items\u001b[38;5;241m.\u001b[39madd(item)\n\u001b[0;32m---> 59\u001b[0m \u001b[38;5;28mself\u001b[39m\u001b[38;5;241m.\u001b[39mcolumns_ \u001b[38;5;241m=\u001b[39m \u001b[38;5;28;43msorted\u001b[39;49m\u001b[43m(\u001b[49m\u001b[43munique_items\u001b[49m\u001b[43m)\u001b[49m\n\u001b[1;32m     60\u001b[0m columns_mapping \u001b[38;5;241m=\u001b[39m {}\n\u001b[1;32m     61\u001b[0m \u001b[38;5;28;01mfor\u001b[39;00m col_idx, item \u001b[38;5;129;01min\u001b[39;00m \u001b[38;5;28menumerate\u001b[39m(\u001b[38;5;28mself\u001b[39m\u001b[38;5;241m.\u001b[39mcolumns_):\n",
      "\u001b[0;31mTypeError\u001b[0m: '<' not supported between instances of 'str' and 'float'"
     ]
    }
   ],
   "source": []
  },
  {
   "cell_type": "code",
   "execution_count": 12,
   "id": "29fe2212",
   "metadata": {},
   "outputs": [
    {
     "name": "stderr",
     "output_type": "stream",
     "text": [
      "/home/piai/anaconda3/lib/python3.10/site-packages/pandas/core/frame.py:3641: SettingWithCopyWarning: \n",
      "A value is trying to be set on a copy of a slice from a DataFrame.\n",
      "Try using .loc[row_indexer,col_indexer] = value instead\n",
      "\n",
      "See the caveats in the documentation: https://pandas.pydata.org/pandas-docs/stable/user_guide/indexing.html#returning-a-view-versus-a-copy\n",
      "  self[k1] = value[k2]\n"
     ]
    }
   ],
   "source": [
    "import pandas as pd\n",
    "from mlxtend.preprocessing import TransactionEncoder\n",
    "from mlxtend.frequent_patterns import apriori, association_rules\n",
    "\n",
    "\n",
    "# '조합' 열의 값을 , 로 구분하여 'MD1'과 'SH2'로 나누기\n",
    "df_filtered[['MD1', 'SH1']] = df_filtered['조합'].str.split(',', expand=True)\n",
    "\n",
    "df_ass = df_filtered[['MD1', 'SH1']]\n",
    "\n",
    "\n",
    "\n",
    "new_data = {\n",
    "    'Type': ['MD1'] * len(df_ass) + ['SH1'] * len(df_ass),\n",
    "    'NAME': df_ass['MD1'].tolist() + df_ass['SH1'].tolist()\n",
    "}\n",
    "\n",
    "new = pd.DataFrame(new_data)\n",
    "\n",
    "\n"
   ]
  },
  {
   "cell_type": "code",
   "execution_count": 13,
   "id": "2fc87a20",
   "metadata": {
    "scrolled": true
   },
   "outputs": [
    {
     "data": {
      "text/html": [
       "<div>\n",
       "<style scoped>\n",
       "    .dataframe tbody tr th:only-of-type {\n",
       "        vertical-align: middle;\n",
       "    }\n",
       "\n",
       "    .dataframe tbody tr th {\n",
       "        vertical-align: top;\n",
       "    }\n",
       "\n",
       "    .dataframe thead th {\n",
       "        text-align: right;\n",
       "    }\n",
       "</style>\n",
       "<table border=\"1\" class=\"dataframe\">\n",
       "  <thead>\n",
       "    <tr style=\"text-align: right;\">\n",
       "      <th></th>\n",
       "      <th>Type</th>\n",
       "      <th>NAME</th>\n",
       "    </tr>\n",
       "  </thead>\n",
       "  <tbody>\n",
       "    <tr>\n",
       "      <th>0</th>\n",
       "      <td>MD1</td>\n",
       "      <td>최육영</td>\n",
       "    </tr>\n",
       "    <tr>\n",
       "      <th>1</th>\n",
       "      <td>MD1</td>\n",
       "      <td>박장혜</td>\n",
       "    </tr>\n",
       "    <tr>\n",
       "      <th>2</th>\n",
       "      <td>MD1</td>\n",
       "      <td>박장혜</td>\n",
       "    </tr>\n",
       "    <tr>\n",
       "      <th>3</th>\n",
       "      <td>MD1</td>\n",
       "      <td>최소유</td>\n",
       "    </tr>\n",
       "    <tr>\n",
       "      <th>4</th>\n",
       "      <td>MD1</td>\n",
       "      <td>박주혁B</td>\n",
       "    </tr>\n",
       "  </tbody>\n",
       "</table>\n",
       "</div>"
      ],
      "text/plain": [
       "  Type  NAME\n",
       "0  MD1   최육영\n",
       "1  MD1   박장혜\n",
       "2  MD1   박장혜\n",
       "3  MD1   최소유\n",
       "4  MD1  박주혁B"
      ]
     },
     "execution_count": 13,
     "metadata": {},
     "output_type": "execute_result"
    }
   ],
   "source": [
    "new.head()"
   ]
  },
  {
   "cell_type": "code",
   "execution_count": 14,
   "id": "c7eb2c9b",
   "metadata": {},
   "outputs": [],
   "source": [
    "ID = list(set(new['Type']))\n",
    "list_association = []\n",
    "for i in ID:\n",
    "    tmp_list = list(new[new['Type']==i]['NAME'])\n",
    "    tmp_list.sort()\n",
    "    list_association.append(tmp_list)\n"
   ]
  },
  {
   "cell_type": "code",
   "execution_count": 15,
   "id": "20d3e9cf",
   "metadata": {
    "scrolled": true
   },
   "outputs": [
    {
     "data": {
      "text/html": [
       "<div>\n",
       "<style scoped>\n",
       "    .dataframe tbody tr th:only-of-type {\n",
       "        vertical-align: middle;\n",
       "    }\n",
       "\n",
       "    .dataframe tbody tr th {\n",
       "        vertical-align: top;\n",
       "    }\n",
       "\n",
       "    .dataframe thead th {\n",
       "        text-align: right;\n",
       "    }\n",
       "</style>\n",
       "<table border=\"1\" class=\"dataframe\">\n",
       "  <thead>\n",
       "    <tr style=\"text-align: right;\">\n",
       "      <th></th>\n",
       "      <th>가길호</th>\n",
       "      <th>강규주</th>\n",
       "      <th>강병주</th>\n",
       "      <th>강승필</th>\n",
       "      <th>고이혁</th>\n",
       "      <th>곽주애</th>\n",
       "      <th>권동인</th>\n",
       "      <th>남기중</th>\n",
       "      <th>노상필</th>\n",
       "      <th>박경은</th>\n",
       "      <th>...</th>\n",
       "      <th>최주나</th>\n",
       "      <th>최주선</th>\n",
       "      <th>최채원</th>\n",
       "      <th>최한빛</th>\n",
       "      <th>최형권</th>\n",
       "      <th>최환수</th>\n",
       "      <th>최희수</th>\n",
       "      <th>하재원</th>\n",
       "      <th>한은영</th>\n",
       "      <th>황새롬</th>\n",
       "    </tr>\n",
       "  </thead>\n",
       "  <tbody>\n",
       "    <tr>\n",
       "      <th>0</th>\n",
       "      <td>True</td>\n",
       "      <td>False</td>\n",
       "      <td>True</td>\n",
       "      <td>True</td>\n",
       "      <td>True</td>\n",
       "      <td>False</td>\n",
       "      <td>True</td>\n",
       "      <td>True</td>\n",
       "      <td>True</td>\n",
       "      <td>True</td>\n",
       "      <td>...</td>\n",
       "      <td>True</td>\n",
       "      <td>True</td>\n",
       "      <td>False</td>\n",
       "      <td>False</td>\n",
       "      <td>True</td>\n",
       "      <td>True</td>\n",
       "      <td>True</td>\n",
       "      <td>False</td>\n",
       "      <td>True</td>\n",
       "      <td>True</td>\n",
       "    </tr>\n",
       "    <tr>\n",
       "      <th>1</th>\n",
       "      <td>False</td>\n",
       "      <td>True</td>\n",
       "      <td>False</td>\n",
       "      <td>False</td>\n",
       "      <td>False</td>\n",
       "      <td>True</td>\n",
       "      <td>False</td>\n",
       "      <td>False</td>\n",
       "      <td>False</td>\n",
       "      <td>False</td>\n",
       "      <td>...</td>\n",
       "      <td>False</td>\n",
       "      <td>False</td>\n",
       "      <td>True</td>\n",
       "      <td>True</td>\n",
       "      <td>False</td>\n",
       "      <td>False</td>\n",
       "      <td>False</td>\n",
       "      <td>True</td>\n",
       "      <td>False</td>\n",
       "      <td>False</td>\n",
       "    </tr>\n",
       "  </tbody>\n",
       "</table>\n",
       "<p>2 rows × 93 columns</p>\n",
       "</div>"
      ],
      "text/plain": [
       "     가길호    강규주    강병주    강승필    고이혁    곽주애    권동인    남기중    노상필    박경은  ...  \\\n",
       "0   True  False   True   True   True  False   True   True   True   True  ...   \n",
       "1  False   True  False  False  False   True  False  False  False  False  ...   \n",
       "\n",
       "     최주나    최주선    최채원    최한빛    최형권    최환수    최희수    하재원    한은영    황새롬  \n",
       "0   True   True  False  False   True   True   True  False   True   True  \n",
       "1  False  False   True   True  False  False  False   True  False  False  \n",
       "\n",
       "[2 rows x 93 columns]"
      ]
     },
     "execution_count": 15,
     "metadata": {},
     "output_type": "execute_result"
    }
   ],
   "source": [
    "enc = TransactionEncoder()\n",
    "df_new_enc = enc.fit_transform(X=list_association)\n",
    "df_asso = pd.DataFrame(df_new_enc, columns = enc.columns_)\n",
    "df_asso.head()"
   ]
  },
  {
   "cell_type": "code",
   "execution_count": 16,
   "id": "120dbd38",
   "metadata": {},
   "outputs": [],
   "source": [
    "from mlxtend.preprocessing import TransactionEncoder\n",
    "from mlxtend.frequent_patterns import apriori\n",
    "from mlxtend.frequent_patterns import association_rules"
   ]
  },
  {
   "cell_type": "code",
   "execution_count": null,
   "id": "c71517f5",
   "metadata": {},
   "outputs": [],
   "source": [
    "v_min_support = 0.4\n",
    "df_freq = apriori(df_asso, min_support = v_min_support, use_colnames = True)"
   ]
  },
  {
   "cell_type": "code",
   "execution_count": null,
   "id": "8c3435ae",
   "metadata": {},
   "outputs": [],
   "source": [
    "df_asso_rule = association_rules(df_freq, metric='confidence', min_threshold = 0.7)"
   ]
  },
  {
   "cell_type": "code",
   "execution_count": null,
   "id": "4a0b8e71",
   "metadata": {},
   "outputs": [],
   "source": [
    "# TransactionEncoder를 사용하여 데이터프레임을 트랜잭션 형태로 변환\n",
    "te = \n",
    "transactions = new_df.values.tolist()\n",
    "te_ary = te.fit_transform(transactions)\n",
    "df_filtered_transformed = pd.DataFrame(te_ary, columns=te.columns_)\n",
    "\n",
    "# Apriori 알고리즘을 사용하여 연관 규칙 생성\n",
    "frequent_itemsets = apriori(df_filtered_transformed, min_support=0.1, use_colnames=True)\n",
    "association_rules = association_rules(frequent_itemsets, metric='confidence', min_threshold=0.5)\n",
    "\n",
    "print(association_rules)\n"
   ]
  },
  {
   "cell_type": "code",
   "execution_count": 88,
   "id": "822b2ce6",
   "metadata": {},
   "outputs": [
    {
     "name": "stdout",
     "output_type": "stream",
     "text": [
      "      people  success  total     ratio 대분류\n",
      "0    nan,가길호       16     16  1.000000  의류\n",
      "1    nan,강병주        5      8  0.625000  식품\n",
      "2    nan,고이혁        7      8  0.875000  식품\n",
      "3    nan,권동인       20     31  0.645161  식품\n",
      "4    nan,남기중       19     25  0.760000  식품\n",
      "..       ...      ...    ...       ...  ..\n",
      "913  하재원,최장화        1      1  1.000000  가구\n",
      "914  하재원,최조학        4      5  0.800000  가구\n",
      "915  하재원,최주나        3      5  0.600000  가구\n",
      "916  하재원,최희수        3      3  1.000000  가구\n",
      "917  하재원,한은영        1      2  0.500000  가구\n",
      "\n",
      "[918 rows x 5 columns]\n"
     ]
    }
   ],
   "source": [
    "import pandas as pd\n",
    "\n",
    "\n",
    "\n",
    "# 개별 조합의 성공 및 실패 횟수 계산\n",
    "success_counts = df.groupby(['조합', '성공여부']).size().unstack(fill_value=0)\n",
    "success_counts.reset_index(inplace=True)\n",
    "\n",
    "# 새로운 데이터프레임 'comb' 생성 및 열 추가\n",
    "comb = pd.DataFrame()\n",
    "comb['people'] = success_counts['조합']\n",
    "comb['success'] = success_counts[1]\n",
    "comb['total'] = success_counts[1] + success_counts[0]\n",
    "comb['ratio'] = comb['success'] / comb['total']\n",
    "comb['대분류'] = df['대분류']\n",
    "print(comb)\n"
   ]
  },
  {
   "cell_type": "code",
   "execution_count": 89,
   "id": "1b54225b",
   "metadata": {
    "scrolled": false
   },
   "outputs": [
    {
     "data": {
      "image/png": "[encoded data removed]",
      "text/plain": [
       "<Figure size 1400x800 with 1 Axes>"
      ]
     },
     "metadata": {},
     "output_type": "display_data"
    }
   ],
   "source": [
    "import pandas as pd\n",
    "import matplotlib.pyplot as plt\n",
    "\n",
    "\n",
    "# 대분류가 '의류'인 경우의 people별 ratio 상위 및 하위 5개 추출\n",
    "clothing_comb = comb[comb['대분류'] == '식품'].sort_values(by='ratio', ascending=False)\n",
    "\n",
    "top_5 = clothing_comb.head(5)\n",
    "bottom_5 = clothing_comb.tail(5)\n",
    "\n",
    "# 그래프 그리기\n",
    "plt.figure(figsize=(14, 8))\n",
    "\n",
    "plt.scatter(top_5['people'], top_5['ratio'], color='blue', label='Top 5')\n",
    "plt.scatter(bottom_5['people'], bottom_5['ratio'], color='red', label='Bottom 5')\n",
    "\n",
    "plt.xlabel(\"People\")\n",
    "plt.ylabel(\"Ratio\")\n",
    "plt.title(\"Top 5 and Bottom 5 Ratios\")\n",
    "\n",
    "plt.xticks(rotation=45)\n",
    "plt.legend()\n",
    "\n",
    "# 각 점 옆에 조합 값 표시\n",
    "?\n",
    "plt.show()\n"
   ]
  },
  {
   "cell_type": "code",
   "execution_count": null,
   "id": "a95d5d6c",
   "metadata": {},
   "outputs": [],
   "source": [
    "new_df = pd.DataFrame(df[df['목표달성여부'] == 1]['조합'].copy())"
   ]
  },
  {
   "cell_type": "code",
   "execution_count": null,
   "id": "a39f13d0",
   "metadata": {},
   "outputs": [],
   "source": [
    "df_filtered = new_df[~new_df['조합'].str.contains('nan')]"
   ]
  },
  {
   "cell_type": "code",
   "execution_count": 99,
   "id": "7e89608a",
   "metadata": {},
   "outputs": [],
   "source": [
    "comb_filtered = comb[~comb['people'].str.contains('nan')]"
   ]
  },
  {
   "cell_type": "code",
   "execution_count": null,
   "id": "e5130a74",
   "metadata": {},
   "outputs": [],
   "source": [
    "ID = list(set(new['Type']))\n",
    "list_association = []\n",
    "for i in ID:\n",
    "    tmp_list = list(new[new['Type']==i]['NAME'])\n",
    "    tmp_list.sort()\n",
    "    list_association.append(tmp_list)\n"
   ]
  },
  {
   "cell_type": "code",
   "execution_count": null,
   "id": "1c104c64",
   "metadata": {},
   "outputs": [],
   "source": [
    "import pandas as pd\n",
    "\n",
    "# 개별 조합의 성공 및 실패 횟수 계산\n",
    "success_counts = df.groupby(['조합', '성공여부']).size().unstack(fill_value=0)\n",
    "success_counts.reset_index(inplace=True)\n",
    "\n",
    "# 새로운 데이터프레임 'comb' 생성 및 열 추가\n",
    "comb = pd.DataFrame()\n",
    "comb['people'] = success_counts['조합']\n",
    "comb['success'] = success_counts[1]\n",
    "comb['total'] = success_counts[1] + success_counts[0]\n",
    "comb['ratio'] = comb['success'] / comb['total']\n",
    "comb['대분류'] = df['대분류']\n",
    "print(comb)\n"
   ]
  },
  {
   "cell_type": "code",
   "execution_count": null,
   "id": "f2ee188b",
   "metadata": {},
   "outputs": [],
   "source": [
    "enc = TransactionEncoder()\n",
    "df_new_enc = enc.fit_transform(X=list_association)\n",
    "df_asso = pd.DataFrame(df_new_enc, columns = enc.columns_)\n",
    "df_asso.head()"
   ]
  },
  {
   "cell_type": "code",
   "execution_count": null,
   "id": "7f48a4bb",
   "metadata": {},
   "outputs": [],
   "source": [
    "from mlxtend.preprocessing import TransactionEncoder\n",
    "from mlxtend.frequent_patterns import apriori\n",
    "from mlxtend.frequent_patterns import association_rules"
   ]
  },
  {
   "cell_type": "code",
   "execution_count": null,
   "id": "1ae25389",
   "metadata": {},
   "outputs": [],
   "source": [
    "# TransactionEncoder를 사용하여 데이터프레임을 트랜잭션 형태로 변환\n",
    "te = \n",
    "transactions = new_df.values.tolist()\n",
    "te_ary = te.fit_transform(transactions)\n",
    "df_filtered_transformed = pd.DataFrame(te_ary, columns=te.columns_)\n",
    "\n",
    "# Apriori 알고리즘을 사용하여 연관 규칙 생성\n",
    "frequent_itemsets = apriori(df_filtered_transformed, min_support=0.1, use_colnames=True)\n",
    "association_rules = association_rules(frequent_itemsets, metric='confidence', min_threshold=0.5)\n",
    "\n",
    "print(association_rules)\n"
   ]
  },
  {
   "cell_type": "code",
   "execution_count": 101,
   "id": "fee42bfa",
   "metadata": {},
   "outputs": [
    {
     "name": "stdout",
     "output_type": "stream",
     "text": [
      "      people  success  total     ratio   대분류\n",
      "37   강규주,가길호      127    168  0.755952  이미용품\n",
      "38   강규주,권동인        1      1  1.000000  이미용품\n",
      "39   강규주,서장복        0      1  0.000000  이미용품\n",
      "40   강규주,손백영        0      7  0.000000    식품\n",
      "41   강규주,원상연        0      1  0.000000    의류\n",
      "..       ...      ...    ...       ...   ...\n",
      "913  하재원,최장화        1      1  1.000000    가구\n",
      "914  하재원,최조학        4      5  0.800000    가구\n",
      "915  하재원,최주나        3      5  0.600000    가구\n",
      "916  하재원,최희수        3      3  1.000000    가구\n",
      "917  하재원,한은영        1      2  0.500000    가구\n",
      "\n",
      "[881 rows x 5 columns]\n"
     ]
    }
   ],
   "source": [
    "print(comb_filtered)"
   ]
  },
  {
   "cell_type": "code",
   "execution_count": null,
   "id": "507cc41c",
   "metadata": {},
   "outputs": [],
   "source": [
    "import pandas as pd\n",
    "from mlxtend.preprocessing import TransactionEncoder\n",
    "from mlxtend.frequent_patterns import apriori, association_rules\n",
    "\n",
    "\n",
    "# '조합' 열의 값을 , 로 구분하여 'MD1'과 'SH2'로 나누기\n",
    "df_filtered[['MD1', 'SH1']] = df_filtered['조합'].str.split(',', expand=True)\n",
    "\n",
    "df_ass = df_filtered[['MD1', 'SH1']]\n",
    "\n",
    "\n",
    "\n",
    "new_data = {\n",
    "    'Type': ['MD1'] * len(df_ass) + ['SH1'] * len(df_ass),\n",
    "    'NAME': df_ass['MD1'].tolist() + df_ass['SH1'].tolist()\n",
    "}\n",
    "\n",
    "new = pd.DataFrame(new_data)\n",
    "\n",
    "\n"
   ]
  },
  {
   "cell_type": "code",
   "execution_count": null,
   "id": "170efe70",
   "metadata": {},
   "outputs": [],
   "source": [
    "import pandas as pd\n",
    "\n",
    "\n",
    "\n",
    "# 개별 조합의 성공 및 실패 횟수 계산\n",
    "success_counts = df.groupby(['조합', '성공여부']).size().unstack(fill_value=0)\n",
    "success_counts.reset_index(inplace=True)\n",
    "\n",
    "# 새로운 데이터프레임 'comb' 생성 및 열 추가\n",
    "comb = pd.DataFrame()\n",
    "comb['people'] = success_counts['조합']\n",
    "comb['success'] = success_counts[1]\n",
    "comb['total'] = success_counts[1] + success_counts[0]\n",
    "comb['ratio'] = comb['success'] / comb['total']\n",
    "comb['대분류'] = df['대분류']\n",
    "print(comb)\n"
   ]
  },
  {
   "cell_type": "code",
   "execution_count": 72,
   "id": "291ec6f4",
   "metadata": {
    "scrolled": true
   },
   "outputs": [
    {
     "data": {
      "text/plain": [
       "0      최승미\n",
       "1      심인혜\n",
       "2      심인혜\n",
       "3      최병규\n",
       "4      신대혁\n",
       "5      심인혜\n",
       "6      심인혜\n",
       "7     박만이건\n",
       "8     박만이건\n",
       "9      최유만\n",
       "10     최주나\n",
       "11     최주나\n",
       "12     최주나\n",
       "13     이서소\n",
       "14     이서소\n",
       "15     이서소\n",
       "16     이서소\n",
       "17     최유만\n",
       "18     최승미\n",
       "19     최병규\n",
       "Name: MD1, dtype: object"
      ]
     },
     "execution_count": 72,
     "metadata": {},
     "output_type": "execute_result"
    }
   ],
   "source": [
    "ddf['MD1'].head(20)"
   ]
  },
  {
   "cell_type": "code",
   "execution_count": 73,
   "id": "c6698123",
   "metadata": {
    "scrolled": true
   },
   "outputs": [
    {
     "data": {
      "text/html": [
       "<div>\n",
       "<style scoped>\n",
       "    .dataframe tbody tr th:only-of-type {\n",
       "        vertical-align: middle;\n",
       "    }\n",
       "\n",
       "    .dataframe tbody tr th {\n",
       "        vertical-align: top;\n",
       "    }\n",
       "\n",
       "    .dataframe thead th {\n",
       "        text-align: right;\n",
       "    }\n",
       "</style>\n",
       "<table border=\"1\" class=\"dataframe\">\n",
       "  <thead>\n",
       "    <tr style=\"text-align: right;\">\n",
       "      <th></th>\n",
       "      <th>MD1</th>\n",
       "      <th>SH1</th>\n",
       "    </tr>\n",
       "  </thead>\n",
       "  <tbody>\n",
       "    <tr>\n",
       "      <th>10</th>\n",
       "      <td>최주나</td>\n",
       "      <td>최육영</td>\n",
       "    </tr>\n",
       "    <tr>\n",
       "      <th>11</th>\n",
       "      <td>최주나</td>\n",
       "      <td>최육영</td>\n",
       "    </tr>\n",
       "    <tr>\n",
       "      <th>12</th>\n",
       "      <td>최주나</td>\n",
       "      <td>최육영</td>\n",
       "    </tr>\n",
       "    <tr>\n",
       "      <th>13</th>\n",
       "      <td>이서소</td>\n",
       "      <td>박장혜</td>\n",
       "    </tr>\n",
       "    <tr>\n",
       "      <th>14</th>\n",
       "      <td>이서소</td>\n",
       "      <td>박장혜</td>\n",
       "    </tr>\n",
       "    <tr>\n",
       "      <th>15</th>\n",
       "      <td>이서소</td>\n",
       "      <td>박장혜</td>\n",
       "    </tr>\n",
       "    <tr>\n",
       "      <th>16</th>\n",
       "      <td>이서소</td>\n",
       "      <td>박장혜</td>\n",
       "    </tr>\n",
       "    <tr>\n",
       "      <th>17</th>\n",
       "      <td>최유만</td>\n",
       "      <td>최소유</td>\n",
       "    </tr>\n",
       "    <tr>\n",
       "      <th>18</th>\n",
       "      <td>최승미</td>\n",
       "      <td>박주혁B</td>\n",
       "    </tr>\n",
       "    <tr>\n",
       "      <th>19</th>\n",
       "      <td>최병규</td>\n",
       "      <td>최한빛</td>\n",
       "    </tr>\n",
       "  </tbody>\n",
       "</table>\n",
       "</div>"
      ],
      "text/plain": [
       "    MD1   SH1\n",
       "10  최주나   최육영\n",
       "11  최주나   최육영\n",
       "12  최주나   최육영\n",
       "13  이서소   박장혜\n",
       "14  이서소   박장혜\n",
       "15  이서소   박장혜\n",
       "16  이서소   박장혜\n",
       "17  최유만   최소유\n",
       "18  최승미  박주혁B\n",
       "19  최병규   최한빛"
      ]
     },
     "execution_count": 73,
     "metadata": {},
     "output_type": "execute_result"
    }
   ],
   "source": [
    "df_new = df_new[['MD1', 'SH1']]\n",
    "df_new.head(10)"
   ]
  },
  {
   "cell_type": "code",
   "execution_count": 76,
   "id": "8aa9efc4",
   "metadata": {},
   "outputs": [
    {
     "data": {
      "text/html": [
       "<div>\n",
       "<style scoped>\n",
       "    .dataframe tbody tr th:only-of-type {\n",
       "        vertical-align: middle;\n",
       "    }\n",
       "\n",
       "    .dataframe tbody tr th {\n",
       "        vertical-align: top;\n",
       "    }\n",
       "\n",
       "    .dataframe thead th {\n",
       "        text-align: right;\n",
       "    }\n",
       "</style>\n",
       "<table border=\"1\" class=\"dataframe\">\n",
       "  <thead>\n",
       "    <tr style=\"text-align: right;\">\n",
       "      <th></th>\n",
       "      <th>MD1</th>\n",
       "      <th>SH1</th>\n",
       "    </tr>\n",
       "  </thead>\n",
       "  <tbody>\n",
       "    <tr>\n",
       "      <th>10</th>\n",
       "      <td>최주나</td>\n",
       "      <td>최육영</td>\n",
       "    </tr>\n",
       "    <tr>\n",
       "      <th>11</th>\n",
       "      <td>최주나</td>\n",
       "      <td>최육영</td>\n",
       "    </tr>\n",
       "    <tr>\n",
       "      <th>12</th>\n",
       "      <td>최주나</td>\n",
       "      <td>최육영</td>\n",
       "    </tr>\n",
       "    <tr>\n",
       "      <th>13</th>\n",
       "      <td>이서소</td>\n",
       "      <td>박장혜</td>\n",
       "    </tr>\n",
       "    <tr>\n",
       "      <th>14</th>\n",
       "      <td>이서소</td>\n",
       "      <td>박장혜</td>\n",
       "    </tr>\n",
       "    <tr>\n",
       "      <th>15</th>\n",
       "      <td>이서소</td>\n",
       "      <td>박장혜</td>\n",
       "    </tr>\n",
       "    <tr>\n",
       "      <th>16</th>\n",
       "      <td>이서소</td>\n",
       "      <td>박장혜</td>\n",
       "    </tr>\n",
       "    <tr>\n",
       "      <th>17</th>\n",
       "      <td>최유만</td>\n",
       "      <td>최소유</td>\n",
       "    </tr>\n",
       "    <tr>\n",
       "      <th>18</th>\n",
       "      <td>최승미</td>\n",
       "      <td>박주혁B</td>\n",
       "    </tr>\n",
       "    <tr>\n",
       "      <th>19</th>\n",
       "      <td>최병규</td>\n",
       "      <td>최한빛</td>\n",
       "    </tr>\n",
       "    <tr>\n",
       "      <th>40</th>\n",
       "      <td>최주선</td>\n",
       "      <td>박원이</td>\n",
       "    </tr>\n",
       "    <tr>\n",
       "      <th>41</th>\n",
       "      <td>박조호A</td>\n",
       "      <td>최규좌</td>\n",
       "    </tr>\n",
       "    <tr>\n",
       "      <th>42</th>\n",
       "      <td>고이혁</td>\n",
       "      <td>최규좌</td>\n",
       "    </tr>\n",
       "    <tr>\n",
       "      <th>43</th>\n",
       "      <td>최만헌</td>\n",
       "      <td>이주규</td>\n",
       "    </tr>\n",
       "    <tr>\n",
       "      <th>44</th>\n",
       "      <td>가길호</td>\n",
       "      <td>최채원</td>\n",
       "    </tr>\n",
       "    <tr>\n",
       "      <th>45</th>\n",
       "      <td>이수만</td>\n",
       "      <td>박상언</td>\n",
       "    </tr>\n",
       "    <tr>\n",
       "      <th>46</th>\n",
       "      <td>이수만</td>\n",
       "      <td>박상언</td>\n",
       "    </tr>\n",
       "    <tr>\n",
       "      <th>47</th>\n",
       "      <td>육경만</td>\n",
       "      <td>이서경</td>\n",
       "    </tr>\n",
       "    <tr>\n",
       "      <th>48</th>\n",
       "      <td>이수만</td>\n",
       "      <td>이주혁</td>\n",
       "    </tr>\n",
       "    <tr>\n",
       "      <th>49</th>\n",
       "      <td>이수만</td>\n",
       "      <td>이주혁</td>\n",
       "    </tr>\n",
       "  </tbody>\n",
       "</table>\n",
       "</div>"
      ],
      "text/plain": [
       "     MD1   SH1\n",
       "10   최주나   최육영\n",
       "11   최주나   최육영\n",
       "12   최주나   최육영\n",
       "13   이서소   박장혜\n",
       "14   이서소   박장혜\n",
       "15   이서소   박장혜\n",
       "16   이서소   박장혜\n",
       "17   최유만   최소유\n",
       "18   최승미  박주혁B\n",
       "19   최병규   최한빛\n",
       "40   최주선   박원이\n",
       "41  박조호A   최규좌\n",
       "42   고이혁   최규좌\n",
       "43   최만헌   이주규\n",
       "44   가길호   최채원\n",
       "45   이수만   박상언\n",
       "46   이수만   박상언\n",
       "47   육경만   이서경\n",
       "48   이수만   이주혁\n",
       "49   이수만   이주혁"
      ]
     },
     "execution_count": 76,
     "metadata": {},
     "output_type": "execute_result"
    }
   ],
   "source": [
    "df_new = df_new.fillna('n')\n",
    "df_new.head(20)"
   ]
  },
  {
   "cell_type": "code",
   "execution_count": 77,
   "id": "f8b67d63",
   "metadata": {},
   "outputs": [
    {
     "name": "stdout",
     "output_type": "stream",
     "text": [
      "One-hot encoded data\n",
      "         가길호    강규주    강동완    강병주    강승필    고이혁    곽주애    권기문    권동인    남기중  \\\n",
      "0      False  False  False  False  False  False  False  False  False  False   \n",
      "1      False  False  False  False  False  False  False  False  False  False   \n",
      "2      False  False  False  False  False  False  False  False  False  False   \n",
      "3      False  False  False  False  False  False  False  False  False  False   \n",
      "4      False  False  False  False  False  False  False  False  False  False   \n",
      "...      ...    ...    ...    ...    ...    ...    ...    ...    ...    ...   \n",
      "25088   True  False  False  False  False  False  False  False  False  False   \n",
      "25089   True  False  False  False  False  False  False  False  False  False   \n",
      "25090   True  False  False  False  False  False  False  False  False  False   \n",
      "25091  False  False  False  False  False  False  False  False  False  False   \n",
      "25092  False  False  False  False  False  False  False  False  False  False   \n",
      "\n",
      "       ...    최주나    최주선    최채원    최한빛    최형권    최환수    최희수    하재원    한은영  \\\n",
      "0      ...   True  False  False  False  False  False  False  False  False   \n",
      "1      ...   True  False  False  False  False  False  False  False  False   \n",
      "2      ...   True  False  False  False  False  False  False  False  False   \n",
      "3      ...  False  False  False  False  False  False  False  False  False   \n",
      "4      ...  False  False  False  False  False  False  False  False  False   \n",
      "...    ...    ...    ...    ...    ...    ...    ...    ...    ...    ...   \n",
      "25088  ...  False  False  False  False  False  False  False  False  False   \n",
      "25089  ...  False  False  False  False  False  False  False  False  False   \n",
      "25090  ...  False  False  False  False  False  False  False  False  False   \n",
      "25091  ...  False  False  False  False  False  False  False  False  False   \n",
      "25092  ...  False  False  False  False  False  False   True  False  False   \n",
      "\n",
      "         황새롬  \n",
      "0      False  \n",
      "1      False  \n",
      "2      False  \n",
      "3      False  \n",
      "4      False  \n",
      "...      ...  \n",
      "25088  False  \n",
      "25089  False  \n",
      "25090  False  \n",
      "25091  False  \n",
      "25092  False  \n",
      "\n",
      "[25093 rows x 96 columns]\n",
      "\n",
      "Frequent itemsets\n",
      "Empty DataFrame\n",
      "Columns: [support, itemsets]\n",
      "Index: []\n"
     ]
    },
    {
     "ename": "ValueError",
     "evalue": "The input DataFrame `df` containing the frequent itemsets is empty.",
     "output_type": "error",
     "traceback": [
      "\u001b[0;31m---------------------------------------------------------------------------\u001b[0m",
      "\u001b[0;31mValueError\u001b[0m                                Traceback (most recent call last)",
      "Cell \u001b[0;32mIn[77], line 23\u001b[0m\n\u001b[1;32m     20\u001b[0m \u001b[38;5;28mprint\u001b[39m(frequent_itemsets)\n\u001b[1;32m     22\u001b[0m \u001b[38;5;66;03m# 연관규칙 생성\u001b[39;00m\n\u001b[0;32m---> 23\u001b[0m rules \u001b[38;5;241m=\u001b[39m \u001b[43massociation_rules\u001b[49m\u001b[43m(\u001b[49m\u001b[43mfrequent_itemsets\u001b[49m\u001b[43m,\u001b[49m\u001b[43m \u001b[49m\u001b[43mmetric\u001b[49m\u001b[38;5;241;43m=\u001b[39;49m\u001b[38;5;124;43m\"\u001b[39;49m\u001b[38;5;124;43mconfidence\u001b[39;49m\u001b[38;5;124;43m\"\u001b[39;49m\u001b[43m,\u001b[49m\u001b[43m \u001b[49m\u001b[43mmin_threshold\u001b[49m\u001b[38;5;241;43m=\u001b[39;49m\u001b[38;5;241;43m0.7\u001b[39;49m\u001b[43m)\u001b[49m\n\u001b[1;32m     24\u001b[0m \u001b[38;5;28mprint\u001b[39m(\u001b[38;5;124m\"\u001b[39m\u001b[38;5;130;01m\\n\u001b[39;00m\u001b[38;5;124mAssociation rules\u001b[39m\u001b[38;5;124m\"\u001b[39m)\n\u001b[1;32m     25\u001b[0m \u001b[38;5;28mprint\u001b[39m(rules\u001b[38;5;241m.\u001b[39mloc[:, [\u001b[38;5;124m'\u001b[39m\u001b[38;5;124mantecedents\u001b[39m\u001b[38;5;124m'\u001b[39m, \u001b[38;5;124m'\u001b[39m\u001b[38;5;124mconsequents\u001b[39m\u001b[38;5;124m'\u001b[39m, \u001b[38;5;124m'\u001b[39m\u001b[38;5;124msupport\u001b[39m\u001b[38;5;124m'\u001b[39m, \u001b[38;5;124m'\u001b[39m\u001b[38;5;124mconfidence\u001b[39m\u001b[38;5;124m'\u001b[39m, \u001b[38;5;124m'\u001b[39m\u001b[38;5;124mlift\u001b[39m\u001b[38;5;124m'\u001b[39m]])\n",
      "File \u001b[0;32m~/anaconda3/lib/python3.10/site-packages/mlxtend/frequent_patterns/association_rules.py:83\u001b[0m, in \u001b[0;36massociation_rules\u001b[0;34m(df, metric, min_threshold, support_only)\u001b[0m\n\u001b[1;32m     18\u001b[0m \u001b[38;5;124;03m\"\"\"Generates a DataFrame of association rules including the\u001b[39;00m\n\u001b[1;32m     19\u001b[0m \u001b[38;5;124;03mmetrics 'score', 'confidence', and 'lift'\u001b[39;00m\n\u001b[1;32m     20\u001b[0m \n\u001b[0;32m   (...)\u001b[0m\n\u001b[1;32m     80\u001b[0m \n\u001b[1;32m     81\u001b[0m \u001b[38;5;124;03m\"\"\"\u001b[39;00m\n\u001b[1;32m     82\u001b[0m \u001b[38;5;28;01mif\u001b[39;00m \u001b[38;5;129;01mnot\u001b[39;00m df\u001b[38;5;241m.\u001b[39mshape[\u001b[38;5;241m0\u001b[39m]:\n\u001b[0;32m---> 83\u001b[0m     \u001b[38;5;28;01mraise\u001b[39;00m \u001b[38;5;167;01mValueError\u001b[39;00m(\n\u001b[1;32m     84\u001b[0m         \u001b[38;5;124m\"\u001b[39m\u001b[38;5;124mThe input DataFrame `df` containing \u001b[39m\u001b[38;5;124m\"\u001b[39m \u001b[38;5;124m\"\u001b[39m\u001b[38;5;124mthe frequent itemsets is empty.\u001b[39m\u001b[38;5;124m\"\u001b[39m\n\u001b[1;32m     85\u001b[0m     )\n\u001b[1;32m     87\u001b[0m \u001b[38;5;66;03m# check for mandatory columns\u001b[39;00m\n\u001b[1;32m     88\u001b[0m \u001b[38;5;28;01mif\u001b[39;00m \u001b[38;5;129;01mnot\u001b[39;00m \u001b[38;5;28mall\u001b[39m(col \u001b[38;5;129;01min\u001b[39;00m df\u001b[38;5;241m.\u001b[39mcolumns \u001b[38;5;28;01mfor\u001b[39;00m col \u001b[38;5;129;01min\u001b[39;00m [\u001b[38;5;124m\"\u001b[39m\u001b[38;5;124msupport\u001b[39m\u001b[38;5;124m\"\u001b[39m, \u001b[38;5;124m\"\u001b[39m\u001b[38;5;124mitemsets\u001b[39m\u001b[38;5;124m\"\u001b[39m]):\n",
      "\u001b[0;31mValueError\u001b[0m: The input DataFrame `df` containing the frequent itemsets is empty."
     ]
    }
   ],
   "source": []
  },
  {
   "cell_type": "code",
   "execution_count": null,
   "id": "a4ed8fbc",
   "metadata": {},
   "outputs": [],
   "source": []
  },
  {
   "cell_type": "code",
   "execution_count": null,
   "id": "09d2091b",
   "metadata": {},
   "outputs": [],
   "source": []
  }
 ],
 "metadata": {
  "kernelspec": {
   "display_name": "Python 3 (ipykernel)",
   "language": "python",
   "name": "python3"
  },
  "language_info": {
   "codemirror_mode": {
    "name": "ipython",
    "version": 3
   },
   "file_extension": ".py",
   "mimetype": "text/x-python",
   "name": "python",
   "nbconvert_exporter": "python",
   "pygments_lexer": "ipython3",
   "version": "3.10.9"
  }
 },
 "nbformat": 4,
 "nbformat_minor": 5
}
