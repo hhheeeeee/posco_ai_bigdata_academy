{
 "cells": [
  {
   "cell_type": "markdown",
   "metadata": {},
   "source": [
    "# Lecture7; Regularization"
   ]
  },
  {
   "cell_type": "markdown",
   "metadata": {},
   "source": [
    "### Library"
   ]
  },
  {
   "cell_type": "code",
   "execution_count": null,
   "metadata": {},
   "outputs": [],
   "source": [
    "import tensorflow as tf\n",
    "from tensorflow.keras import Model, layers, regularizers, initializers\n",
    "import numpy as np\n",
    "from matplotlib import pyplot as plt\n",
    "import random\n",
    "\n",
    "random.seed(0)\n",
    "np.random.seed(0)\n",
    "tf.random.set_seed(0)"
   ]
  },
  {
   "cell_type": "markdown",
   "metadata": {},
   "source": [
    "### Data processing"
   ]
  },
  {
   "cell_type": "code",
   "execution_count": null,
   "metadata": {},
   "outputs": [],
   "source": [
    "(x_trainval, y_trainval), (x_test, y_test) = tf.keras.datasets.mnist.load_data()\n",
    "x_trainval, x_test = tf.cast(x_trainval, tf.float32), tf.cast(x_test, tf.float32)\n",
    "y_trainval, y_test = tf.cast(y_trainval, tf.float32), tf.cast(y_test, tf.float32)\n",
    "\n",
    "num_classes = 10\n",
    "num_features = 784\n",
    "\n",
    "x_trainval, x_test = tf.reshape(x_trainval,[-1, num_features]), tf.reshape(x_test, [-1, num_features])\n",
    "x_trainval, x_test = x_trainval / 255., x_test / 255."
   ]
  },
  {
   "cell_type": "code",
   "execution_count": null,
   "metadata": {},
   "outputs": [],
   "source": [
    "\"\"\"_____fill here______\"\"\""
   ]
  },
  {
   "cell_type": "code",
   "execution_count": null,
   "metadata": {},
   "outputs": [],
   "source": [
    "print(x_train.shape) #(50000, 784)\n",
    "print(x_val.shape) #(10000, 784)\n",
    "print(x_test.shape) #(10000, 784)\n",
    "\n",
    "print(y_train.shape) #(50000,)\n",
    "print(y_val.shape) #(10000,)\n",
    "print(y_test.shape) #(10000,)"
   ]
  },
  {
   "cell_type": "code",
   "execution_count": null,
   "metadata": {},
   "outputs": [],
   "source": [
    "batch_size = 200\n",
    "train_data = tf.data.Dataset.from_tensor_slices((x_train, y_train))\n",
    "train_data = train_data.shuffle(50000).batch(batch_size).prefetch(1)"
   ]
  },
  {
   "cell_type": "markdown",
   "metadata": {},
   "source": [
    "### Define functions for Training/Testing"
   ]
  },
  {
   "cell_type": "code",
   "execution_count": null,
   "metadata": {},
   "outputs": [],
   "source": [
    "def cross_entropy_loss(x, y):\n",
    "    y = tf.cast(y, tf.int64)\n",
    "    loss = tf.nn.sparse_softmax_cross_entropy_with_logits(labels=y, logits=x)\n",
    "    return tf.reduce_mean(loss)\n",
    "\n",
    "def accuracy(y_pred, y_true):\n",
    "    correct_prediction = tf.equal(tf.argmax(y_pred, 1), tf.cast(y_true, tf.int64))\n",
    "    return tf.reduce_mean(tf.cast(correct_prediction, tf.float32)).numpy()\n",
    "    \n",
    "def Train_model(model, lr, epo, print_loss=True, plot_graph=True):\n",
    "    step_l = []\n",
    "    loss_l = []\n",
    "    \n",
    "    optimizer = tf.optimizers.SGD(0.01, momentum=0.9)\n",
    "    \n",
    "    for epoch in range(1,epo+1):\n",
    "        for step, (batch_x, batch_y) in enumerate(train_data, 1):\n",
    "            with tf.GradientTape() as g:\n",
    "                pred = model(batch_x, is_training=True)\n",
    "                loss = cross_entropy_loss(pred, batch_y)\n",
    "\n",
    "            trainable_variables = model.trainable_variables\n",
    "            gradients = g.gradient(loss, trainable_variables)\n",
    "            optimizer.apply_gradients(zip(gradients, trainable_variables))\n",
    "            \n",
    "            if plot_graph:\n",
    "                if step % 50 == 0:\n",
    "                    step_l.append((epoch-1)*300 + step)\n",
    "                    loss_l.append(loss.numpy())\n",
    "        if print_loss:\n",
    "            acc = accuracy(model(x_test), y_test)\n",
    "            print(\"epoch: \", epoch, \", loss: \", loss.numpy(), \"acc: \", acc)\n",
    "    \n",
    "    if plot_graph:\n",
    "        plt.plot(step_l, loss_l)\n",
    "    return model"
   ]
  },
  {
   "cell_type": "code",
   "execution_count": null,
   "metadata": {},
   "outputs": [],
   "source": [
    "class NeuralNet(Model):\n",
    "    def __init__(self):\n",
    "        super(NeuralNet, self).__init__()\n",
    "        self.fc1 = layers.Dense(128, kernel_initializer = initializers.GlorotNormal())\n",
    "        self.bn1 = layers.BatchNormalization()\n",
    "        self.ac1 = layers.Activation(tf.nn.relu)\n",
    "        self.fc2 = layers.Dense(256, kernel_initializer = initializers.GlorotNormal())\n",
    "        self.bn2 = layers.BatchNormalization()\n",
    "        self.ac2 = layers.Activation(tf.nn.relu)\n",
    "        self.out = layers.Dense(num_classes, kernel_initializer = initializers.GlorotNormal())\n",
    "\n",
    "    def call(self, x, is_training=False):\n",
    "        x = self.fc1(x)\n",
    "        x = self.bn1(x, training=is_training)\n",
    "        x = self.ac1(x)\n",
    "        x = self.fc2(x)\n",
    "        x = self.bn2(x, training=is_training)\n",
    "        x = self.ac2(x)\n",
    "        x = self.out(x)\n",
    "        x = tf.nn.softmax(x)\n",
    "        return x"
   ]
  },
  {
   "cell_type": "markdown",
   "metadata": {},
   "source": [
    "## Early stopping"
   ]
  },
  {
   "cell_type": "code",
   "execution_count": null,
   "metadata": {},
   "outputs": [],
   "source": [
    "val_data = tf.data.Dataset.from_tensor_slices((x_val, y_val))\n",
    "val_data = val_data.shuffle(10000).batch(batch_size).prefetch(1)\n",
    "\n",
    "def early_stopping(\"\"\"_____fill here______\"\"\"):\n",
    "    return \"\"\"_____fill here______\"\"\""
   ]
  },
  {
   "cell_type": "code",
   "execution_count": null,
   "metadata": {},
   "outputs": [],
   "source": [
    "neural_net = NeuralNet()\n",
    "\"\"\"_____fill here______\"\"\" = early_stopping(\"\"\"_____fill here______\"\"\")"
   ]
  },
  {
   "cell_type": "code",
   "execution_count": null,
   "metadata": {},
   "outputs": [],
   "source": [
    "n_acc = accuracy(neural_net(x_test), y_test)\n",
    "print(\"test accuracy =\", n_acc)"
   ]
  },
  {
   "cell_type": "markdown",
   "metadata": {},
   "source": [
    "## Regularization\n",
    "### weight decay"
   ]
  },
  {
   "cell_type": "markdown",
   "metadata": {},
   "source": [
    "regularizer 종류 : https://www.tensorflow.org/api_docs/python/tf/keras/regularizers"
   ]
  },
  {
   "cell_type": "code",
   "execution_count": null,
   "metadata": {},
   "outputs": [],
   "source": [
    "class WD_NeuralNet(Model):\n",
    "    def __init__(self):\n",
    "        super(WD_NeuralNet, self).__init__()\n",
    "        self.fc1 = layers.Dense(128, kernel_initializer = initializers.GlorotNormal(), kernel_regularizer=\"\"\"_____fill here______\"\"\")\n",
    "        self.bn1 = layers.BatchNormalization()\n",
    "        self.ac1 = layers.Activation(tf.nn.relu)\n",
    "        self.fc2 = layers.Dense(256, kernel_initializer = initializers.GlorotNormal(), kernel_regularizer=\"\"\"_____fill here______\"\"\")\n",
    "        self.bn2 = layers.BatchNormalization()\n",
    "        self.ac2 = layers.Activation(tf.nn.relu)\n",
    "        self.out = layers.Dense(num_classes, kernel_initializer = initializers.GlorotNormal(), kernel_regularizer=\"\"\"_____fill here______\"\"\")\n",
    "\n",
    "    def call(self, x, is_training=False):\n",
    "        x = self.fc1(x)\n",
    "        x = self.bn1(x, training=is_training)\n",
    "        x = self.ac1(x)\n",
    "        x = self.fc2(x)\n",
    "        x = self.bn2(x, training=is_training)\n",
    "        x = self.ac2(x)\n",
    "        x = self.out(x)\n",
    "        x = tf.nn.softmax(x)\n",
    "        return x"
   ]
  },
  {
   "cell_type": "code",
   "execution_count": null,
   "metadata": {},
   "outputs": [],
   "source": [
    "wd_nn = WD_NeuralNet()\n",
    "wd_nn, wd_best_epoch = early_stopping(wd_nn, 0.01)"
   ]
  },
  {
   "cell_type": "code",
   "execution_count": null,
   "metadata": {},
   "outputs": [],
   "source": [
    "wd_acc = accuracy(wd_nn(x_test), y_test)\n",
    "print(\"test accuracy =\", wd_acc)"
   ]
  },
  {
   "cell_type": "markdown",
   "metadata": {},
   "source": [
    "### drop out "
   ]
  },
  {
   "cell_type": "code",
   "execution_count": null,
   "metadata": {},
   "outputs": [],
   "source": [
    "# dropout 코딩\n",
    "class DO_NeuralNet(Model):\n",
    "    def __init__(self):\n",
    "        super(DO_NeuralNet, self).__init__()\n",
    "        self.fc1 = layers.Dense(128, kernel_initializer = initializers.GlorotNormal())\n",
    "        self.bn1 = layers.BatchNormalization()\n",
    "        self.ac1 = layers.Activation(tf.nn.relu)\n",
    "        self.fc2 = layers.Dense(256, kernel_initializer = initializers.GlorotNormal())\n",
    "        self.bn2 = layers.BatchNormalization()\n",
    "        self.ac2 = layers.Activation(tf.nn.relu)\n",
    "        self.out = layers.Dense(num_classes, kernel_initializer = initializers.GlorotNormal())\n",
    "\n",
    "    def call(self, x, is_training=False):\n",
    "        x = self.fc1(x)\n",
    "        x = self.bn1(x, training=is_training)\n",
    "        x = self.ac1(x)\n",
    "        x = self.fc2(x)\n",
    "        x = self.bn2(x, training=is_training)\n",
    "        x = self.ac2(x)\n",
    "        x = self.out(x)\n",
    "        x = tf.nn.softmax(x)\n",
    "        return x"
   ]
  },
  {
   "cell_type": "code",
   "execution_count": null,
   "metadata": {},
   "outputs": [],
   "source": [
    "do_nn = DO_NeuralNet()\n",
    "do_nn, do_best_epoch = early_stopping(do_nn, 0.01)"
   ]
  },
  {
   "cell_type": "code",
   "execution_count": null,
   "metadata": {},
   "outputs": [],
   "source": [
    "do_acc = accuracy(do_nn(x_test), y_test)\n",
    "print(\"test accuracy =\", do_acc)"
   ]
  },
  {
   "cell_type": "code",
   "execution_count": null,
   "metadata": {},
   "outputs": [],
   "source": []
  },
  {
   "cell_type": "markdown",
   "metadata": {},
   "source": [
    "### model Ensembles"
   ]
  },
  {
   "cell_type": "code",
   "execution_count": null,
   "metadata": {},
   "outputs": [],
   "source": [
    "pred = \"\"\"_____fill here______\"\"\"\n",
    "ensem_acc = accuracy(pred, y_test)\n",
    "\n",
    "print(ensem_acc)"
   ]
  },
  {
   "cell_type": "markdown",
   "metadata": {},
   "source": [
    "### Compare accuracy"
   ]
  },
  {
   "cell_type": "code",
   "execution_count": null,
   "metadata": {},
   "outputs": [],
   "source": [
    "print(n_acc)\n",
    "print(wd_acc)\n",
    "print(dowobn_acc)\n",
    "print(ensem_acc)"
   ]
  }
 ],
 "metadata": {
  "kernelspec": {
   "display_name": "Python 3",
   "language": "python",
   "name": "python3"
  },
  "language_info": {
   "codemirror_mode": {
    "name": "ipython",
    "version": 3
   },
   "file_extension": ".py",
   "mimetype": "text/x-python",
   "name": "python",
   "nbconvert_exporter": "python",
   "pygments_lexer": "ipython3",
   "version": "3.8.8"
  }
 },
 "nbformat": 4,
 "nbformat_minor": 4
}
