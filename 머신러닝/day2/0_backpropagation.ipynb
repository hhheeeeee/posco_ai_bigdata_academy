{
 "cells": [
  {
   "cell_type": "markdown",
   "id": "c9fbfb7d",
   "metadata": {},
   "source": [
    "## Backpropagation"
   ]
  },
  {
   "cell_type": "code",
   "execution_count": 90,
   "id": "b33a86b5-5bd1-4718-8ea3-0f2b52ba9e2f",
   "metadata": {},
   "outputs": [],
   "source": [
    "import tensorflow as tf\n",
    "import numpy as np\n",
    "import matplotlib.pyplot as plt\n",
    "import random\n",
    "\n",
    "random.seed(1)\n",
    "np.random.seed(1)\n",
    "tf.random.set_seed(1)"
   ]
  },
  {
   "cell_type": "code",
   "execution_count": 91,
   "id": "8a0e28fd-3559-41e3-9b1a-eaaa24ed7262",
   "metadata": {},
   "outputs": [],
   "source": [
    "def plot_graph(X,Y,X_hat=None,Y_hat=None,str_title=None):\n",
    "    fig = plt.figure(figsize=(8,6))\n",
    "    \n",
    "    if str_title is not None :\n",
    "        plt.title(str_title,fontsize=20, pad=20)\n",
    "        \n",
    "    plt.plot(X,Y, ls='none', marker='o')\n",
    "    if X_hat is not None and Y_hat is not None:\n",
    "        plt.plot(X_hat, Y_hat)\n",
    "        \n",
    "    plt.tick_params(axis='both',labelsize=14)"
   ]
  },
  {
   "cell_type": "code",
   "execution_count": 92,
   "id": "e2ffb5d8",
   "metadata": {},
   "outputs": [
    {
     "name": "stdout",
     "output_type": "stream",
     "text": [
      "(40,)\n",
      "(40,)\n",
      "tf.Tensor(\n",
      "[1.8987797 4.5457516 3.383644  2.1203423 1.7753278 2.018879  3.087808\n",
      " 2.7967396 2.4418437 2.279456  2.3740077 2.284974  2.6516457 2.66353\n",
      " 3.1825757 4.1085954 4.279659  2.9785242 2.6803112 3.3733256 5.903088\n",
      " 4.411979  5.4369044 6.8365564 6.21176   5.0107136 4.735779  4.4627514\n",
      " 4.248066  5.5212245 4.948624  3.7568302 5.164639  4.4573326 6.509138\n",
      " 6.7362537 4.816311  6.173609  5.079377  4.4586973], shape=(40,), dtype=float32)\n",
      "tf.Tensor(\n",
      "[0. 0. 0. 0. 0. 0. 0. 0. 0. 0. 0. 0. 0. 0. 0. 0. 0. 0. 0. 0. 1. 1. 1. 1.\n",
      " 1. 1. 1. 1. 1. 1. 1. 1. 1. 1. 1. 1. 1. 1. 1. 1.], shape=(40,), dtype=float32)\n"
     ]
    }
   ],
   "source": [
    "x_0 = tf.random.normal([20], 3, 1) #tf.random.normal([4], 3, 1, tf.float32)\n",
    "y_0 = tf.zeros(20)\n",
    "x_1 = tf.random.normal([20], 5.5, 1)\n",
    "y_1 = tf.ones(20)\n",
    "\n",
    "x = tf.concat([x_0,x_1],0)\n",
    "y = tf.concat([y_0, y_1],0)\n",
    "\n",
    "print(x.shape)\n",
    "print(y.shape)\n",
    "print(x)\n",
    "print(y)"
   ]
  },
  {
   "cell_type": "code",
   "execution_count": 93,
   "id": "978f41ab",
   "metadata": {},
   "outputs": [],
   "source": [
    "def cross_entropy(x, y, w, b):\n",
    "    y_pred = tf.sigmoid(x*w+b)\n",
    "    return -tf.reduce_sum(y*tf.math.log(y_pred)+(1-y)*(tf.math.log(1-y_pred)))\n",
    "\n",
    "\n",
    "def cal_gradient(x, y, w, b):\n",
    "    b_gradient = 0\n",
    "    w_gradient = 0\n",
    "    N=tf.shape(x)[0]\n",
    "    for i in range(0, N):\n",
    "        x_i = x[i]\n",
    "        y_i = y[i]\n",
    "        y_pred=tf.sigmoid(x_i*w+b)\n",
    "        \n",
    "        dL_df1 = -(y_i-y_pred)/(y_pred*(1-y_pred))\n",
    "        dL_df2 = dL_df1*(y_pred*(1-y_pred))\n",
    "        \n",
    "        b_gradient += dL_df2   \n",
    "        w_gradient += dL_df2*x_i\n",
    "        \n",
    "    return [w_gradient, b_gradient]\n",
    "\n",
    "\n",
    "\n",
    "def apply_gradient(gradients, parameters, learning_rate):\n",
    "    [w_g, b_g] = gradients\n",
    "    [w, b] = parameters\n",
    "    w = w - learning_rate * w_g\n",
    "    b = b - learning_rate * b_g\n",
    "    return [w, b]\n",
    "\n",
    "def run_opt(x, y, w, b, learning_rate):\n",
    "    gradients = cal_gradient(x, y, w, b)\n",
    "    return apply_gradient(gradients, [w, b], learning_rate)\n",
    "\n"
   ]
  },
  {
   "cell_type": "code",
   "execution_count": 94,
   "id": "8419b828",
   "metadata": {},
   "outputs": [
    {
     "name": "stdout",
     "output_type": "stream",
     "text": [
      "step:  0 , loss:  36.695183 , w:  [-0.26500767] , b:  [1.7008125]\n",
      "step:  200 , loss:  15.902734 , w:  [0.7236111] , b:  [-2.5827227]\n",
      "step:  400 , loss:  11.78868 , w:  [1.1880534] , b:  [-4.5297217]\n",
      "step:  600 , loss:  10.208406 , w:  [1.4801341] , b:  [-5.745573]\n",
      "step:  800 , loss:  9.379108 , w:  [1.6921268] , b:  [-6.6286507]\n",
      "step:  1000 , loss:  8.869536 , w:  [1.8581486] , b:  [-7.3217077]\n",
      "step:  1200 , loss:  8.5255575 , w:  [1.994332] , b:  [-7.8915105]\n",
      "step:  1400 , loss:  8.278458 , w:  [2.109559] , b:  [-8.374664]\n",
      "step:  1600 , loss:  8.092948 , w:  [2.2092357] , b:  [-8.793422]\n",
      "step:  1800 , loss:  7.9490147 , w:  [2.296904] , b:  [-9.162363]\n"
     ]
    }
   ],
   "source": [
    "w = tf.Variable(tf.random_normal_initializer(stddev=1)([1]))\n",
    "b = tf.Variable(tf.random_normal_initializer(stddev=1)([1]))\n",
    "\n",
    "learning_rate = 0.005\n",
    "training_steps = 2000\n",
    "display_step = 200\n",
    "\n",
    "for step in range(training_steps):\n",
    "    [w_new, b_new] = run_opt(x, y, w, b, learning_rate)\n",
    "    w = w_new\n",
    "    b = b_new\n",
    "    \n",
    "    if step % display_step == 0:\n",
    "        loss = cross_entropy(x, y, w, b)\n",
    "        print(\"step: \", step, \", loss: \", loss.numpy(), \", w: \", w.numpy(), \", b: \", b.numpy()) "
   ]
  },
  {
   "cell_type": "code",
   "execution_count": 95,
   "id": "89bb9eec",
   "metadata": {},
   "outputs": [
    {
     "data": {
      "image/png": "[encoded data removed]",
      "text/plain": [
       "<Figure size 576x432 with 1 Axes>"
      ]
     },
     "metadata": {
      "needs_background": "light"
     },
     "output_type": "display_data"
    }
   ],
   "source": [
    "x_fl = np.linspace(np.min(x),np.max(x),100)\n",
    "plot_graph(x,y,x_fl, tf.sigmoid(w*x_fl+b), str_title=\"line with initial parameter\")"
   ]
  }
 ],
 "metadata": {
  "interpreter": {
   "hash": "d281ed6608e023101ec5d13e1eb99f1008ba56d8cb60d609e4438e9882c4ff30"
  },
  "kernelspec": {
   "display_name": "Python 3.10.4 64-bit",
   "language": "python",
   "name": "python3"
  },
  "language_info": {
   "codemirror_mode": {
    "name": "ipython",
    "version": 3
   },
   "file_extension": ".py",
   "mimetype": "text/x-python",
   "name": "python",
   "nbconvert_exporter": "python",
   "pygments_lexer": "ipython3",
   "version": "3.10.4"
  }
 },
 "nbformat": 4,
 "nbformat_minor": 5
}
