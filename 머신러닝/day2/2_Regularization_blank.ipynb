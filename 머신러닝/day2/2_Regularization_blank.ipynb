{
 "cells": [
  {
   "attachments": {},
   "cell_type": "markdown",
   "metadata": {},
   "source": [
    "# Lecture7; Regularization"
   ]
  },
  {
   "attachments": {},
   "cell_type": "markdown",
   "metadata": {},
   "source": [
    "### Library"
   ]
  },
  {
   "cell_type": "code",
   "execution_count": 1,
   "metadata": {},
   "outputs": [],
   "source": [
    "import tensorflow as tf\n",
    "from tensorflow.keras import Model, layers, regularizers, initializers\n",
    "import numpy as np\n",
    "from matplotlib import pyplot as plt\n",
    "import random\n",
    "\n",
    "random.seed(5)\n",
    "np.random.seed(5)\n",
    "tf.random.set_seed(5)"
   ]
  },
  {
   "attachments": {},
   "cell_type": "markdown",
   "metadata": {},
   "source": [
    "### Data processing"
   ]
  },
  {
   "cell_type": "code",
   "execution_count": 2,
   "metadata": {},
   "outputs": [],
   "source": [
    "(x_trainval, y_trainval), (x_test, y_test) = tf.keras.datasets.mnist.load_data()\n",
    "x_trainval, x_test = tf.cast(x_trainval, tf.float32), tf.cast(x_test, tf.float32)\n",
    "y_trainval, y_test = tf.cast(y_trainval, tf.float32), tf.cast(y_test, tf.float32)\n",
    "\n",
    "num_classes = 10\n",
    "num_features = 784\n",
    "\n",
    "x_trainval, x_test = tf.reshape(x_trainval,[-1, num_features]), tf.reshape(x_test, [-1, num_features])\n",
    "x_trainval, x_test = x_trainval / 255., x_test / 255."
   ]
  },
  {
   "cell_type": "code",
   "execution_count": 3,
   "metadata": {},
   "outputs": [
    {
     "name": "stdout",
     "output_type": "stream",
     "text": [
      "[9 5 2 4 7 1 0 8 6 3]\n",
      "tf.Tensor([9 5 2 4 7 1 0 8], shape=(8,), dtype=int32)\n",
      "tf.Tensor([9 5 2 4 7 1 0 8], shape=(8,), dtype=int32)\n",
      "tf.Tensor([6 3], shape=(2,), dtype=int32)\n",
      "tf.Tensor([6 3], shape=(2,), dtype=int32)\n"
     ]
    }
   ],
   "source": [
    "x = tf.constant([0, 1, 2, 3, 4, 5, 6, 7, 8, 9])\n",
    "y = tf.constant([0, 1, 2, 3, 4, 5, 6, 7, 8, 9])\n",
    "\n",
    "s = np.random.permutation(10)\n",
    "print(s)\n",
    "x_2 = tf.gather(x, s)\n",
    "y_2 = tf.gather(y, s)\n",
    "\n",
    "x_train = x_2[:8]\n",
    "y_train = y_2[:8]\n",
    "x_val = x_2[8:]\n",
    "y_val = y_2[8:]\n",
    "\n",
    "print(x_train)\n",
    "print(y_train)\n",
    "print(x_val)\n",
    "print(y_val)"
   ]
  },
  {
   "cell_type": "code",
   "execution_count": 4,
   "metadata": {},
   "outputs": [],
   "source": [
    "indices = np.random.permutation(x_trainval.shape[0])\n",
    "x_trainval = tf.gather(x_trainval, indices)\n",
    "y_trainval = tf.gather(y_trainval, indices)\n",
    "x_train = x_trainval[:50000] \n",
    "y_train = y_trainval[:50000]\n",
    "x_val = x_trainval[50000:] \n",
    "y_val = y_trainval[50000:]"
   ]
  },
  {
   "cell_type": "code",
   "execution_count": 5,
   "metadata": {},
   "outputs": [
    {
     "name": "stdout",
     "output_type": "stream",
     "text": [
      "(50000, 784)\n",
      "(10000, 784)\n",
      "(10000, 784)\n",
      "(50000,)\n",
      "(10000,)\n",
      "(10000,)\n"
     ]
    }
   ],
   "source": [
    "print(x_train.shape)\n",
    "print(x_val.shape)\n",
    "print(x_test.shape)\n",
    "\n",
    "print(y_train.shape)\n",
    "print(y_val.shape)\n",
    "print(y_test.shape)"
   ]
  },
  {
   "cell_type": "code",
   "execution_count": 6,
   "metadata": {},
   "outputs": [],
   "source": [
    "batch_size = 200\n",
    "train_data = tf.data.Dataset.from_tensor_slices((x_train, y_train))\n",
    "train_data = train_data.shuffle(50000).batch(batch_size).prefetch(1)"
   ]
  },
  {
   "attachments": {},
   "cell_type": "markdown",
   "metadata": {},
   "source": [
    "### Define functions for Training/Testing"
   ]
  },
  {
   "cell_type": "code",
   "execution_count": 7,
   "metadata": {},
   "outputs": [],
   "source": [
    "def cross_entropy_loss(x, y):\n",
    "    y = tf.cast(y, tf.int64)\n",
    "    loss = tf.nn.sparse_softmax_cross_entropy_with_logits(labels=y, logits=x)\n",
    "    return tf.reduce_mean(loss)\n",
    "\n",
    "def accuracy(y_pred, y_true):\n",
    "    correct_prediction = tf.equal(tf.argmax(y_pred, 1), tf.cast(y_true, tf.int64))\n",
    "    return tf.reduce_mean(tf.cast(correct_prediction, tf.float32)).numpy()\n",
    "    \n",
    "def Train_model(model, lr, epo, print_loss=True, plot_graph=True):\n",
    "    step_l = []\n",
    "    loss_l = []\n",
    "    \n",
    "    optimizer = tf.optimizers.SGD(lr, momentum=0.9)\n",
    "    \n",
    "    for epoch in range(1,epo+1):\n",
    "        for step, (batch_x, batch_y) in enumerate(train_data, 1):\n",
    "            with tf.GradientTape() as g:\n",
    "                pred = model(batch_x, is_training=True)\n",
    "                loss = cross_entropy_loss(pred, batch_y)\n",
    "\n",
    "            trainable_variables = model.trainable_variables\n",
    "            gradients = g.gradient(loss, trainable_variables)\n",
    "            optimizer.apply_gradients(zip(gradients, trainable_variables))\n",
    "            \n",
    "            if plot_graph:\n",
    "                if step % 50 == 0:\n",
    "                    step_l.append((epoch-1)*300 + step)\n",
    "                    loss_l.append(loss.numpy())\n",
    "        if print_loss:\n",
    "            acc = accuracy(model(x_test), y_test)\n",
    "            print(\"epoch: \", epoch, \", loss: \", loss.numpy(), \"acc: \", acc)\n",
    "    \n",
    "    if plot_graph:\n",
    "        plt.plot(step_l, loss_l)\n",
    "    return model"
   ]
  },
  {
   "cell_type": "code",
   "execution_count": 8,
   "metadata": {},
   "outputs": [],
   "source": [
    "class NeuralNet(Model): # Regularization skill을 추가하지 않은 기본 뉴럴네트워크 구조\n",
    "    def __init__(self):\n",
    "        super(NeuralNet, self).__init__()\n",
    "        \n",
    "        \"\"\"\n",
    "        code\n",
    "        \"\"\"\n",
    "\n",
    "    def call(self, x, is_training=False):\n",
    "        pass\n",
    "        \"\"\"\n",
    "        code\n",
    "        \"\"\""
   ]
  },
  {
   "attachments": {},
   "cell_type": "markdown",
   "metadata": {},
   "source": [
    "## Early stopping"
   ]
  },
  {
   "cell_type": "code",
   "execution_count": 9,
   "metadata": {},
   "outputs": [],
   "source": [
    "import sys\n",
    "import copy\n",
    "\n",
    "val_data = tf.data.Dataset.from_tensor_slices((x_val, y_val))\n",
    "val_data = val_data.shuffle(10000).batch(batch_size).prefetch(1)\n",
    "\n",
    "def early_stopping(model, lr):\n",
    "    el = []\n",
    "    vll = []\n",
    "    \n",
    "    p = 5 #patience\n",
    "    i = 0\n",
    "    j = 0\n",
    "    v = sys.float_info.max  # 강의자료의 알고리즘에서는 무한대 값을 넣으라고 돼있음. 컴퓨터에서는 무한값을 넣지 못하므로\n",
    "                            # float형 데이터가 가질 수 있는 가장 큰 값 집어넣어줌\n",
    "#     v = 100 # 이렇게 코딩해도 무방.. error를 accuracy(%)로 계산하고 있으므로, 사실 100이면 제일 큰 값이다.\n",
    "    model_s = copy.deepcopy(model) # theta_star 대신, 파라미터를 포함하고 있는 모델 째로 복사해줬음\n",
    "                                   # model_s = model이라고 적어주면, model과 똑같은 정보를 담고 있는 model_s가 새로 생기는게 아니라,\n",
    "                                   # 그냥 model이라는 인스턴스에 model_s라는 이름이 하나 더 생기는 것처럼 돼서, (보다 정확한 설명은 'python class 복사' 등의 키워드로 검색해보시길 권장드립니다!)\n",
    "                                   # 의도와는 다르게 model이 가진 인수의 값이 변하면 model_s도 따라서 바뀌게 된다.\n",
    "                                   # 때문에 deepcopy를 통해 현재 model이 가지고 있는 정보는 그대로 담고 있되, 따로따로 취급되는 새로운 인스턴스를 만들어준 것\n",
    "                                   # 즉, 이렇게 정의해야 model의 값이 변해도 model_s의 값은 유지된다.\n",
    "    i_s = i #i_star\n",
    "    \n",
    "    while j < p : # j는 가장 작은 error가 갱신된 이후, 그보다 더 작은 에러가 나오지 않은 epoch 수를 센다. 이 횟수가 미리 정해둔 patience 값과 같게 되면 학습 중단하고, 가장 작은 error 보였던 모델 사용\n",
    "        Train_model(model, lr, 1, print_loss=False, plot_graph=False) \n",
    "\n",
    "        acc = accuracy(model(x_val), y_val) * 100. # validation data를 이용해 현재의 accuracy 측정, *100 을 해서 (%)단위로 볼 수 있게 계산\n",
    "        tmp_v = 100. - acc # v'\n",
    "        i += 1\n",
    "        print(\"epoch reached \", i, \": current_val_error = \", tmp_v, \"(%) / smallest_error = \", v, \"(%)\") #epoch마다 현재 error 정보 출력\n",
    "        el.append(i) # 그래프 출력을 위한 정보 담기\n",
    "        vll.append(tmp_v) # 그래프 출력을 위한 정보 담기 2\n",
    "                               \n",
    "        if tmp_v < v : # 가장 작은 에러값이 갱신 되었을 때\n",
    "            j = 0                          # j는 0으로 리셋된다. 이 때부터 다시 가장 작은 에러가 갱신되지 않은 횟수 카운트 시작\n",
    "            model_s = copy.deepcopy(model) # 제일 좋은 모델(model_s)은 현재의 모델로 대체\n",
    "            i_s = i                        # best_epoch(i_s)도 현재의 epoch으로 대체\n",
    "            v = tmp_v                      # 가장 작은 에러값을 담아놓는 변수에 현재 에러값 넣어줌\n",
    "        else : # 현재 에러 값(tmp_v)이 가장 작은 에러(v)보다 크지 않을 때\n",
    "            j += 1                         # j의 값을 1 늘림, 이 값이 p(patience)와 같아지면 학습 중단\n",
    "    \n",
    "    # 학습이 중단되고 나면,\n",
    "    plt.plot(el, vll) # 그래프 출력\n",
    "    print(\"best_epoch =\", i_s) # i_s에 저장된 값 best_epoch으로 출력\n",
    "    return model_s, i_s # 가장 좋은 epoch 값과 가장 좋은 모델 리턴(바로 테스트에 사용가능)"
   ]
  },
  {
   "cell_type": "code",
   "execution_count": 10,
   "metadata": {},
   "outputs": [
    {
     "name": "stdout",
     "output_type": "stream",
     "text": [
      "epoch reached  1 : current_val_error =  5.879998207092285 (%) / smallest_error =  1.7976931348623157e+308 (%)\n",
      "epoch reached  2 : current_val_error =  4.490000009536743 (%) / smallest_error =  5.879998207092285 (%)\n",
      "epoch reached  3 : current_val_error =  3.6800026893615723 (%) / smallest_error =  4.490000009536743 (%)\n",
      "epoch reached  4 : current_val_error =  3.2599985599517822 (%) / smallest_error =  3.6800026893615723 (%)\n",
      "epoch reached  5 : current_val_error =  3.0600011348724365 (%) / smallest_error =  3.2599985599517822 (%)\n",
      "epoch reached  6 : current_val_error =  2.920001745223999 (%) / smallest_error =  3.0600011348724365 (%)\n",
      "epoch reached  7 : current_val_error =  2.8100013732910156 (%) / smallest_error =  2.920001745223999 (%)\n",
      "epoch reached  8 : current_val_error =  2.6600003242492676 (%) / smallest_error =  2.8100013732910156 (%)\n",
      "epoch reached  9 : current_val_error =  2.590000629425049 (%) / smallest_error =  2.6600003242492676 (%)\n",
      "epoch reached  10 : current_val_error =  2.6000022888183594 (%) / smallest_error =  2.590000629425049 (%)\n",
      "epoch reached  11 : current_val_error =  2.6300013065338135 (%) / smallest_error =  2.590000629425049 (%)\n",
      "epoch reached  12 : current_val_error =  2.6300013065338135 (%) / smallest_error =  2.590000629425049 (%)\n",
      "epoch reached  13 : current_val_error =  2.499997615814209 (%) / smallest_error =  2.590000629425049 (%)\n",
      "epoch reached  14 : current_val_error =  2.5399982929229736 (%) / smallest_error =  2.499997615814209 (%)\n",
      "epoch reached  15 : current_val_error =  2.499997615814209 (%) / smallest_error =  2.499997615814209 (%)\n",
      "epoch reached  16 : current_val_error =  2.469998598098755 (%) / smallest_error =  2.499997615814209 (%)\n",
      "epoch reached  17 : current_val_error =  2.4500012397766113 (%) / smallest_error =  2.469998598098755 (%)\n",
      "epoch reached  18 : current_val_error =  2.469998598098755 (%) / smallest_error =  2.4500012397766113 (%)\n",
      "epoch reached  19 : current_val_error =  2.369999885559082 (%) / smallest_error =  2.4500012397766113 (%)\n",
      "epoch reached  20 : current_val_error =  2.3299992084503174 (%) / smallest_error =  2.369999885559082 (%)\n",
      "epoch reached  21 : current_val_error =  2.5099992752075195 (%) / smallest_error =  2.3299992084503174 (%)\n",
      "epoch reached  22 : current_val_error =  2.439999580383301 (%) / smallest_error =  2.3299992084503174 (%)\n",
      "epoch reached  23 : current_val_error =  2.5099992752075195 (%) / smallest_error =  2.3299992084503174 (%)\n",
      "epoch reached  24 : current_val_error =  2.4299979209899902 (%) / smallest_error =  2.3299992084503174 (%)\n",
      "epoch reached  25 : current_val_error =  2.340000867843628 (%) / smallest_error =  2.3299992084503174 (%)\n",
      "best_epoch = 20\n"
     ]
    },
    {
     "data": {
      "image/png": "[encoded data removed]",
      "text/plain": [
       "<Figure size 432x288 with 1 Axes>"
      ]
     },
     "metadata": {
      "needs_background": "light"
     },
     "output_type": "display_data"
    }
   ],
   "source": [
    "neural_net = NeuralNet()\n",
    "neural_net, best_epoch = early_stopping(neural_net, 0.01)"
   ]
  },
  {
   "cell_type": "code",
   "execution_count": 11,
   "metadata": {},
   "outputs": [
    {
     "name": "stdout",
     "output_type": "stream",
     "text": [
      "test accuracy = 0.9779\n"
     ]
    }
   ],
   "source": [
    "n_acc = accuracy(neural_net(x_test), y_test)\n",
    "print(\"test accuracy =\", n_acc) # 기본 성능, 앞으로 Regularization skill을 적용했을 때 이 부분의 성능과 비교해볼 것"
   ]
  },
  {
   "attachments": {},
   "cell_type": "markdown",
   "metadata": {},
   "source": [
    "## Regularization\n",
    "### weight decay"
   ]
  },
  {
   "attachments": {},
   "cell_type": "markdown",
   "metadata": {},
   "source": [
    "regularizer 종류 : https://www.tensorflow.org/api_docs/python/tf/keras/regularizers"
   ]
  },
  {
   "cell_type": "code",
   "execution_count": 12,
   "metadata": {},
   "outputs": [],
   "source": [
    "class WD_NeuralNet(Model):\n",
    "    def __init__(self):\n",
    "        super(WD_NeuralNet, self).__init__()\n",
    "        self.fc1 = layers.Dense(128, kernel_initializer = initializers.GlorotNormal(), kernel_regularizer=\"\"\"fill here\"\"\")\n",
    "        self.bn1 = layers.BatchNormalization()\n",
    "        self.ac1 = layers.Activation(tf.nn.relu)\n",
    "        self.fc2 = layers.Dense(256, kernel_initializer = initializers.GlorotNormal(), kernel_regularizer=\"\"\"fill here\"\"\")\n",
    "        self.bn2 = layers.BatchNormalization()\n",
    "        self.ac2 = layers.Activation(tf.nn.relu)\n",
    "        self.out = layers.Dense(num_classes, kernel_initializer = initializers.GlorotNormal(), kernel_regularizer=\"\"\"fill here\"\"\")\n",
    "\n",
    "    def call(self, x, is_training=False):\n",
    "        x = self.fc1(x)\n",
    "        x = self.bn1(x, training=is_training)\n",
    "        x = self.ac1(x)\n",
    "        x = self.fc2(x)\n",
    "        x = self.bn2(x, training=is_training)\n",
    "        x = self.ac2(x)\n",
    "        x = self.out(x)\n",
    "        if not is_training:\n",
    "            x = tf.nn.softmax(x)\n",
    "        return x"
   ]
  },
  {
   "cell_type": "code",
   "execution_count": 13,
   "metadata": {},
   "outputs": [
    {
     "name": "stdout",
     "output_type": "stream",
     "text": [
      "epoch reached  1 : current_val_error =  5.669999122619629 (%) / smallest_error =  1.7976931348623157e+308 (%)\n",
      "epoch reached  2 : current_val_error =  3.8999974727630615 (%) / smallest_error =  5.669999122619629 (%)\n",
      "epoch reached  3 : current_val_error =  3.609997034072876 (%) / smallest_error =  3.8999974727630615 (%)\n",
      "epoch reached  4 : current_val_error =  2.9799997806549072 (%) / smallest_error =  3.609997034072876 (%)\n",
      "epoch reached  5 : current_val_error =  3.0300021171569824 (%) / smallest_error =  2.9799997806549072 (%)\n",
      "epoch reached  6 : current_val_error =  2.679997682571411 (%) / smallest_error =  2.9799997806549072 (%)\n",
      "epoch reached  7 : current_val_error =  2.6899993419647217 (%) / smallest_error =  2.679997682571411 (%)\n",
      "epoch reached  8 : current_val_error =  2.439999580383301 (%) / smallest_error =  2.679997682571411 (%)\n",
      "epoch reached  9 : current_val_error =  2.549999952316284 (%) / smallest_error =  2.439999580383301 (%)\n",
      "epoch reached  10 : current_val_error =  2.5399982929229736 (%) / smallest_error =  2.439999580383301 (%)\n",
      "epoch reached  11 : current_val_error =  2.3599982261657715 (%) / smallest_error =  2.439999580383301 (%)\n",
      "epoch reached  12 : current_val_error =  2.4500012397766113 (%) / smallest_error =  2.3599982261657715 (%)\n",
      "epoch reached  13 : current_val_error =  2.369999885559082 (%) / smallest_error =  2.3599982261657715 (%)\n",
      "epoch reached  14 : current_val_error =  2.3599982261657715 (%) / smallest_error =  2.3599982261657715 (%)\n",
      "epoch reached  15 : current_val_error =  2.310001850128174 (%) / smallest_error =  2.3599982261657715 (%)\n",
      "epoch reached  16 : current_val_error =  2.340000867843628 (%) / smallest_error =  2.310001850128174 (%)\n",
      "epoch reached  17 : current_val_error =  2.340000867843628 (%) / smallest_error =  2.310001850128174 (%)\n",
      "epoch reached  18 : current_val_error =  2.2899985313415527 (%) / smallest_error =  2.310001850128174 (%)\n",
      "epoch reached  19 : current_val_error =  2.310001850128174 (%) / smallest_error =  2.2899985313415527 (%)\n",
      "epoch reached  20 : current_val_error =  2.319997549057007 (%) / smallest_error =  2.2899985313415527 (%)\n",
      "epoch reached  21 : current_val_error =  2.3000001907348633 (%) / smallest_error =  2.2899985313415527 (%)\n",
      "epoch reached  22 : current_val_error =  2.2899985313415527 (%) / smallest_error =  2.2899985313415527 (%)\n",
      "epoch reached  23 : current_val_error =  2.1799981594085693 (%) / smallest_error =  2.2899985313415527 (%)\n",
      "epoch reached  24 : current_val_error =  2.319997549057007 (%) / smallest_error =  2.1799981594085693 (%)\n",
      "epoch reached  25 : current_val_error =  2.319997549057007 (%) / smallest_error =  2.1799981594085693 (%)\n",
      "epoch reached  26 : current_val_error =  2.2800028324127197 (%) / smallest_error =  2.1799981594085693 (%)\n",
      "epoch reached  27 : current_val_error =  2.2300004959106445 (%) / smallest_error =  2.1799981594085693 (%)\n",
      "epoch reached  28 : current_val_error =  2.2599995136260986 (%) / smallest_error =  2.1799981594085693 (%)\n",
      "best_epoch = 23\n"
     ]
    },
    {
     "data": {
      "image/png": "[encoded data removed]",
      "text/plain": [
       "<Figure size 432x288 with 1 Axes>"
      ]
     },
     "metadata": {
      "needs_background": "light"
     },
     "output_type": "display_data"
    }
   ],
   "source": [
    "wd_nn = WD_NeuralNet()\n",
    "wd_nn, wd_best_epoch = early_stopping(wd_nn, 0.01)"
   ]
  },
  {
   "cell_type": "code",
   "execution_count": 14,
   "metadata": {},
   "outputs": [
    {
     "name": "stdout",
     "output_type": "stream",
     "text": [
      "test accuracy = 0.9774\n"
     ]
    }
   ],
   "source": [
    "wd_acc = accuracy(wd_nn(x_test), y_test)\n",
    "print(\"test accuracy =\", wd_acc)"
   ]
  },
  {
   "attachments": {},
   "cell_type": "markdown",
   "metadata": {},
   "source": [
    "### drop out "
   ]
  },
  {
   "cell_type": "code",
   "execution_count": 15,
   "metadata": {},
   "outputs": [],
   "source": [
    "class DO_NeuralNet(Model):\n",
    "    def __init__(self):\n",
    "        super(DO_NeuralNet, self).__init__()\n",
    "        self.fc1 = layers.Dense(128, kernel_initializer = initializers.GlorotNormal())\n",
    "        self.bn1 = layers.BatchNormalization()\n",
    "        self.ac1 = layers.Activation(tf.nn.relu)\n",
    "        self.do1 = \"\"\"fill here\"\"\"\n",
    "        self.fc2 = layers.Dense(256, kernel_initializer = initializers.GlorotNormal())\n",
    "        self.bn2 = layers.BatchNormalization()\n",
    "        self.ac2 = layers.Activation(tf.nn.relu)\n",
    "        self.do2 = \"\"\"fill here\"\"\"\n",
    "        self.out = layers.Dense(num_classes, kernel_initializer = initializers.GlorotNormal())\n",
    "\n",
    "    def call(self, x, is_training=False):\n",
    "        x = self.fc1(x)\n",
    "        x = self.bn1(x, training=is_training)\n",
    "        x = self.ac1(x)\n",
    "        x = self.do1(x, training=is_training)\n",
    "        x = self.fc2(x)\n",
    "        x = self.bn2(x, training=is_training)\n",
    "        x = self.ac2(x)\n",
    "        x = self.do2(x, training=is_training)\n",
    "        x = self.out(x)\n",
    "        if not is_training:\n",
    "            x = tf.nn.softmax(x)\n",
    "        return x"
   ]
  },
  {
   "cell_type": "code",
   "execution_count": 16,
   "metadata": {
    "tags": []
   },
   "outputs": [
    {
     "name": "stdout",
     "output_type": "stream",
     "text": [
      "epoch reached  1 : current_val_error =  8.639997243881226 (%) / smallest_error =  1.7976931348623157e+308 (%)\n",
      "epoch reached  2 : current_val_error =  7.039999961853027 (%) / smallest_error =  8.639997243881226 (%)\n",
      "epoch reached  3 : current_val_error =  6.349998712539673 (%) / smallest_error =  7.039999961853027 (%)\n",
      "epoch reached  4 : current_val_error =  5.669999122619629 (%) / smallest_error =  6.349998712539673 (%)\n",
      "epoch reached  5 : current_val_error =  4.919999837875366 (%) / smallest_error =  5.669999122619629 (%)\n",
      "epoch reached  6 : current_val_error =  4.7299981117248535 (%) / smallest_error =  4.919999837875366 (%)\n",
      "epoch reached  7 : current_val_error =  4.559999704360962 (%) / smallest_error =  4.7299981117248535 (%)\n",
      "epoch reached  8 : current_val_error =  4.400002956390381 (%) / smallest_error =  4.559999704360962 (%)\n",
      "epoch reached  9 : current_val_error =  4.2900025844573975 (%) / smallest_error =  4.400002956390381 (%)\n",
      "epoch reached  10 : current_val_error =  3.8699984550476074 (%) / smallest_error =  4.2900025844573975 (%)\n",
      "epoch reached  11 : current_val_error =  4.009997844696045 (%) / smallest_error =  3.8699984550476074 (%)\n",
      "epoch reached  12 : current_val_error =  3.6199986934661865 (%) / smallest_error =  3.8699984550476074 (%)\n",
      "epoch reached  13 : current_val_error =  3.5899996757507324 (%) / smallest_error =  3.6199986934661865 (%)\n",
      "epoch reached  14 : current_val_error =  3.420001268386841 (%) / smallest_error =  3.5899996757507324 (%)\n",
      "epoch reached  15 : current_val_error =  3.5600006580352783 (%) / smallest_error =  3.420001268386841 (%)\n",
      "epoch reached  16 : current_val_error =  3.2700002193450928 (%) / smallest_error =  3.420001268386841 (%)\n",
      "epoch reached  17 : current_val_error =  3.320002555847168 (%) / smallest_error =  3.2700002193450928 (%)\n",
      "epoch reached  18 : current_val_error =  3.17000150680542 (%) / smallest_error =  3.2700002193450928 (%)\n",
      "epoch reached  19 : current_val_error =  3.0399978160858154 (%) / smallest_error =  3.17000150680542 (%)\n",
      "epoch reached  20 : current_val_error =  3.1300008296966553 (%) / smallest_error =  3.0399978160858154 (%)\n",
      "epoch reached  21 : current_val_error =  3.07999849319458 (%) / smallest_error =  3.0399978160858154 (%)\n",
      "epoch reached  22 : current_val_error =  3.0099987983703613 (%) / smallest_error =  3.0399978160858154 (%)\n",
      "epoch reached  23 : current_val_error =  3.020000457763672 (%) / smallest_error =  3.0099987983703613 (%)\n",
      "epoch reached  24 : current_val_error =  2.8800010681152344 (%) / smallest_error =  3.0099987983703613 (%)\n",
      "epoch reached  25 : current_val_error =  2.890002727508545 (%) / smallest_error =  2.8800010681152344 (%)\n",
      "epoch reached  26 : current_val_error =  2.9900014400482178 (%) / smallest_error =  2.8800010681152344 (%)\n",
      "epoch reached  27 : current_val_error =  2.7599990367889404 (%) / smallest_error =  2.8800010681152344 (%)\n",
      "epoch reached  28 : current_val_error =  2.899998426437378 (%) / smallest_error =  2.7599990367889404 (%)\n",
      "epoch reached  29 : current_val_error =  2.8800010681152344 (%) / smallest_error =  2.7599990367889404 (%)\n",
      "epoch reached  30 : current_val_error =  2.7800023555755615 (%) / smallest_error =  2.7599990367889404 (%)\n",
      "epoch reached  31 : current_val_error =  2.770000696182251 (%) / smallest_error =  2.7599990367889404 (%)\n",
      "epoch reached  32 : current_val_error =  2.679997682571411 (%) / smallest_error =  2.7599990367889404 (%)\n",
      "epoch reached  33 : current_val_error =  2.670001983642578 (%) / smallest_error =  2.679997682571411 (%)\n",
      "epoch reached  34 : current_val_error =  2.7000010013580322 (%) / smallest_error =  2.670001983642578 (%)\n",
      "epoch reached  35 : current_val_error =  2.740001678466797 (%) / smallest_error =  2.670001983642578 (%)\n",
      "epoch reached  36 : current_val_error =  2.7100026607513428 (%) / smallest_error =  2.670001983642578 (%)\n",
      "epoch reached  37 : current_val_error =  2.590000629425049 (%) / smallest_error =  2.670001983642578 (%)\n",
      "epoch reached  38 : current_val_error =  2.7100026607513428 (%) / smallest_error =  2.590000629425049 (%)\n",
      "epoch reached  39 : current_val_error =  2.5600016117095947 (%) / smallest_error =  2.590000629425049 (%)\n",
      "epoch reached  40 : current_val_error =  2.5799989700317383 (%) / smallest_error =  2.5600016117095947 (%)\n",
      "epoch reached  41 : current_val_error =  2.619999647140503 (%) / smallest_error =  2.5600016117095947 (%)\n",
      "epoch reached  42 : current_val_error =  2.590000629425049 (%) / smallest_error =  2.5600016117095947 (%)\n",
      "epoch reached  43 : current_val_error =  2.5600016117095947 (%) / smallest_error =  2.5600016117095947 (%)\n",
      "epoch reached  44 : current_val_error =  2.460002899169922 (%) / smallest_error =  2.5600016117095947 (%)\n",
      "epoch reached  45 : current_val_error =  2.4800002574920654 (%) / smallest_error =  2.460002899169922 (%)\n",
      "epoch reached  46 : current_val_error =  2.52000093460083 (%) / smallest_error =  2.460002899169922 (%)\n",
      "epoch reached  47 : current_val_error =  2.619999647140503 (%) / smallest_error =  2.460002899169922 (%)\n",
      "epoch reached  48 : current_val_error =  2.4100005626678467 (%) / smallest_error =  2.460002899169922 (%)\n",
      "epoch reached  49 : current_val_error =  2.4800002574920654 (%) / smallest_error =  2.4100005626678467 (%)\n",
      "epoch reached  50 : current_val_error =  2.460002899169922 (%) / smallest_error =  2.4100005626678467 (%)\n",
      "epoch reached  51 : current_val_error =  2.399998903274536 (%) / smallest_error =  2.4100005626678467 (%)\n",
      "epoch reached  52 : current_val_error =  2.460002899169922 (%) / smallest_error =  2.399998903274536 (%)\n",
      "epoch reached  53 : current_val_error =  2.439999580383301 (%) / smallest_error =  2.399998903274536 (%)\n",
      "epoch reached  54 : current_val_error =  2.3899972438812256 (%) / smallest_error =  2.399998903274536 (%)\n",
      "epoch reached  55 : current_val_error =  2.490001916885376 (%) / smallest_error =  2.3899972438812256 (%)\n",
      "epoch reached  56 : current_val_error =  2.4200022220611572 (%) / smallest_error =  2.3899972438812256 (%)\n",
      "epoch reached  57 : current_val_error =  2.52000093460083 (%) / smallest_error =  2.3899972438812256 (%)\n",
      "epoch reached  58 : current_val_error =  2.52000093460083 (%) / smallest_error =  2.3899972438812256 (%)\n",
      "epoch reached  59 : current_val_error =  2.439999580383301 (%) / smallest_error =  2.3899972438812256 (%)\n",
      "best_epoch = 54\n"
     ]
    },
    {
     "data": {
      "image/png": "[encoded data removed]",
      "text/plain": [
       "<Figure size 432x288 with 1 Axes>"
      ]
     },
     "metadata": {
      "needs_background": "light"
     },
     "output_type": "display_data"
    }
   ],
   "source": [
    "do_nn = DO_NeuralNet()\n",
    "do_nn, do_best_epoch = early_stopping(do_nn, 0.01)"
   ]
  },
  {
   "cell_type": "code",
   "execution_count": 17,
   "metadata": {},
   "outputs": [
    {
     "name": "stdout",
     "output_type": "stream",
     "text": [
      "test accuracy = 0.976\n"
     ]
    }
   ],
   "source": [
    "do_acc = accuracy(do_nn(x_test), y_test)\n",
    "print(\"test accuracy =\", do_acc)"
   ]
  },
  {
   "cell_type": "code",
   "execution_count": 18,
   "metadata": {},
   "outputs": [],
   "source": [
    "# Create TF Model.\n",
    "class DOwoBN_NeuralNet(Model):\n",
    "    # Set layers.\n",
    "    def __init__(self):\n",
    "        super(DOwoBN_NeuralNet, self).__init__()\n",
    "        self.fc1 = layers.Dense(128, kernel_regularizer=regularizers.l2(0.01), activation=tf.nn.relu, kernel_initializer = initializers.GlorotNormal())\n",
    "        self.do1 = layers.Dropout(rate=0.5)\n",
    "        self.fc2 = layers.Dense(256, kernel_regularizer=regularizers.l2(0.01), activation=tf.nn.relu, kernel_initializer = initializers.GlorotNormal())\n",
    "        self.do2 = layers.Dropout(rate=0.5)\n",
    "        self.out = layers.Dense(num_classes, kernel_initializer = initializers.he_normal())\n",
    "\n",
    "    def call(self, x, is_training=False):\n",
    "        x = self.fc1(x)\n",
    "        x = self.do1(x, training=is_training)\n",
    "        x = self.fc2(x)\n",
    "        x = self.do2(x, training=is_training)\n",
    "        x = self.out(x)\n",
    "        if not is_training:\n",
    "            x = tf.nn.softmax(x)\n",
    "        return x"
   ]
  },
  {
   "cell_type": "code",
   "execution_count": 19,
   "metadata": {},
   "outputs": [
    {
     "name": "stdout",
     "output_type": "stream",
     "text": [
      "epoch reached  1 : current_val_error =  10.850000381469727 (%) / smallest_error =  1.7976931348623157e+308 (%)\n",
      "epoch reached  2 : current_val_error =  8.499997854232788 (%) / smallest_error =  10.850000381469727 (%)\n",
      "epoch reached  3 : current_val_error =  7.319998741149902 (%) / smallest_error =  8.499997854232788 (%)\n",
      "epoch reached  4 : current_val_error =  6.639999151229858 (%) / smallest_error =  7.319998741149902 (%)\n",
      "epoch reached  5 : current_val_error =  5.91999888420105 (%) / smallest_error =  6.639999151229858 (%)\n",
      "epoch reached  6 : current_val_error =  5.419999361038208 (%) / smallest_error =  5.91999888420105 (%)\n",
      "epoch reached  7 : current_val_error =  5.010002851486206 (%) / smallest_error =  5.419999361038208 (%)\n",
      "epoch reached  8 : current_val_error =  4.680001735687256 (%) / smallest_error =  5.010002851486206 (%)\n",
      "epoch reached  9 : current_val_error =  4.610002040863037 (%) / smallest_error =  4.680001735687256 (%)\n",
      "epoch reached  10 : current_val_error =  4.309999942779541 (%) / smallest_error =  4.610002040863037 (%)\n",
      "epoch reached  11 : current_val_error =  4.100000858306885 (%) / smallest_error =  4.309999942779541 (%)\n",
      "epoch reached  12 : current_val_error =  4.140001535415649 (%) / smallest_error =  4.100000858306885 (%)\n",
      "epoch reached  13 : current_val_error =  3.979998826980591 (%) / smallest_error =  4.100000858306885 (%)\n",
      "epoch reached  14 : current_val_error =  3.6899983882904053 (%) / smallest_error =  3.979998826980591 (%)\n",
      "epoch reached  15 : current_val_error =  3.780001401901245 (%) / smallest_error =  3.6899983882904053 (%)\n",
      "epoch reached  16 : current_val_error =  3.530001640319824 (%) / smallest_error =  3.6899983882904053 (%)\n",
      "epoch reached  17 : current_val_error =  3.570002317428589 (%) / smallest_error =  3.530001640319824 (%)\n",
      "epoch reached  18 : current_val_error =  3.6700010299682617 (%) / smallest_error =  3.530001640319824 (%)\n",
      "epoch reached  19 : current_val_error =  3.380000591278076 (%) / smallest_error =  3.530001640319824 (%)\n",
      "epoch reached  20 : current_val_error =  3.359997272491455 (%) / smallest_error =  3.380000591278076 (%)\n",
      "epoch reached  21 : current_val_error =  3.299999237060547 (%) / smallest_error =  3.359997272491455 (%)\n",
      "epoch reached  22 : current_val_error =  3.2899975776672363 (%) / smallest_error =  3.299999237060547 (%)\n",
      "epoch reached  23 : current_val_error =  3.1599998474121094 (%) / smallest_error =  3.2899975776672363 (%)\n",
      "epoch reached  24 : current_val_error =  3.1599998474121094 (%) / smallest_error =  3.1599998474121094 (%)\n",
      "epoch reached  25 : current_val_error =  3.200000524520874 (%) / smallest_error =  3.1599998474121094 (%)\n",
      "epoch reached  26 : current_val_error =  2.9900014400482178 (%) / smallest_error =  3.1599998474121094 (%)\n",
      "epoch reached  27 : current_val_error =  3.0600011348724365 (%) / smallest_error =  2.9900014400482178 (%)\n",
      "epoch reached  28 : current_val_error =  3.0099987983703613 (%) / smallest_error =  2.9900014400482178 (%)\n",
      "epoch reached  29 : current_val_error =  3.049999475479126 (%) / smallest_error =  2.9900014400482178 (%)\n",
      "epoch reached  30 : current_val_error =  2.9799997806549072 (%) / smallest_error =  2.9900014400482178 (%)\n",
      "epoch reached  31 : current_val_error =  2.7899980545043945 (%) / smallest_error =  2.9799997806549072 (%)\n",
      "epoch reached  32 : current_val_error =  2.9699981212615967 (%) / smallest_error =  2.7899980545043945 (%)\n",
      "epoch reached  33 : current_val_error =  2.999997138977051 (%) / smallest_error =  2.7899980545043945 (%)\n",
      "epoch reached  34 : current_val_error =  2.8500020503997803 (%) / smallest_error =  2.7899980545043945 (%)\n",
      "epoch reached  35 : current_val_error =  2.8400003910064697 (%) / smallest_error =  2.7899980545043945 (%)\n",
      "epoch reached  36 : current_val_error =  2.920001745223999 (%) / smallest_error =  2.7899980545043945 (%)\n",
      "best_epoch = 31\n"
     ]
    },
    {
     "data": {
      "image/png": "[encoded data removed]",
      "text/plain": [
       "<Figure size 432x288 with 1 Axes>"
      ]
     },
     "metadata": {
      "needs_background": "light"
     },
     "output_type": "display_data"
    }
   ],
   "source": [
    "dowobn_nn = DOwoBN_NeuralNet()\n",
    "dowobn_nn, dowobn_best_epoch = early_stopping(dowobn_nn, 0.01)"
   ]
  },
  {
   "cell_type": "code",
   "execution_count": 20,
   "metadata": {},
   "outputs": [
    {
     "name": "stdout",
     "output_type": "stream",
     "text": [
      "test accuracy = 0.9728\n"
     ]
    }
   ],
   "source": [
    "dowobn_acc = accuracy(dowobn_nn(x_test), y_test)\n",
    "print(\"test accuracy =\", dowobn_acc)"
   ]
  },
  {
   "attachments": {},
   "cell_type": "markdown",
   "metadata": {},
   "source": [
    "### model Ensembles"
   ]
  },
  {
   "cell_type": "code",
   "execution_count": 21,
   "metadata": {},
   "outputs": [
    {
     "name": "stdout",
     "output_type": "stream",
     "text": [
      "0.9815\n"
     ]
    }
   ],
   "source": [
    "pred = (neural_net(x_test, is_training=False) + wd_nn(x_test, is_training=False) + do_nn(x_test, is_training=False))/3\n",
    "ensem_acc = accuracy(pred, y_test)\n",
    "\n",
    "print(ensem_acc)"
   ]
  },
  {
   "cell_type": "code",
   "execution_count": 22,
   "metadata": {},
   "outputs": [
    {
     "name": "stdout",
     "output_type": "stream",
     "text": [
      "0.9779\n",
      "0.9774\n",
      "0.976\n",
      "0.9728\n",
      "0.9815\n"
     ]
    }
   ],
   "source": [
    "## 최종 결과 종합 비교  ##어떤 스킬이 주로 성능향상 효과를 보이는 경향이 있다고 해도 항상 동일하게 그 성능 향상 효과를 관측하기는 어려울 수 있음\n",
    "print(n_acc) # 기본 뉴럴네트워크의 정확도\n",
    "print(wd_acc) # 기본 뉴럴네트워크에 weight decay 적용한 정확도\n",
    "print(do_acc) # 기본 뉴럴네트워크에 dropout 적용한 정확도\n",
    "              # (기본 뉴럴네트워크에 비해 성능 저하 일어날 수 있음 \n",
    "              # batch normalization이 주던 성능 향상 효과를 dropout과 함께 적용해 오히려 깎아먹음)\n",
    "              # (batch norm과 dropout은 같이 쓰지 않는다!)\n",
    "print(dowobn_acc) # 기본 뉴럴네트워크에서 batch normalization 빼고 dropout 적용한 정확도\n",
    "                  # 즉, 현재 나온 정확도는 기본 뉴럴네트워크에서 batch normalization의 성능향상 효과를 빼고 dropout 적용한 정확도\n",
    "                  # 그러므로 fair하게 dropout의 성능향상효과를 확인하기 위해서는 batchnorm을 적용하지 않은 네트워크의 정확도와 비교해야함\n",
    "                  # (보통은 dropout에 비해 batch normalization이 주는 성능향상 효과가 커서, dowobn_acc이 n_acc보다 낮을 수 있음)\n",
    "print(ensem_acc) #앞서 학습 시킨 neural_net, wd_nn, dobn_nn 네트워크(Top3 정확도를 가진 네트워크)로 ensemble한 정확도"
   ]
  }
 ],
 "metadata": {
  "kernelspec": {
   "display_name": "Python 3",
   "language": "python",
   "name": "python3"
  },
  "language_info": {
   "codemirror_mode": {
    "name": "ipython",
    "version": 3
   },
   "file_extension": ".py",
   "mimetype": "text/x-python",
   "name": "python",
   "nbconvert_exporter": "python",
   "pygments_lexer": "ipython3",
   "version": "3.9.2 (v3.9.2:1a79785e3e, Feb 19 2021, 09:06:10) \n[Clang 6.0 (clang-600.0.57)]"
  },
  "vscode": {
   "interpreter": {
    "hash": "aee8b7b246df8f9039afb4144a1f6fd8d2ca17a180786b69acc140d282b71a49"
   }
  }
 },
 "nbformat": 4,
 "nbformat_minor": 4
}
