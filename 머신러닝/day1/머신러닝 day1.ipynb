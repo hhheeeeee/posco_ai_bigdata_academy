{
 "cells": [
  {
   "cell_type": "code",
   "execution_count": 1,
   "id": "cf7e905b",
   "metadata": {},
   "outputs": [
    {
     "name": "stderr",
     "output_type": "stream",
     "text": [
      "2023-06-16 14:08:13.215181: I tensorflow/stream_executor/platform/default/dso_loader.cc:49] Successfully opened dynamic library libcudart.so.10.1\n"
     ]
    },
    {
     "name": "stdout",
     "output_type": "stream",
     "text": [
      "2.4.1\n"
     ]
    }
   ],
   "source": [
    "import tensorflow as tf\n",
    "print(tf.__version__)"
   ]
  },
  {
   "cell_type": "code",
   "execution_count": 4,
   "id": "3b5a0de3",
   "metadata": {},
   "outputs": [
    {
     "name": "stdout",
     "output_type": "stream",
     "text": [
      "Fri Jun 16 14:09:15 2023       \r\n",
      "+-----------------------------------------------------------------------------+\r\n",
      "| NVIDIA-SMI 515.76       Driver Version: 515.76       CUDA Version: 11.7     |\r\n",
      "|-------------------------------+----------------------+----------------------+\r\n",
      "| GPU  Name        Persistence-M| Bus-Id        Disp.A | Volatile Uncorr. ECC |\r\n",
      "| Fan  Temp  Perf  Pwr:Usage/Cap|         Memory-Usage | GPU-Util  Compute M. |\r\n",
      "|                               |                      |               MIG M. |\r\n",
      "|===============================+======================+======================|\r\n",
      "|   0  NVIDIA GeForce ...  Off  | 00000000:B3:00.0  On |                  N/A |\r\n",
      "| 18%   44C    P8    15W / 215W |    638MiB /  8192MiB |      2%      Default |\r\n",
      "|                               |                      |                  N/A |\r\n",
      "+-------------------------------+----------------------+----------------------+\r\n",
      "                                                                               \r\n",
      "+-----------------------------------------------------------------------------+\r\n",
      "| Processes:                                                                  |\r\n",
      "|  GPU   GI   CI        PID   Type   Process name                  GPU Memory |\r\n",
      "|        ID   ID                                                   Usage      |\r\n",
      "|=============================================================================|\r\n",
      "|    0   N/A  N/A      1076      G   /usr/lib/xorg/Xorg                 18MiB |\r\n",
      "|    0   N/A  N/A      1197      G   /usr/bin/gnome-shell               70MiB |\r\n",
      "|    0   N/A  N/A      1407      G   /usr/lib/xorg/Xorg                134MiB |\r\n",
      "|    0   N/A  N/A      1519      G   /usr/bin/gnome-shell               39MiB |\r\n",
      "|    0   N/A  N/A      5021      G   /usr/lib/firefox/firefox          351MiB |\r\n",
      "|    0   N/A  N/A     20622      G   ...veSuggestionsOnlyOnDemand        2MiB |\r\n",
      "|    0   N/A  N/A     31722      G   ...veSuggestionsOnlyOnDemand        2MiB |\r\n",
      "|    0   N/A  N/A     31765      G   ...veSuggestionsOnlyOnDemand        2MiB |\r\n",
      "|    0   N/A  N/A     31777      G   ...veSuggestionsOnlyOnDemand        2MiB |\r\n",
      "|    0   N/A  N/A     31789      G   ...veSuggestionsOnlyOnDemand        2MiB |\r\n",
      "+-----------------------------------------------------------------------------+\r\n"
     ]
    }
   ],
   "source": [
    "!nvidia-smi"
   ]
  },
  {
   "cell_type": "code",
   "execution_count": 6,
   "id": "24c73366",
   "metadata": {},
   "outputs": [
    {
     "name": "stderr",
     "output_type": "stream",
     "text": [
      "2023-06-16 14:47:37.851592: I tensorflow/compiler/jit/xla_cpu_device.cc:41] Not creating XLA devices, tf_xla_enable_xla_devices not set\n",
      "2023-06-16 14:47:37.853720: I tensorflow/stream_executor/platform/default/dso_loader.cc:49] Successfully opened dynamic library libcuda.so.1\n",
      "2023-06-16 14:47:37.891981: I tensorflow/core/common_runtime/gpu/gpu_device.cc:1720] Found device 0 with properties: \n",
      "pciBusID: 0000:b3:00.0 name: NVIDIA GeForce RTX 2080 computeCapability: 7.5\n",
      "coreClock: 1.71GHz coreCount: 46 deviceMemorySize: 7.79GiB deviceMemoryBandwidth: 417.23GiB/s\n",
      "2023-06-16 14:47:37.892043: I tensorflow/stream_executor/platform/default/dso_loader.cc:49] Successfully opened dynamic library libcudart.so.10.1\n",
      "2023-06-16 14:47:37.895369: I tensorflow/stream_executor/platform/default/dso_loader.cc:49] Successfully opened dynamic library libcublas.so.10\n",
      "2023-06-16 14:47:37.895467: I tensorflow/stream_executor/platform/default/dso_loader.cc:49] Successfully opened dynamic library libcublasLt.so.10\n",
      "2023-06-16 14:47:37.898236: I tensorflow/stream_executor/platform/default/dso_loader.cc:49] Successfully opened dynamic library libcufft.so.10\n",
      "2023-06-16 14:47:37.898836: I tensorflow/stream_executor/platform/default/dso_loader.cc:49] Successfully opened dynamic library libcurand.so.10\n",
      "2023-06-16 14:47:37.901485: I tensorflow/stream_executor/platform/default/dso_loader.cc:49] Successfully opened dynamic library libcusolver.so.10\n",
      "2023-06-16 14:47:37.902981: I tensorflow/stream_executor/platform/default/dso_loader.cc:49] Successfully opened dynamic library libcusparse.so.10\n",
      "2023-06-16 14:47:37.909450: I tensorflow/stream_executor/platform/default/dso_loader.cc:49] Successfully opened dynamic library libcudnn.so.7\n",
      "2023-06-16 14:47:37.909993: I tensorflow/core/common_runtime/gpu/gpu_device.cc:1862] Adding visible gpu devices: 0\n",
      "2023-06-16 14:47:37.911166: I tensorflow/core/platform/cpu_feature_guard.cc:142] This TensorFlow binary is optimized with oneAPI Deep Neural Network Library (oneDNN) to use the following CPU instructions in performance-critical operations:  SSE4.1 SSE4.2 AVX AVX2 AVX512F FMA\n",
      "To enable them in other operations, rebuild TensorFlow with the appropriate compiler flags.\n",
      "2023-06-16 14:47:37.911885: I tensorflow/compiler/jit/xla_gpu_device.cc:99] Not creating XLA devices, tf_xla_enable_xla_devices not set\n",
      "2023-06-16 14:47:37.912256: I tensorflow/core/common_runtime/gpu/gpu_device.cc:1720] Found device 0 with properties: \n",
      "pciBusID: 0000:b3:00.0 name: NVIDIA GeForce RTX 2080 computeCapability: 7.5\n",
      "coreClock: 1.71GHz coreCount: 46 deviceMemorySize: 7.79GiB deviceMemoryBandwidth: 417.23GiB/s\n",
      "2023-06-16 14:47:37.912288: I tensorflow/stream_executor/platform/default/dso_loader.cc:49] Successfully opened dynamic library libcudart.so.10.1\n",
      "2023-06-16 14:47:37.912317: I tensorflow/stream_executor/platform/default/dso_loader.cc:49] Successfully opened dynamic library libcublas.so.10\n",
      "2023-06-16 14:47:37.912329: I tensorflow/stream_executor/platform/default/dso_loader.cc:49] Successfully opened dynamic library libcublasLt.so.10\n",
      "2023-06-16 14:47:37.912340: I tensorflow/stream_executor/platform/default/dso_loader.cc:49] Successfully opened dynamic library libcufft.so.10\n",
      "2023-06-16 14:47:37.912352: I tensorflow/stream_executor/platform/default/dso_loader.cc:49] Successfully opened dynamic library libcurand.so.10\n",
      "2023-06-16 14:47:37.912363: I tensorflow/stream_executor/platform/default/dso_loader.cc:49] Successfully opened dynamic library libcusolver.so.10\n",
      "2023-06-16 14:47:37.912374: I tensorflow/stream_executor/platform/default/dso_loader.cc:49] Successfully opened dynamic library libcusparse.so.10\n",
      "2023-06-16 14:47:37.912386: I tensorflow/stream_executor/platform/default/dso_loader.cc:49] Successfully opened dynamic library libcudnn.so.7\n",
      "2023-06-16 14:47:37.912759: I tensorflow/core/common_runtime/gpu/gpu_device.cc:1862] Adding visible gpu devices: 0\n",
      "2023-06-16 14:47:37.912797: I tensorflow/stream_executor/platform/default/dso_loader.cc:49] Successfully opened dynamic library libcudart.so.10.1\n",
      "2023-06-16 14:47:38.584912: I tensorflow/core/common_runtime/gpu/gpu_device.cc:1261] Device interconnect StreamExecutor with strength 1 edge matrix:\n",
      "2023-06-16 14:47:38.584946: I tensorflow/core/common_runtime/gpu/gpu_device.cc:1267]      0 \n",
      "2023-06-16 14:47:38.584955: I tensorflow/core/common_runtime/gpu/gpu_device.cc:1280] 0:   N \n",
      "2023-06-16 14:47:38.585690: I tensorflow/core/common_runtime/gpu/gpu_device.cc:1406] Created TensorFlow device (/job:localhost/replica:0/task:0/device:GPU:0 with 6534 MB memory) -> physical GPU (device: 0, name: NVIDIA GeForce RTX 2080, pci bus id: 0000:b3:00.0, compute capability: 7.5)\n"
     ]
    }
   ],
   "source": [
    "t = [1,2,3,4,5,6,7,8,9,10,11,12]\n",
    "tensor = tf.constant(t)"
   ]
  },
  {
   "cell_type": "code",
   "execution_count": 8,
   "id": "2240fd2a",
   "metadata": {},
   "outputs": [
    {
     "name": "stdout",
     "output_type": "stream",
     "text": [
      "tf.Tensor([ 1  2  3  4  5  6  7  8  9 10 11 12], shape=(12,), dtype=int32)\n",
      "\n",
      "shape : tf.Tensor([12], shape=(1,), dtype=int32)\n",
      "size : tf.Tensor(12, shape=(), dtype=int32)\n",
      "rank :  tf.Tensor(1, shape=(), dtype=int32)\n"
     ]
    }
   ],
   "source": [
    "print(tensor)\n",
    "print()\n",
    "print(\"shape :\", tf.shape(tensor))\n",
    "print(\"size :\", tf.size(tensor))\n",
    "print('rank : ', tf.rank(tensor)) #rank:1 -> vector, 2: matrix, 3:cube"
   ]
  },
  {
   "cell_type": "code",
   "execution_count": 10,
   "id": "c884dc90",
   "metadata": {},
   "outputs": [],
   "source": [
    "def print_ssr(tensor):\n",
    "    print(tensor)\n",
    "    print()\n",
    "    print(\"shape :\", tf.shape(tensor))\n",
    "    print(\"size :\", tf.size(tensor))\n",
    "    print('rank : ', tf.rank(tensor))"
   ]
  },
  {
   "cell_type": "code",
   "execution_count": 11,
   "id": "12b368aa",
   "metadata": {},
   "outputs": [
    {
     "name": "stdout",
     "output_type": "stream",
     "text": [
      "tf.Tensor(\n",
      "[[ 1  2  3  4]\n",
      " [ 5  6  7  8]\n",
      " [ 9 10 11 12]], shape=(3, 4), dtype=int32)\n",
      "\n",
      "shape : tf.Tensor([3 4], shape=(2,), dtype=int32)\n",
      "size : tf.Tensor(12, shape=(), dtype=int32)\n",
      "rank :  tf.Tensor(2, shape=(), dtype=int32)\n"
     ]
    }
   ],
   "source": [
    "tensor2d = tf.reshape(tensor, [3,4])\n",
    "print_ssr(tensor2d)"
   ]
  },
  {
   "cell_type": "code",
   "execution_count": 18,
   "id": "6d5787da",
   "metadata": {},
   "outputs": [
    {
     "name": "stdout",
     "output_type": "stream",
     "text": [
      "tf.Tensor([5 6 7 8], shape=(4,), dtype=int32)\n",
      "tf.Tensor(7, shape=(), dtype=int32)\n",
      "tf.Tensor(7, shape=(), dtype=int32)\n",
      "tf.Tensor([6 7], shape=(2,), dtype=int32)\n"
     ]
    }
   ],
   "source": [
    "print(tensor2d[1]) #print(tensor2d[1,:]) 와 똑같은 의미\n",
    "print(tensor2d[1,2])\n",
    "print(tensor2d[1][2])\n",
    "print(tensor2d[1,1:3])"
   ]
  },
  {
   "cell_type": "code",
   "execution_count": 22,
   "id": "2edf7fb7",
   "metadata": {
    "scrolled": false
   },
   "outputs": [
    {
     "name": "stdout",
     "output_type": "stream",
     "text": [
      "tf.Tensor(\n",
      "[[[ 1  2]\n",
      "  [ 3  4]]\n",
      "\n",
      " [[ 5  6]\n",
      "  [ 7  8]]\n",
      "\n",
      " [[ 9 10]\n",
      "  [11 12]]], shape=(3, 2, 2), dtype=int32)\n",
      "\n",
      "shape : tf.Tensor([3 2 2], shape=(3,), dtype=int32)\n",
      "size : tf.Tensor(12, shape=(), dtype=int32)\n",
      "rank :  tf.Tensor(3, shape=(), dtype=int32)\n"
     ]
    }
   ],
   "source": [
    "tensor3d = tf.reshape(tensor, [3,2,2])\n",
    "print_ssr(tensor3d)"
   ]
  },
  {
   "cell_type": "code",
   "execution_count": 24,
   "id": "5d2fe06d",
   "metadata": {},
   "outputs": [
    {
     "name": "stdout",
     "output_type": "stream",
     "text": [
      "tf.Tensor(8, shape=(), dtype=int32)\n",
      "tf.Tensor([6 8], shape=(2,), dtype=int32)\n",
      "tf.Tensor([6], shape=(1,), dtype=int32)\n"
     ]
    }
   ],
   "source": [
    "print(tensor3d[1,1,1])\n",
    "print(tensor3d[1,:,1])\n",
    "print(tensor3d[1,0:1, 1])"
   ]
  },
  {
   "cell_type": "code",
   "execution_count": 25,
   "id": "5c3af615",
   "metadata": {
    "scrolled": true
   },
   "outputs": [
    {
     "name": "stdout",
     "output_type": "stream",
     "text": [
      "tf.Tensor(\n",
      "[[[ 1  2  3  4]]\n",
      "\n",
      " [[ 5  6  7  8]]\n",
      "\n",
      " [[ 9 10 11 12]]], shape=(3, 1, 4), dtype=int32)\n",
      "\n",
      "shape : tf.Tensor([3 1 4], shape=(3,), dtype=int32)\n",
      "size : tf.Tensor(12, shape=(), dtype=int32)\n",
      "rank :  tf.Tensor(3, shape=(), dtype=int32)\n"
     ]
    }
   ],
   "source": [
    "tensor3d = tf.reshape(tensor, [3,1,4])\n",
    "print_ssr(tensor3d)"
   ]
  },
  {
   "cell_type": "markdown",
   "id": "f74c75be",
   "metadata": {},
   "source": [
    "# tf.squeeze"
   ]
  },
  {
   "cell_type": "code",
   "execution_count": 29,
   "id": "69b9c039",
   "metadata": {},
   "outputs": [
    {
     "name": "stdout",
     "output_type": "stream",
     "text": [
      "tf.Tensor([ 1  0 -1  1], shape=(4,), dtype=int32)\n",
      "\n",
      "shape : tf.Tensor([4], shape=(1,), dtype=int32)\n",
      "size : tf.Tensor(4, shape=(), dtype=int32)\n",
      "rank :  tf.Tensor(1, shape=(), dtype=int32)\n",
      "tf.Tensor(\n",
      "[[[ 1  2  3  4]\n",
      "  [ 5  6  7  8]\n",
      "  [ 9 10 11 12]]], shape=(1, 3, 4), dtype=int32)\n"
     ]
    }
   ],
   "source": [
    "x = tf.constant([1, 0, -1, 1])\n",
    "tensor3d = tf.reshape(tensor, [1,3,4])\n",
    "print_ssr(x)\n",
    "print(tensor3d)"
   ]
  },
  {
   "cell_type": "code",
   "execution_count": null,
   "id": "c2b0b3e6",
   "metadata": {},
   "outputs": [],
   "source": [
    "#tf.matmul(tensor3d, x) #차원이 맞지 않아서 오류 발생"
   ]
  },
  {
   "cell_type": "code",
   "execution_count": 30,
   "id": "9c490b8a",
   "metadata": {},
   "outputs": [
    {
     "name": "stdout",
     "output_type": "stream",
     "text": [
      "(4, 1)\n"
     ]
    }
   ],
   "source": [
    "x = tf.expand_dims(x, 1)\n",
    "print(x.shape)"
   ]
  },
  {
   "cell_type": "code",
   "execution_count": 34,
   "id": "33d80d9f",
   "metadata": {},
   "outputs": [
    {
     "name": "stdout",
     "output_type": "stream",
     "text": [
      "(4,)\n"
     ]
    }
   ],
   "source": [
    "x = tf.squeeze(x)\n",
    "print(x.shape)"
   ]
  },
  {
   "cell_type": "code",
   "execution_count": 31,
   "id": "2821aaa4",
   "metadata": {},
   "outputs": [
    {
     "name": "stdout",
     "output_type": "stream",
     "text": [
      "tf.Tensor(\n",
      "[[ 1  2  3  4]\n",
      " [ 5  6  7  8]\n",
      " [ 9 10 11 12]], shape=(3, 4), dtype=int32)\n"
     ]
    }
   ],
   "source": [
    "tensor3d = tf.squeeze(tensor3d)\n",
    "print(tensor3d)"
   ]
  },
  {
   "cell_type": "markdown",
   "id": "2a996da3",
   "metadata": {},
   "source": [
    "# Backpropagation"
   ]
  },
  {
   "cell_type": "code",
   "execution_count": 42,
   "id": "2ac2e6b5",
   "metadata": {},
   "outputs": [],
   "source": [
    "import tensorflow as tf\n",
    "import numpy as np\n",
    "import matplotlib.pyplot as plt\n",
    "import random\n",
    "\n",
    "random.seed(1)\n",
    "np.random.seed(1)\n",
    "tf.random.set_seed(1)"
   ]
  },
  {
   "cell_type": "code",
   "execution_count": 44,
   "id": "48821670",
   "metadata": {},
   "outputs": [
    {
     "name": "stdout",
     "output_type": "stream",
     "text": [
      "10\n",
      "784\n"
     ]
    }
   ],
   "source": [
    "(x_train, y_train), (x_test, y_test) = tf.keras.datasets.mnist.load_data()\n",
    "\n",
    "x_train, x_test = tf.cast(x_train, tf.float32), tf.cast(x_test, tf.float32)\n",
    "\n",
    "num_classes = 10\n",
    "num_features = x_train.shape[1] * x_train.shape[2] # 28 x 28\n",
    "\n",
    "print(num_classes)\n",
    "print(num_features)\n",
    "\n",
    "x_train = tf.reshape(x_train, [-1, num_features]) # tensor 형태를 vector 형태로 바꿔줘야 한다\n",
    "x_test = tf.reshape(x_test, [-1, num_features]) # num_features에 맞춰서 -1 자리에 자동으로 할당\n",
    "\n",
    "x_train, x_test = x_train / 255. , x_test /255. # 데이터 자체거 0~255 사이의 값으로 나오는데 그 값들을 효과적으로 다루기 위해\n",
    "                                                # 그래서 255로 나누면 [0,1]"
   ]
  },
  {
   "cell_type": "code",
   "execution_count": 47,
   "id": "1b3d82f8",
   "metadata": {},
   "outputs": [
    {
     "name": "stdout",
     "output_type": "stream",
     "text": [
      "(60000, 784)\n"
     ]
    }
   ],
   "source": [
    "print(x_train.shape)"
   ]
  },
  {
   "cell_type": "code",
   "execution_count": 49,
   "id": "4dfb8efd",
   "metadata": {},
   "outputs": [
    {
     "data": {
      "image/png": "[encoded data removed]",
      "text/plain": [
       "<Figure size 640x480 with 2 Axes>"
      ]
     },
     "metadata": {},
     "output_type": "display_data"
    }
   ],
   "source": [
    "plt.figure()\n",
    "plt.imshow(tf.reshape(x_train[0], (28,28)))\n",
    "plt.colorbar()\n",
    "plt.grid(False)\n",
    "plt.show()"
   ]
  },
  {
   "cell_type": "code",
   "execution_count": 51,
   "id": "39549f67",
   "metadata": {},
   "outputs": [
    {
     "data": {
      "image/png": "[encoded data removed]",
      "text/plain": [
       "<Figure size 640x480 with 2 Axes>"
      ]
     },
     "metadata": {},
     "output_type": "display_data"
    }
   ],
   "source": [
    "plt.figure()\n",
    "plt.imshow(tf.reshape(x_train[7], (28,28)))\n",
    "plt.colorbar()\n",
    "plt.grid(False)\n",
    "plt.show()"
   ]
  },
  {
   "cell_type": "markdown",
   "id": "3c266e23",
   "metadata": {},
   "source": [
    "### 원시적인 방법으로 뉴럴네트워크 만들기"
   ]
  },
  {
   "cell_type": "code",
   "execution_count": 52,
   "id": "85eb5ce0",
   "metadata": {},
   "outputs": [
    {
     "data": {
      "text/plain": [
       "'\\nh_1 = sigma(Wx + b)\\nh_2 = sigma(Wh_1 + b)\\nh_3 = sigma(Wh_2 + b)\\n\\n'"
      ]
     },
     "execution_count": 52,
     "metadata": {},
     "output_type": "execute_result"
    }
   ],
   "source": [
    "\"\"\"\n",
    "h_1 = sigma(W_1x + b_1)\n",
    "h_2 = sigma(W_2h_1 + b_2)\n",
    "h_3 = sigma(W_3h_2 + b_3)\n",
    "\n",
    "W_1 : (32 x 28) 32 -> 28\n",
    "    W_1 * X = (32 x 28) x (28 x 10) = (32 x 10)\n",
    "b_1 : (32)\n",
    "    W_1 * X + b_1 = (32 x 10)\n",
    "    \n",
    "W_2 : (32 x 128) \n",
    "b_2 : (128)\n",
    "\n",
    "W_3 : (128 x 256) \n",
    "b_3 : (256)\n",
    "\n",
    "sigma = ReLU activation\n",
    "   \n",
    "\"\"\""
   ]
  },
  {
   "cell_type": "code",
   "execution_count": null,
   "id": "b9417f9b",
   "metadata": {},
   "outputs": [],
   "source": [
    "def neural_net(x):\n",
    "    # 어떤 텐서를 만들어 달라~ 그리고 그걸 variable로 선언해서 W1에 저장\n",
    "    W1 = tf.Variable(tf.random_normal_initializer(stddev=1)([28,32])) \n",
    "    B1 = tf.Variable(tf.zeros([32]))\n",
    "    \n",
    "    W2 = tf.Variable(tf.random_normal_initializer(stddev=1)([32,128])) \n",
    "    B2 = tf.Variable(tf.zeros([128]))\n",
    "    \n",
    "    W3 = tf.Variable(tf.random_normal_initializer(stddev=1)([128,256])) \n",
    "    B3 = tf.Variable(tf.zeros([256]))\n",
    "    \n",
    "    h1 = tf.matmul(x, W1) + B1\n",
    "    h1 = tf.nn.relu(h1)\n",
    "    \n",
    "    h2 = tf.matmul(h1, W2) + B2\n",
    "    h2 = tf.nn.relu(h2)\n",
    "    \n",
    "    h3 = tf.matmul(h2, W3) + B3\n",
    "    h3 = tf.nn.relu(h3)\n",
    "    "
   ]
  },
  {
   "cell_type": "code",
   "execution_count": 54,
   "id": "78b368c2",
   "metadata": {},
   "outputs": [],
   "source": [
    "from tensorflow.keras import Model, layers"
   ]
  },
  {
   "cell_type": "code",
   "execution_count": 55,
   "id": "81af0eda",
   "metadata": {},
   "outputs": [],
   "source": [
    "class NeuralNet(Model): # Model이라는 CLASS를 상속받음 = Keras에서 지원하는거\n",
    "    def __init__(self): # 그 뉴럴 네트워크가 어케 생겼는지 정의함\n",
    "        super(NeuralNet, self).__init__()\n",
    "        num_classes = 10\n",
    "        self.fc1 = layers.Dense(128, activation=tf.nn.relu)\n",
    "        self.fc2 = layers.Dense(256, activation=tf.nn.relu)\n",
    "        self.out = layers.Dense(num_classes)\n",
    "        \n",
    "    def call(self, x, is_training=False): #그 뉴럴 네트워크가 어케 작동하는지 알려줌\n",
    "        h1 = self.fc1(x)\n",
    "        h2 = self.fc2(h1)\n",
    "        h3 = self.out(h2)\n",
    "        if not is_training: # 만약 is_training을 하지 않을 때는\n",
    "            h3 = tf.nn.softmax(h3) # softmax를 거쳐라\n",
    "        return h3\n",
    "    \n",
    "neural_net = NeuralNet()"
   ]
  },
  {
   "cell_type": "code",
   "execution_count": null,
   "id": "e9f4abff",
   "metadata": {},
   "outputs": [],
   "source": [
    "\"\"\"\n",
    "loss function : cross entropy p(x)logq(x)\n",
    "\n",
    "accuracy\n",
    "\n",
    "\"\"\""
   ]
  },
  {
   "cell_type": "code",
   "execution_count": 59,
   "id": "f56d0156",
   "metadata": {},
   "outputs": [],
   "source": [
    "def cross_entropy_loss(x, y):\n",
    "    y = tf.cast(y, tf.int64) \n",
    "    loss = tf.nn.sparse_softmax_cross_entropy_with_logits(labels = y, logits = x)\n",
    "    return tf.reduce_mean(loss)\n",
    "\n",
    "def accuracy(y_pred, y_true):\n",
    "    # y_pred (data 개수, 10) (0.1, 0.5, 0.01 ...)\n",
    "    correct_prediction = tf.equal(tf.argmax(y_pred, 1), tf.cast(y_true, tf.int64))\n",
    "    # 몇 개나 맞췃는지에 대한 평균\n",
    "    return tf.reduce_mean(tf.cast(correct_prediction, tf.float32))\n"
   ]
  },
  {
   "cell_type": "code",
   "execution_count": 60,
   "id": "8e0a3bcc",
   "metadata": {},
   "outputs": [],
   "source": [
    "lr = 0.003\n",
    "optimizer = tf.optimizers.SGD(lr)\n",
    "\n",
    "def run_optimization(x, y):\n",
    "    with tf.GradientTape() as g:\n",
    "        pred = neural_net(x, is_training = True)\n",
    "        loss = cross_entropy_loss(pred, y)\n",
    "    \n",
    "    trainable_variables = neural_net.trainable_variables\n",
    "    gradients = g.gradient(loss, trainable_variables) \n",
    "    optimizer.apply_gradients(zip(gradients, trainable_variables)) \n",
    "    #계산된 gradients를 이용해서 lr만큼 trainable_variables를 업데이트 해주겟다\n",
    "        "
   ]
  },
  {
   "cell_type": "code",
   "execution_count": 61,
   "id": "9c2fbcdd",
   "metadata": {},
   "outputs": [
    {
     "name": "stdout",
     "output_type": "stream",
     "text": [
      "epoch:  4 loss :  1.9015644 acc : 0.795\n",
      "epoch:  8 loss :  1.7222626 acc : 0.87\n",
      "epoch:  12 loss :  1.7047851 acc : 0.855\n",
      "epoch:  16 loss :  1.6549308 acc : 0.89\n",
      "epoch:  20 loss :  1.6234397 acc : 0.895\n",
      "epoch:  24 loss :  1.6024007 acc : 0.93\n",
      "epoch:  28 loss :  1.6041342 acc : 0.93\n",
      "epoch:  32 loss :  1.5788869 acc : 0.94\n",
      "epoch:  36 loss :  1.5767429 acc : 0.93\n",
      "epoch:  40 loss :  1.5787011 acc : 0.93\n"
     ]
    }
   ],
   "source": [
    "batch_size = 200\n",
    "train_data = tf.data.Dataset.from_tensor_slices((x_train, y_train)) # 데이터셋으로 만들어주겟다\n",
    "train_data = train_data.shuffle(60000).batch(batch_size).prefetch(1) \n",
    "\n",
    "epoch = 40\n",
    "display_epoch = 4\n",
    "\n",
    "for epo in range(1, epoch+1):\n",
    "    for step, (batch_x, batch_y) in enumerate(train_data, 1):\n",
    "        run_optimization(batch_x, batch_y)\n",
    "    \n",
    "    if epo % display_epoch == 0:\n",
    "        pred = neural_net(batch_x)\n",
    "        loss = cross_entropy_loss(pred, batch_y)\n",
    "        acc = accuracy(pred, batch_y)\n",
    "        print(\"epoch: \", epo, \"loss : \", loss.numpy(), \"acc :\", acc.numpy())"
   ]
  },
  {
   "cell_type": "code",
   "execution_count": 62,
   "id": "3b9a1dd2",
   "metadata": {},
   "outputs": [
    {
     "name": "stdout",
     "output_type": "stream",
     "text": [
      "Test ACC :  0.9273\n"
     ]
    }
   ],
   "source": [
    "pred = neural_net(x_test)\n",
    "print(\"Test ACC : \", accuracy(pred, y_test).numpy())"
   ]
  },
  {
   "cell_type": "code",
   "execution_count": 63,
   "id": "97af0b63",
   "metadata": {},
   "outputs": [],
   "source": [
    "model2 = tf.keras.Sequential([\n",
    "    tf.keras.layers.Dense(128, activation='relu'),\n",
    "    tf.keras.layers.Dense(256, activation='relu'),\n",
    "    tf.keras.layers.Dense(10)\n",
    "])"
   ]
  },
  {
   "cell_type": "code",
   "execution_count": 64,
   "id": "3ecca7d9",
   "metadata": {},
   "outputs": [],
   "source": [
    "# 모델을 어케 학습시킬건지에 대해 선언하는거 \n",
    "model2.compile(optimizer='SGD', loss = tf.keras.losses.SparseCategoricalCrossentropy(from_logits=True),\n",
    "              metrics = ['accuracy'])"
   ]
  },
  {
   "cell_type": "code",
   "execution_count": 65,
   "id": "ae075895",
   "metadata": {},
   "outputs": [
    {
     "name": "stderr",
     "output_type": "stream",
     "text": [
      "2023-06-16 17:17:59.097155: I tensorflow/compiler/mlir/mlir_graph_optimization_pass.cc:116] None of the MLIR optimization passes are enabled (registered 2)\n",
      "2023-06-16 17:17:59.116161: I tensorflow/core/platform/profile_utils/cpu_utils.cc:112] CPU Frequency: 2600000000 Hz\n"
     ]
    },
    {
     "name": "stdout",
     "output_type": "stream",
     "text": [
      "Epoch 1/40\n",
      "469/469 [==============================] - 2s 4ms/step - loss: 1.8304 - accuracy: 0.5144\n",
      "Epoch 2/40\n",
      "469/469 [==============================] - 2s 4ms/step - loss: 0.5864 - accuracy: 0.8538\n",
      "Epoch 3/40\n",
      "469/469 [==============================] - 2s 4ms/step - loss: 0.4197 - accuracy: 0.8849\n",
      "Epoch 4/40\n",
      "469/469 [==============================] - 2s 4ms/step - loss: 0.3533 - accuracy: 0.9021\n",
      "Epoch 5/40\n",
      "469/469 [==============================] - 2s 4ms/step - loss: 0.3247 - accuracy: 0.9085\n",
      "Epoch 6/40\n",
      "469/469 [==============================] - 2s 4ms/step - loss: 0.2984 - accuracy: 0.9153\n",
      "Epoch 7/40\n",
      "469/469 [==============================] - 2s 4ms/step - loss: 0.2876 - accuracy: 0.9179\n",
      "Epoch 8/40\n",
      "469/469 [==============================] - 2s 4ms/step - loss: 0.2607 - accuracy: 0.9257\n",
      "Epoch 9/40\n",
      "469/469 [==============================] - 2s 4ms/step - loss: 0.2592 - accuracy: 0.9251\n",
      "Epoch 10/40\n",
      "469/469 [==============================] - 2s 4ms/step - loss: 0.2414 - accuracy: 0.9309\n",
      "Epoch 11/40\n",
      "469/469 [==============================] - 2s 4ms/step - loss: 0.2361 - accuracy: 0.9341\n",
      "Epoch 12/40\n",
      "469/469 [==============================] - 2s 4ms/step - loss: 0.2217 - accuracy: 0.9367\n",
      "Epoch 13/40\n",
      "469/469 [==============================] - 2s 4ms/step - loss: 0.2073 - accuracy: 0.9420\n",
      "Epoch 14/40\n",
      "469/469 [==============================] - 2s 4ms/step - loss: 0.2075 - accuracy: 0.9414\n",
      "Epoch 15/40\n",
      "469/469 [==============================] - 2s 4ms/step - loss: 0.1990 - accuracy: 0.9444\n",
      "Epoch 16/40\n",
      "469/469 [==============================] - 2s 4ms/step - loss: 0.1929 - accuracy: 0.9444\n",
      "Epoch 17/40\n",
      "469/469 [==============================] - 2s 4ms/step - loss: 0.1888 - accuracy: 0.9466\n",
      "Epoch 18/40\n",
      "469/469 [==============================] - 2s 4ms/step - loss: 0.1824 - accuracy: 0.9490\n",
      "Epoch 19/40\n",
      "469/469 [==============================] - 2s 4ms/step - loss: 0.1722 - accuracy: 0.9515\n",
      "Epoch 20/40\n",
      "469/469 [==============================] - 2s 4ms/step - loss: 0.1719 - accuracy: 0.9517\n",
      "Epoch 21/40\n",
      "469/469 [==============================] - 2s 4ms/step - loss: 0.1672 - accuracy: 0.9529\n",
      "Epoch 22/40\n",
      "469/469 [==============================] - 2s 4ms/step - loss: 0.1598 - accuracy: 0.9539\n",
      "Epoch 23/40\n",
      "469/469 [==============================] - 2s 4ms/step - loss: 0.1585 - accuracy: 0.9559\n",
      "Epoch 24/40\n",
      "469/469 [==============================] - 2s 4ms/step - loss: 0.1500 - accuracy: 0.9575\n",
      "Epoch 25/40\n",
      "469/469 [==============================] - 2s 4ms/step - loss: 0.1509 - accuracy: 0.9577\n",
      "Epoch 26/40\n",
      "469/469 [==============================] - 2s 4ms/step - loss: 0.1395 - accuracy: 0.9613\n",
      "Epoch 27/40\n",
      "469/469 [==============================] - 2s 4ms/step - loss: 0.1432 - accuracy: 0.9594\n",
      "Epoch 28/40\n",
      "469/469 [==============================] - 2s 4ms/step - loss: 0.1383 - accuracy: 0.9605\n",
      "Epoch 29/40\n",
      "469/469 [==============================] - 2s 4ms/step - loss: 0.1348 - accuracy: 0.9616\n",
      "Epoch 30/40\n",
      "469/469 [==============================] - 2s 4ms/step - loss: 0.1290 - accuracy: 0.9633\n",
      "Epoch 31/40\n",
      "469/469 [==============================] - 2s 4ms/step - loss: 0.1273 - accuracy: 0.9634\n",
      "Epoch 32/40\n",
      "469/469 [==============================] - 2s 4ms/step - loss: 0.1214 - accuracy: 0.9656\n",
      "Epoch 33/40\n",
      "469/469 [==============================] - 2s 4ms/step - loss: 0.1200 - accuracy: 0.9665\n",
      "Epoch 34/40\n",
      "469/469 [==============================] - 2s 4ms/step - loss: 0.1192 - accuracy: 0.9655\n",
      "Epoch 35/40\n",
      "469/469 [==============================] - 2s 4ms/step - loss: 0.1161 - accuracy: 0.9673\n",
      "Epoch 36/40\n",
      "469/469 [==============================] - 2s 4ms/step - loss: 0.1153 - accuracy: 0.9666\n",
      "Epoch 37/40\n",
      "469/469 [==============================] - 2s 4ms/step - loss: 0.1109 - accuracy: 0.9686\n",
      "Epoch 38/40\n",
      "469/469 [==============================] - 2s 4ms/step - loss: 0.1114 - accuracy: 0.9681\n",
      "Epoch 39/40\n",
      "469/469 [==============================] - 2s 4ms/step - loss: 0.1059 - accuracy: 0.9697\n",
      "Epoch 40/40\n",
      "469/469 [==============================] - 2s 4ms/step - loss: 0.1039 - accuracy: 0.9712\n"
     ]
    }
   ],
   "source": [
    "inform = model2.fit(x_train, y_train, batch_size=128, epochs=40)"
   ]
  },
  {
   "cell_type": "code",
   "execution_count": null,
   "id": "fde60f20",
   "metadata": {},
   "outputs": [],
   "source": []
  },
  {
   "cell_type": "code",
   "execution_count": null,
   "id": "2ca98d5e",
   "metadata": {},
   "outputs": [],
   "source": []
  },
  {
   "cell_type": "code",
   "execution_count": null,
   "id": "9e6d0dcc",
   "metadata": {},
   "outputs": [],
   "source": []
  },
  {
   "cell_type": "code",
   "execution_count": null,
   "id": "2304ad7f",
   "metadata": {},
   "outputs": [],
   "source": []
  },
  {
   "cell_type": "code",
   "execution_count": null,
   "id": "3363153b",
   "metadata": {},
   "outputs": [],
   "source": []
  },
  {
   "cell_type": "code",
   "execution_count": null,
   "id": "3b27a997",
   "metadata": {},
   "outputs": [],
   "source": []
  },
  {
   "cell_type": "code",
   "execution_count": null,
   "id": "3490554f",
   "metadata": {},
   "outputs": [],
   "source": []
  }
 ],
 "metadata": {
  "kernelspec": {
   "display_name": "Python 3 (ipykernel)",
   "language": "python",
   "name": "python3"
  },
  "language_info": {
   "codemirror_mode": {
    "name": "ipython",
    "version": 3
   },
   "file_extension": ".py",
   "mimetype": "text/x-python",
   "name": "python",
   "nbconvert_exporter": "python",
   "pygments_lexer": "ipython3",
   "version": "3.9.16"
  }
 },
 "nbformat": 4,
 "nbformat_minor": 5
}
